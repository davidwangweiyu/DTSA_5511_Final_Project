{
 "cells": [
  {
   "cell_type": "markdown",
   "metadata": {},
   "source": [
    "# Final Project: Predicting Banking Customer Churn\n",
    "By Wei Yu Wang\n",
    "DTSA 5511, April 2024\n",
    "\n",
    "Kaggle Competition Link\n",
    "https://www.kaggle.com/competitions/coder-52295-season-finale"
   ]
  },
  {
   "cell_type": "code",
   "execution_count": 333,
   "metadata": {
    "id": "PKyTVXS79ulC"
   },
   "outputs": [],
   "source": [
    "# importing modules\n",
    "\n",
    "import pandas as pd\n",
    "import numpy as np\n",
    "from sklearn.model_selection import train_test_split\n",
    "from sklearn.preprocessing import StandardScaler, OneHotEncoder\n",
    "from sklearn.compose import ColumnTransformer\n",
    "from sklearn.pipeline import Pipeline\n",
    "from tensorflow.keras.models import Sequential\n",
    "from tensorflow.keras import Input\n",
    "import matplotlib.pyplot as plt\n",
    "import seaborn as sns\n",
    "\n",
    "from sklearn.ensemble import RandomForestClassifier\n",
    "from sklearn.preprocessing import LabelEncoder, MinMaxScaler\n",
    "from sklearn.metrics import accuracy_score, classification_report\n",
    "from sklearn.utils.class_weight import compute_class_weight\n",
    "import tensorflow as tf\n",
    "from tensorflow.keras.layers import InputLayer, Dense, Dropout\n",
    "from tensorflow.keras.optimizers import Adam\n",
    "from tensorflow.keras.initializers import RandomUniform\n",
    "\n",
    "from pytorch_tabnet.tab_model import TabNetClassifier\n",
    "import torch\n",
    "\n",
    "import optuna\n",
    "\n",
    "# Define the initializer with a seed\n",
    "initializer = RandomUniform(seed=42)\n"
   ]
  },
  {
   "cell_type": "markdown",
   "metadata": {},
   "source": [
    "## Introduction: \n",
    "\n",
    "In this project, I am going to work on a Kaggle Competition [Season Finale: Predict whether a customer continues with their account or closes it (e.g., churns)](https://www.kaggle.com/competitions/coder-52295-season-finale). I would like to further my skills in deep learning applications to tabular data and this seemed like the perfect project.\n",
    "\n",
    "My blueprint is:\n",
    "1. Data Gathering\n",
    "2. EDA, cleaning Data, and Transformations\n",
    "3. Build Baseline Random Forest Supervised Machine Learning Method for Comparison\n",
    "4. Build a Simple CNN\n",
    "5. Replicate a CNN for unbalanced classes\n",
    "6. Build and Tune TabNet\n",
    "7. Build, Explore and Tune DeepTable Models\n",
    "8. Discussion and Conclusion \n",
    "\n",
    "## Data Gathering, Method of Data Collection and Provenance of Data\n",
    "\n",
    "The source of the data is from a Kaggle Competition Coder 52295 - [Season Finale: Predict whether a customer continues with their account or closes it (e.g., churns)](https://www.kaggle.com/competitions/coder-52295-season-finale). The method of data collection is that it is generated from another [dataset](https://www.kaggle.com/datasets/shubhammeshram579/bank-customer-churn-prediction) from a deep learning model keeping a close but not exact feature distribution to the original. \n",
    "\n",
    "### Provenance: \n",
    "Sources:\n",
    "The Bank Customer Churn dataset can be found on Kaggle (https://www.kaggle.com/adammaus/predicting-churn-for-bank-customers).\n",
    "Collection Methodology\n",
    "\n",
    "the UCI Machine Learning Repository (https://archive.ics.uci.edu/ml/datasets/bank+customer+churn+prediction).\n",
    "\n",
    "Both datasets are currently inaccessible. Being a banking information dataset, there have likely been privacy concerns."
   ]
  },
  {
   "cell_type": "markdown",
   "metadata": {},
   "source": [
    "## Identifying the Deep Learning Problem\n",
    "\n",
    "This is a Kaggle completition so focus will be on model building and analysis. At the time of writing, I am the only person that have submitted anything to the public leaderboard. Nothing is in the sections of discussion, models, or code. \n",
    "\n",
    "I will be extending my knowledge on neural network by first setting up a convolutional neural network (CNN) and then trying newer deep learning methods such as TabNet and architectures in DeepNets. The goal of this project is to find the most optimal tabular binary classification method. "
   ]
  },
  {
   "cell_type": "markdown",
   "metadata": {},
   "source": [
    "# Exploratory Data Analysis\n",
    "\n",
    "The EDA procedure for this project will be to first identify the features of the dataset, identifying and analyzing correlations between different features, determining if any data needs to be transformed and then performing transformations, data cleaning, and identifying if specific factors should be more important than others in the analysis. \n",
    "\n",
    "## Loading the Dataset"
   ]
  },
  {
   "cell_type": "code",
   "execution_count": 35,
   "metadata": {
    "colab": {
     "base_uri": "https://localhost:8080/"
    },
    "id": "MCkNd2JcBllY",
    "outputId": "3b78c88a-f7aa-4e60-c71f-e7745c585d31"
   },
   "outputs": [
    {
     "name": "stdout",
     "output_type": "stream",
     "text": [
      "<class 'pandas.core.frame.DataFrame'>\n",
      "RangeIndex: 165034 entries, 0 to 165033\n",
      "Data columns (total 14 columns):\n",
      " #   Column           Non-Null Count   Dtype  \n",
      "---  ------           --------------   -----  \n",
      " 0   id               165034 non-null  int64  \n",
      " 1   CustomerId       165034 non-null  int64  \n",
      " 2   Surname          165034 non-null  object \n",
      " 3   CreditScore      165034 non-null  int64  \n",
      " 4   Geography        165034 non-null  object \n",
      " 5   Gender           165034 non-null  object \n",
      " 6   Age              165034 non-null  float64\n",
      " 7   Tenure           165034 non-null  int64  \n",
      " 8   Balance          165034 non-null  float64\n",
      " 9   NumOfProducts    165034 non-null  int64  \n",
      " 10  HasCrCard        165034 non-null  float64\n",
      " 11  IsActiveMember   165034 non-null  float64\n",
      " 12  EstimatedSalary  165034 non-null  float64\n",
      " 13  Exited           165034 non-null  int64  \n",
      "dtypes: float64(5), int64(6), object(3)\n",
      "memory usage: 17.6+ MB\n"
     ]
    }
   ],
   "source": [
    "train_df = pd.read_csv('train.csv')\n",
    "train_df.info()"
   ]
  },
  {
   "cell_type": "markdown",
   "metadata": {},
   "source": [
    "First, lets see if the Exited Class is balanced. It looks like only 21.2% of the customers have exited so the majority of customers have stayed. Because the competition is based on accuracy, our models have to perform better than 78.8% because that is the accuracy if a model predicted every customer as stayed. "
   ]
  },
  {
   "cell_type": "code",
   "execution_count": 48,
   "metadata": {
    "colab": {
     "base_uri": "https://localhost:8080/",
     "height": 675
    },
    "id": "6hH587ORJNqL",
    "outputId": "a5c82e24-5a3c-44dd-ccec-90c5e0f8f9dc"
   },
   "outputs": [
    {
     "data": {
      "image/png": "[encoded data removed]",
      "text/plain": [
       "<Figure size 800x800 with 1 Axes>"
      ]
     },
     "metadata": {},
     "output_type": "display_data"
    }
   ],
   "source": [
    "# Calculate counts for each category\n",
    "exited_counts = train_df['Exited'].value_counts()\n",
    "\n",
    "# Create the pie chart\n",
    "plt.figure(figsize=(8, 8))  # Set the figure size for better visibility\n",
    "plt.pie(exited_counts, labels=['Not Exited', 'Exited'], autopct='%1.1f%%', startangle=90, colors=['blue', 'red'])\n",
    "\n",
    "# Adding a title\n",
    "plt.title('Proportion of Customers by Exited Status')\n",
    "\n",
    "# Display the pie chart\n",
    "plt.show()"
   ]
  },
  {
   "cell_type": "code",
   "execution_count": 36,
   "metadata": {
    "colab": {
     "base_uri": "https://localhost:8080/",
     "height": 424
    },
    "id": "cSOEZio4GFr6",
    "outputId": "c1fc65fd-9bf2-490e-99ce-48e8abf04a1b"
   },
   "outputs": [
    {
     "data": {
      "text/html": [
       "<div>\n",
       "<style scoped>\n",
       "    .dataframe tbody tr th:only-of-type {\n",
       "        vertical-align: middle;\n",
       "    }\n",
       "\n",
       "    .dataframe tbody tr th {\n",
       "        vertical-align: top;\n",
       "    }\n",
       "\n",
       "    .dataframe thead th {\n",
       "        text-align: right;\n",
       "    }\n",
       "</style>\n",
       "<table border=\"1\" class=\"dataframe\">\n",
       "  <thead>\n",
       "    <tr style=\"text-align: right;\">\n",
       "      <th></th>\n",
       "      <th>id</th>\n",
       "      <th>CustomerId</th>\n",
       "      <th>Surname</th>\n",
       "      <th>CreditScore</th>\n",
       "      <th>Geography</th>\n",
       "      <th>Gender</th>\n",
       "      <th>Age</th>\n",
       "      <th>Tenure</th>\n",
       "      <th>Balance</th>\n",
       "      <th>NumOfProducts</th>\n",
       "      <th>HasCrCard</th>\n",
       "      <th>IsActiveMember</th>\n",
       "      <th>EstimatedSalary</th>\n",
       "      <th>Exited</th>\n",
       "    </tr>\n",
       "  </thead>\n",
       "  <tbody>\n",
       "    <tr>\n",
       "      <th>0</th>\n",
       "      <td>0</td>\n",
       "      <td>15674932</td>\n",
       "      <td>Okwudilichukwu</td>\n",
       "      <td>668</td>\n",
       "      <td>France</td>\n",
       "      <td>Male</td>\n",
       "      <td>33.0</td>\n",
       "      <td>3</td>\n",
       "      <td>0.00</td>\n",
       "      <td>2</td>\n",
       "      <td>1.0</td>\n",
       "      <td>0.0</td>\n",
       "      <td>181449.97</td>\n",
       "      <td>0</td>\n",
       "    </tr>\n",
       "    <tr>\n",
       "      <th>1</th>\n",
       "      <td>1</td>\n",
       "      <td>15749177</td>\n",
       "      <td>Okwudiliolisa</td>\n",
       "      <td>627</td>\n",
       "      <td>France</td>\n",
       "      <td>Male</td>\n",
       "      <td>33.0</td>\n",
       "      <td>1</td>\n",
       "      <td>0.00</td>\n",
       "      <td>2</td>\n",
       "      <td>1.0</td>\n",
       "      <td>1.0</td>\n",
       "      <td>49503.50</td>\n",
       "      <td>0</td>\n",
       "    </tr>\n",
       "    <tr>\n",
       "      <th>2</th>\n",
       "      <td>2</td>\n",
       "      <td>15694510</td>\n",
       "      <td>Hsueh</td>\n",
       "      <td>678</td>\n",
       "      <td>France</td>\n",
       "      <td>Male</td>\n",
       "      <td>40.0</td>\n",
       "      <td>10</td>\n",
       "      <td>0.00</td>\n",
       "      <td>2</td>\n",
       "      <td>1.0</td>\n",
       "      <td>0.0</td>\n",
       "      <td>184866.69</td>\n",
       "      <td>0</td>\n",
       "    </tr>\n",
       "    <tr>\n",
       "      <th>3</th>\n",
       "      <td>3</td>\n",
       "      <td>15741417</td>\n",
       "      <td>Kao</td>\n",
       "      <td>581</td>\n",
       "      <td>France</td>\n",
       "      <td>Male</td>\n",
       "      <td>34.0</td>\n",
       "      <td>2</td>\n",
       "      <td>148882.54</td>\n",
       "      <td>1</td>\n",
       "      <td>1.0</td>\n",
       "      <td>1.0</td>\n",
       "      <td>84560.88</td>\n",
       "      <td>0</td>\n",
       "    </tr>\n",
       "    <tr>\n",
       "      <th>4</th>\n",
       "      <td>4</td>\n",
       "      <td>15766172</td>\n",
       "      <td>Chiemenam</td>\n",
       "      <td>716</td>\n",
       "      <td>Spain</td>\n",
       "      <td>Male</td>\n",
       "      <td>33.0</td>\n",
       "      <td>5</td>\n",
       "      <td>0.00</td>\n",
       "      <td>2</td>\n",
       "      <td>1.0</td>\n",
       "      <td>1.0</td>\n",
       "      <td>15068.83</td>\n",
       "      <td>0</td>\n",
       "    </tr>\n",
       "  </tbody>\n",
       "</table>\n",
       "</div>"
      ],
      "text/plain": [
       "   id  CustomerId         Surname  CreditScore Geography Gender   Age  Tenure  \\\n",
       "0   0    15674932  Okwudilichukwu          668    France   Male  33.0       3   \n",
       "1   1    15749177   Okwudiliolisa          627    France   Male  33.0       1   \n",
       "2   2    15694510           Hsueh          678    France   Male  40.0      10   \n",
       "3   3    15741417             Kao          581    France   Male  34.0       2   \n",
       "4   4    15766172       Chiemenam          716     Spain   Male  33.0       5   \n",
       "\n",
       "     Balance  NumOfProducts  HasCrCard  IsActiveMember  EstimatedSalary  \\\n",
       "0       0.00              2        1.0             0.0        181449.97   \n",
       "1       0.00              2        1.0             1.0         49503.50   \n",
       "2       0.00              2        1.0             0.0        184866.69   \n",
       "3  148882.54              1        1.0             1.0         84560.88   \n",
       "4       0.00              2        1.0             1.0         15068.83   \n",
       "\n",
       "   Exited  \n",
       "0       0  \n",
       "1       0  \n",
       "2       0  \n",
       "3       0  \n",
       "4       0  "
      ]
     },
     "execution_count": 36,
     "metadata": {},
     "output_type": "execute_result"
    }
   ],
   "source": [
    "train_df.head()"
   ]
  },
  {
   "cell_type": "markdown",
   "metadata": {},
   "source": [
    "From the header, it can be seen that CustomerId and Surname are included which will only add noise to any models created These should be removed."
   ]
  },
  {
   "cell_type": "code",
   "execution_count": 37,
   "metadata": {},
   "outputs": [],
   "source": [
    "# Removing Identifying Columns\n",
    "train_df = train_df.drop(['id', 'CustomerId', 'Surname'], axis=1)"
   ]
  },
  {
   "cell_type": "markdown",
   "metadata": {},
   "source": [
    "There are a combination of integers, floats and texts. Integers should only represent categorical columns and text should all be converted into integers using an encoding method such as One-hot encoding. This will be done at the end of the EDA.\n",
    "\n",
    "CreditScore, Tenure, NumOfProducts should be converted into floats. "
   ]
  },
  {
   "cell_type": "code",
   "execution_count": 38,
   "metadata": {},
   "outputs": [],
   "source": [
    "train_df['CreditScore'] = train_df['CreditScore'].astype(float)\n",
    "train_df['Tenure'] = train_df['Tenure'].astype(float)\n",
    "train_df['NumOfProducts'] = train_df['NumOfProducts'].astype(float)"
   ]
  },
  {
   "cell_type": "markdown",
   "metadata": {},
   "source": [
    "For text features, I will identify the unique values"
   ]
  },
  {
   "cell_type": "code",
   "execution_count": 39,
   "metadata": {
    "colab": {
     "base_uri": "https://localhost:8080/"
    },
    "id": "0_LzGENsF33R",
    "outputId": "1732bd60-6ade-4557-e575-48cfac126804"
   },
   "outputs": [
    {
     "data": {
      "text/plain": [
       "array(['France', 'Spain', 'Germany'], dtype=object)"
      ]
     },
     "execution_count": 39,
     "metadata": {},
     "output_type": "execute_result"
    }
   ],
   "source": [
    "train_df['Geography'].unique()"
   ]
  },
  {
   "cell_type": "code",
   "execution_count": 40,
   "metadata": {
    "colab": {
     "base_uri": "https://localhost:8080/",
     "height": 430
    },
    "id": "-ShQlAHUGmkW",
    "outputId": "b4f24f74-dbd9-450f-9531-05314ec23b77"
   },
   "outputs": [
    {
     "data": {
      "image/png": "[encoded data removed]",
      "text/plain": [
       "<Figure size 640x480 with 1 Axes>"
      ]
     },
     "metadata": {},
     "output_type": "display_data"
    }
   ],
   "source": [
    "# Total Rows\n",
    "train_df.groupby('Geography').size().plot(kind='barh', color=sns.palettes.mpl_palette('Dark2'))\n",
    "plt.gca().spines[['top', 'right',]].set_visible(False)"
   ]
  },
  {
   "cell_type": "code",
   "execution_count": 41,
   "metadata": {
    "colab": {
     "base_uri": "https://localhost:8080/",
     "height": 472
    },
    "id": "t0ffUdC-GUIf",
    "outputId": "49104269-013a-4fce-c3c9-dfc401395e91"
   },
   "outputs": [
    {
     "data": {
      "image/png": "[encoded data removed]",
      "text/plain": [
       "<Figure size 640x480 with 1 Axes>"
      ]
     },
     "metadata": {},
     "output_type": "display_data"
    }
   ],
   "source": [
    "# Percentage of Customers by Geography and Exited Status\n",
    "\n",
    "# Calculate counts per category split by 'Exited'\n",
    "count_data = train_df.groupby(['Geography', 'Exited']).size().unstack(fill_value=0)\n",
    "\n",
    "# Convert counts to percentages\n",
    "percentage_data = count_data.div(count_data.sum(axis=1), axis=0) * 100\n",
    "\n",
    "# Create the bar plot\n",
    "ax = percentage_data.plot(kind='barh', stacked=True, color=sns.color_palette('Dark2'))\n",
    "\n",
    "# Adding titles and labels\n",
    "plt.title('Percentage of Customers by Geography and Exited Status')\n",
    "plt.xlabel('Percentage')\n",
    "plt.ylabel('Geography')\n",
    "\n",
    "# Hide top and right spines\n",
    "plt.gca().spines['top'].set_visible(False)\n",
    "plt.gca().spines['right'].set_visible(False)\n",
    "\n",
    "# Annotate bars with percentage values\n",
    "for bars in ax.containers:\n",
    "    ax.bar_label(bars, fmt='%.1f%%', label_type='center')\n",
    "\n",
    "# Show the plot\n",
    "plt.show()\n"
   ]
  },
  {
   "cell_type": "markdown",
   "metadata": {},
   "source": [
    "I will encode from the least likely to exit to the most likely exit (Frace = 1, Spain = 2, Germany = 3). The classes are unbalanced though with France having the most number of people represented in the dataset."
   ]
  },
  {
   "cell_type": "code",
   "execution_count": 42,
   "metadata": {},
   "outputs": [],
   "source": [
    "# Replace 'France' with 1.0, 'Spain' with 2.0, 'Germany' with 3.0\n",
    "mapping = {'France': 1.0, 'Spain': 2.0, 'Germany': 3.0}\n",
    "train_df['Geography'] = train_df['Geography'].replace(mapping)"
   ]
  },
  {
   "cell_type": "markdown",
   "metadata": {},
   "source": [
    "I will also check how many genders are in the dataset"
   ]
  },
  {
   "cell_type": "code",
   "execution_count": 43,
   "metadata": {
    "colab": {
     "base_uri": "https://localhost:8080/"
    },
    "id": "dF79p-YVDgV4",
    "outputId": "68622482-a19b-4dda-bf8f-fe3d73fecb89"
   },
   "outputs": [
    {
     "data": {
      "text/plain": [
       "array(['Male', 'Female'], dtype=object)"
      ]
     },
     "execution_count": 43,
     "metadata": {},
     "output_type": "execute_result"
    }
   ],
   "source": [
    "train_df['Gender'].unique()"
   ]
  },
  {
   "cell_type": "markdown",
   "metadata": {},
   "source": [
    "There is only 2 so they can be binary classified into 0 and 1."
   ]
  },
  {
   "cell_type": "code",
   "execution_count": 44,
   "metadata": {},
   "outputs": [],
   "source": [
    "gender = {'Male': 1.0, 'Female': 0.0}\n",
    "train_df['Gender'] = train_df['Gender'].replace(gender)"
   ]
  },
  {
   "cell_type": "code",
   "execution_count": 61,
   "metadata": {},
   "outputs": [
    {
     "data": {
      "image/png": "[encoded data removed]",
      "text/plain": [
       "<Figure size 640x480 with 2 Axes>"
      ]
     },
     "metadata": {},
     "output_type": "display_data"
    }
   ],
   "source": [
    "# Correlation Matrix\n",
    "# Specify the column to move to the first position\n",
    "column_to_move = 'Exited'\n",
    "\n",
    "# Create a list of columns with the desired column at the front\n",
    "new_columns = [column_to_move] + [col for col in train_df.columns if col != column_to_move]\n",
    "\n",
    "# Reorder the columns\n",
    "train_df = train_df[new_columns]\n",
    "# Compute the correlation matrix\n",
    "corr_matrix = train_df.corr()\n",
    "\n",
    "# Optional: Visualize the correlation matrix using seaborn\n",
    "sns.heatmap(corr_matrix, annot=True, cmap='coolwarm', fmt=\".2f\", linewidths=.5)\n",
    "plt.show()"
   ]
  },
  {
   "cell_type": "markdown",
   "metadata": {},
   "source": [
    "From the heatmap, it can be seen that customers that have exited most correlate with Age and is somewhat correlated with Geography, Balance, Number of Products, and if they are an active member."
   ]
  },
  {
   "cell_type": "code",
   "execution_count": 8,
   "metadata": {
    "colab": {
     "base_uri": "https://localhost:8080/",
     "height": 472
    },
    "id": "mTBk6K8qIOib",
    "outputId": "40e3ddaa-a36b-4c5c-f694-f586769e29ff"
   },
   "outputs": [
    {
     "data": {
      "image/png": "[encoded data removed]",
      "text/plain": [
       "<Figure size 640x480 with 1 Axes>"
      ]
     },
     "metadata": {},
     "output_type": "display_data"
    }
   ],
   "source": [
    "# Filter data based on 'Exited' status\n",
    "exited_df = train_df[train_df['Exited'] == 1]\n",
    "not_exited_df = train_df[train_df['Exited'] == 0]\n",
    "\n",
    "# Create histogram for customers who exited\n",
    "plt.hist(exited_df['Balance'], bins=20, alpha=0.5, label='Exited = 1', color='red')\n",
    "\n",
    "# Create histogram for customers who did not exit\n",
    "plt.hist(not_exited_df['Balance'], bins=20, alpha=0.5, label='Exited = 0', color='blue')\n",
    "\n",
    "# Adding titles and labels\n",
    "plt.title('Balance Distribution by Exited Status')\n",
    "plt.xlabel('Balance')\n",
    "plt.ylabel('Frequency')\n",
    "\n",
    "# Hide top and right spines\n",
    "plt.gca().spines['top'].set_visible(False)\n",
    "plt.gca().spines['right'].set_visible(False)\n",
    "\n",
    "# Add a legend to the plot\n",
    "plt.legend()\n",
    "\n",
    "# Show the plot\n",
    "plt.show()"
   ]
  },
  {
   "cell_type": "markdown",
   "metadata": {},
   "source": [
    "It looks like the Balance is either below 50000 or above 50000. Let's explore how correlation is affected if the dataset becomes more correlated if any balance greater than 50000 is 1 and less than is 0. "
   ]
  },
  {
   "cell_type": "code",
   "execution_count": 49,
   "metadata": {},
   "outputs": [],
   "source": [
    "train_df['High_Balance'] = np.where(train_df['Balance'] > 50000, 1.0, 0)"
   ]
  },
  {
   "cell_type": "code",
   "execution_count": 59,
   "metadata": {},
   "outputs": [
    {
     "data": {
      "image/png": "[encoded data removed]",
      "text/plain": [
       "<Figure size 640x480 with 2 Axes>"
      ]
     },
     "metadata": {},
     "output_type": "display_data"
    }
   ],
   "source": [
    "# Correlation Matrix\n",
    "# Specify the column to move to the first position\n",
    "column_to_move = 'Exited'\n",
    "\n",
    "# Create a list of columns with the desired column at the front\n",
    "new_columns = [column_to_move] + [col for col in train_df.columns if col != column_to_move]\n",
    "\n",
    "# Reorder the columns\n",
    "train_df = train_df[new_columns]\n",
    "# Compute the correlation matrix\n",
    "corr_matrix = train_df.corr()\n",
    "\n",
    "# Optional: Visualize the correlation matrix using seaborn\n",
    "sns.heatmap(corr_matrix, annot=True, cmap='coolwarm', fmt=\".2f\", linewidths=.5)\n",
    "plt.show()"
   ]
  },
  {
   "cell_type": "markdown",
   "metadata": {},
   "source": [
    "It does not look like correlation has changed. From the bar chart, it can be seen that people with 0 balance are less likely to leave. This new column will not be kept"
   ]
  },
  {
   "cell_type": "code",
   "execution_count": 12,
   "metadata": {
    "colab": {
     "base_uri": "https://localhost:8080/",
     "height": 472
    },
    "id": "z6yqdgpJJxBz",
    "outputId": "a8bfeef6-03ff-4911-e3fd-fffda47661a5"
   },
   "outputs": [
    {
     "data": {
      "image/png": "[encoded data removed]",
      "text/plain": [
       "<Figure size 640x480 with 1 Axes>"
      ]
     },
     "metadata": {},
     "output_type": "display_data"
    }
   ],
   "source": [
    "# Filter data based on 'Exited' status\n",
    "exited_df = train_df[train_df['Exited'] == 1]\n",
    "not_exited_df = train_df[train_df['Exited'] == 0]\n",
    "\n",
    "# Create histogram for customers who exited\n",
    "plt.hist(exited_df['Age'], bins=20, alpha=0.5, label='Exited = 1', color='red')\n",
    "\n",
    "# Create histogram for customers who did not exit\n",
    "plt.hist(not_exited_df['Age'], bins=20, alpha=0.5, label='Exited = 0', color='blue')\n",
    "\n",
    "# Adding titles and labels\n",
    "plt.title('Age Distribution by Exited Status')\n",
    "plt.xlabel('Age')\n",
    "plt.ylabel('Frequency')\n",
    "\n",
    "# Hide top and right spines\n",
    "plt.gca().spines['top'].set_visible(False)\n",
    "plt.gca().spines['right'].set_visible(False)\n",
    "\n",
    "# Add a legend to the plot\n",
    "plt.legend()\n",
    "\n",
    "# Show the plot\n",
    "plt.show()\n"
   ]
  },
  {
   "cell_type": "markdown",
   "metadata": {},
   "source": [
    "From the chart, it looks like customers that have exited tend to be older with a mean at around 40 and 50 compared to 30 and 40."
   ]
  },
  {
   "cell_type": "code",
   "execution_count": 54,
   "metadata": {
    "colab": {
     "base_uri": "https://localhost:8080/",
     "height": 472
    },
    "id": "4Be9AtsbOq31",
    "outputId": "73805025-c970-4182-d081-39bb6a373145"
   },
   "outputs": [
    {
     "data": {
      "image/png": "[encoded data removed]",
      "text/plain": [
       "<Figure size 640x480 with 1 Axes>"
      ]
     },
     "metadata": {},
     "output_type": "display_data"
    }
   ],
   "source": [
    "import matplotlib.pyplot as plt\n",
    "\n",
    "# Filter data based on 'Exited' status\n",
    "exited_df = train_df[train_df['Exited'] == 1]\n",
    "not_exited_df = train_df[train_df['Exited'] == 0]\n",
    "\n",
    "# Create histogram for customers who exited\n",
    "plt.hist(exited_df['NumOfProducts'], bins=8, alpha=0.5, label='Exited = 1', color='red')\n",
    "\n",
    "# Create histogram for customers who did not exit\n",
    "plt.hist(not_exited_df['NumOfProducts'], bins=8, alpha = 0.5, label='Exited = 0', color='blue')\n",
    "\n",
    "# Adding titles and labels\n",
    "plt.title('NumOfProducts Distribution by Exited Status')\n",
    "plt.xlabel('NumOfProducts')\n",
    "plt.ylabel('Frequency')\n",
    "\n",
    "# Hide top and right spines\n",
    "plt.gca().spines['top'].set_visible(False)\n",
    "plt.gca().spines['right'].set_visible(False)\n",
    "\n",
    "# Add a legend to the plot\n",
    "plt.legend()\n",
    "\n",
    "# Show the plot\n",
    "plt.show()\n"
   ]
  },
  {
   "cell_type": "markdown",
   "metadata": {},
   "source": [
    "It seems like customers with 2 products are unlikely to leave. Customers with 1, 3, or 4 are more likely to leave.\n",
    "Let's explore modifying this column to 2 products or not for binary classification."
   ]
  },
  {
   "cell_type": "code",
   "execution_count": 55,
   "metadata": {},
   "outputs": [],
   "source": [
    "train_df['2_Products'] = np.where(train_df['NumOfProducts'] == 2, 1.0, 0)"
   ]
  },
  {
   "cell_type": "code",
   "execution_count": 58,
   "metadata": {},
   "outputs": [
    {
     "data": {
      "image/png": "[encoded data removed]",
      "text/plain": [
       "<Figure size 640x480 with 2 Axes>"
      ]
     },
     "metadata": {},
     "output_type": "display_data"
    }
   ],
   "source": [
    "# Compute the correlation matrix\n",
    "corr_matrix = train_df.corr()\n",
    "\n",
    "# Optional: Visualize the correlation matrix using seaborn\n",
    "sns.heatmap(corr_matrix, annot=True, cmap='coolwarm', fmt=\".2f\", linewidths=.5)\n",
    "plt.show()"
   ]
  },
  {
   "cell_type": "markdown",
   "metadata": {},
   "source": [
    "This has significantly increased the degree of correlation from -0.21 to -0.38. \n",
    "To remove noise, only features with a correlation score above 0.1 will be kept. The NumOfProducts column will be replaced with the binary classification results if there is 2 products or not. "
   ]
  },
  {
   "cell_type": "code",
   "execution_count": 120,
   "metadata": {},
   "outputs": [],
   "source": [
    "# Creating a datapreprocessing function that takes the link to the csv and outputs a dataframe\n",
    "\n",
    "def preprocessing(csv):\n",
    "    df = pd.read_csv(csv)\n",
    "    df['NumOfProducts'] = df['NumOfProducts'].astype(float)\n",
    "    \n",
    "    mapping = {'France': 1.0, 'Spain': 2.0, 'Germany': 3.0}\n",
    "    df['Geography'] = df['Geography'].replace(mapping)\n",
    "    \n",
    "    gender = {'Male': 1.0, 'Female': 0.0}\n",
    "    df['Gender'] = df['Gender'].replace(gender)\n",
    "    \n",
    "    df['2_Products'] = np.where(df['NumOfProducts'] == 2, 1.0, 0)\n",
    "    \n",
    "    df = df.drop(['id', 'CustomerId', 'Surname'], axis=1)\n",
    "    return df"
   ]
  },
  {
   "cell_type": "code",
   "execution_count": 121,
   "metadata": {},
   "outputs": [
    {
     "data": {
      "image/png": "[encoded data removed]",
      "text/plain": [
       "<Figure size 640x480 with 2 Axes>"
      ]
     },
     "metadata": {},
     "output_type": "display_data"
    }
   ],
   "source": [
    "dtf = preprocessing('train.csv')\n",
    "# Correlation Matrix\n",
    "# Specify the column to move to the first position\n",
    "column_to_move = 'Exited'\n",
    "\n",
    "# Create a list of columns with the desired column at the front\n",
    "new_columns = [column_to_move] + [col for col in train_df.columns if col != column_to_move]\n",
    "\n",
    "# Reorder the columns\n",
    "dtf = dtf[new_columns]\n",
    "# Compute the correlation matrix\n",
    "corr_matrix = dtf.corr()\n",
    "\n",
    "# Optional: Visualize the correlation matrix using seaborn\n",
    "sns.heatmap(corr_matrix, annot=True, cmap='coolwarm', fmt=\".2f\", linewidths=.5)\n",
    "plt.show()"
   ]
  },
  {
   "cell_type": "markdown",
   "metadata": {},
   "source": [
    "From my EDA, I was able to determine which features to keep for further analysis to develop a function for data preprocessing. This was done by identifying the features of the dataset, linear correlations between Exited and other features, data transformation such as adding a new feature on if there is 2 products or not, and normalizing using a min-max scalar (many features are binary classifications). There does not appear to be missing data. Deep learning allows for all features to be kept for the algorithm to identify potential non-linear relationships. "
   ]
  },
  {
   "cell_type": "markdown",
   "metadata": {},
   "source": [
    "# Model Building\n",
    "\n",
    "From my EDA, I know that I need an accuracy of above 78.8% to be better than just labelling every customer as 0 for churning. \n",
    "\n",
    "Let's see if supervised machine learning returns a better result than 78.8%\n",
    "\n",
    "### Random Forest Benchmark"
   ]
  },
  {
   "cell_type": "code",
   "execution_count": 123,
   "metadata": {
    "colab": {
     "base_uri": "https://localhost:8080/"
    },
    "id": "ad_vQJIJVjwJ",
    "outputId": "447472cf-507a-4e5a-ba2c-cc9e69e07978"
   },
   "outputs": [
    {
     "name": "stdout",
     "output_type": "stream",
     "text": [
      "Accuracy: 0.8580301148241282\n",
      "Classification Report:\n",
      "               precision    recall  f1-score   support\n",
      "\n",
      "         0.0       0.89      0.94      0.91     26052\n",
      "         1.0       0.71      0.54      0.62      6955\n",
      "\n",
      "    accuracy                           0.86     33007\n",
      "   macro avg       0.80      0.74      0.76     33007\n",
      "weighted avg       0.85      0.86      0.85     33007\n",
      "\n"
     ]
    }
   ],
   "source": [
    "# Baseline Random Forest\n",
    "\n",
    "random_forest_df = preprocessing('train.csv')\n",
    "\n",
    "# Standard Scaler\n",
    "scaler = MinMaxScaler()\n",
    "random_forest_df = pd.DataFrame(scaler.fit_transform(random_forest_df), columns=random_forest_df.columns)\n",
    "\n",
    "# Splitting the dataset into training and testing sets\n",
    "X = random_forest_df.drop('Exited', axis=1)\n",
    "y = random_forest_df['Exited']\n",
    "X_train, X_test, y_train, y_test = train_test_split(X, y, test_size=0.2, random_state=42)\n",
    "\n",
    "# Creating the Random Forest model\n",
    "model = RandomForestClassifier(n_estimators=100, random_state=42)\n",
    "model.fit(X_train, y_train)\n",
    "\n",
    "# Making predictions\n",
    "y_pred = model.predict(X_test)\n",
    "\n",
    "# Evaluating the model\n",
    "accuracy = accuracy_score(y_test, y_pred)\n",
    "print('Accuracy:', accuracy)\n",
    "print('Classification Report:\\n', classification_report(y_test, y_pred))"
   ]
  },
  {
   "cell_type": "markdown",
   "metadata": {},
   "source": [
    "An unoptimized Random Forest is able to achieve 85.8% validation accuracy.\n",
    "Now lets see if a baseline Convolutional Neural Network can improve accuracy. \n",
    "\n",
    "### CNN Benchmark"
   ]
  },
  {
   "cell_type": "code",
   "execution_count": 207,
   "metadata": {
    "id": "Auh_7IRZPCkE"
   },
   "outputs": [],
   "source": [
    "# baseline CNN\n",
    "\n",
    "cnn_df = preprocessing('train.csv')\n",
    "\n",
    "# Standard Scaler\n",
    "scaler = MinMaxScaler()\n",
    "cnn_df = pd.DataFrame(scaler.fit_transform(cnn_df), columns=cnn_df.columns)\n",
    "\n",
    "# Define categorical and numerical features\n",
    "categorical_features = ['Gender','HasCrCard', 'IsActiveMember']\n",
    "numerical_features = ['CreditScore', 'Age', 'Tenure', 'Balance', 'NumOfProducts', \n",
    "                      'EstimatedSalary', 'Geography', '2_Products']\n",
    "\n",
    "# Create transformers for numerical and categorical data\n",
    "preprocessor = ColumnTransformer(\n",
    "    transformers=[\n",
    "        ('num', StandardScaler(), numerical_features),\n",
    "        ('cat', OneHotEncoder(), categorical_features)])\n",
    "\n",
    "# Prepare target variable\n",
    "y = cnn_df['Exited'].values\n",
    "\n",
    "# Prepare input features\n",
    "X = cnn_df.drop('Exited', axis=1)\n",
    "\n",
    "# Split the data\n",
    "X_train, X_test, y_train, y_test = train_test_split(X, y, test_size=0.2, random_state=42)\n",
    "\n",
    "# Apply transformations\n",
    "X_train = preprocessor.fit_transform(X_train)\n",
    "X_test = preprocessor.transform(X_test)"
   ]
  },
  {
   "cell_type": "code",
   "execution_count": 208,
   "metadata": {
    "id": "5_l64GJcPNqr"
   },
   "outputs": [],
   "source": [
    "# Determine the input shape from the data\n",
    "input_shape = [X_train.shape[1]]\n",
    "\n",
    "# Build the model\n",
    "model = Sequential([\n",
    "    Input(shape=input_shape),\n",
    "    Dense(128, activation='relu'),\n",
    "    Dense(64, activation='relu'),\n",
    "    Dense(1, activation='sigmoid')\n",
    "])\n",
    "\n",
    "# Compile the model\n",
    "model.compile(optimizer='adam', loss='binary_crossentropy', metrics=['accuracy'])"
   ]
  },
  {
   "cell_type": "code",
   "execution_count": 209,
   "metadata": {
    "colab": {
     "base_uri": "https://localhost:8080/"
    },
    "id": "-1owAhyWPa-R",
    "outputId": "92a0f0a6-6812-4968-a1d6-51fac63e7ee1"
   },
   "outputs": [
    {
     "name": "stdout",
     "output_type": "stream",
     "text": [
      "Epoch 1/5\n",
      "3301/3301 [==============================] - 5s 1ms/step - loss: 0.3340 - accuracy: 0.8590 - val_loss: 0.3242 - val_accuracy: 0.8650\n",
      "Epoch 2/5\n",
      "3301/3301 [==============================] - 5s 1ms/step - loss: 0.3260 - accuracy: 0.8629 - val_loss: 0.3237 - val_accuracy: 0.8644\n",
      "Epoch 3/5\n",
      "3301/3301 [==============================] - 5s 1ms/step - loss: 0.3247 - accuracy: 0.8632 - val_loss: 0.3256 - val_accuracy: 0.8641\n",
      "Epoch 4/5\n",
      "3301/3301 [==============================] - 5s 1ms/step - loss: 0.3236 - accuracy: 0.8643 - val_loss: 0.3255 - val_accuracy: 0.8637\n",
      "Epoch 5/5\n",
      "3301/3301 [==============================] - 5s 1ms/step - loss: 0.3230 - accuracy: 0.8640 - val_loss: 0.3235 - val_accuracy: 0.8647\n"
     ]
    }
   ],
   "source": [
    "# Train the model\n",
    "history = model.fit(X_train, y_train, epochs=5, batch_size=32, validation_split=0.2)"
   ]
  },
  {
   "cell_type": "code",
   "execution_count": 210,
   "metadata": {
    "colab": {
     "base_uri": "https://localhost:8080/"
    },
    "id": "IidR26E2Y7Mb",
    "outputId": "8b2c15cb-a5af-40d9-daa8-ac222aa48568"
   },
   "outputs": [
    {
     "name": "stdout",
     "output_type": "stream",
     "text": [
      "1032/1032 [==============================] - 1s 842us/step\n",
      "              precision    recall  f1-score   support\n",
      "\n",
      "         0.0       0.89      0.94      0.92     26052\n",
      "         1.0       0.73      0.57      0.64      6955\n",
      "\n",
      "    accuracy                           0.86     33007\n",
      "   macro avg       0.81      0.76      0.78     33007\n",
      "weighted avg       0.86      0.86      0.86     33007\n",
      "\n"
     ]
    }
   ],
   "source": [
    "# Classification Report\n",
    "y_prob = model.predict(X_test)\n",
    "\n",
    "# Convert probabilities to binary labels\n",
    "y_pred = (y_prob > 0.5).astype('int32')\n",
    "\n",
    "# Now generate the classification report\n",
    "print(classification_report(y_test, y_pred))"
   ]
  },
  {
   "cell_type": "markdown",
   "metadata": {},
   "source": [
    "This performed better than the random forest particularily in identifying customers that exit by improving precision from 0.71 to 0.73 while maintaining precision on customers that do not exit."
   ]
  },
  {
   "cell_type": "code",
   "execution_count": 194,
   "metadata": {},
   "outputs": [
    {
     "name": "stdout",
     "output_type": "stream",
     "text": [
      "3439/3439 [==============================] - 3s 847us/step\n"
     ]
    }
   ],
   "source": [
    "# Baseline CNN for Kaggel\n",
    "\n",
    "test_cnn_df = preprocessing('test.csv')\n",
    "test_cnn_df = preprocessor.transform(test_cnn_df)\n",
    "\n",
    "# Classification Report\n",
    "y_prob = model.predict(test_cnn_df)"
   ]
  },
  {
   "cell_type": "code",
   "execution_count": 195,
   "metadata": {},
   "outputs": [],
   "source": [
    "# Convert probabilities to binary labels\n",
    "\n",
    "y_prob = (y_prob > 0.5).astype('int')\n",
    "y_prob = y_prob.flatten()\n",
    "y_prob = y_prob.tolist()"
   ]
  },
  {
   "cell_type": "code",
   "execution_count": 197,
   "metadata": {},
   "outputs": [],
   "source": [
    "output_cnn_df = pd.read_csv('test.csv')\n",
    "output_cnn_df['Exited'] = y_prob\n",
    "# output_cnn_df.to_csv('cnn_benchmark.csv', index = False)"
   ]
  },
  {
   "cell_type": "markdown",
   "metadata": {},
   "source": [
    "Instead of running a hyperparameter tuning method, I am going to attempt to recreate a neural network for imbalanced classification. \n",
    "\n",
    "### Imbalanced Classification Neural Network Architecture"
   ]
  },
  {
   "cell_type": "code",
   "execution_count": 211,
   "metadata": {
    "colab": {
     "base_uri": "https://localhost:8080/"
    },
    "id": "m6so6T7mOtfx",
    "outputId": "13c88983-8c90-41b8-ef79-17a269c83a32"
   },
   "outputs": [
    {
     "name": "stdout",
     "output_type": "stream",
     "text": [
      "Model: \"sequential_7\"\n",
      "_________________________________________________________________\n",
      " Layer (type)                Output Shape              Param #   \n",
      "=================================================================\n",
      " dense_4 (Dense)             (None, 128)               1920      \n",
      "                                                                 \n",
      " dense_5 (Dense)             (None, 64)                8256      \n",
      "                                                                 \n",
      " dropout_2 (Dropout)         (None, 64)                0         \n",
      "                                                                 \n",
      " dense_6 (Dense)             (None, 32)                2080      \n",
      "                                                                 \n",
      " dropout_3 (Dropout)         (None, 32)                0         \n",
      "                                                                 \n",
      " dense_7 (Dense)             (None, 1)                 33        \n",
      "                                                                 \n",
      "=================================================================\n",
      "Total params: 12289 (48.00 KB)\n",
      "Trainable params: 12289 (48.00 KB)\n",
      "Non-trainable params: 0 (0.00 Byte)\n",
      "_________________________________________________________________\n",
      "Epoch 1/5\n",
      "413/413 [==============================] - 2s 3ms/step - loss: 0.3597 - accuracy: 0.8514 - val_loss: 0.3364 - val_accuracy: 0.8621\n",
      "Epoch 2/5\n",
      "413/413 [==============================] - 1s 2ms/step - loss: 0.3485 - accuracy: 0.8553 - val_loss: 0.3276 - val_accuracy: 0.8631\n",
      "Epoch 3/5\n",
      "413/413 [==============================] - 1s 2ms/step - loss: 0.3464 - accuracy: 0.8570 - val_loss: 0.3328 - val_accuracy: 0.8627\n",
      "Epoch 4/5\n",
      "413/413 [==============================] - 1s 2ms/step - loss: 0.3444 - accuracy: 0.8562 - val_loss: 0.3319 - val_accuracy: 0.8640\n",
      "Epoch 5/5\n",
      "413/413 [==============================] - 1s 2ms/step - loss: 0.3429 - accuracy: 0.8572 - val_loss: 0.3339 - val_accuracy: 0.8601\n"
     ]
    }
   ],
   "source": [
    "# Model Based on Imbalanced Classification: https://huggingface.co/keras-io/imbalanced_classification\n",
    "\n",
    "# Building the neural network\n",
    "imbalanced_model = Sequential([\n",
    "    Input(shape=input_shape),\n",
    "    Dense(128, activation='relu', name='dense_4'),\n",
    "    Dense(64, activation='relu', name='dense_5'),\n",
    "    Dropout(0.5, name='dropout_2'),\n",
    "    Dense(32, activation='relu', name='dense_6'),\n",
    "    Dropout(0.5, name='dropout_3'),\n",
    "    Dense(1, activation='sigmoid', name='dense_7')\n",
    "])\n",
    "\n",
    "# Configuring the optimizer\n",
    "optimizer_imbalanced = Adam(\n",
    "    learning_rate=0.01,\n",
    "    beta_1=0.9,\n",
    "    beta_2=0.999,\n",
    "    epsilon=1e-07\n",
    ")\n",
    "\n",
    "# Compiling the model\n",
    "imbalanced_model.compile(\n",
    "    optimizer=optimizer_imbalanced,\n",
    "    loss='binary_crossentropy',\n",
    "    metrics=['accuracy']\n",
    ")\n",
    "\n",
    "# Model summary\n",
    "imbalanced_model.summary()\n",
    "\n",
    "# Train the model\n",
    "# X_train and y_train should be defined with your training data\n",
    "history_imbalanced = imbalanced_model.fit(\n",
    "    X_train,\n",
    "    y_train,\n",
    "    epochs=5,\n",
    "    batch_size=256,\n",
    "    validation_split=0.2  \n",
    ")\n"
   ]
  },
  {
   "cell_type": "code",
   "execution_count": 212,
   "metadata": {
    "colab": {
     "base_uri": "https://localhost:8080/"
    },
    "id": "npdRwzV5aFww",
    "outputId": "cf287bd6-d529-4a54-929a-5e1504a7f954"
   },
   "outputs": [
    {
     "name": "stdout",
     "output_type": "stream",
     "text": [
      "1032/1032 [==============================] - 1s 868us/step\n",
      "              precision    recall  f1-score   support\n",
      "\n",
      "         0.0       0.87      0.97      0.92     26052\n",
      "         1.0       0.80      0.44      0.57      6955\n",
      "\n",
      "    accuracy                           0.86     33007\n",
      "   macro avg       0.83      0.70      0.74     33007\n",
      "weighted avg       0.85      0.86      0.84     33007\n",
      "\n"
     ]
    }
   ],
   "source": [
    "# Classification Report\n",
    "y_prob = imbalanced_model.predict(X_test)\n",
    "\n",
    "# Convert probabilities to binary labels\n",
    "y_pred = (y_prob > 0.5).astype('int32')\n",
    "\n",
    "# Now generate the classification report\n",
    "print(classification_report(y_test, y_pred))"
   ]
  },
  {
   "cell_type": "markdown",
   "metadata": {},
   "source": [
    "The results did not noticeably improve. An issue could be because CNNs are primarily designed for grid-like data such as images. CNNs excel in processing data that has a spatial hierarchy, where local spatial correlations between features are significant, such as pixels in images.\n",
    "\n",
    "Let's try and use a different architecture TabNet, which is specifically developed for tabular data. Unlike images, tabular data does not exhibit spatial or sequential correlations among features. Each feature can represent a very different aspect of the data with no inherent order.\n",
    "\n",
    "I found this architecture in this article titled [Recent deep learning methods for tabular data](http://www.csam.or.kr/journal/view.html?doi=10.29220/CSAM.2023.30.2.215).\n",
    "\n",
    "### Tabnet"
   ]
  },
  {
   "cell_type": "code",
   "execution_count": 354,
   "metadata": {},
   "outputs": [],
   "source": [
    "# tabnet http://www.csam.or.kr/journal/view.html?doi=10.29220/CSAM.2023.30.2.215\n",
    "\n",
    "tabnet_df = preprocessing('train.csv')\n",
    "\n",
    "# transforming into a balanced dataset because weights cannot be applied\n",
    "tabnet_df_1 = tabnet_df[tabnet_df['Exited'] == 1]\n",
    "tabnet_df_0 = tabnet_df[tabnet_df['Exited'] == 0]\n",
    "# Number of samples from each class\n",
    "n_samples = min(len(tabnet_df_1), len(tabnet_df_0))\n",
    "# Sample n_samples from each DataFrame\n",
    "sample_1 = tabnet_df_1.sample(n=n_samples, random_state=42)\n",
    "sample_0 = tabnet_df_0.sample(n=n_samples, random_state=42)\n",
    "\n",
    "# Concatenate the two samples\n",
    "balanced_tabnet_df = pd.concat([sample_1, sample_0])\n",
    "\n",
    "# Standard Scaler\n",
    "scaler = MinMaxScaler()\n",
    "tabnet_df = pd.DataFrame(scaler.fit_transform(tabnet_df), columns=tabnet_df.columns)\n",
    "\n",
    "# Define categorical and numerical features\n",
    "categorical_features = ['Gender','HasCrCard', 'IsActiveMember']\n",
    "numerical_features = ['CreditScore', 'Age', 'Tenure', 'Balance', 'NumOfProducts', \n",
    "                      'EstimatedSalary', 'Geography', '2_Products']\n",
    "\n",
    "# Create transformers for numerical and categorical data\n",
    "preprocessor = ColumnTransformer(\n",
    "    transformers=[\n",
    "        ('num', StandardScaler(), numerical_features),\n",
    "        ('cat', OneHotEncoder(), categorical_features)])\n",
    "\n",
    "# Prepare target variable\n",
    "y = balanced_tabnet_df['Exited'].values\n",
    "\n",
    "# Prepare input features\n",
    "X = balanced_tabnet_df.drop('Exited', axis=1)\n",
    "\n",
    "# Split the data\n",
    "X_train, X_test, y_train, y_test = train_test_split(X, y, test_size=0.2, random_state=42)\n",
    "\n",
    "# Apply transformations\n",
    "X_train = preprocessor.fit_transform(X_train)\n",
    "X_test = preprocessor.transform(X_test)"
   ]
  },
  {
   "cell_type": "code",
   "execution_count": 356,
   "metadata": {
    "colab": {
     "base_uri": "https://localhost:8080/",
     "height": 661
    },
    "id": "Hxnopk2ea4dH",
    "outputId": "d43311a4-fbcb-4840-ee71-9e4938672b13"
   },
   "outputs": [
    {
     "name": "stderr",
     "output_type": "stream",
     "text": [
      "C:\\Users\\David\\AppData\\Roaming\\Python\\Python311\\site-packages\\pytorch_tabnet\\abstract_model.py:82: UserWarning: Device used : cpu\n",
      "  warnings.warn(f\"Device used : {self.device}\")\n"
     ]
    },
    {
     "name": "stdout",
     "output_type": "stream",
     "text": [
      "epoch 0  | loss: 0.47285 | train_balanced_accuracy: 0.79889 | valid_balanced_accuracy: 0.79867 |  0:00:08s\n",
      "epoch 1  | loss: 0.43915 | train_balanced_accuracy: 0.80058 | valid_balanced_accuracy: 0.80185 |  0:00:16s\n",
      "epoch 2  | loss: 0.43555 | train_balanced_accuracy: 0.80245 | valid_balanced_accuracy: 0.80418 |  0:00:24s\n",
      "epoch 3  | loss: 0.43489 | train_balanced_accuracy: 0.80265 | valid_balanced_accuracy: 0.80103 |  0:00:32s\n",
      "epoch 4  | loss: 0.43139 | train_balanced_accuracy: 0.80313 | valid_balanced_accuracy: 0.80418 |  0:00:40s\n",
      "epoch 5  | loss: 0.43189 | train_balanced_accuracy: 0.80387 | valid_balanced_accuracy: 0.80166 |  0:00:49s\n",
      "epoch 6  | loss: 0.43005 | train_balanced_accuracy: 0.80346 | valid_balanced_accuracy: 0.80329 |  0:00:57s\n",
      "epoch 7  | loss: 0.43156 | train_balanced_accuracy: 0.80379 | valid_balanced_accuracy: 0.80321 |  0:01:07s\n",
      "epoch 8  | loss: 0.43135 | train_balanced_accuracy: 0.8021  | valid_balanced_accuracy: 0.80059 |  0:01:16s\n",
      "epoch 9  | loss: 0.43039 | train_balanced_accuracy: 0.80317 | valid_balanced_accuracy: 0.80454 |  0:01:27s\n",
      "Stop training because you reached max_epochs = 10 with best_epoch = 9 and best_valid_balanced_accuracy = 0.80454\n"
     ]
    },
    {
     "name": "stderr",
     "output_type": "stream",
     "text": [
      "C:\\Users\\David\\AppData\\Roaming\\Python\\Python311\\site-packages\\pytorch_tabnet\\callbacks.py:172: UserWarning: Best weights from best epoch are automatically used!\n",
      "  warnings.warn(wrn_msg)\n"
     ]
    }
   ],
   "source": [
    "# Initialize TabNetClassifier\n",
    "tab_model = TabNetClassifier(optimizer_fn=torch.optim.Adam,\n",
    "                         optimizer_params=dict(lr=2e-2),\n",
    "                         scheduler_params={\"step_size\":50, \"gamma\":0.9},\n",
    "                         scheduler_fn=torch.optim.lr_scheduler.StepLR,\n",
    "                         mask_type='entmax')\n",
    "\n",
    "# Fit the model\n",
    "tab_model.fit(\n",
    "    X_train, y_train,\n",
    "    eval_set=[(X_train, y_train), (X_test, y_test)],\n",
    "    eval_name=['train', 'valid'],\n",
    "    eval_metric=['balanced_accuracy'],\n",
    "    max_epochs=10,\n",
    "    patience=20,\n",
    "    batch_size=256,\n",
    "    virtual_batch_size=128,\n",
    "    num_workers=0,\n",
    "    drop_last=False\n",
    ")"
   ]
  },
  {
   "cell_type": "code",
   "execution_count": 357,
   "metadata": {
    "id": "Z3C1sEDZcEFs"
   },
   "outputs": [
    {
     "name": "stdout",
     "output_type": "stream",
     "text": [
      "              precision    recall  f1-score   support\n",
      "\n",
      "           0       0.80      0.81      0.81      7013\n",
      "           1       0.81      0.80      0.80      6956\n",
      "\n",
      "    accuracy                           0.80     13969\n",
      "   macro avg       0.80      0.80      0.80     13969\n",
      "weighted avg       0.80      0.80      0.80     13969\n",
      "\n"
     ]
    }
   ],
   "source": [
    "# Classification Report\n",
    "y_prob = tab_model.predict(X_test)\n",
    "\n",
    "# Convert probabilities to binary labels\n",
    "y_pred = (y_prob > 0.5).astype('int32')\n",
    "\n",
    "# Now generate the classification report\n",
    "print(classification_report(y_test, y_pred))"
   ]
  },
  {
   "cell_type": "code",
   "execution_count": 361,
   "metadata": {
    "colab": {
     "base_uri": "https://localhost:8080/"
    },
    "id": "qoKUq5RCeTO6",
    "outputId": "83ef181f-b8d3-4074-fb0a-8f43a3abcca0"
   },
   "outputs": [
    {
     "name": "stderr",
     "output_type": "stream",
     "text": [
      "[I 2024-04-28 23:23:16,887] A new study created in memory with name: no-name-16d7a5f7-a5b3-45bb-babc-e8ced7d0fd33\n",
      "C:\\Users\\David\\AppData\\Roaming\\Python\\Python311\\site-packages\\pytorch_tabnet\\abstract_model.py:82: UserWarning: Device used : cpu\n",
      "  warnings.warn(f\"Device used : {self.device}\")\n"
     ]
    },
    {
     "name": "stdout",
     "output_type": "stream",
     "text": [
      "epoch 0  | loss: 0.63389 | valid_balanced_accuracy: 0.77276 |  0:00:06s\n",
      "epoch 1  | loss: 0.48513 | valid_balanced_accuracy: 0.78098 |  0:00:17s\n",
      "epoch 2  | loss: 0.46781 | valid_balanced_accuracy: 0.78649 |  0:00:28s\n",
      "epoch 3  | loss: 0.46028 | valid_balanced_accuracy: 0.79322 |  0:00:37s\n",
      "epoch 4  | loss: 0.45233 | valid_balanced_accuracy: 0.79708 |  0:00:44s\n",
      "epoch 5  | loss: 0.44728 | valid_balanced_accuracy: 0.79723 |  0:00:53s\n",
      "epoch 6  | loss: 0.44704 | valid_balanced_accuracy: 0.79701 |  0:01:03s\n",
      "epoch 7  | loss: 0.44374 | valid_balanced_accuracy: 0.7999  |  0:01:11s\n",
      "epoch 8  | loss: 0.44132 | valid_balanced_accuracy: 0.79813 |  0:01:18s\n",
      "epoch 9  | loss: 0.43728 | valid_balanced_accuracy: 0.79761 |  0:01:25s\n",
      "epoch 10 | loss: 0.43845 | valid_balanced_accuracy: 0.79851 |  0:01:32s\n",
      "epoch 11 | loss: 0.43607 | valid_balanced_accuracy: 0.80023 |  0:01:38s\n",
      "epoch 12 | loss: 0.43371 | valid_balanced_accuracy: 0.79929 |  0:01:43s\n",
      "epoch 13 | loss: 0.43244 | valid_balanced_accuracy: 0.80152 |  0:01:48s\n",
      "epoch 14 | loss: 0.43164 | valid_balanced_accuracy: 0.80231 |  0:01:53s\n",
      "epoch 15 | loss: 0.432   | valid_balanced_accuracy: 0.80281 |  0:01:58s\n",
      "epoch 16 | loss: 0.42988 | valid_balanced_accuracy: 0.80107 |  0:02:03s\n",
      "epoch 17 | loss: 0.42871 | valid_balanced_accuracy: 0.80089 |  0:02:08s\n",
      "epoch 18 | loss: 0.4295  | valid_balanced_accuracy: 0.80242 |  0:02:13s\n",
      "epoch 19 | loss: 0.42893 | valid_balanced_accuracy: 0.80424 |  0:02:18s\n",
      "Stop training because you reached max_epochs = 20 with best_epoch = 19 and best_valid_balanced_accuracy = 0.80424\n"
     ]
    },
    {
     "name": "stderr",
     "output_type": "stream",
     "text": [
      "C:\\Users\\David\\AppData\\Roaming\\Python\\Python311\\site-packages\\pytorch_tabnet\\callbacks.py:172: UserWarning: Best weights from best epoch are automatically used!\n",
      "  warnings.warn(wrn_msg)\n",
      "[I 2024-04-28 23:25:38,462] Trial 0 finished with value: 0.8043524948099363 and parameters: {'lr': 0.00374906961269304, 'n_d': 61, 'n_a': 37}. Best is trial 0 with value: 0.8043524948099363.\n",
      "C:\\Users\\David\\AppData\\Roaming\\Python\\Python311\\site-packages\\pytorch_tabnet\\abstract_model.py:82: UserWarning: Device used : cpu\n",
      "  warnings.warn(f\"Device used : {self.device}\")\n"
     ]
    },
    {
     "name": "stdout",
     "output_type": "stream",
     "text": [
      "epoch 0  | loss: 0.585   | valid_balanced_accuracy: 0.76123 |  0:00:04s\n",
      "epoch 1  | loss: 0.49213 | valid_balanced_accuracy: 0.78008 |  0:00:10s\n",
      "epoch 2  | loss: 0.47695 | valid_balanced_accuracy: 0.78581 |  0:00:16s\n",
      "epoch 3  | loss: 0.46489 | valid_balanced_accuracy: 0.79029 |  0:00:22s\n",
      "epoch 4  | loss: 0.45694 | valid_balanced_accuracy: 0.79341 |  0:00:27s\n",
      "epoch 5  | loss: 0.45477 | valid_balanced_accuracy: 0.79736 |  0:00:32s\n",
      "epoch 6  | loss: 0.45189 | valid_balanced_accuracy: 0.79658 |  0:00:37s\n",
      "epoch 7  | loss: 0.44764 | valid_balanced_accuracy: 0.79647 |  0:00:42s\n",
      "epoch 8  | loss: 0.44468 | valid_balanced_accuracy: 0.79965 |  0:00:47s\n",
      "epoch 9  | loss: 0.44092 | valid_balanced_accuracy: 0.79943 |  0:00:51s\n",
      "epoch 10 | loss: 0.44055 | valid_balanced_accuracy: 0.80069 |  0:00:56s\n",
      "epoch 11 | loss: 0.43987 | valid_balanced_accuracy: 0.80035 |  0:01:01s\n",
      "epoch 12 | loss: 0.4388  | valid_balanced_accuracy: 0.80048 |  0:01:06s\n",
      "epoch 13 | loss: 0.43642 | valid_balanced_accuracy: 0.79813 |  0:01:13s\n",
      "epoch 14 | loss: 0.43606 | valid_balanced_accuracy: 0.79931 |  0:01:22s\n",
      "epoch 15 | loss: 0.43459 | valid_balanced_accuracy: 0.80044 |  0:01:29s\n",
      "epoch 16 | loss: 0.43297 | valid_balanced_accuracy: 0.80134 |  0:01:37s\n",
      "epoch 17 | loss: 0.43308 | valid_balanced_accuracy: 0.79793 |  0:01:43s\n",
      "epoch 18 | loss: 0.43199 | valid_balanced_accuracy: 0.80148 |  0:01:51s\n",
      "epoch 19 | loss: 0.43071 | valid_balanced_accuracy: 0.79904 |  0:01:58s\n",
      "Stop training because you reached max_epochs = 20 with best_epoch = 18 and best_valid_balanced_accuracy = 0.80148\n"
     ]
    },
    {
     "name": "stderr",
     "output_type": "stream",
     "text": [
      "C:\\Users\\David\\AppData\\Roaming\\Python\\Python311\\site-packages\\pytorch_tabnet\\callbacks.py:172: UserWarning: Best weights from best epoch are automatically used!\n",
      "  warnings.warn(wrn_msg)\n",
      "[I 2024-04-28 23:27:39,427] Trial 1 finished with value: 0.8015605984680364 and parameters: {'lr': 0.0024032220568566153, 'n_d': 49, 'n_a': 40}. Best is trial 0 with value: 0.8043524948099363.\n",
      "C:\\Users\\David\\AppData\\Roaming\\Python\\Python311\\site-packages\\pytorch_tabnet\\abstract_model.py:82: UserWarning: Device used : cpu\n",
      "  warnings.warn(f\"Device used : {self.device}\")\n"
     ]
    },
    {
     "name": "stdout",
     "output_type": "stream",
     "text": [
      "epoch 0  | loss: 0.56874 | valid_balanced_accuracy: 0.74892 |  0:00:04s\n",
      "epoch 1  | loss: 0.48294 | valid_balanced_accuracy: 0.77809 |  0:00:09s\n",
      "epoch 2  | loss: 0.46621 | valid_balanced_accuracy: 0.78881 |  0:00:14s\n",
      "epoch 3  | loss: 0.45645 | valid_balanced_accuracy: 0.79519 |  0:00:20s\n",
      "epoch 4  | loss: 0.45241 | valid_balanced_accuracy: 0.79631 |  0:00:25s\n",
      "epoch 5  | loss: 0.44674 | valid_balanced_accuracy: 0.79573 |  0:00:31s\n",
      "epoch 6  | loss: 0.445   | valid_balanced_accuracy: 0.79986 |  0:00:37s\n",
      "epoch 7  | loss: 0.44114 | valid_balanced_accuracy: 0.79668 |  0:00:42s\n",
      "epoch 8  | loss: 0.43976 | valid_balanced_accuracy: 0.79525 |  0:00:47s\n",
      "epoch 9  | loss: 0.43887 | valid_balanced_accuracy: 0.79695 |  0:00:52s\n",
      "epoch 10 | loss: 0.43734 | valid_balanced_accuracy: 0.79814 |  0:00:56s\n",
      "epoch 11 | loss: 0.43548 | valid_balanced_accuracy: 0.79807 |  0:01:04s\n",
      "epoch 12 | loss: 0.43467 | valid_balanced_accuracy: 0.79953 |  0:01:11s\n",
      "epoch 13 | loss: 0.43257 | valid_balanced_accuracy: 0.79834 |  0:01:18s\n",
      "epoch 14 | loss: 0.4329  | valid_balanced_accuracy: 0.80116 |  0:01:23s\n",
      "epoch 15 | loss: 0.43235 | valid_balanced_accuracy: 0.8003  |  0:01:28s\n",
      "epoch 16 | loss: 0.43289 | valid_balanced_accuracy: 0.79885 |  0:01:35s\n",
      "epoch 17 | loss: 0.43222 | valid_balanced_accuracy: 0.80199 |  0:01:40s\n",
      "epoch 18 | loss: 0.43089 | valid_balanced_accuracy: 0.80056 |  0:01:44s\n",
      "epoch 19 | loss: 0.43118 | valid_balanced_accuracy: 0.80023 |  0:01:49s\n",
      "Stop training because you reached max_epochs = 20 with best_epoch = 17 and best_valid_balanced_accuracy = 0.80199\n"
     ]
    },
    {
     "name": "stderr",
     "output_type": "stream",
     "text": [
      "C:\\Users\\David\\AppData\\Roaming\\Python\\Python311\\site-packages\\pytorch_tabnet\\callbacks.py:172: UserWarning: Best weights from best epoch are automatically used!\n",
      "  warnings.warn(wrn_msg)\n",
      "[I 2024-04-28 23:29:31,196] Trial 2 finished with value: 0.8020617080678646 and parameters: {'lr': 0.0019345880721731708, 'n_d': 8, 'n_a': 50}. Best is trial 0 with value: 0.8043524948099363.\n",
      "C:\\Users\\David\\AppData\\Roaming\\Python\\Python311\\site-packages\\pytorch_tabnet\\abstract_model.py:82: UserWarning: Device used : cpu\n",
      "  warnings.warn(f\"Device used : {self.device}\")\n"
     ]
    },
    {
     "name": "stdout",
     "output_type": "stream",
     "text": [
      "epoch 0  | loss: 0.55723 | valid_balanced_accuracy: 0.76399 |  0:00:04s\n",
      "epoch 1  | loss: 0.46415 | valid_balanced_accuracy: 0.78719 |  0:00:09s\n",
      "epoch 2  | loss: 0.45168 | valid_balanced_accuracy: 0.79476 |  0:00:14s\n",
      "epoch 3  | loss: 0.44569 | valid_balanced_accuracy: 0.80159 |  0:00:18s\n",
      "epoch 4  | loss: 0.44108 | valid_balanced_accuracy: 0.79979 |  0:00:23s\n",
      "epoch 5  | loss: 0.44026 | valid_balanced_accuracy: 0.80218 |  0:00:28s\n",
      "epoch 6  | loss: 0.43686 | valid_balanced_accuracy: 0.8009  |  0:00:33s\n",
      "epoch 7  | loss: 0.43452 | valid_balanced_accuracy: 0.80324 |  0:00:38s\n",
      "epoch 8  | loss: 0.43405 | valid_balanced_accuracy: 0.80215 |  0:00:43s\n",
      "epoch 9  | loss: 0.43194 | valid_balanced_accuracy: 0.80336 |  0:00:49s\n",
      "epoch 10 | loss: 0.43162 | valid_balanced_accuracy: 0.80349 |  0:00:54s\n",
      "epoch 11 | loss: 0.42883 | valid_balanced_accuracy: 0.80078 |  0:00:59s\n",
      "epoch 12 | loss: 0.42848 | valid_balanced_accuracy: 0.80204 |  0:01:04s\n",
      "epoch 13 | loss: 0.42859 | valid_balanced_accuracy: 0.80252 |  0:01:09s\n",
      "epoch 14 | loss: 0.42823 | valid_balanced_accuracy: 0.80236 |  0:01:14s\n",
      "epoch 15 | loss: 0.42735 | valid_balanced_accuracy: 0.8024  |  0:01:19s\n",
      "epoch 16 | loss: 0.42768 | valid_balanced_accuracy: 0.80359 |  0:01:24s\n",
      "epoch 17 | loss: 0.4288  | valid_balanced_accuracy: 0.80095 |  0:01:29s\n",
      "epoch 18 | loss: 0.42805 | valid_balanced_accuracy: 0.80034 |  0:01:34s\n",
      "epoch 19 | loss: 0.42772 | valid_balanced_accuracy: 0.80144 |  0:01:39s\n",
      "Stop training because you reached max_epochs = 20 with best_epoch = 16 and best_valid_balanced_accuracy = 0.80359\n"
     ]
    },
    {
     "name": "stderr",
     "output_type": "stream",
     "text": [
      "C:\\Users\\David\\AppData\\Roaming\\Python\\Python311\\site-packages\\pytorch_tabnet\\callbacks.py:172: UserWarning: Best weights from best epoch are automatically used!\n",
      "  warnings.warn(wrn_msg)\n",
      "[I 2024-04-28 23:31:13,417] Trial 3 finished with value: 0.8036366239530389 and parameters: {'lr': 0.01190609433541157, 'n_d': 26, 'n_a': 36}. Best is trial 0 with value: 0.8043524948099363.\n",
      "C:\\Users\\David\\AppData\\Roaming\\Python\\Python311\\site-packages\\pytorch_tabnet\\abstract_model.py:82: UserWarning: Device used : cpu\n",
      "  warnings.warn(f\"Device used : {self.device}\")\n"
     ]
    },
    {
     "name": "stdout",
     "output_type": "stream",
     "text": [
      "epoch 0  | loss: 0.54298 | valid_balanced_accuracy: 0.77838 |  0:00:04s\n",
      "epoch 1  | loss: 0.46182 | valid_balanced_accuracy: 0.78598 |  0:00:08s\n",
      "epoch 2  | loss: 0.44841 | valid_balanced_accuracy: 0.79829 |  0:00:12s\n",
      "epoch 3  | loss: 0.44071 | valid_balanced_accuracy: 0.80027 |  0:00:16s\n",
      "epoch 4  | loss: 0.43774 | valid_balanced_accuracy: 0.80109 |  0:00:20s\n",
      "epoch 5  | loss: 0.4355  | valid_balanced_accuracy: 0.8025  |  0:00:24s\n",
      "epoch 6  | loss: 0.43356 | valid_balanced_accuracy: 0.79903 |  0:00:30s\n",
      "epoch 7  | loss: 0.43336 | valid_balanced_accuracy: 0.80067 |  0:00:35s\n",
      "epoch 8  | loss: 0.4314  | valid_balanced_accuracy: 0.80165 |  0:00:39s\n",
      "epoch 9  | loss: 0.43105 | valid_balanced_accuracy: 0.80306 |  0:00:44s\n",
      "epoch 10 | loss: 0.42926 | valid_balanced_accuracy: 0.80337 |  0:00:48s\n",
      "epoch 11 | loss: 0.42875 | valid_balanced_accuracy: 0.7999  |  0:00:53s\n",
      "epoch 12 | loss: 0.42889 | valid_balanced_accuracy: 0.80249 |  0:00:57s\n",
      "epoch 13 | loss: 0.42941 | valid_balanced_accuracy: 0.79855 |  0:01:01s\n",
      "epoch 14 | loss: 0.42908 | valid_balanced_accuracy: 0.80122 |  0:01:05s\n",
      "epoch 15 | loss: 0.42798 | valid_balanced_accuracy: 0.80413 |  0:01:09s\n",
      "epoch 16 | loss: 0.42784 | valid_balanced_accuracy: 0.80219 |  0:01:13s\n",
      "epoch 17 | loss: 0.4277  | valid_balanced_accuracy: 0.80095 |  0:01:17s\n",
      "epoch 18 | loss: 0.42711 | valid_balanced_accuracy: 0.80179 |  0:01:22s\n",
      "epoch 19 | loss: 0.42813 | valid_balanced_accuracy: 0.80256 |  0:01:27s\n",
      "Stop training because you reached max_epochs = 20 with best_epoch = 15 and best_valid_balanced_accuracy = 0.80413\n"
     ]
    },
    {
     "name": "stderr",
     "output_type": "stream",
     "text": [
      "C:\\Users\\David\\AppData\\Roaming\\Python\\Python311\\site-packages\\pytorch_tabnet\\callbacks.py:172: UserWarning: Best weights from best epoch are automatically used!\n",
      "  warnings.warn(wrn_msg)\n",
      "[I 2024-04-28 23:32:43,672] Trial 4 finished with value: 0.8041377335528671 and parameters: {'lr': 0.01876332642944636, 'n_d': 10, 'n_a': 23}. Best is trial 0 with value: 0.8043524948099363.\n",
      "C:\\Users\\David\\AppData\\Roaming\\Python\\Python311\\site-packages\\pytorch_tabnet\\abstract_model.py:82: UserWarning: Device used : cpu\n",
      "  warnings.warn(f\"Device used : {self.device}\")\n"
     ]
    },
    {
     "name": "stdout",
     "output_type": "stream",
     "text": [
      "epoch 0  | loss: 0.51188 | valid_balanced_accuracy: 0.78246 |  0:00:04s\n",
      "epoch 1  | loss: 0.4518  | valid_balanced_accuracy: 0.79128 |  0:00:08s\n",
      "epoch 2  | loss: 0.44035 | valid_balanced_accuracy: 0.79968 |  0:00:13s\n",
      "epoch 3  | loss: 0.43646 | valid_balanced_accuracy: 0.79979 |  0:00:17s\n",
      "epoch 4  | loss: 0.43898 | valid_balanced_accuracy: 0.79753 |  0:00:22s\n",
      "epoch 5  | loss: 0.43862 | valid_balanced_accuracy: 0.80076 |  0:00:26s\n",
      "epoch 6  | loss: 0.43372 | valid_balanced_accuracy: 0.80216 |  0:00:31s\n",
      "epoch 7  | loss: 0.43155 | valid_balanced_accuracy: 0.8038  |  0:00:35s\n",
      "epoch 8  | loss: 0.43115 | valid_balanced_accuracy: 0.80255 |  0:00:40s\n",
      "epoch 9  | loss: 0.42916 | valid_balanced_accuracy: 0.80373 |  0:00:44s\n",
      "epoch 10 | loss: 0.42784 | valid_balanced_accuracy: 0.8025  |  0:00:49s\n",
      "epoch 11 | loss: 0.42696 | valid_balanced_accuracy: 0.80332 |  0:00:53s\n",
      "epoch 12 | loss: 0.42643 | valid_balanced_accuracy: 0.80351 |  0:00:58s\n",
      "epoch 13 | loss: 0.42783 | valid_balanced_accuracy: 0.80415 |  0:01:02s\n",
      "epoch 14 | loss: 0.42691 | valid_balanced_accuracy: 0.80223 |  0:01:07s\n",
      "epoch 15 | loss: 0.42726 | valid_balanced_accuracy: 0.80245 |  0:01:11s\n",
      "epoch 16 | loss: 0.42655 | valid_balanced_accuracy: 0.80247 |  0:01:15s\n",
      "epoch 17 | loss: 0.42868 | valid_balanced_accuracy: 0.80205 |  0:01:20s\n",
      "epoch 18 | loss: 0.42913 | valid_balanced_accuracy: 0.8046  |  0:01:24s\n",
      "epoch 19 | loss: 0.42772 | valid_balanced_accuracy: 0.80281 |  0:01:29s\n",
      "Stop training because you reached max_epochs = 20 with best_epoch = 18 and best_valid_balanced_accuracy = 0.8046\n"
     ]
    },
    {
     "name": "stderr",
     "output_type": "stream",
     "text": [
      "C:\\Users\\David\\AppData\\Roaming\\Python\\Python311\\site-packages\\pytorch_tabnet\\callbacks.py:172: UserWarning: Best weights from best epoch are automatically used!\n",
      "  warnings.warn(wrn_msg)\n",
      "[I 2024-04-28 23:34:14,981] Trial 5 finished with value: 0.8046388431526953 and parameters: {'lr': 0.019220626777338705, 'n_d': 8, 'n_a': 38}. Best is trial 5 with value: 0.8046388431526953.\n",
      "C:\\Users\\David\\AppData\\Roaming\\Python\\Python311\\site-packages\\pytorch_tabnet\\abstract_model.py:82: UserWarning: Device used : cpu\n",
      "  warnings.warn(f\"Device used : {self.device}\")\n"
     ]
    },
    {
     "name": "stdout",
     "output_type": "stream",
     "text": [
      "epoch 0  | loss: 0.53388 | valid_balanced_accuracy: 0.76091 |  0:00:05s\n",
      "epoch 1  | loss: 0.45942 | valid_balanced_accuracy: 0.78458 |  0:00:11s\n",
      "epoch 2  | loss: 0.45084 | valid_balanced_accuracy: 0.79548 |  0:00:16s\n",
      "epoch 3  | loss: 0.44598 | valid_balanced_accuracy: 0.79684 |  0:00:22s\n",
      "epoch 4  | loss: 0.44054 | valid_balanced_accuracy: 0.79818 |  0:00:28s\n",
      "epoch 5  | loss: 0.44337 | valid_balanced_accuracy: 0.80101 |  0:00:35s\n",
      "epoch 6  | loss: 0.43643 | valid_balanced_accuracy: 0.79862 |  0:00:42s\n",
      "epoch 7  | loss: 0.43585 | valid_balanced_accuracy: 0.7985  |  0:00:48s\n",
      "epoch 8  | loss: 0.43421 | valid_balanced_accuracy: 0.80303 |  0:00:54s\n",
      "epoch 9  | loss: 0.4344  | valid_balanced_accuracy: 0.80143 |  0:00:59s\n",
      "epoch 10 | loss: 0.43268 | valid_balanced_accuracy: 0.80101 |  0:01:05s\n",
      "epoch 11 | loss: 0.43422 | valid_balanced_accuracy: 0.79482 |  0:01:11s\n",
      "epoch 12 | loss: 0.4332  | valid_balanced_accuracy: 0.80236 |  0:01:17s\n",
      "epoch 13 | loss: 0.43405 | valid_balanced_accuracy: 0.79952 |  0:01:23s\n",
      "epoch 14 | loss: 0.43178 | valid_balanced_accuracy: 0.80161 |  0:01:30s\n",
      "epoch 15 | loss: 0.43204 | valid_balanced_accuracy: 0.79821 |  0:01:36s\n",
      "epoch 16 | loss: 0.43351 | valid_balanced_accuracy: 0.79986 |  0:01:41s\n",
      "epoch 17 | loss: 0.43077 | valid_balanced_accuracy: 0.80195 |  0:01:47s\n",
      "epoch 18 | loss: 0.43275 | valid_balanced_accuracy: 0.80297 |  0:01:53s\n",
      "epoch 19 | loss: 0.42919 | valid_balanced_accuracy: 0.80174 |  0:01:58s\n",
      "Stop training because you reached max_epochs = 20 with best_epoch = 8 and best_valid_balanced_accuracy = 0.80303\n"
     ]
    },
    {
     "name": "stderr",
     "output_type": "stream",
     "text": [
      "C:\\Users\\David\\AppData\\Roaming\\Python\\Python311\\site-packages\\pytorch_tabnet\\callbacks.py:172: UserWarning: Best weights from best epoch are automatically used!\n",
      "  warnings.warn(wrn_msg)\n",
      "[I 2024-04-28 23:36:16,614] Trial 6 finished with value: 0.8032071014389004 and parameters: {'lr': 0.0198000182526856, 'n_d': 46, 'n_a': 44}. Best is trial 5 with value: 0.8046388431526953.\n",
      "C:\\Users\\David\\AppData\\Roaming\\Python\\Python311\\site-packages\\pytorch_tabnet\\abstract_model.py:82: UserWarning: Device used : cpu\n",
      "  warnings.warn(f\"Device used : {self.device}\")\n"
     ]
    },
    {
     "name": "stdout",
     "output_type": "stream",
     "text": [
      "epoch 0  | loss: 0.56362 | valid_balanced_accuracy: 0.76422 |  0:00:06s\n",
      "epoch 1  | loss: 0.48435 | valid_balanced_accuracy: 0.78203 |  0:00:12s\n",
      "epoch 2  | loss: 0.46582 | valid_balanced_accuracy: 0.78829 |  0:00:18s\n",
      "epoch 3  | loss: 0.45326 | valid_balanced_accuracy: 0.79182 |  0:00:26s\n",
      "epoch 4  | loss: 0.44897 | valid_balanced_accuracy: 0.79133 |  0:00:33s\n",
      "epoch 5  | loss: 0.44352 | valid_balanced_accuracy: 0.79394 |  0:00:41s\n",
      "epoch 6  | loss: 0.44349 | valid_balanced_accuracy: 0.79372 |  0:00:50s\n",
      "epoch 7  | loss: 0.4403  | valid_balanced_accuracy: 0.7935  |  0:00:58s\n",
      "epoch 8  | loss: 0.43883 | valid_balanced_accuracy: 0.79701 |  0:01:04s\n",
      "epoch 9  | loss: 0.43632 | valid_balanced_accuracy: 0.79848 |  0:01:11s\n",
      "epoch 10 | loss: 0.43563 | valid_balanced_accuracy: 0.79806 |  0:01:17s\n",
      "epoch 11 | loss: 0.43515 | valid_balanced_accuracy: 0.79753 |  0:01:22s\n",
      "epoch 12 | loss: 0.43323 | valid_balanced_accuracy: 0.79927 |  0:01:28s\n",
      "epoch 13 | loss: 0.43369 | valid_balanced_accuracy: 0.79462 |  0:01:34s\n",
      "epoch 14 | loss: 0.435   | valid_balanced_accuracy: 0.7953  |  0:01:40s\n",
      "epoch 15 | loss: 0.4338  | valid_balanced_accuracy: 0.80063 |  0:01:46s\n",
      "epoch 16 | loss: 0.43254 | valid_balanced_accuracy: 0.7995  |  0:01:52s\n",
      "epoch 17 | loss: 0.43134 | valid_balanced_accuracy: 0.79929 |  0:01:58s\n",
      "epoch 18 | loss: 0.43036 | valid_balanced_accuracy: 0.801   |  0:02:04s\n",
      "epoch 19 | loss: 0.42859 | valid_balanced_accuracy: 0.80129 |  0:02:10s\n",
      "Stop training because you reached max_epochs = 20 with best_epoch = 19 and best_valid_balanced_accuracy = 0.80129\n"
     ]
    },
    {
     "name": "stderr",
     "output_type": "stream",
     "text": [
      "C:\\Users\\David\\AppData\\Roaming\\Python\\Python311\\site-packages\\pytorch_tabnet\\callbacks.py:172: UserWarning: Best weights from best epoch are automatically used!\n",
      "  warnings.warn(wrn_msg)\n",
      "[I 2024-04-28 23:38:29,562] Trial 7 finished with value: 0.8012742501252774 and parameters: {'lr': 0.0045307945007518075, 'n_d': 45, 'n_a': 58}. Best is trial 5 with value: 0.8046388431526953.\n",
      "C:\\Users\\David\\AppData\\Roaming\\Python\\Python311\\site-packages\\pytorch_tabnet\\abstract_model.py:82: UserWarning: Device used : cpu\n",
      "  warnings.warn(f\"Device used : {self.device}\")\n"
     ]
    },
    {
     "name": "stdout",
     "output_type": "stream",
     "text": [
      "epoch 0  | loss: 0.51748 | valid_balanced_accuracy: 0.75281 |  0:00:04s\n",
      "epoch 1  | loss: 0.46093 | valid_balanced_accuracy: 0.77626 |  0:00:09s\n",
      "epoch 2  | loss: 0.44616 | valid_balanced_accuracy: 0.78848 |  0:00:14s\n",
      "epoch 3  | loss: 0.44389 | valid_balanced_accuracy: 0.79706 |  0:00:19s\n",
      "epoch 4  | loss: 0.43912 | valid_balanced_accuracy: 0.80037 |  0:00:24s\n",
      "epoch 5  | loss: 0.43757 | valid_balanced_accuracy: 0.79952 |  0:00:29s\n",
      "epoch 6  | loss: 0.43671 | valid_balanced_accuracy: 0.80111 |  0:00:34s\n",
      "epoch 7  | loss: 0.43654 | valid_balanced_accuracy: 0.80308 |  0:00:38s\n",
      "epoch 8  | loss: 0.43593 | valid_balanced_accuracy: 0.80196 |  0:00:43s\n",
      "epoch 9  | loss: 0.43399 | valid_balanced_accuracy: 0.80194 |  0:00:48s\n",
      "epoch 10 | loss: 0.43383 | valid_balanced_accuracy: 0.80281 |  0:00:54s\n",
      "epoch 11 | loss: 0.43282 | valid_balanced_accuracy: 0.80099 |  0:00:59s\n",
      "epoch 12 | loss: 0.43323 | valid_balanced_accuracy: 0.80391 |  0:01:04s\n",
      "epoch 13 | loss: 0.43295 | valid_balanced_accuracy: 0.80152 |  0:01:09s\n",
      "epoch 14 | loss: 0.43075 | valid_balanced_accuracy: 0.80053 |  0:01:14s\n",
      "epoch 15 | loss: 0.43417 | valid_balanced_accuracy: 0.80107 |  0:01:19s\n",
      "epoch 16 | loss: 0.43414 | valid_balanced_accuracy: 0.80234 |  0:01:24s\n",
      "epoch 17 | loss: 0.43121 | valid_balanced_accuracy: 0.80428 |  0:01:29s\n",
      "epoch 18 | loss: 0.43265 | valid_balanced_accuracy: 0.80078 |  0:01:33s\n",
      "epoch 19 | loss: 0.43122 | valid_balanced_accuracy: 0.80201 |  0:01:38s\n",
      "Stop training because you reached max_epochs = 20 with best_epoch = 17 and best_valid_balanced_accuracy = 0.80428\n"
     ]
    },
    {
     "name": "stderr",
     "output_type": "stream",
     "text": [
      "C:\\Users\\David\\AppData\\Roaming\\Python\\Python311\\site-packages\\pytorch_tabnet\\callbacks.py:172: UserWarning: Best weights from best epoch are automatically used!\n",
      "  warnings.warn(wrn_msg)\n",
      "[I 2024-04-28 23:40:10,640] Trial 8 finished with value: 0.8042809077242465 and parameters: {'lr': 0.009397502605186136, 'n_d': 10, 'n_a': 49}. Best is trial 5 with value: 0.8046388431526953.\n",
      "C:\\Users\\David\\AppData\\Roaming\\Python\\Python311\\site-packages\\pytorch_tabnet\\abstract_model.py:82: UserWarning: Device used : cpu\n",
      "  warnings.warn(f\"Device used : {self.device}\")\n"
     ]
    },
    {
     "name": "stdout",
     "output_type": "stream",
     "text": [
      "epoch 0  | loss: 0.57959 | valid_balanced_accuracy: 0.74463 |  0:00:04s\n",
      "epoch 1  | loss: 0.49396 | valid_balanced_accuracy: 0.76496 |  0:00:09s\n",
      "epoch 2  | loss: 0.47826 | valid_balanced_accuracy: 0.77469 |  0:00:14s\n",
      "epoch 3  | loss: 0.4692  | valid_balanced_accuracy: 0.78036 |  0:00:19s\n",
      "epoch 4  | loss: 0.46116 | valid_balanced_accuracy: 0.78821 |  0:00:24s\n",
      "epoch 5  | loss: 0.45947 | valid_balanced_accuracy: 0.78766 |  0:00:29s\n",
      "epoch 6  | loss: 0.4541  | valid_balanced_accuracy: 0.78953 |  0:00:34s\n",
      "epoch 7  | loss: 0.45291 | valid_balanced_accuracy: 0.78984 |  0:00:39s\n",
      "epoch 8  | loss: 0.4493  | valid_balanced_accuracy: 0.79112 |  0:00:44s\n",
      "epoch 9  | loss: 0.44466 | valid_balanced_accuracy: 0.79526 |  0:00:49s\n",
      "epoch 10 | loss: 0.44563 | valid_balanced_accuracy: 0.79453 |  0:00:54s\n",
      "epoch 11 | loss: 0.44181 | valid_balanced_accuracy: 0.79599 |  0:00:59s\n",
      "epoch 12 | loss: 0.44017 | valid_balanced_accuracy: 0.79744 |  0:01:04s\n",
      "epoch 13 | loss: 0.43929 | valid_balanced_accuracy: 0.79827 |  0:01:09s\n",
      "epoch 14 | loss: 0.43702 | valid_balanced_accuracy: 0.79913 |  0:01:14s\n",
      "epoch 15 | loss: 0.43552 | valid_balanced_accuracy: 0.80021 |  0:01:19s\n",
      "epoch 16 | loss: 0.43553 | valid_balanced_accuracy: 0.80054 |  0:01:25s\n",
      "epoch 17 | loss: 0.43304 | valid_balanced_accuracy: 0.79876 |  0:01:30s\n",
      "epoch 18 | loss: 0.4342  | valid_balanced_accuracy: 0.79878 |  0:01:36s\n",
      "epoch 19 | loss: 0.43131 | valid_balanced_accuracy: 0.8002  |  0:01:41s\n",
      "Stop training because you reached max_epochs = 20 with best_epoch = 16 and best_valid_balanced_accuracy = 0.80054\n"
     ]
    },
    {
     "name": "stderr",
     "output_type": "stream",
     "text": [
      "C:\\Users\\David\\AppData\\Roaming\\Python\\Python311\\site-packages\\pytorch_tabnet\\callbacks.py:172: UserWarning: Best weights from best epoch are automatically used!\n",
      "  warnings.warn(wrn_msg)\n",
      "[I 2024-04-28 23:41:54,634] Trial 9 finished with value: 0.80055837926838 and parameters: {'lr': 0.002471758241197449, 'n_d': 48, 'n_a': 14}. Best is trial 5 with value: 0.8046388431526953.\n"
     ]
    }
   ],
   "source": [
    "def objective(trial):\n",
    "    # Hyperparameters to be tuned\n",
    "    params = {\n",
    "        'optimizer_params': {'lr': trial.suggest_float('lr', 1e-3, 1e-1, log=True)},\n",
    "        'n_d': trial.suggest_int('n_d', 8, 64),\n",
    "        'n_a': trial.suggest_int('n_a', 8, 64)\n",
    "    }\n",
    "\n",
    "    # Initialize TabNetClassifier with suggested parameters\n",
    "    model = TabNetClassifier(optimizer_fn=torch.optim.Adam,\n",
    "                             optimizer_params=params['optimizer_params'],\n",
    "                             n_d=params['n_d'],\n",
    "                             n_a=params['n_a'],\n",
    "                             device_name='cuda' if torch.cuda.is_available() else 'cpu')\n",
    "\n",
    "    # Fit the model with training-related parameters being set here\n",
    "    model.fit(\n",
    "        X_train, y_train,\n",
    "        eval_set=[(X_test, y_test)],\n",
    "        eval_name=['valid'],\n",
    "        eval_metric=['balanced_accuracy'],\n",
    "        max_epochs=20,\n",
    "        patience=20,\n",
    "        batch_size=1024,\n",
    "        virtual_batch_size=128,\n",
    "        num_workers=0,\n",
    "        drop_last=False\n",
    "    )\n",
    "\n",
    "    # Evaluate the model\n",
    "    y_pred = model.predict(X_test)\n",
    "    accuracy = accuracy_score(y_test, y_pred)\n",
    "    return accuracy\n",
    "\n",
    "# Create a study object and optimize the objective\n",
    "study = optuna.create_study(direction='maximize')\n",
    "study.optimize(objective, n_trials=10)  # Initially I set at 20 but it was taking too long"
   ]
  },
  {
   "cell_type": "code",
   "execution_count": 362,
   "metadata": {},
   "outputs": [
    {
     "name": "stdout",
     "output_type": "stream",
     "text": [
      "Best trial: {'lr': 0.019220626777338705, 'n_d': 8, 'n_a': 38}\n"
     ]
    }
   ],
   "source": [
    "# Print the best parameters\n",
    "print('Best trial:', study.best_trial.params)"
   ]
  },
  {
   "cell_type": "code",
   "execution_count": 363,
   "metadata": {
    "colab": {
     "base_uri": "https://localhost:8080/",
     "height": 321
    },
    "id": "uP1Xw62Nt6Vp",
    "outputId": "8e111e53-75e6-42d9-f094-fce50030cea6"
   },
   "outputs": [
    {
     "name": "stderr",
     "output_type": "stream",
     "text": [
      "C:\\Users\\David\\AppData\\Roaming\\Python\\Python311\\site-packages\\pytorch_tabnet\\abstract_model.py:82: UserWarning: Device used : cpu\n",
      "  warnings.warn(f\"Device used : {self.device}\")\n"
     ]
    },
    {
     "name": "stdout",
     "output_type": "stream",
     "text": [
      "epoch 0  | loss: 0.51188 | valid_balanced_accuracy: 0.78246 |  0:00:04s\n",
      "epoch 1  | loss: 0.4518  | valid_balanced_accuracy: 0.79128 |  0:00:10s\n",
      "epoch 2  | loss: 0.44035 | valid_balanced_accuracy: 0.79968 |  0:00:15s\n",
      "epoch 3  | loss: 0.43646 | valid_balanced_accuracy: 0.79979 |  0:00:21s\n",
      "epoch 4  | loss: 0.43898 | valid_balanced_accuracy: 0.79753 |  0:00:26s\n",
      "epoch 5  | loss: 0.43862 | valid_balanced_accuracy: 0.80076 |  0:00:31s\n",
      "epoch 6  | loss: 0.43372 | valid_balanced_accuracy: 0.80216 |  0:00:35s\n",
      "epoch 7  | loss: 0.43155 | valid_balanced_accuracy: 0.8038  |  0:00:40s\n",
      "epoch 8  | loss: 0.43115 | valid_balanced_accuracy: 0.80255 |  0:00:45s\n",
      "epoch 9  | loss: 0.42916 | valid_balanced_accuracy: 0.80373 |  0:00:49s\n",
      "epoch 10 | loss: 0.42784 | valid_balanced_accuracy: 0.8025  |  0:00:54s\n",
      "epoch 11 | loss: 0.42696 | valid_balanced_accuracy: 0.80332 |  0:00:58s\n",
      "epoch 12 | loss: 0.42643 | valid_balanced_accuracy: 0.80351 |  0:01:03s\n",
      "epoch 13 | loss: 0.42783 | valid_balanced_accuracy: 0.80415 |  0:01:08s\n",
      "epoch 14 | loss: 0.42691 | valid_balanced_accuracy: 0.80223 |  0:01:12s\n",
      "epoch 15 | loss: 0.42726 | valid_balanced_accuracy: 0.80245 |  0:01:17s\n",
      "epoch 16 | loss: 0.42655 | valid_balanced_accuracy: 0.80247 |  0:01:22s\n",
      "epoch 17 | loss: 0.42868 | valid_balanced_accuracy: 0.80205 |  0:01:27s\n",
      "epoch 18 | loss: 0.42913 | valid_balanced_accuracy: 0.8046  |  0:01:32s\n",
      "epoch 19 | loss: 0.42772 | valid_balanced_accuracy: 0.80281 |  0:01:37s\n",
      "Stop training because you reached max_epochs = 20 with best_epoch = 18 and best_valid_balanced_accuracy = 0.8046\n"
     ]
    },
    {
     "name": "stderr",
     "output_type": "stream",
     "text": [
      "C:\\Users\\David\\AppData\\Roaming\\Python\\Python311\\site-packages\\pytorch_tabnet\\callbacks.py:172: UserWarning: Best weights from best epoch are automatically used!\n",
      "  warnings.warn(wrn_msg)\n"
     ]
    }
   ],
   "source": [
    "# Best parameters found from the Optuna study\n",
    "best_params = study.best_trial.params\n",
    "\n",
    "# Create a new model instance with the best parameters\n",
    "best_tab_model = TabNetClassifier(\n",
    "    optimizer_fn=torch.optim.Adam,\n",
    "    optimizer_params={'lr': best_params['lr']},\n",
    "    n_d=best_params['n_d'],\n",
    "    n_a=best_params['n_a'],\n",
    ")\n",
    "\n",
    "# Fit the model\n",
    "best_tab_model.fit(\n",
    "    X_train, y_train,\n",
    "    eval_set=[(X_test, y_test)],\n",
    "    eval_name=['valid'],\n",
    "    eval_metric=['balanced_accuracy'],\n",
    "    max_epochs=20,\n",
    "    patience=20,\n",
    "    batch_size=1024,\n",
    "    virtual_batch_size=128,\n",
    "    num_workers=0,\n",
    "    drop_last=False\n",
    ")\n"
   ]
  },
  {
   "cell_type": "code",
   "execution_count": 364,
   "metadata": {
    "colab": {
     "base_uri": "https://localhost:8080/"
    },
    "id": "RUEBROmst_lc",
    "outputId": "d0f20bd9-bc02-468b-940f-01af5bc71422"
   },
   "outputs": [
    {
     "name": "stdout",
     "output_type": "stream",
     "text": [
      "              precision    recall  f1-score   support\n",
      "\n",
      "           0       0.80      0.81      0.81      7013\n",
      "           1       0.81      0.79      0.80      6956\n",
      "\n",
      "    accuracy                           0.80     13969\n",
      "   macro avg       0.80      0.80      0.80     13969\n",
      "weighted avg       0.80      0.80      0.80     13969\n",
      "\n"
     ]
    }
   ],
   "source": [
    "# Classification Report\n",
    "y_prob = best_tab_model.predict(X_test)\n",
    "\n",
    "# Convert probabilities to binary labels\n",
    "y_pred = (y_prob > 0.5).astype('int32')\n",
    "\n",
    "# Now generate the classification report\n",
    "print(classification_report(y_test, y_pred))"
   ]
  },
  {
   "cell_type": "code",
   "execution_count": 365,
   "metadata": {},
   "outputs": [],
   "source": [
    "# Kaggle Output\n",
    "\n",
    "kaggle_tabnet_df = preprocessing('test.csv')\n",
    "# Standard Scaler\n",
    "scaler = MinMaxScaler()\n",
    "kaggle_tabnet_df = pd.DataFrame(scaler.fit_transform(kaggle_tabnet_df), columns=kaggle_tabnet_df.columns)\n",
    "kaggle_tabnet_df = preprocessor.fit_transform(kaggle_tabnet_df)\n",
    "\n",
    "# Making Predictions\n",
    "tabnet_output = best_tab_model.predict(kaggle_tabnet_df)"
   ]
  },
  {
   "cell_type": "code",
   "execution_count": 366,
   "metadata": {},
   "outputs": [],
   "source": [
    "tabnet_output_df = pd.read_csv(('test.csv'))\n",
    "tabnet_output_df = tabnet_output_df[['id']]\n",
    "tabnet_output_df['Exited'] = tabnet_output\n",
    "tabnet_output_df.to_csv('tabnet_tuned.csv', index = False)"
   ]
  },
  {
   "cell_type": "code",
   "execution_count": 367,
   "metadata": {},
   "outputs": [
    {
     "data": {
      "text/plain": [
       "(110023, 40631)"
      ]
     },
     "execution_count": 367,
     "metadata": {},
     "output_type": "execute_result"
    }
   ],
   "source": [
    "len(tabnet_output), sum(tabnet_output)"
   ]
  },
  {
   "cell_type": "markdown",
   "metadata": {
    "id": "pQZk9j6tpkiP"
   },
   "source": [
    "#### Optuna Hyperparameter Optimization Framework\n",
    "\n",
    "Optuna is a modern optimization framework designed to automate and enhance the process of finding the best hyperparameters for machine learning models.\n",
    "\n",
    "The parameters being tuned here ('optimizer_params', 'n_d', and 'n_a') are typical of advanced models that require careful optimization to balance performance and training efficiency. Here's a breakdown of each:\n",
    "optimizer_params\n",
    "\n",
    "'optimizer_params': This dictionary includes parameters that will be passed to the model's optimizer. In this case, it includes 'lr', which stands for learning rate.\n",
    "'lr': The learning rate controls how much the model's weights are updated during training in response to the estimated error. A higher learning rate might converge quickly but can overshoot, while a lower learning rate might converge more slowly but can achieve finer convergence. The function trial.suggest_float('lr', 1e-3, 1e-1, log=True) suggests a learning rate between 0.001 and 0.1 on a logarithmic scale. Using a logarithmic scale helps in exploring a range of orders of magnitude in a balanced way, allowing both very small and relatively larger learning rates to be tested effectively.\n",
    "\n",
    "n_d and n_a\n",
    "\n",
    "'n_d' and 'n_a': These parameters are specific to certain types of models, such as TabNet, a type of neural network that is structured around decision trees and uses attention mechanisms to decide which features to focus on. In TabNet:\n",
    "'n_d' (Decision Dimension): This parameter controls the capacity of the decision prediction layers, effectively how complex the transformations are within the model. It represents the size of the hidden layers that are specific to making the decision in each decision step.\n",
    "'n_a' (Attention Dimension): Similar to 'n_d', this parameter controls the capacity, but specifically of the attention mechanism. It dictates the size of the hidden layers used in the attention transformer of the model.\n",
    "\n",
    "Purpose of Tuning n_d and n_a\n",
    "\n",
    "Capacity Control: Both 'n_d' and 'n_a' are crucial for controlling the model's capacity. Higher values mean that the model can potentially capture more complex patterns, but at the cost of increased computational resources and the risk of overfitting. Lower values make the model less resource-intensive and might prevent overfitting but at the potential cost of underfitting.\n",
    "Balancing Act: Finding the right values for these parameters involves balancing the model's ability to generalize well to new data against its expressiveness. The search range (8 to 64) suggests a moderate level of complexity being tested, suitable for a range of datasets.\n",
    "\n",
    "By using Optuna to tune these parameters, the objective function seeks to find the optimal configuration of learning rate, decision dimension, and attention dimension that results in the best model performance, usually evaluated on a validation set during each trial.\n",
    "\n",
    "1. Study Creation\n",
    "Study: A container for an optimization task, including trials and a database.\n",
    "Trial: Represents a single set of hyperparameters tested during optimization.\n",
    "\n",
    "2. Objective Function\n",
    "Defined by the user to include model training and evaluation.\n",
    "Returns a performance metric to guide the optimization.\n",
    "\n",
    "3. Hyperparameter Suggestion\n",
    "Parameter Space: Defined ranges, distributions, or categories for each hyperparameter.\n",
    "Sampling: Uses algorithms like TPE, random sampling, or CMAES to suggest hyperparameters based on past trial results.\n",
    "\n",
    "4. Optimization Process\n",
    "Running Trials: Multiple trials are conducted to evaluate different hyperparameters.\n",
    "Pruning: Stops unpromising trials early to save resources.\n",
    "\n",
    "5. Results Analysis\n",
    "Best Parameters: After trials, reports the bestfound hyperparameters.\n",
    "History Analysis: Provides tools to analyze the trials' outcomes and the influence of hyperparameters on performance."
   ]
  },
  {
   "cell_type": "markdown",
   "metadata": {
    "colab": {
     "base_uri": "https://localhost:8080/",
     "height": 437
    },
    "id": "3KNIJT10ptfp",
    "outputId": "94fedc50-cf08-4339-882e-9379bae9165f"
   },
   "source": [
    "It looks like the tuned TabNet did not perform significantly better. There are way too many parameters to tune for a project this scale. Let's try DeepTables which automates many steps in the data processing and model selection pipeline, including categorical feature encoding, missing value imputation, and complex feature interactions.\n",
    "\n",
    "### DeepTables"
   ]
  },
  {
   "cell_type": "code",
   "execution_count": 291,
   "metadata": {},
   "outputs": [],
   "source": [
    "from deeptables.models.deeptable import DeepTable, ModelConfig\n",
    "from deeptables.datasets import dsutils\n",
    "from deeptables.models.deepnets import DeepFM, xDeepFM, DCN, PNN, WideDeep, AutoInt, AFM, FGCNN\n",
    "from sklearn.utils import class_weight"
   ]
  },
  {
   "cell_type": "code",
   "execution_count": 324,
   "metadata": {},
   "outputs": [
    {
     "data": {
      "text/html": [
       "<div>\n",
       "<style scoped>\n",
       "    .dataframe tbody tr th:only-of-type {\n",
       "        vertical-align: middle;\n",
       "    }\n",
       "\n",
       "    .dataframe tbody tr th {\n",
       "        vertical-align: top;\n",
       "    }\n",
       "\n",
       "    .dataframe thead th {\n",
       "        text-align: right;\n",
       "    }\n",
       "</style>\n",
       "<table border=\"1\" class=\"dataframe\">\n",
       "  <thead>\n",
       "    <tr style=\"text-align: right;\">\n",
       "      <th></th>\n",
       "      <th>CreditScore</th>\n",
       "      <th>Geography</th>\n",
       "      <th>Gender</th>\n",
       "      <th>Age</th>\n",
       "      <th>Tenure</th>\n",
       "      <th>Balance</th>\n",
       "      <th>NumOfProducts</th>\n",
       "      <th>HasCrCard</th>\n",
       "      <th>IsActiveMember</th>\n",
       "      <th>EstimatedSalary</th>\n",
       "      <th>2_Products</th>\n",
       "    </tr>\n",
       "  </thead>\n",
       "  <tbody>\n",
       "    <tr>\n",
       "      <th>33042</th>\n",
       "      <td>798.0</td>\n",
       "      <td>1</td>\n",
       "      <td>0</td>\n",
       "      <td>31.0</td>\n",
       "      <td>8.0</td>\n",
       "      <td>102075.88</td>\n",
       "      <td>1.0</td>\n",
       "      <td>1</td>\n",
       "      <td>0</td>\n",
       "      <td>79577.48</td>\n",
       "      <td>0</td>\n",
       "    </tr>\n",
       "    <tr>\n",
       "      <th>36330</th>\n",
       "      <td>629.0</td>\n",
       "      <td>1</td>\n",
       "      <td>1</td>\n",
       "      <td>26.0</td>\n",
       "      <td>6.0</td>\n",
       "      <td>0.00</td>\n",
       "      <td>2.0</td>\n",
       "      <td>1</td>\n",
       "      <td>0</td>\n",
       "      <td>38190.78</td>\n",
       "      <td>1</td>\n",
       "    </tr>\n",
       "    <tr>\n",
       "      <th>59446</th>\n",
       "      <td>565.0</td>\n",
       "      <td>1</td>\n",
       "      <td>1</td>\n",
       "      <td>39.0</td>\n",
       "      <td>7.0</td>\n",
       "      <td>115163.32</td>\n",
       "      <td>3.0</td>\n",
       "      <td>1</td>\n",
       "      <td>0</td>\n",
       "      <td>69052.63</td>\n",
       "      <td>0</td>\n",
       "    </tr>\n",
       "    <tr>\n",
       "      <th>92278</th>\n",
       "      <td>653.0</td>\n",
       "      <td>2</td>\n",
       "      <td>1</td>\n",
       "      <td>55.0</td>\n",
       "      <td>2.0</td>\n",
       "      <td>70263.83</td>\n",
       "      <td>1.0</td>\n",
       "      <td>0</td>\n",
       "      <td>0</td>\n",
       "      <td>62347.71</td>\n",
       "      <td>0</td>\n",
       "    </tr>\n",
       "    <tr>\n",
       "      <th>146750</th>\n",
       "      <td>557.0</td>\n",
       "      <td>1</td>\n",
       "      <td>0</td>\n",
       "      <td>31.0</td>\n",
       "      <td>6.0</td>\n",
       "      <td>106596.29</td>\n",
       "      <td>1.0</td>\n",
       "      <td>1</td>\n",
       "      <td>0</td>\n",
       "      <td>91305.77</td>\n",
       "      <td>0</td>\n",
       "    </tr>\n",
       "    <tr>\n",
       "      <th>...</th>\n",
       "      <td>...</td>\n",
       "      <td>...</td>\n",
       "      <td>...</td>\n",
       "      <td>...</td>\n",
       "      <td>...</td>\n",
       "      <td>...</td>\n",
       "      <td>...</td>\n",
       "      <td>...</td>\n",
       "      <td>...</td>\n",
       "      <td>...</td>\n",
       "      <td>...</td>\n",
       "    </tr>\n",
       "    <tr>\n",
       "      <th>32661</th>\n",
       "      <td>719.0</td>\n",
       "      <td>1</td>\n",
       "      <td>0</td>\n",
       "      <td>27.0</td>\n",
       "      <td>2.0</td>\n",
       "      <td>0.00</td>\n",
       "      <td>2.0</td>\n",
       "      <td>1</td>\n",
       "      <td>1</td>\n",
       "      <td>74800.99</td>\n",
       "      <td>1</td>\n",
       "    </tr>\n",
       "    <tr>\n",
       "      <th>117592</th>\n",
       "      <td>773.0</td>\n",
       "      <td>1</td>\n",
       "      <td>0</td>\n",
       "      <td>32.0</td>\n",
       "      <td>4.0</td>\n",
       "      <td>0.00</td>\n",
       "      <td>1.0</td>\n",
       "      <td>1</td>\n",
       "      <td>0</td>\n",
       "      <td>93983.12</td>\n",
       "      <td>0</td>\n",
       "    </tr>\n",
       "    <tr>\n",
       "      <th>2194</th>\n",
       "      <td>767.0</td>\n",
       "      <td>3</td>\n",
       "      <td>0</td>\n",
       "      <td>35.0</td>\n",
       "      <td>7.0</td>\n",
       "      <td>132253.22</td>\n",
       "      <td>1.0</td>\n",
       "      <td>1</td>\n",
       "      <td>0</td>\n",
       "      <td>115566.57</td>\n",
       "      <td>0</td>\n",
       "    </tr>\n",
       "    <tr>\n",
       "      <th>141678</th>\n",
       "      <td>653.0</td>\n",
       "      <td>1</td>\n",
       "      <td>0</td>\n",
       "      <td>33.0</td>\n",
       "      <td>9.0</td>\n",
       "      <td>0.00</td>\n",
       "      <td>2.0</td>\n",
       "      <td>1</td>\n",
       "      <td>1</td>\n",
       "      <td>124489.88</td>\n",
       "      <td>1</td>\n",
       "    </tr>\n",
       "    <tr>\n",
       "      <th>20040</th>\n",
       "      <td>586.0</td>\n",
       "      <td>2</td>\n",
       "      <td>0</td>\n",
       "      <td>43.0</td>\n",
       "      <td>5.0</td>\n",
       "      <td>0.00</td>\n",
       "      <td>2.0</td>\n",
       "      <td>1</td>\n",
       "      <td>1</td>\n",
       "      <td>79270.02</td>\n",
       "      <td>1</td>\n",
       "    </tr>\n",
       "  </tbody>\n",
       "</table>\n",
       "<p>33007 rows × 11 columns</p>\n",
       "</div>"
      ],
      "text/plain": [
       "        CreditScore  Geography  Gender   Age  Tenure    Balance  \\\n",
       "33042         798.0          1       0  31.0     8.0  102075.88   \n",
       "36330         629.0          1       1  26.0     6.0       0.00   \n",
       "59446         565.0          1       1  39.0     7.0  115163.32   \n",
       "92278         653.0          2       1  55.0     2.0   70263.83   \n",
       "146750        557.0          1       0  31.0     6.0  106596.29   \n",
       "...             ...        ...     ...   ...     ...        ...   \n",
       "32661         719.0          1       0  27.0     2.0       0.00   \n",
       "117592        773.0          1       0  32.0     4.0       0.00   \n",
       "2194          767.0          3       0  35.0     7.0  132253.22   \n",
       "141678        653.0          1       0  33.0     9.0       0.00   \n",
       "20040         586.0          2       0  43.0     5.0       0.00   \n",
       "\n",
       "        NumOfProducts  HasCrCard  IsActiveMember  EstimatedSalary  2_Products  \n",
       "33042             1.0          1               0         79577.48           0  \n",
       "36330             2.0          1               0         38190.78           1  \n",
       "59446             3.0          1               0         69052.63           0  \n",
       "92278             1.0          0               0         62347.71           0  \n",
       "146750            1.0          1               0         91305.77           0  \n",
       "...               ...        ...             ...              ...         ...  \n",
       "32661             2.0          1               1         74800.99           1  \n",
       "117592            1.0          1               0         93983.12           0  \n",
       "2194              1.0          1               0        115566.57           0  \n",
       "141678            2.0          1               1        124489.88           1  \n",
       "20040             2.0          1               1         79270.02           1  \n",
       "\n",
       "[33007 rows x 11 columns]"
      ]
     },
     "execution_count": 324,
     "metadata": {},
     "output_type": "execute_result"
    }
   ],
   "source": [
    "# Easier Preprocessing\n",
    "\n",
    "deep_table_df = preprocessing('train.csv')\n",
    "deep_table_df['CreditScore'] = deep_table_df['CreditScore'].astype(float)\n",
    "deep_table_df['Tenure'] = deep_table_df['Tenure'].astype(float)\n",
    "deep_table_df['NumOfProducts'] = deep_table_df['NumOfProducts'].astype(float)\n",
    "deep_table_df['HasCrCard'] = deep_table_df['HasCrCard'].astype(int)\n",
    "deep_table_df['IsActiveMember'] = deep_table_df['IsActiveMember'].astype(int)\n",
    "deep_table_df['Geography'] = deep_table_df['Geography'].astype(int)\n",
    "deep_table_df['Gender'] = deep_table_df['Gender'].astype(int)\n",
    "deep_table_df['2_Products'] = np.where(deep_table_df['NumOfProducts'] == 2, 1, 0)\n",
    "\n",
    "# Splitting the DataFrame into train and test sets\n",
    "X = deep_table_df.drop('Exited', axis=1)\n",
    "y = deep_table_df['Exited']\n",
    "X_train, X_test, y_train, y_test = train_test_split(X, y, test_size=0.2, random_state=42)"
   ]
  },
  {
   "cell_type": "code",
   "execution_count": 293,
   "metadata": {},
   "outputs": [],
   "source": [
    "# Initial Model:\n",
    "\n",
    "# Calculate class weights\n",
    "class_weights = class_weight.compute_class_weight(\n",
    "    'balanced',\n",
    "    classes=np.unique(y_train),\n",
    "    y=y_train\n",
    ")\n",
    "\n",
    "# Convert class weights to a dictionary to pass to DeepTable\n",
    "class_weight_dict = dict(enumerate(class_weights))\n",
    "\n",
    "config = ModelConfig(\n",
    "            nets=PNN,\n",
    "            categorical_columns='auto',\n",
    "            metrics=['binary_accuracy', 'AUC', 'Recall'],\n",
    "            auto_categorize=True,\n",
    "            auto_discrete=False,\n",
    "            embedding_dropout = 0.3)\n",
    "\n",
    "# Building the Model\n",
    "dt = DeepTable(config=config)"
   ]
  },
  {
   "cell_type": "code",
   "execution_count": 309,
   "metadata": {},
   "outputs": [
    {
     "name": "stdout",
     "output_type": "stream",
     "text": [
      "04-28 18:49:28 I deeptables.m.deeptable.py 337 - X.Shape=(132027, 11), y.Shape=(132027,), batch_size=256, config=ModelConfig(name='conf-1', nets=['fm_nets', 'linear', 'dnn_nets'], categorical_columns='auto', exclude_columns=[], task='auto', pos_label=None, metrics=['binary_accuracy'], auto_categorize=True, cat_exponent=0.5, cat_remain_numeric=True, auto_encode_label=True, auto_imputation=True, auto_discrete=True, auto_discard_unique=True, apply_gbm_features=False, gbm_params={}, gbm_feature_type='embedding', fixed_embedding_dim=True, embeddings_output_dim=4, embeddings_initializer='uniform', embeddings_regularizer=None, embeddings_activity_regularizer=None, dense_dropout=0, embedding_dropout=0.2, stacking_op='add', output_use_bias=True, apply_class_weight=False, optimizer='auto', loss='auto', dnn_params={'hidden_units': ((128, 0, False), (64, 0, False)), 'activation': 'relu'}, autoint_params={'num_attention': 3, 'num_heads': 1, 'dropout_rate': 0, 'use_residual': True}, fgcnn_params={'fg_filters': (14, 16), 'fg_heights': (7, 7), 'fg_pool_heights': (2, 2), 'fg_new_feat_filters': (2, 2)}, fibinet_params={'senet_pooling_op': 'mean', 'senet_reduction_ratio': 3, 'bilinear_type': 'field_interaction'}, cross_params={'num_cross_layer': 4}, pnn_params={'outer_product_kernel_type': 'mat'}, afm_params={'attention_factor': 4, 'dropout_rate': 0}, cin_params={'cross_layer_size': (128, 128), 'activation': 'relu', 'use_residual': False, 'use_bias': False, 'direct': False, 'reduce_D': False}, home_dir=None, monitor_metric=None, earlystopping_patience=5, earlystopping_mode='auto', gpu_usage_strategy='memory_growth', distribute_strategy=None, var_len_categorical_columns=None)\n",
      "04-28 18:49:28 I deeptables.m.deeptable.py 338 - metrics:['binary_accuracy']\n",
      "04-28 18:49:28 I deeptables.m.preprocessor.py 242 - Transform [X]...\n",
      "04-28 18:49:29 I deeptables.m.preprocessor.py 249 - transform_X taken 0.8163590431213379s\n",
      "04-28 18:49:29 I deeptables.m.preprocessor.py 230 - Transform [y]...\n",
      "04-28 18:49:29 I deeptables.m.preprocessor.py 236 - transform_y taken 0.0029976367950439453s\n",
      "04-28 18:49:29 I deeptables.m.preprocessor.py 242 - Transform [X]...\n",
      "04-28 18:49:29 I deeptables.m.preprocessor.py 249 - transform_X taken 0.21784114837646484s\n",
      "04-28 18:49:29 I deeptables.m.preprocessor.py 230 - Transform [y]...\n",
      "04-28 18:49:29 I deeptables.m.preprocessor.py 236 - transform_y taken 0.0010018348693847656s\n",
      "04-28 18:49:29 I deeptables.m.deeptable.py 353 - Training...\n",
      "04-28 18:49:29 I deeptables.m.deeptable.py 752 - Injected a callback [EarlyStopping]. monitor:val_binary_accuracy, patience:5, mode:min\n",
      "04-28 18:49:29 I deeptables.u.dataset_generator.py 250 - create dataset generator with _TFDGForPandas, batch_size=256, shuffle=True, drop_remainder=True\n",
      "04-28 18:49:29 I deeptables.u.dataset_generator.py 250 - create dataset generator with _TFDGForPandas, batch_size=256, shuffle=True, drop_remainder=True\n",
      "04-28 18:49:29 I deeptables.m.deepmodel.py 231 - Building model...\n"
     ]
    },
    {
     "name": "stderr",
     "output_type": "stream",
     "text": [
      "C:\\Users\\David\\AppData\\Roaming\\Python\\Python311\\site-packages\\keras\\src\\initializers\\initializers.py:120: UserWarning: The initializer RandomUniform is unseeded and being called multiple times, which will return identical values each time (even if the initializer is unseeded). Please update your code to provide a seed to the initializer, or avoid using the same initializer instance more than once.\n",
      "  warnings.warn(\n"
     ]
    },
    {
     "name": "stdout",
     "output_type": "stream",
     "text": [
      "04-28 18:49:30 I deeptables.m.deepmodel.py 287 - >>>>>>>>>>>>>>>>>>>>>> Model Desc <<<<<<<<<<<<<<<<<<<<<<< \n",
      "---------------------------------------------------------\n",
      "inputs:\n",
      "---------------------------------------------------------\n",
      "['all_categorical_vars: (19)', 'input_continuous_all: (11)']\n",
      "---------------------------------------------------------\n",
      "embeddings:\n",
      "---------------------------------------------------------\n",
      "input_dims: [5, 4, 73, 13, 6, 4, 4, 4, 7, 15, 17, 3, 3, 5, 4, 3, 3, 3, 3]\n",
      "output_dims: [4, 4, 4, 4, 4, 4, 4, 4, 4, 4, 4, 4, 4, 4, 4, 4, 4, 4, 4]\n",
      "dropout: 0.2\n",
      "---------------------------------------------------------\n",
      "dense: dropout: 0\n",
      "batch_normalization: False\n",
      "---------------------------------------------------------\n",
      "concat_embed_dense: shape: (None, 87)\n",
      "---------------------------------------------------------\n",
      "nets: ['fm_nets', 'linear', 'dnn_nets']\n",
      "---------------------------------------------------------\n",
      "fm: input_shape (None, 19, 4), output_shape (None, 1)\n",
      "linear: input_shape (None, 30), output_shape (None, 1)\n",
      "dnn: input_shape (None, 87), output_shape (None, 64)\n",
      "---------------------------------------------------------\n",
      "stacking_op: add\n",
      "---------------------------------------------------------\n",
      "output: activation: sigmoid, output_shape: (None, 1), use_bias: True\n",
      "loss: binary_crossentropy\n",
      "optimizer: <keras.src.optimizers.adam.Adam object at 0x0000015793545690>\n",
      "---------------------------------------------------------\n",
      "\n",
      "04-28 18:49:30 I deeptables.m.deepmodel.py 105 - training...\n",
      "Epoch 1/10\n",
      "515/515 [==============================] - 7s 5ms/step - loss: 5723.0474 - binary_accuracy: 0.5382 - val_loss: 333.7898 - val_binary_accuracy: 0.7302\n",
      "Epoch 2/10\n",
      "515/515 [==============================] - 2s 4ms/step - loss: 199.0480 - binary_accuracy: 0.7354 - val_loss: 69.3661 - val_binary_accuracy: 0.7674\n",
      "Epoch 3/10\n",
      "515/515 [==============================] - 2s 4ms/step - loss: 80.2393 - binary_accuracy: 0.7197 - val_loss: 22.8895 - val_binary_accuracy: 0.8174\n",
      "Epoch 4/10\n",
      "515/515 [==============================] - 2s 4ms/step - loss: 33.5703 - binary_accuracy: 0.7224 - val_loss: 17.7843 - val_binary_accuracy: 0.6903\n",
      "Epoch 5/10\n",
      "515/515 [==============================] - 2s 4ms/step - loss: 15.5814 - binary_accuracy: 0.7186 - val_loss: 7.5042 - val_binary_accuracy: 0.7283\n",
      "Epoch 6/10\n",
      "515/515 [==============================] - 2s 4ms/step - loss: 9.0499 - binary_accuracy: 0.7160 - val_loss: 6.0924 - val_binary_accuracy: 0.6959\n",
      "Epoch 7/10\n",
      "515/515 [==============================] - 2s 4ms/step - loss: 5.4828 - binary_accuracy: 0.7196 - val_loss: 6.0036 - val_binary_accuracy: 0.6302\n",
      "Epoch 8/10\n",
      "515/515 [==============================] - 2s 4ms/step - loss: 4.1539 - binary_accuracy: 0.7190 - val_loss: 1.5586 - val_binary_accuracy: 0.7990\n",
      "Epoch 9/10\n",
      "515/515 [==============================] - 2s 4ms/step - loss: 2.8932 - binary_accuracy: 0.7207 - val_loss: 15.7819 - val_binary_accuracy: 0.3417\n",
      "Epoch 10/10\n",
      "515/515 [==============================] - 2s 4ms/step - loss: 3.2418 - binary_accuracy: 0.7219 - val_loss: 1.9138 - val_binary_accuracy: 0.8448\n",
      "04-28 18:49:57 I deeptables.m.deepmodel.py 122 - Training finished.\n",
      "04-28 18:49:57 I deeptables.m.deeptable.py 369 - Training finished.\n",
      "04-28 18:49:57 I deeptables.m.deeptable.py 704 - Model has been saved to:dt_output/dt_20240428184855_fm_nets_linear_dnn_nets/fm_nets+linear+dnn_nets.h5\n",
      "04-28 18:49:57 I deeptables.m.preprocessor.py 242 - Transform [X]...\n"
     ]
    },
    {
     "name": "stderr",
     "output_type": "stream",
     "text": [
      "C:\\Users\\David\\AppData\\Roaming\\Python\\Python311\\site-packages\\deeptables\\models\\deepmodel.py:188: UserWarning: You are saving your model as an HDF5 file via `model.save()`. This file format is considered legacy. We recommend using instead the native Keras format, e.g. `model.save('my_model.keras')`.\n",
      "  save_model(self.model, h, save_format='h5')\n"
     ]
    },
    {
     "name": "stdout",
     "output_type": "stream",
     "text": [
      "04-28 18:49:58 I deeptables.m.preprocessor.py 249 - transform_X taken 0.2189478874206543s\n",
      "04-28 18:49:58 I deeptables.m.preprocessor.py 230 - Transform [y]...\n",
      "04-28 18:49:58 I deeptables.m.preprocessor.py 236 - transform_y taken 0.0010013580322265625s\n",
      "04-28 18:49:58 I deeptables.m.deepmodel.py 158 - Performing evaluation...\n",
      "04-28 18:49:58 I deeptables.u.dataset_generator.py 250 - create dataset generator with _TFDGForPandas, batch_size=256, shuffle=False, drop_remainder=False\n"
     ]
    }
   ],
   "source": [
    "# Model training\n",
    "model, history = dt.fit(X_train, y_train, epochs=10, batch_size=256, \n",
    "                        validation_data=(X_test, y_test), class_weight=class_weight_dict)\n",
    "\n",
    "# Evaluate the model\n",
    "evaluation = dt.evaluate(X_test, y_test)"
   ]
  },
  {
   "cell_type": "markdown",
   "metadata": {},
   "source": [
    "### Deep Table Model Tuning\n",
    "\n",
    "The initial model performed similarily to results prior, let's improve with some tuning. I am choosing only to tune the nets parameter architecture and the embedding dropout because DeepTable is designed to be easy to use, requiring less manual tuning and preprocessing by the user. DeepTables automates many steps in the data processing and model selection pipeline, including categorical feature encoding, missing value imputation, and complex feature interactions."
   ]
  },
  {
   "cell_type": "code",
   "execution_count": 311,
   "metadata": {},
   "outputs": [
    {
     "name": "stdout",
     "output_type": "stream",
     "text": [
      "04-28 18:50:48 I deeptables.m.deeptable.py 337 - X.Shape=(132027, 11), y.Shape=(132027,), batch_size=16, config=ModelConfig(name='conf-1', nets=['fm_nets', 'linear', 'dnn_nets'], categorical_columns='auto', exclude_columns=[], task='auto', pos_label=None, metrics=['binary_accuracy'], auto_categorize=True, cat_exponent=0.5, cat_remain_numeric=True, auto_encode_label=True, auto_imputation=True, auto_discrete=True, auto_discard_unique=True, apply_gbm_features=False, gbm_params={}, gbm_feature_type='embedding', fixed_embedding_dim=True, embeddings_output_dim=4, embeddings_initializer='uniform', embeddings_regularizer=None, embeddings_activity_regularizer=None, dense_dropout=0, embedding_dropout=0.2, stacking_op='add', output_use_bias=True, apply_class_weight=False, optimizer='auto', loss='auto', dnn_params={'hidden_units': ((128, 0, False), (64, 0, False)), 'activation': 'relu'}, autoint_params={'num_attention': 3, 'num_heads': 1, 'dropout_rate': 0, 'use_residual': True}, fgcnn_params={'fg_filters': (14, 16), 'fg_heights': (7, 7), 'fg_pool_heights': (2, 2), 'fg_new_feat_filters': (2, 2)}, fibinet_params={'senet_pooling_op': 'mean', 'senet_reduction_ratio': 3, 'bilinear_type': 'field_interaction'}, cross_params={'num_cross_layer': 4}, pnn_params={'outer_product_kernel_type': 'mat'}, afm_params={'attention_factor': 4, 'dropout_rate': 0}, cin_params={'cross_layer_size': (128, 128), 'activation': 'relu', 'use_residual': False, 'use_bias': False, 'direct': False, 'reduce_D': False}, home_dir=None, monitor_metric=None, earlystopping_patience=5, earlystopping_mode='auto', gpu_usage_strategy='memory_growth', distribute_strategy=None, var_len_categorical_columns=None)\n",
      "04-28 18:50:48 I deeptables.m.deeptable.py 338 - metrics:['binary_accuracy']\n",
      "04-28 18:50:48 I deeptables.m.preprocessor.py 242 - Transform [X]...\n",
      "04-28 18:50:49 I deeptables.m.preprocessor.py 249 - transform_X taken 0.9111204147338867s\n",
      "04-28 18:50:49 I deeptables.m.preprocessor.py 230 - Transform [y]...\n",
      "04-28 18:50:49 I deeptables.m.preprocessor.py 236 - transform_y taken 0.004002094268798828s\n",
      "04-28 18:50:49 I deeptables.m.preprocessor.py 242 - Transform [X]...\n",
      "04-28 18:50:50 I deeptables.m.preprocessor.py 249 - transform_X taken 0.246962308883667s\n",
      "04-28 18:50:50 I deeptables.m.preprocessor.py 230 - Transform [y]...\n",
      "04-28 18:50:50 I deeptables.m.preprocessor.py 236 - transform_y taken 0.001001596450805664s\n",
      "04-28 18:50:50 I deeptables.m.deeptable.py 353 - Training...\n",
      "04-28 18:50:50 I deeptables.m.deeptable.py 752 - Injected a callback [EarlyStopping]. monitor:val_binary_accuracy, patience:5, mode:min\n",
      "04-28 18:50:50 I deeptables.u.dataset_generator.py 250 - create dataset generator with _TFDGForPandas, batch_size=16, shuffle=True, drop_remainder=True\n",
      "04-28 18:50:50 I deeptables.u.dataset_generator.py 250 - create dataset generator with _TFDGForPandas, batch_size=16, shuffle=True, drop_remainder=True\n",
      "04-28 18:50:50 I deeptables.m.deepmodel.py 231 - Building model...\n"
     ]
    },
    {
     "name": "stderr",
     "output_type": "stream",
     "text": [
      "C:\\Users\\David\\AppData\\Roaming\\Python\\Python311\\site-packages\\keras\\src\\initializers\\initializers.py:120: UserWarning: The initializer RandomUniform is unseeded and being called multiple times, which will return identical values each time (even if the initializer is unseeded). Please update your code to provide a seed to the initializer, or avoid using the same initializer instance more than once.\n",
      "  warnings.warn(\n"
     ]
    },
    {
     "name": "stdout",
     "output_type": "stream",
     "text": [
      "04-28 18:50:50 I deeptables.m.deepmodel.py 287 - >>>>>>>>>>>>>>>>>>>>>> Model Desc <<<<<<<<<<<<<<<<<<<<<<< \n",
      "---------------------------------------------------------\n",
      "inputs:\n",
      "---------------------------------------------------------\n",
      "['all_categorical_vars: (19)', 'input_continuous_all: (11)']\n",
      "---------------------------------------------------------\n",
      "embeddings:\n",
      "---------------------------------------------------------\n",
      "input_dims: [5, 4, 73, 13, 6, 4, 4, 4, 7, 15, 17, 3, 3, 5, 4, 3, 3, 3, 3]\n",
      "output_dims: [4, 4, 4, 4, 4, 4, 4, 4, 4, 4, 4, 4, 4, 4, 4, 4, 4, 4, 4]\n",
      "dropout: 0.2\n",
      "---------------------------------------------------------\n",
      "dense: dropout: 0\n",
      "batch_normalization: False\n",
      "---------------------------------------------------------\n",
      "concat_embed_dense: shape: (None, 87)\n",
      "---------------------------------------------------------\n",
      "nets: ['fm_nets', 'linear', 'dnn_nets']\n",
      "---------------------------------------------------------\n",
      "fm: input_shape (None, 19, 4), output_shape (None, 1)\n",
      "linear: input_shape (None, 30), output_shape (None, 1)\n",
      "dnn: input_shape (None, 87), output_shape (None, 64)\n",
      "---------------------------------------------------------\n",
      "stacking_op: add\n",
      "---------------------------------------------------------\n",
      "output: activation: sigmoid, output_shape: (None, 1), use_bias: True\n",
      "loss: binary_crossentropy\n",
      "optimizer: <keras.src.optimizers.adam.Adam object at 0x000001579B463E10>\n",
      "---------------------------------------------------------\n",
      "\n",
      "04-28 18:50:50 I deeptables.m.deepmodel.py 105 - training...\n",
      "Epoch 1/30\n",
      "8251/8251 [==============================] - 24s 2ms/step - loss: 422.9506 - binary_accuracy: 0.7145 - val_loss: 1.6075 - val_binary_accuracy: 0.6274\n",
      "Epoch 2/30\n",
      "8251/8251 [==============================] - 19s 2ms/step - loss: 0.6307 - binary_accuracy: 0.7549 - val_loss: 0.6193 - val_binary_accuracy: 0.6735\n",
      "Epoch 3/30\n",
      "8251/8251 [==============================] - 19s 2ms/step - loss: 0.4766 - binary_accuracy: 0.7842 - val_loss: 0.5176 - val_binary_accuracy: 0.7640\n",
      "Epoch 4/30\n",
      "8251/8251 [==============================] - 19s 2ms/step - loss: 0.4694 - binary_accuracy: 0.7878 - val_loss: 0.4550 - val_binary_accuracy: 0.7912\n",
      "Epoch 5/30\n",
      "8251/8251 [==============================] - 19s 2ms/step - loss: 0.4675 - binary_accuracy: 0.7891 - val_loss: 0.4315 - val_binary_accuracy: 0.8149\n",
      "Epoch 6/30\n",
      "8232/8251 [============================>.] - ETA: 0s - loss: 0.4618 - binary_accuracy: 0.7926Restoring model weights from the end of the best epoch: 1.\n",
      "8251/8251 [==============================] - 19s 2ms/step - loss: 0.4617 - binary_accuracy: 0.7927 - val_loss: 0.4907 - val_binary_accuracy: 0.7799\n",
      "Epoch 6: early stopping\n",
      "04-28 18:52:50 I deeptables.m.deepmodel.py 122 - Training finished.\n",
      "04-28 18:52:50 I deeptables.m.deeptable.py 369 - Training finished.\n",
      "04-28 18:52:50 I deeptables.m.deeptable.py 704 - Model has been saved to:dt_output/dt_20240428185048_fm_nets_linear_dnn_nets/fm_nets+linear+dnn_nets.h5\n",
      "04-28 18:52:50 I deeptables.m.preprocessor.py 242 - Transform [X]...\n"
     ]
    },
    {
     "name": "stderr",
     "output_type": "stream",
     "text": [
      "C:\\Users\\David\\AppData\\Roaming\\Python\\Python311\\site-packages\\deeptables\\models\\deepmodel.py:188: UserWarning: You are saving your model as an HDF5 file via `model.save()`. This file format is considered legacy. We recommend using instead the native Keras format, e.g. `model.save('my_model.keras')`.\n",
      "  save_model(self.model, h, save_format='h5')\n"
     ]
    },
    {
     "name": "stdout",
     "output_type": "stream",
     "text": [
      "04-28 18:52:50 I deeptables.m.preprocessor.py 249 - transform_X taken 0.24344372749328613s\n",
      "04-28 18:52:50 I deeptables.m.preprocessor.py 230 - Transform [y]...\n",
      "04-28 18:52:50 I deeptables.m.preprocessor.py 236 - transform_y taken 0.0009996891021728516s\n",
      "04-28 18:52:50 I deeptables.m.deepmodel.py 158 - Performing evaluation...\n",
      "04-28 18:52:50 I deeptables.u.dataset_generator.py 250 - create dataset generator with _TFDGForPandas, batch_size=256, shuffle=False, drop_remainder=False\n",
      "04-28 18:52:50 I deeptables.m.deeptable.py 337 - X.Shape=(132027, 11), y.Shape=(132027,), batch_size=16, config=ModelConfig(name='conf-1', nets=['fm_nets', 'linear', 'dnn_nets'], categorical_columns='auto', exclude_columns=[], task='auto', pos_label=None, metrics=['binary_accuracy'], auto_categorize=True, cat_exponent=0.5, cat_remain_numeric=True, auto_encode_label=True, auto_imputation=True, auto_discrete=True, auto_discard_unique=True, apply_gbm_features=False, gbm_params={}, gbm_feature_type='embedding', fixed_embedding_dim=True, embeddings_output_dim=4, embeddings_initializer='uniform', embeddings_regularizer=None, embeddings_activity_regularizer=None, dense_dropout=0, embedding_dropout=0.4, stacking_op='add', output_use_bias=True, apply_class_weight=False, optimizer='auto', loss='auto', dnn_params={'hidden_units': ((128, 0, False), (64, 0, False)), 'activation': 'relu'}, autoint_params={'num_attention': 3, 'num_heads': 1, 'dropout_rate': 0, 'use_residual': True}, fgcnn_params={'fg_filters': (14, 16), 'fg_heights': (7, 7), 'fg_pool_heights': (2, 2), 'fg_new_feat_filters': (2, 2)}, fibinet_params={'senet_pooling_op': 'mean', 'senet_reduction_ratio': 3, 'bilinear_type': 'field_interaction'}, cross_params={'num_cross_layer': 4}, pnn_params={'outer_product_kernel_type': 'mat'}, afm_params={'attention_factor': 4, 'dropout_rate': 0}, cin_params={'cross_layer_size': (128, 128), 'activation': 'relu', 'use_residual': False, 'use_bias': False, 'direct': False, 'reduce_D': False}, home_dir=None, monitor_metric=None, earlystopping_patience=5, earlystopping_mode='auto', gpu_usage_strategy='memory_growth', distribute_strategy=None, var_len_categorical_columns=None)\n",
      "04-28 18:52:50 I deeptables.m.deeptable.py 338 - metrics:['binary_accuracy']\n",
      "04-28 18:52:51 I hypernets.t.toolbox.py 329 - 2 class detected, {0, 1}, so inferred as a [binary classification] task\n",
      "04-28 18:52:51 I deeptables.m.preprocessor.py 261 - Preparing features...\n",
      "04-28 18:52:51 I deeptables.m.preprocessor.py 336 - Preparing features taken 0.3736865520477295s\n",
      "04-28 18:52:51 I deeptables.m.preprocessor.py 341 - Data imputation...\n",
      "04-28 18:52:51 I deeptables.m.preprocessor.py 383 - Imputation taken 0.4044148921966553s\n",
      "04-28 18:52:51 I deeptables.m.preprocessor.py 388 - Categorical encoding...\n",
      "04-28 18:52:52 I deeptables.m.preprocessor.py 393 - Categorical encoding taken 0.2070927619934082s\n",
      "04-28 18:52:52 I deeptables.m.preprocessor.py 398 - Data discretization...\n",
      "04-28 18:52:52 I hypernets.t.sklearn_ex.py 716 - 11 variables to discrete.\n"
     ]
    },
    {
     "name": "stderr",
     "output_type": "stream",
     "text": [
      "C:\\ProgramData\\anaconda3\\Lib\\site-packages\\sklearn\\preprocessing\\_discretization.py:279: UserWarning: Bins whose width are too small (i.e., <= 1e-8) in feature 0 are removed. Consider decreasing the number of bins.\n",
      "  warnings.warn(\n",
      "C:\\ProgramData\\anaconda3\\Lib\\site-packages\\sklearn\\preprocessing\\_discretization.py:279: UserWarning: Bins whose width are too small (i.e., <= 1e-8) in feature 0 are removed. Consider decreasing the number of bins.\n",
      "  warnings.warn(\n",
      "C:\\ProgramData\\anaconda3\\Lib\\site-packages\\sklearn\\preprocessing\\_discretization.py:279: UserWarning: Bins whose width are too small (i.e., <= 1e-8) in feature 0 are removed. Consider decreasing the number of bins.\n",
      "  warnings.warn(\n",
      "C:\\ProgramData\\anaconda3\\Lib\\site-packages\\sklearn\\preprocessing\\_discretization.py:279: UserWarning: Bins whose width are too small (i.e., <= 1e-8) in feature 0 are removed. Consider decreasing the number of bins.\n",
      "  warnings.warn(\n",
      "C:\\ProgramData\\anaconda3\\Lib\\site-packages\\sklearn\\preprocessing\\_discretization.py:279: UserWarning: Bins whose width are too small (i.e., <= 1e-8) in feature 0 are removed. Consider decreasing the number of bins.\n",
      "  warnings.warn(\n",
      "C:\\ProgramData\\anaconda3\\Lib\\site-packages\\sklearn\\preprocessing\\_discretization.py:279: UserWarning: Bins whose width are too small (i.e., <= 1e-8) in feature 0 are removed. Consider decreasing the number of bins.\n",
      "  warnings.warn(\n"
     ]
    },
    {
     "name": "stdout",
     "output_type": "stream",
     "text": [
      "04-28 18:52:52 I deeptables.m.preprocessor.py 404 - Discretization taken 0.29756975173950195s\n",
      "04-28 18:52:52 I deeptables.m.preprocessor.py 196 - fit_transform taken 1.4302501678466797s\n",
      "04-28 18:52:52 I deeptables.m.preprocessor.py 242 - Transform [X]...\n",
      "04-28 18:52:52 I deeptables.m.preprocessor.py 249 - transform_X taken 0.22231698036193848s\n",
      "04-28 18:52:52 I deeptables.m.preprocessor.py 230 - Transform [y]...\n",
      "04-28 18:52:52 I deeptables.m.preprocessor.py 236 - transform_y taken 0.0009989738464355469s\n",
      "04-28 18:52:52 I deeptables.m.deeptable.py 353 - Training...\n",
      "04-28 18:52:52 I deeptables.m.deeptable.py 752 - Injected a callback [EarlyStopping]. monitor:val_binary_accuracy, patience:5, mode:min\n",
      "04-28 18:52:52 I deeptables.u.dataset_generator.py 250 - create dataset generator with _TFDGForPandas, batch_size=16, shuffle=True, drop_remainder=True\n",
      "04-28 18:52:52 I deeptables.u.dataset_generator.py 250 - create dataset generator with _TFDGForPandas, batch_size=16, shuffle=True, drop_remainder=True\n",
      "04-28 18:52:52 I deeptables.m.deepmodel.py 231 - Building model...\n"
     ]
    },
    {
     "name": "stderr",
     "output_type": "stream",
     "text": [
      "C:\\Users\\David\\AppData\\Roaming\\Python\\Python311\\site-packages\\keras\\src\\initializers\\initializers.py:120: UserWarning: The initializer RandomUniform is unseeded and being called multiple times, which will return identical values each time (even if the initializer is unseeded). Please update your code to provide a seed to the initializer, or avoid using the same initializer instance more than once.\n",
      "  warnings.warn(\n"
     ]
    },
    {
     "name": "stdout",
     "output_type": "stream",
     "text": [
      "04-28 18:52:53 I deeptables.m.deepmodel.py 287 - >>>>>>>>>>>>>>>>>>>>>> Model Desc <<<<<<<<<<<<<<<<<<<<<<< \n",
      "---------------------------------------------------------\n",
      "inputs:\n",
      "---------------------------------------------------------\n",
      "['all_categorical_vars: (19)', 'input_continuous_all: (11)']\n",
      "---------------------------------------------------------\n",
      "embeddings:\n",
      "---------------------------------------------------------\n",
      "input_dims: [5, 4, 73, 13, 6, 4, 4, 4, 7, 15, 17, 3, 3, 5, 4, 3, 3, 3, 3]\n",
      "output_dims: [4, 4, 4, 4, 4, 4, 4, 4, 4, 4, 4, 4, 4, 4, 4, 4, 4, 4, 4]\n",
      "dropout: 0.4\n",
      "---------------------------------------------------------\n",
      "dense: dropout: 0\n",
      "batch_normalization: False\n",
      "---------------------------------------------------------\n",
      "concat_embed_dense: shape: (None, 87)\n",
      "---------------------------------------------------------\n",
      "nets: ['fm_nets', 'linear', 'dnn_nets']\n",
      "---------------------------------------------------------\n",
      "fm: input_shape (None, 19, 4), output_shape (None, 1)\n",
      "linear: input_shape (None, 30), output_shape (None, 1)\n",
      "dnn: input_shape (None, 87), output_shape (None, 64)\n",
      "---------------------------------------------------------\n",
      "stacking_op: add\n",
      "---------------------------------------------------------\n",
      "output: activation: sigmoid, output_shape: (None, 1), use_bias: True\n",
      "loss: binary_crossentropy\n",
      "optimizer: <keras.src.optimizers.adam.Adam object at 0x000001578F320D90>\n",
      "---------------------------------------------------------\n",
      "\n",
      "04-28 18:52:53 I deeptables.m.deepmodel.py 105 - training...\n",
      "Epoch 1/30\n",
      "8251/8251 [==============================] - 25s 2ms/step - loss: 728.7682 - binary_accuracy: 0.6946 - val_loss: 3.7395 - val_binary_accuracy: 0.8463\n",
      "Epoch 2/30\n",
      "8251/8251 [==============================] - 19s 2ms/step - loss: 3.0028 - binary_accuracy: 0.7443 - val_loss: 0.3747 - val_binary_accuracy: 0.8339\n",
      "Epoch 3/30\n",
      "8251/8251 [==============================] - 19s 2ms/step - loss: 0.4789 - binary_accuracy: 0.7731 - val_loss: 0.5239 - val_binary_accuracy: 0.7404\n",
      "Epoch 4/30\n",
      "8251/8251 [==============================] - 19s 2ms/step - loss: 0.4740 - binary_accuracy: 0.7851 - val_loss: 0.5395 - val_binary_accuracy: 0.7497\n",
      "Epoch 5/30\n",
      "8251/8251 [==============================] - 19s 2ms/step - loss: 0.4712 - binary_accuracy: 0.7867 - val_loss: 0.3892 - val_binary_accuracy: 0.8337\n",
      "Epoch 6/30\n",
      "8251/8251 [==============================] - 19s 2ms/step - loss: 0.4701 - binary_accuracy: 0.7881 - val_loss: 0.4939 - val_binary_accuracy: 0.7665\n",
      "Epoch 7/30\n",
      "8251/8251 [==============================] - 19s 2ms/step - loss: 0.4672 - binary_accuracy: 0.7894 - val_loss: 0.5644 - val_binary_accuracy: 0.6858\n",
      "Epoch 8/30\n",
      "8251/8251 [==============================] - 19s 2ms/step - loss: 0.4673 - binary_accuracy: 0.7895 - val_loss: 0.4024 - val_binary_accuracy: 0.8255\n",
      "Epoch 9/30\n",
      "8251/8251 [==============================] - 19s 2ms/step - loss: 0.4650 - binary_accuracy: 0.7917 - val_loss: 0.4798 - val_binary_accuracy: 0.8482\n",
      "Epoch 10/30\n",
      "8251/8251 [==============================] - 19s 2ms/step - loss: 0.4626 - binary_accuracy: 0.7916 - val_loss: 0.5137 - val_binary_accuracy: 0.7598\n",
      "Epoch 11/30\n",
      "8251/8251 [==============================] - 20s 2ms/step - loss: 0.4655 - binary_accuracy: 0.7909 - val_loss: 0.5044 - val_binary_accuracy: 0.7633\n",
      "Epoch 12/30\n",
      "8238/8251 [============================>.] - ETA: 0s - loss: 0.4604 - binary_accuracy: 0.7929Restoring model weights from the end of the best epoch: 7.\n",
      "8251/8251 [==============================] - 20s 2ms/step - loss: 0.4604 - binary_accuracy: 0.7930 - val_loss: 0.4798 - val_binary_accuracy: 0.7636\n",
      "Epoch 12: early stopping\n",
      "04-28 18:56:48 I deeptables.m.deepmodel.py 122 - Training finished.\n",
      "04-28 18:56:48 I deeptables.m.deeptable.py 369 - Training finished.\n",
      "04-28 18:56:48 I deeptables.m.deeptable.py 704 - Model has been saved to:dt_output/dt_20240428185250_fm_nets_linear_dnn_nets/fm_nets+linear+dnn_nets.h5\n",
      "04-28 18:56:48 I deeptables.m.preprocessor.py 242 - Transform [X]...\n"
     ]
    },
    {
     "name": "stderr",
     "output_type": "stream",
     "text": [
      "C:\\Users\\David\\AppData\\Roaming\\Python\\Python311\\site-packages\\deeptables\\models\\deepmodel.py:188: UserWarning: You are saving your model as an HDF5 file via `model.save()`. This file format is considered legacy. We recommend using instead the native Keras format, e.g. `model.save('my_model.keras')`.\n",
      "  save_model(self.model, h, save_format='h5')\n"
     ]
    },
    {
     "name": "stdout",
     "output_type": "stream",
     "text": [
      "04-28 18:56:49 I deeptables.m.preprocessor.py 249 - transform_X taken 0.26132631301879883s\n",
      "04-28 18:56:49 I deeptables.m.preprocessor.py 230 - Transform [y]...\n",
      "04-28 18:56:49 I deeptables.m.preprocessor.py 236 - transform_y taken 0.001001596450805664s\n",
      "04-28 18:56:49 I deeptables.m.deepmodel.py 158 - Performing evaluation...\n",
      "04-28 18:56:49 I deeptables.u.dataset_generator.py 250 - create dataset generator with _TFDGForPandas, batch_size=256, shuffle=False, drop_remainder=False\n",
      "04-28 18:56:49 I deeptables.m.deeptable.py 337 - X.Shape=(132027, 11), y.Shape=(132027,), batch_size=16, config=ModelConfig(name='conf-1', nets=['fm_nets', 'linear', 'dnn_nets'], categorical_columns='auto', exclude_columns=[], task='auto', pos_label=None, metrics=['binary_accuracy'], auto_categorize=True, cat_exponent=0.5, cat_remain_numeric=True, auto_encode_label=True, auto_imputation=True, auto_discrete=True, auto_discard_unique=True, apply_gbm_features=False, gbm_params={}, gbm_feature_type='embedding', fixed_embedding_dim=True, embeddings_output_dim=4, embeddings_initializer='uniform', embeddings_regularizer=None, embeddings_activity_regularizer=None, dense_dropout=0, embedding_dropout=0.6, stacking_op='add', output_use_bias=True, apply_class_weight=False, optimizer='auto', loss='auto', dnn_params={'hidden_units': ((128, 0, False), (64, 0, False)), 'activation': 'relu'}, autoint_params={'num_attention': 3, 'num_heads': 1, 'dropout_rate': 0, 'use_residual': True}, fgcnn_params={'fg_filters': (14, 16), 'fg_heights': (7, 7), 'fg_pool_heights': (2, 2), 'fg_new_feat_filters': (2, 2)}, fibinet_params={'senet_pooling_op': 'mean', 'senet_reduction_ratio': 3, 'bilinear_type': 'field_interaction'}, cross_params={'num_cross_layer': 4}, pnn_params={'outer_product_kernel_type': 'mat'}, afm_params={'attention_factor': 4, 'dropout_rate': 0}, cin_params={'cross_layer_size': (128, 128), 'activation': 'relu', 'use_residual': False, 'use_bias': False, 'direct': False, 'reduce_D': False}, home_dir=None, monitor_metric=None, earlystopping_patience=5, earlystopping_mode='auto', gpu_usage_strategy='memory_growth', distribute_strategy=None, var_len_categorical_columns=None)\n",
      "04-28 18:56:49 I deeptables.m.deeptable.py 338 - metrics:['binary_accuracy']\n",
      "04-28 18:56:49 I hypernets.t.toolbox.py 329 - 2 class detected, {0, 1}, so inferred as a [binary classification] task\n",
      "04-28 18:56:49 I deeptables.m.preprocessor.py 261 - Preparing features...\n",
      "04-28 18:56:50 I deeptables.m.preprocessor.py 336 - Preparing features taken 0.38492488861083984s\n",
      "04-28 18:56:50 I deeptables.m.preprocessor.py 341 - Data imputation...\n",
      "04-28 18:56:50 I deeptables.m.preprocessor.py 383 - Imputation taken 0.44614577293395996s\n",
      "04-28 18:56:50 I deeptables.m.preprocessor.py 388 - Categorical encoding...\n",
      "04-28 18:56:50 I deeptables.m.preprocessor.py 393 - Categorical encoding taken 0.21355676651000977s\n",
      "04-28 18:56:50 I deeptables.m.preprocessor.py 398 - Data discretization...\n",
      "04-28 18:56:50 I hypernets.t.sklearn_ex.py 716 - 11 variables to discrete.\n"
     ]
    },
    {
     "name": "stderr",
     "output_type": "stream",
     "text": [
      "C:\\ProgramData\\anaconda3\\Lib\\site-packages\\sklearn\\preprocessing\\_discretization.py:279: UserWarning: Bins whose width are too small (i.e., <= 1e-8) in feature 0 are removed. Consider decreasing the number of bins.\n",
      "  warnings.warn(\n",
      "C:\\ProgramData\\anaconda3\\Lib\\site-packages\\sklearn\\preprocessing\\_discretization.py:279: UserWarning: Bins whose width are too small (i.e., <= 1e-8) in feature 0 are removed. Consider decreasing the number of bins.\n",
      "  warnings.warn(\n",
      "C:\\ProgramData\\anaconda3\\Lib\\site-packages\\sklearn\\preprocessing\\_discretization.py:279: UserWarning: Bins whose width are too small (i.e., <= 1e-8) in feature 0 are removed. Consider decreasing the number of bins.\n",
      "  warnings.warn(\n",
      "C:\\ProgramData\\anaconda3\\Lib\\site-packages\\sklearn\\preprocessing\\_discretization.py:279: UserWarning: Bins whose width are too small (i.e., <= 1e-8) in feature 0 are removed. Consider decreasing the number of bins.\n",
      "  warnings.warn(\n",
      "C:\\ProgramData\\anaconda3\\Lib\\site-packages\\sklearn\\preprocessing\\_discretization.py:279: UserWarning: Bins whose width are too small (i.e., <= 1e-8) in feature 0 are removed. Consider decreasing the number of bins.\n",
      "  warnings.warn(\n",
      "C:\\ProgramData\\anaconda3\\Lib\\site-packages\\sklearn\\preprocessing\\_discretization.py:279: UserWarning: Bins whose width are too small (i.e., <= 1e-8) in feature 0 are removed. Consider decreasing the number of bins.\n",
      "  warnings.warn(\n"
     ]
    },
    {
     "name": "stdout",
     "output_type": "stream",
     "text": [
      "04-28 18:56:51 I deeptables.m.preprocessor.py 404 - Discretization taken 0.3127017021179199s\n",
      "04-28 18:56:51 I deeptables.m.preprocessor.py 196 - fit_transform taken 1.517320156097412s\n",
      "04-28 18:56:51 I deeptables.m.preprocessor.py 242 - Transform [X]...\n",
      "04-28 18:56:51 I deeptables.m.preprocessor.py 249 - transform_X taken 0.23517537117004395s\n",
      "04-28 18:56:51 I deeptables.m.preprocessor.py 230 - Transform [y]...\n",
      "04-28 18:56:51 I deeptables.m.preprocessor.py 236 - transform_y taken 0.0009996891021728516s\n",
      "04-28 18:56:51 I deeptables.m.deeptable.py 353 - Training...\n",
      "04-28 18:56:51 I deeptables.m.deeptable.py 752 - Injected a callback [EarlyStopping]. monitor:val_binary_accuracy, patience:5, mode:min\n",
      "04-28 18:56:51 I deeptables.u.dataset_generator.py 250 - create dataset generator with _TFDGForPandas, batch_size=16, shuffle=True, drop_remainder=True\n",
      "04-28 18:56:51 I deeptables.u.dataset_generator.py 250 - create dataset generator with _TFDGForPandas, batch_size=16, shuffle=True, drop_remainder=True\n",
      "04-28 18:56:51 I deeptables.m.deepmodel.py 231 - Building model...\n"
     ]
    },
    {
     "name": "stderr",
     "output_type": "stream",
     "text": [
      "C:\\Users\\David\\AppData\\Roaming\\Python\\Python311\\site-packages\\keras\\src\\initializers\\initializers.py:120: UserWarning: The initializer RandomUniform is unseeded and being called multiple times, which will return identical values each time (even if the initializer is unseeded). Please update your code to provide a seed to the initializer, or avoid using the same initializer instance more than once.\n",
      "  warnings.warn(\n"
     ]
    },
    {
     "name": "stdout",
     "output_type": "stream",
     "text": [
      "04-28 18:56:51 I deeptables.m.deepmodel.py 287 - >>>>>>>>>>>>>>>>>>>>>> Model Desc <<<<<<<<<<<<<<<<<<<<<<< \n",
      "---------------------------------------------------------\n",
      "inputs:\n",
      "---------------------------------------------------------\n",
      "['all_categorical_vars: (19)', 'input_continuous_all: (11)']\n",
      "---------------------------------------------------------\n",
      "embeddings:\n",
      "---------------------------------------------------------\n",
      "input_dims: [5, 4, 73, 13, 6, 4, 4, 4, 7, 15, 17, 3, 3, 5, 4, 3, 3, 3, 3]\n",
      "output_dims: [4, 4, 4, 4, 4, 4, 4, 4, 4, 4, 4, 4, 4, 4, 4, 4, 4, 4, 4]\n",
      "dropout: 0.6\n",
      "---------------------------------------------------------\n",
      "dense: dropout: 0\n",
      "batch_normalization: False\n",
      "---------------------------------------------------------\n",
      "concat_embed_dense: shape: (None, 87)\n",
      "---------------------------------------------------------\n",
      "nets: ['fm_nets', 'linear', 'dnn_nets']\n",
      "---------------------------------------------------------\n",
      "fm: input_shape (None, 19, 4), output_shape (None, 1)\n",
      "linear: input_shape (None, 30), output_shape (None, 1)\n",
      "dnn: input_shape (None, 87), output_shape (None, 64)\n",
      "---------------------------------------------------------\n",
      "stacking_op: add\n",
      "---------------------------------------------------------\n",
      "output: activation: sigmoid, output_shape: (None, 1), use_bias: True\n",
      "loss: binary_crossentropy\n",
      "optimizer: <keras.src.optimizers.adam.Adam object at 0x000001577E3E1D90>\n",
      "---------------------------------------------------------\n",
      "\n",
      "04-28 18:56:51 I deeptables.m.deepmodel.py 105 - training...\n",
      "Epoch 1/30\n",
      "8251/8251 [==============================] - 25s 2ms/step - loss: 476.8322 - binary_accuracy: 0.6965 - val_loss: 45.8326 - val_binary_accuracy: 0.3570\n",
      "Epoch 2/30\n",
      "8251/8251 [==============================] - 18s 2ms/step - loss: 2.8497 - binary_accuracy: 0.7470 - val_loss: 0.4243 - val_binary_accuracy: 0.8109\n",
      "Epoch 3/30\n",
      "8251/8251 [==============================] - 18s 2ms/step - loss: 0.4788 - binary_accuracy: 0.7819 - val_loss: 0.4902 - val_binary_accuracy: 0.8040\n",
      "Epoch 4/30\n",
      "8251/8251 [==============================] - 18s 2ms/step - loss: 0.4776 - binary_accuracy: 0.7835 - val_loss: 0.5072 - val_binary_accuracy: 0.7580\n",
      "Epoch 5/30\n",
      "8251/8251 [==============================] - 18s 2ms/step - loss: 0.4734 - binary_accuracy: 0.7884 - val_loss: 0.5386 - val_binary_accuracy: 0.7536\n",
      "Epoch 6/30\n",
      "8237/8251 [============================>.] - ETA: 0s - loss: 0.4704 - binary_accuracy: 0.7903Restoring model weights from the end of the best epoch: 1.\n",
      "8251/8251 [==============================] - 18s 2ms/step - loss: 0.4704 - binary_accuracy: 0.7902 - val_loss: 0.5192 - val_binary_accuracy: 0.7278\n",
      "Epoch 6: early stopping\n",
      "04-28 18:58:47 I deeptables.m.deepmodel.py 122 - Training finished.\n",
      "04-28 18:58:47 I deeptables.m.deeptable.py 369 - Training finished.\n",
      "04-28 18:58:47 I deeptables.m.deeptable.py 704 - Model has been saved to:dt_output/dt_20240428185649_fm_nets_linear_dnn_nets/fm_nets+linear+dnn_nets.h5\n",
      "04-28 18:58:47 I deeptables.m.preprocessor.py 242 - Transform [X]...\n"
     ]
    },
    {
     "name": "stderr",
     "output_type": "stream",
     "text": [
      "C:\\Users\\David\\AppData\\Roaming\\Python\\Python311\\site-packages\\deeptables\\models\\deepmodel.py:188: UserWarning: You are saving your model as an HDF5 file via `model.save()`. This file format is considered legacy. We recommend using instead the native Keras format, e.g. `model.save('my_model.keras')`.\n",
      "  save_model(self.model, h, save_format='h5')\n"
     ]
    },
    {
     "name": "stdout",
     "output_type": "stream",
     "text": [
      "04-28 18:58:47 I deeptables.m.preprocessor.py 249 - transform_X taken 0.22113919258117676s\n",
      "04-28 18:58:47 I deeptables.m.preprocessor.py 230 - Transform [y]...\n",
      "04-28 18:58:47 I deeptables.m.preprocessor.py 236 - transform_y taken 0.0010013580322265625s\n",
      "04-28 18:58:48 I deeptables.m.deepmodel.py 158 - Performing evaluation...\n",
      "04-28 18:58:48 I deeptables.u.dataset_generator.py 250 - create dataset generator with _TFDGForPandas, batch_size=256, shuffle=False, drop_remainder=False\n",
      "04-28 18:58:48 I deeptables.m.deeptable.py 337 - X.Shape=(132027, 11), y.Shape=(132027,), batch_size=16, config=ModelConfig(name='conf-1', nets=['linear', 'cin_nets', 'dnn_nets'], categorical_columns='auto', exclude_columns=[], task='auto', pos_label=None, metrics=['binary_accuracy'], auto_categorize=True, cat_exponent=0.5, cat_remain_numeric=True, auto_encode_label=True, auto_imputation=True, auto_discrete=True, auto_discard_unique=True, apply_gbm_features=False, gbm_params={}, gbm_feature_type='embedding', fixed_embedding_dim=True, embeddings_output_dim=4, embeddings_initializer='uniform', embeddings_regularizer=None, embeddings_activity_regularizer=None, dense_dropout=0, embedding_dropout=0.2, stacking_op='add', output_use_bias=True, apply_class_weight=False, optimizer='auto', loss='auto', dnn_params={'hidden_units': ((128, 0, False), (64, 0, False)), 'activation': 'relu'}, autoint_params={'num_attention': 3, 'num_heads': 1, 'dropout_rate': 0, 'use_residual': True}, fgcnn_params={'fg_filters': (14, 16), 'fg_heights': (7, 7), 'fg_pool_heights': (2, 2), 'fg_new_feat_filters': (2, 2)}, fibinet_params={'senet_pooling_op': 'mean', 'senet_reduction_ratio': 3, 'bilinear_type': 'field_interaction'}, cross_params={'num_cross_layer': 4}, pnn_params={'outer_product_kernel_type': 'mat'}, afm_params={'attention_factor': 4, 'dropout_rate': 0}, cin_params={'cross_layer_size': (128, 128), 'activation': 'relu', 'use_residual': False, 'use_bias': False, 'direct': False, 'reduce_D': False}, home_dir=None, monitor_metric=None, earlystopping_patience=5, earlystopping_mode='auto', gpu_usage_strategy='memory_growth', distribute_strategy=None, var_len_categorical_columns=None)\n",
      "04-28 18:58:48 I deeptables.m.deeptable.py 338 - metrics:['binary_accuracy']\n",
      "04-28 18:58:48 I hypernets.t.toolbox.py 329 - 2 class detected, {0, 1}, so inferred as a [binary classification] task\n",
      "04-28 18:58:48 I deeptables.m.preprocessor.py 261 - Preparing features...\n",
      "04-28 18:58:48 I deeptables.m.preprocessor.py 336 - Preparing features taken 0.3703634738922119s\n",
      "04-28 18:58:48 I deeptables.m.preprocessor.py 341 - Data imputation...\n",
      "04-28 18:58:49 I deeptables.m.preprocessor.py 383 - Imputation taken 0.38219785690307617s\n",
      "04-28 18:58:49 I deeptables.m.preprocessor.py 388 - Categorical encoding...\n",
      "04-28 18:58:49 I deeptables.m.preprocessor.py 393 - Categorical encoding taken 0.20203065872192383s\n",
      "04-28 18:58:49 I deeptables.m.preprocessor.py 398 - Data discretization...\n",
      "04-28 18:58:49 I hypernets.t.sklearn_ex.py 716 - 11 variables to discrete.\n"
     ]
    },
    {
     "name": "stderr",
     "output_type": "stream",
     "text": [
      "C:\\ProgramData\\anaconda3\\Lib\\site-packages\\sklearn\\preprocessing\\_discretization.py:279: UserWarning: Bins whose width are too small (i.e., <= 1e-8) in feature 0 are removed. Consider decreasing the number of bins.\n",
      "  warnings.warn(\n",
      "C:\\ProgramData\\anaconda3\\Lib\\site-packages\\sklearn\\preprocessing\\_discretization.py:279: UserWarning: Bins whose width are too small (i.e., <= 1e-8) in feature 0 are removed. Consider decreasing the number of bins.\n",
      "  warnings.warn(\n",
      "C:\\ProgramData\\anaconda3\\Lib\\site-packages\\sklearn\\preprocessing\\_discretization.py:279: UserWarning: Bins whose width are too small (i.e., <= 1e-8) in feature 0 are removed. Consider decreasing the number of bins.\n",
      "  warnings.warn(\n",
      "C:\\ProgramData\\anaconda3\\Lib\\site-packages\\sklearn\\preprocessing\\_discretization.py:279: UserWarning: Bins whose width are too small (i.e., <= 1e-8) in feature 0 are removed. Consider decreasing the number of bins.\n",
      "  warnings.warn(\n",
      "C:\\ProgramData\\anaconda3\\Lib\\site-packages\\sklearn\\preprocessing\\_discretization.py:279: UserWarning: Bins whose width are too small (i.e., <= 1e-8) in feature 0 are removed. Consider decreasing the number of bins.\n",
      "  warnings.warn(\n",
      "C:\\ProgramData\\anaconda3\\Lib\\site-packages\\sklearn\\preprocessing\\_discretization.py:279: UserWarning: Bins whose width are too small (i.e., <= 1e-8) in feature 0 are removed. Consider decreasing the number of bins.\n",
      "  warnings.warn(\n"
     ]
    },
    {
     "name": "stdout",
     "output_type": "stream",
     "text": [
      "04-28 18:58:49 I deeptables.m.preprocessor.py 404 - Discretization taken 0.2870461940765381s\n",
      "04-28 18:58:49 I deeptables.m.preprocessor.py 196 - fit_transform taken 1.3832337856292725s\n",
      "04-28 18:58:49 I deeptables.m.preprocessor.py 242 - Transform [X]...\n",
      "04-28 18:58:50 I deeptables.m.preprocessor.py 249 - transform_X taken 0.2142353057861328s\n",
      "04-28 18:58:50 I deeptables.m.preprocessor.py 230 - Transform [y]...\n",
      "04-28 18:58:50 I deeptables.m.preprocessor.py 236 - transform_y taken 0.0010249614715576172s\n",
      "04-28 18:58:50 I deeptables.m.deeptable.py 353 - Training...\n",
      "04-28 18:58:50 I deeptables.m.deeptable.py 752 - Injected a callback [EarlyStopping]. monitor:val_binary_accuracy, patience:5, mode:min\n",
      "04-28 18:58:50 I deeptables.u.dataset_generator.py 250 - create dataset generator with _TFDGForPandas, batch_size=16, shuffle=True, drop_remainder=True\n",
      "04-28 18:58:50 I deeptables.u.dataset_generator.py 250 - create dataset generator with _TFDGForPandas, batch_size=16, shuffle=True, drop_remainder=True\n",
      "04-28 18:58:50 I deeptables.m.deepmodel.py 231 - Building model...\n"
     ]
    },
    {
     "name": "stderr",
     "output_type": "stream",
     "text": [
      "C:\\Users\\David\\AppData\\Roaming\\Python\\Python311\\site-packages\\keras\\src\\initializers\\initializers.py:120: UserWarning: The initializer RandomUniform is unseeded and being called multiple times, which will return identical values each time (even if the initializer is unseeded). Please update your code to provide a seed to the initializer, or avoid using the same initializer instance more than once.\n",
      "  warnings.warn(\n"
     ]
    },
    {
     "name": "stdout",
     "output_type": "stream",
     "text": [
      "04-28 18:58:50 I deeptables.m.deepmodel.py 287 - >>>>>>>>>>>>>>>>>>>>>> Model Desc <<<<<<<<<<<<<<<<<<<<<<< \n",
      "---------------------------------------------------------\n",
      "inputs:\n",
      "---------------------------------------------------------\n",
      "['all_categorical_vars: (19)', 'input_continuous_all: (11)']\n",
      "---------------------------------------------------------\n",
      "embeddings:\n",
      "---------------------------------------------------------\n",
      "input_dims: [5, 4, 73, 13, 6, 4, 4, 4, 7, 15, 17, 3, 3, 5, 4, 3, 3, 3, 3]\n",
      "output_dims: [4, 4, 4, 4, 4, 4, 4, 4, 4, 4, 4, 4, 4, 4, 4, 4, 4, 4, 4]\n",
      "dropout: 0.2\n",
      "---------------------------------------------------------\n",
      "dense: dropout: 0\n",
      "batch_normalization: False\n",
      "---------------------------------------------------------\n",
      "concat_embed_dense: shape: (None, 87)\n",
      "---------------------------------------------------------\n",
      "nets: ['linear', 'cin_nets', 'dnn_nets']\n",
      "---------------------------------------------------------\n",
      "linear: input_shape (None, 30), output_shape (None, 1)\n",
      "cin: input_shape (None, 19, 4), output_shape (None, 1)\n",
      "dnn: input_shape (None, 87), output_shape (None, 64)\n",
      "---------------------------------------------------------\n",
      "stacking_op: add\n",
      "---------------------------------------------------------\n",
      "output: activation: sigmoid, output_shape: (None, 1), use_bias: True\n",
      "loss: binary_crossentropy\n",
      "optimizer: <keras.src.optimizers.adam.Adam object at 0x000001576D418850>\n",
      "---------------------------------------------------------\n",
      "\n",
      "04-28 18:58:50 I deeptables.m.deepmodel.py 105 - training...\n",
      "Epoch 1/30\n",
      "8251/8251 [==============================] - 49s 5ms/step - loss: 8.1096 - binary_accuracy: 0.6538 - val_loss: 0.4128 - val_binary_accuracy: 0.8144\n",
      "Epoch 2/30\n",
      "8251/8251 [==============================] - 42s 5ms/step - loss: 0.4895 - binary_accuracy: 0.7836 - val_loss: 0.4567 - val_binary_accuracy: 0.8035\n",
      "Epoch 3/30\n",
      "8251/8251 [==============================] - 43s 5ms/step - loss: 0.4665 - binary_accuracy: 0.7909 - val_loss: 0.5478 - val_binary_accuracy: 0.7394\n",
      "Epoch 4/30\n",
      "8251/8251 [==============================] - 42s 5ms/step - loss: 0.4612 - binary_accuracy: 0.7938 - val_loss: 0.4386 - val_binary_accuracy: 0.8063\n",
      "Epoch 5/30\n",
      "8251/8251 [==============================] - 42s 5ms/step - loss: 0.4610 - binary_accuracy: 0.7963 - val_loss: 0.5407 - val_binary_accuracy: 0.6958\n",
      "Epoch 6/30\n",
      "8251/8251 [==============================] - 43s 5ms/step - loss: 0.4570 - binary_accuracy: 0.7964 - val_loss: 0.5311 - val_binary_accuracy: 0.7210\n",
      "Epoch 7/30\n",
      "8251/8251 [==============================] - 43s 5ms/step - loss: 0.4570 - binary_accuracy: 0.7955 - val_loss: 0.4559 - val_binary_accuracy: 0.7780\n",
      "Epoch 8/30\n",
      "8251/8251 [==============================] - 43s 5ms/step - loss: 0.4563 - binary_accuracy: 0.7958 - val_loss: 0.3596 - val_binary_accuracy: 0.8495\n",
      "Epoch 9/30\n",
      "8251/8251 [==============================] - 44s 5ms/step - loss: 0.4545 - binary_accuracy: 0.7957 - val_loss: 0.4952 - val_binary_accuracy: 0.7812\n",
      "Epoch 10/30\n",
      "8248/8251 [============================>.] - ETA: 0s - loss: 0.4563 - binary_accuracy: 0.7958Restoring model weights from the end of the best epoch: 5.\n",
      "8251/8251 [==============================] - 43s 5ms/step - loss: 0.4564 - binary_accuracy: 0.7958 - val_loss: 0.4309 - val_binary_accuracy: 0.8183\n",
      "Epoch 10: early stopping\n",
      "04-28 19:06:04 I deeptables.m.deepmodel.py 122 - Training finished.\n",
      "04-28 19:06:04 I deeptables.m.deeptable.py 369 - Training finished.\n",
      "04-28 19:06:04 I deeptables.m.deeptable.py 704 - Model has been saved to:dt_output/dt_20240428185848_linear_cin_nets_dnn_nets/linear+cin_nets+dnn_nets.h5\n",
      "04-28 19:06:04 I deeptables.m.preprocessor.py 242 - Transform [X]...\n"
     ]
    },
    {
     "name": "stderr",
     "output_type": "stream",
     "text": [
      "C:\\Users\\David\\AppData\\Roaming\\Python\\Python311\\site-packages\\deeptables\\models\\deepmodel.py:188: UserWarning: You are saving your model as an HDF5 file via `model.save()`. This file format is considered legacy. We recommend using instead the native Keras format, e.g. `model.save('my_model.keras')`.\n",
      "  save_model(self.model, h, save_format='h5')\n"
     ]
    },
    {
     "name": "stdout",
     "output_type": "stream",
     "text": [
      "04-28 19:06:04 I deeptables.m.preprocessor.py 249 - transform_X taken 0.21895909309387207s\n",
      "04-28 19:06:04 I deeptables.m.preprocessor.py 230 - Transform [y]...\n",
      "04-28 19:06:04 I deeptables.m.preprocessor.py 236 - transform_y taken 0.0010006427764892578s\n",
      "04-28 19:06:04 I deeptables.m.deepmodel.py 158 - Performing evaluation...\n",
      "04-28 19:06:04 I deeptables.u.dataset_generator.py 250 - create dataset generator with _TFDGForPandas, batch_size=256, shuffle=False, drop_remainder=False\n",
      "04-28 19:06:05 I deeptables.m.deeptable.py 337 - X.Shape=(132027, 11), y.Shape=(132027,), batch_size=16, config=ModelConfig(name='conf-1', nets=['linear', 'cin_nets', 'dnn_nets'], categorical_columns='auto', exclude_columns=[], task='auto', pos_label=None, metrics=['binary_accuracy'], auto_categorize=True, cat_exponent=0.5, cat_remain_numeric=True, auto_encode_label=True, auto_imputation=True, auto_discrete=True, auto_discard_unique=True, apply_gbm_features=False, gbm_params={}, gbm_feature_type='embedding', fixed_embedding_dim=True, embeddings_output_dim=4, embeddings_initializer='uniform', embeddings_regularizer=None, embeddings_activity_regularizer=None, dense_dropout=0, embedding_dropout=0.4, stacking_op='add', output_use_bias=True, apply_class_weight=False, optimizer='auto', loss='auto', dnn_params={'hidden_units': ((128, 0, False), (64, 0, False)), 'activation': 'relu'}, autoint_params={'num_attention': 3, 'num_heads': 1, 'dropout_rate': 0, 'use_residual': True}, fgcnn_params={'fg_filters': (14, 16), 'fg_heights': (7, 7), 'fg_pool_heights': (2, 2), 'fg_new_feat_filters': (2, 2)}, fibinet_params={'senet_pooling_op': 'mean', 'senet_reduction_ratio': 3, 'bilinear_type': 'field_interaction'}, cross_params={'num_cross_layer': 4}, pnn_params={'outer_product_kernel_type': 'mat'}, afm_params={'attention_factor': 4, 'dropout_rate': 0}, cin_params={'cross_layer_size': (128, 128), 'activation': 'relu', 'use_residual': False, 'use_bias': False, 'direct': False, 'reduce_D': False}, home_dir=None, monitor_metric=None, earlystopping_patience=5, earlystopping_mode='auto', gpu_usage_strategy='memory_growth', distribute_strategy=None, var_len_categorical_columns=None)\n",
      "04-28 19:06:05 I deeptables.m.deeptable.py 338 - metrics:['binary_accuracy']\n",
      "04-28 19:06:05 I hypernets.t.toolbox.py 329 - 2 class detected, {0, 1}, so inferred as a [binary classification] task\n",
      "04-28 19:06:05 I deeptables.m.preprocessor.py 261 - Preparing features...\n",
      "04-28 19:06:06 I deeptables.m.preprocessor.py 336 - Preparing features taken 0.3727381229400635s\n",
      "04-28 19:06:06 I deeptables.m.preprocessor.py 341 - Data imputation...\n",
      "04-28 19:06:06 I deeptables.m.preprocessor.py 383 - Imputation taken 0.38343286514282227s\n",
      "04-28 19:06:06 I deeptables.m.preprocessor.py 388 - Categorical encoding...\n",
      "04-28 19:06:06 I deeptables.m.preprocessor.py 393 - Categorical encoding taken 0.2017660140991211s\n",
      "04-28 19:06:06 I deeptables.m.preprocessor.py 398 - Data discretization...\n",
      "04-28 19:06:06 I hypernets.t.sklearn_ex.py 716 - 11 variables to discrete.\n"
     ]
    },
    {
     "name": "stderr",
     "output_type": "stream",
     "text": [
      "C:\\ProgramData\\anaconda3\\Lib\\site-packages\\sklearn\\preprocessing\\_discretization.py:279: UserWarning: Bins whose width are too small (i.e., <= 1e-8) in feature 0 are removed. Consider decreasing the number of bins.\n",
      "  warnings.warn(\n",
      "C:\\ProgramData\\anaconda3\\Lib\\site-packages\\sklearn\\preprocessing\\_discretization.py:279: UserWarning: Bins whose width are too small (i.e., <= 1e-8) in feature 0 are removed. Consider decreasing the number of bins.\n",
      "  warnings.warn(\n",
      "C:\\ProgramData\\anaconda3\\Lib\\site-packages\\sklearn\\preprocessing\\_discretization.py:279: UserWarning: Bins whose width are too small (i.e., <= 1e-8) in feature 0 are removed. Consider decreasing the number of bins.\n",
      "  warnings.warn(\n",
      "C:\\ProgramData\\anaconda3\\Lib\\site-packages\\sklearn\\preprocessing\\_discretization.py:279: UserWarning: Bins whose width are too small (i.e., <= 1e-8) in feature 0 are removed. Consider decreasing the number of bins.\n",
      "  warnings.warn(\n",
      "C:\\ProgramData\\anaconda3\\Lib\\site-packages\\sklearn\\preprocessing\\_discretization.py:279: UserWarning: Bins whose width are too small (i.e., <= 1e-8) in feature 0 are removed. Consider decreasing the number of bins.\n",
      "  warnings.warn(\n",
      "C:\\ProgramData\\anaconda3\\Lib\\site-packages\\sklearn\\preprocessing\\_discretization.py:279: UserWarning: Bins whose width are too small (i.e., <= 1e-8) in feature 0 are removed. Consider decreasing the number of bins.\n",
      "  warnings.warn(\n"
     ]
    },
    {
     "name": "stdout",
     "output_type": "stream",
     "text": [
      "04-28 19:06:07 I deeptables.m.preprocessor.py 404 - Discretization taken 0.2888925075531006s\n",
      "04-28 19:06:07 I deeptables.m.preprocessor.py 196 - fit_transform taken 1.3902614116668701s\n",
      "04-28 19:06:07 I deeptables.m.preprocessor.py 242 - Transform [X]...\n",
      "04-28 19:06:07 I deeptables.m.preprocessor.py 249 - transform_X taken 0.2097024917602539s\n",
      "04-28 19:06:07 I deeptables.m.preprocessor.py 230 - Transform [y]...\n",
      "04-28 19:06:07 I deeptables.m.preprocessor.py 236 - transform_y taken 0.0009953975677490234s\n",
      "04-28 19:06:07 I deeptables.m.deeptable.py 353 - Training...\n",
      "04-28 19:06:07 I deeptables.m.deeptable.py 752 - Injected a callback [EarlyStopping]. monitor:val_binary_accuracy, patience:5, mode:min\n",
      "04-28 19:06:07 I deeptables.u.dataset_generator.py 250 - create dataset generator with _TFDGForPandas, batch_size=16, shuffle=True, drop_remainder=True\n",
      "04-28 19:06:07 I deeptables.u.dataset_generator.py 250 - create dataset generator with _TFDGForPandas, batch_size=16, shuffle=True, drop_remainder=True\n",
      "04-28 19:06:07 I deeptables.m.deepmodel.py 231 - Building model...\n"
     ]
    },
    {
     "name": "stderr",
     "output_type": "stream",
     "text": [
      "C:\\Users\\David\\AppData\\Roaming\\Python\\Python311\\site-packages\\keras\\src\\initializers\\initializers.py:120: UserWarning: The initializer RandomUniform is unseeded and being called multiple times, which will return identical values each time (even if the initializer is unseeded). Please update your code to provide a seed to the initializer, or avoid using the same initializer instance more than once.\n",
      "  warnings.warn(\n"
     ]
    },
    {
     "name": "stdout",
     "output_type": "stream",
     "text": [
      "04-28 19:06:07 I deeptables.m.deepmodel.py 287 - >>>>>>>>>>>>>>>>>>>>>> Model Desc <<<<<<<<<<<<<<<<<<<<<<< \n",
      "---------------------------------------------------------\n",
      "inputs:\n",
      "---------------------------------------------------------\n",
      "['all_categorical_vars: (19)', 'input_continuous_all: (11)']\n",
      "---------------------------------------------------------\n",
      "embeddings:\n",
      "---------------------------------------------------------\n",
      "input_dims: [5, 4, 73, 13, 6, 4, 4, 4, 7, 15, 17, 3, 3, 5, 4, 3, 3, 3, 3]\n",
      "output_dims: [4, 4, 4, 4, 4, 4, 4, 4, 4, 4, 4, 4, 4, 4, 4, 4, 4, 4, 4]\n",
      "dropout: 0.4\n",
      "---------------------------------------------------------\n",
      "dense: dropout: 0\n",
      "batch_normalization: False\n",
      "---------------------------------------------------------\n",
      "concat_embed_dense: shape: (None, 87)\n",
      "---------------------------------------------------------\n",
      "nets: ['linear', 'cin_nets', 'dnn_nets']\n",
      "---------------------------------------------------------\n",
      "linear: input_shape (None, 30), output_shape (None, 1)\n",
      "cin: input_shape (None, 19, 4), output_shape (None, 1)\n",
      "dnn: input_shape (None, 87), output_shape (None, 64)\n",
      "---------------------------------------------------------\n",
      "stacking_op: add\n",
      "---------------------------------------------------------\n",
      "output: activation: sigmoid, output_shape: (None, 1), use_bias: True\n",
      "loss: binary_crossentropy\n",
      "optimizer: <keras.src.optimizers.adam.Adam object at 0x00000157A9CB4AD0>\n",
      "---------------------------------------------------------\n",
      "\n",
      "04-28 19:06:07 I deeptables.m.deepmodel.py 105 - training...\n",
      "Epoch 1/30\n",
      "8251/8251 [==============================] - 50s 5ms/step - loss: 30.9159 - binary_accuracy: 0.7182 - val_loss: 0.3718 - val_binary_accuracy: 0.8392\n",
      "Epoch 2/30\n",
      "8251/8251 [==============================] - 44s 5ms/step - loss: 0.4654 - binary_accuracy: 0.7872 - val_loss: 0.3926 - val_binary_accuracy: 0.8319\n",
      "Epoch 3/30\n",
      "8251/8251 [==============================] - 44s 5ms/step - loss: 0.4691 - binary_accuracy: 0.7873 - val_loss: 0.4698 - val_binary_accuracy: 0.8050\n",
      "Epoch 4/30\n",
      "8251/8251 [==============================] - 44s 5ms/step - loss: 0.4622 - binary_accuracy: 0.7945 - val_loss: 0.3838 - val_binary_accuracy: 0.8308\n",
      "Epoch 5/30\n",
      "8251/8251 [==============================] - 43s 5ms/step - loss: 0.4629 - binary_accuracy: 0.7921 - val_loss: 0.3595 - val_binary_accuracy: 0.8427\n",
      "Epoch 6/30\n",
      "8251/8251 [==============================] - 45s 5ms/step - loss: 0.4615 - binary_accuracy: 0.7947 - val_loss: 0.4350 - val_binary_accuracy: 0.8055\n",
      "Epoch 7/30\n",
      "8251/8251 [==============================] - 44s 5ms/step - loss: 0.4597 - binary_accuracy: 0.7958 - val_loss: 0.5030 - val_binary_accuracy: 0.7663\n",
      "Epoch 8/30\n",
      "8251/8251 [==============================] - 44s 5ms/step - loss: 0.4620 - binary_accuracy: 0.7937 - val_loss: 0.4472 - val_binary_accuracy: 0.8553\n",
      "Epoch 9/30\n",
      "8251/8251 [==============================] - 44s 5ms/step - loss: 0.4567 - binary_accuracy: 0.7973 - val_loss: 0.5063 - val_binary_accuracy: 0.7665\n",
      "Epoch 10/30\n",
      "8251/8251 [==============================] - 44s 5ms/step - loss: 0.4561 - binary_accuracy: 0.7961 - val_loss: 0.4309 - val_binary_accuracy: 0.8270\n",
      "Epoch 11/30\n",
      "8251/8251 [==============================] - 43s 5ms/step - loss: 0.4591 - binary_accuracy: 0.7934 - val_loss: 0.5035 - val_binary_accuracy: 0.7712\n",
      "Epoch 12/30\n",
      "8248/8251 [============================>.] - ETA: 0s - loss: 0.4568 - binary_accuracy: 0.7970Restoring model weights from the end of the best epoch: 7.\n",
      "8251/8251 [==============================] - 44s 5ms/step - loss: 0.4568 - binary_accuracy: 0.7970 - val_loss: 0.4034 - val_binary_accuracy: 0.8166\n",
      "Epoch 12: early stopping\n",
      "04-28 19:15:01 I deeptables.m.deepmodel.py 122 - Training finished.\n",
      "04-28 19:15:01 I deeptables.m.deeptable.py 369 - Training finished.\n",
      "04-28 19:15:01 I deeptables.m.deeptable.py 704 - Model has been saved to:dt_output/dt_20240428190605_linear_cin_nets_dnn_nets/linear+cin_nets+dnn_nets.h5\n",
      "04-28 19:15:01 I deeptables.m.preprocessor.py 242 - Transform [X]...\n"
     ]
    },
    {
     "name": "stderr",
     "output_type": "stream",
     "text": [
      "C:\\Users\\David\\AppData\\Roaming\\Python\\Python311\\site-packages\\deeptables\\models\\deepmodel.py:188: UserWarning: You are saving your model as an HDF5 file via `model.save()`. This file format is considered legacy. We recommend using instead the native Keras format, e.g. `model.save('my_model.keras')`.\n",
      "  save_model(self.model, h, save_format='h5')\n"
     ]
    },
    {
     "name": "stdout",
     "output_type": "stream",
     "text": [
      "04-28 19:15:01 I deeptables.m.preprocessor.py 249 - transform_X taken 0.22440743446350098s\n",
      "04-28 19:15:01 I deeptables.m.preprocessor.py 230 - Transform [y]...\n",
      "04-28 19:15:01 I deeptables.m.preprocessor.py 236 - transform_y taken 0.0010306835174560547s\n",
      "04-28 19:15:01 I deeptables.m.deepmodel.py 158 - Performing evaluation...\n",
      "04-28 19:15:01 I deeptables.u.dataset_generator.py 250 - create dataset generator with _TFDGForPandas, batch_size=256, shuffle=False, drop_remainder=False\n",
      "04-28 19:15:02 I deeptables.m.deeptable.py 337 - X.Shape=(132027, 11), y.Shape=(132027,), batch_size=16, config=ModelConfig(name='conf-1', nets=['linear', 'cin_nets', 'dnn_nets'], categorical_columns='auto', exclude_columns=[], task='auto', pos_label=None, metrics=['binary_accuracy'], auto_categorize=True, cat_exponent=0.5, cat_remain_numeric=True, auto_encode_label=True, auto_imputation=True, auto_discrete=True, auto_discard_unique=True, apply_gbm_features=False, gbm_params={}, gbm_feature_type='embedding', fixed_embedding_dim=True, embeddings_output_dim=4, embeddings_initializer='uniform', embeddings_regularizer=None, embeddings_activity_regularizer=None, dense_dropout=0, embedding_dropout=0.6, stacking_op='add', output_use_bias=True, apply_class_weight=False, optimizer='auto', loss='auto', dnn_params={'hidden_units': ((128, 0, False), (64, 0, False)), 'activation': 'relu'}, autoint_params={'num_attention': 3, 'num_heads': 1, 'dropout_rate': 0, 'use_residual': True}, fgcnn_params={'fg_filters': (14, 16), 'fg_heights': (7, 7), 'fg_pool_heights': (2, 2), 'fg_new_feat_filters': (2, 2)}, fibinet_params={'senet_pooling_op': 'mean', 'senet_reduction_ratio': 3, 'bilinear_type': 'field_interaction'}, cross_params={'num_cross_layer': 4}, pnn_params={'outer_product_kernel_type': 'mat'}, afm_params={'attention_factor': 4, 'dropout_rate': 0}, cin_params={'cross_layer_size': (128, 128), 'activation': 'relu', 'use_residual': False, 'use_bias': False, 'direct': False, 'reduce_D': False}, home_dir=None, monitor_metric=None, earlystopping_patience=5, earlystopping_mode='auto', gpu_usage_strategy='memory_growth', distribute_strategy=None, var_len_categorical_columns=None)\n",
      "04-28 19:15:02 I deeptables.m.deeptable.py 338 - metrics:['binary_accuracy']\n",
      "04-28 19:15:02 I hypernets.t.toolbox.py 329 - 2 class detected, {0, 1}, so inferred as a [binary classification] task\n",
      "04-28 19:15:02 I deeptables.m.preprocessor.py 261 - Preparing features...\n",
      "04-28 19:15:03 I deeptables.m.preprocessor.py 336 - Preparing features taken 0.37265563011169434s\n",
      "04-28 19:15:03 I deeptables.m.preprocessor.py 341 - Data imputation...\n",
      "04-28 19:15:03 I deeptables.m.preprocessor.py 383 - Imputation taken 0.3841066360473633s\n",
      "04-28 19:15:03 I deeptables.m.preprocessor.py 388 - Categorical encoding...\n",
      "04-28 19:15:03 I deeptables.m.preprocessor.py 393 - Categorical encoding taken 0.19895672798156738s\n",
      "04-28 19:15:03 I deeptables.m.preprocessor.py 398 - Data discretization...\n",
      "04-28 19:15:03 I hypernets.t.sklearn_ex.py 716 - 11 variables to discrete.\n"
     ]
    },
    {
     "name": "stderr",
     "output_type": "stream",
     "text": [
      "C:\\ProgramData\\anaconda3\\Lib\\site-packages\\sklearn\\preprocessing\\_discretization.py:279: UserWarning: Bins whose width are too small (i.e., <= 1e-8) in feature 0 are removed. Consider decreasing the number of bins.\n",
      "  warnings.warn(\n",
      "C:\\ProgramData\\anaconda3\\Lib\\site-packages\\sklearn\\preprocessing\\_discretization.py:279: UserWarning: Bins whose width are too small (i.e., <= 1e-8) in feature 0 are removed. Consider decreasing the number of bins.\n",
      "  warnings.warn(\n",
      "C:\\ProgramData\\anaconda3\\Lib\\site-packages\\sklearn\\preprocessing\\_discretization.py:279: UserWarning: Bins whose width are too small (i.e., <= 1e-8) in feature 0 are removed. Consider decreasing the number of bins.\n",
      "  warnings.warn(\n",
      "C:\\ProgramData\\anaconda3\\Lib\\site-packages\\sklearn\\preprocessing\\_discretization.py:279: UserWarning: Bins whose width are too small (i.e., <= 1e-8) in feature 0 are removed. Consider decreasing the number of bins.\n",
      "  warnings.warn(\n",
      "C:\\ProgramData\\anaconda3\\Lib\\site-packages\\sklearn\\preprocessing\\_discretization.py:279: UserWarning: Bins whose width are too small (i.e., <= 1e-8) in feature 0 are removed. Consider decreasing the number of bins.\n",
      "  warnings.warn(\n",
      "C:\\ProgramData\\anaconda3\\Lib\\site-packages\\sklearn\\preprocessing\\_discretization.py:279: UserWarning: Bins whose width are too small (i.e., <= 1e-8) in feature 0 are removed. Consider decreasing the number of bins.\n",
      "  warnings.warn(\n"
     ]
    },
    {
     "name": "stdout",
     "output_type": "stream",
     "text": [
      "04-28 19:15:04 I deeptables.m.preprocessor.py 404 - Discretization taken 0.2834913730621338s\n",
      "04-28 19:15:04 I deeptables.m.preprocessor.py 196 - fit_transform taken 1.3873305320739746s\n",
      "04-28 19:15:04 I deeptables.m.preprocessor.py 242 - Transform [X]...\n",
      "04-28 19:15:04 I deeptables.m.preprocessor.py 249 - transform_X taken 0.21065974235534668s\n",
      "04-28 19:15:04 I deeptables.m.preprocessor.py 230 - Transform [y]...\n",
      "04-28 19:15:04 I deeptables.m.preprocessor.py 236 - transform_y taken 0.0009996891021728516s\n",
      "04-28 19:15:04 I deeptables.m.deeptable.py 353 - Training...\n",
      "04-28 19:15:04 I deeptables.m.deeptable.py 752 - Injected a callback [EarlyStopping]. monitor:val_binary_accuracy, patience:5, mode:min\n",
      "04-28 19:15:04 I deeptables.u.dataset_generator.py 250 - create dataset generator with _TFDGForPandas, batch_size=16, shuffle=True, drop_remainder=True\n",
      "04-28 19:15:04 I deeptables.u.dataset_generator.py 250 - create dataset generator with _TFDGForPandas, batch_size=16, shuffle=True, drop_remainder=True\n",
      "04-28 19:15:04 I deeptables.m.deepmodel.py 231 - Building model...\n"
     ]
    },
    {
     "name": "stderr",
     "output_type": "stream",
     "text": [
      "C:\\Users\\David\\AppData\\Roaming\\Python\\Python311\\site-packages\\keras\\src\\initializers\\initializers.py:120: UserWarning: The initializer RandomUniform is unseeded and being called multiple times, which will return identical values each time (even if the initializer is unseeded). Please update your code to provide a seed to the initializer, or avoid using the same initializer instance more than once.\n",
      "  warnings.warn(\n"
     ]
    },
    {
     "name": "stdout",
     "output_type": "stream",
     "text": [
      "04-28 19:15:04 I deeptables.m.deepmodel.py 287 - >>>>>>>>>>>>>>>>>>>>>> Model Desc <<<<<<<<<<<<<<<<<<<<<<< \n",
      "---------------------------------------------------------\n",
      "inputs:\n",
      "---------------------------------------------------------\n",
      "['all_categorical_vars: (19)', 'input_continuous_all: (11)']\n",
      "---------------------------------------------------------\n",
      "embeddings:\n",
      "---------------------------------------------------------\n",
      "input_dims: [5, 4, 73, 13, 6, 4, 4, 4, 7, 15, 17, 3, 3, 5, 4, 3, 3, 3, 3]\n",
      "output_dims: [4, 4, 4, 4, 4, 4, 4, 4, 4, 4, 4, 4, 4, 4, 4, 4, 4, 4, 4]\n",
      "dropout: 0.6\n",
      "---------------------------------------------------------\n",
      "dense: dropout: 0\n",
      "batch_normalization: False\n",
      "---------------------------------------------------------\n",
      "concat_embed_dense: shape: (None, 87)\n",
      "---------------------------------------------------------\n",
      "nets: ['linear', 'cin_nets', 'dnn_nets']\n",
      "---------------------------------------------------------\n",
      "linear: input_shape (None, 30), output_shape (None, 1)\n",
      "cin: input_shape (None, 19, 4), output_shape (None, 1)\n",
      "dnn: input_shape (None, 87), output_shape (None, 64)\n",
      "---------------------------------------------------------\n",
      "stacking_op: add\n",
      "---------------------------------------------------------\n",
      "output: activation: sigmoid, output_shape: (None, 1), use_bias: True\n",
      "loss: binary_crossentropy\n",
      "optimizer: <keras.src.optimizers.adam.Adam object at 0x00000157C3EC2790>\n",
      "---------------------------------------------------------\n",
      "\n",
      "04-28 19:15:04 I deeptables.m.deepmodel.py 105 - training...\n",
      "Epoch 1/30\n",
      "8251/8251 [==============================] - 49s 5ms/step - loss: 443.7093 - binary_accuracy: 0.6899 - val_loss: 4.1812 - val_binary_accuracy: 0.8396\n",
      "Epoch 2/30\n",
      "8251/8251 [==============================] - 44s 5ms/step - loss: 3.1434 - binary_accuracy: 0.7428 - val_loss: 0.4149 - val_binary_accuracy: 0.8055\n",
      "Epoch 3/30\n",
      "8251/8251 [==============================] - 44s 5ms/step - loss: 0.4723 - binary_accuracy: 0.7759 - val_loss: 0.6442 - val_binary_accuracy: 0.6577\n",
      "Epoch 4/30\n",
      "8251/8251 [==============================] - 43s 5ms/step - loss: 0.4747 - binary_accuracy: 0.7829 - val_loss: 0.4447 - val_binary_accuracy: 0.8002\n",
      "Epoch 5/30\n",
      "8251/8251 [==============================] - 43s 5ms/step - loss: 0.4666 - binary_accuracy: 0.7896 - val_loss: 0.4141 - val_binary_accuracy: 0.8198\n",
      "Epoch 6/30\n",
      "8251/8251 [==============================] - 44s 5ms/step - loss: 0.4683 - binary_accuracy: 0.7893 - val_loss: 0.3918 - val_binary_accuracy: 0.8297\n",
      "Epoch 7/30\n",
      "8251/8251 [==============================] - 43s 5ms/step - loss: 0.4660 - binary_accuracy: 0.7914 - val_loss: 0.4089 - val_binary_accuracy: 0.8124\n",
      "Epoch 8/30\n",
      "8242/8251 [============================>.] - ETA: 0s - loss: 0.4621 - binary_accuracy: 0.7919Restoring model weights from the end of the best epoch: 3.\n",
      "8251/8251 [==============================] - 43s 5ms/step - loss: 0.4621 - binary_accuracy: 0.7919 - val_loss: 0.3677 - val_binary_accuracy: 0.8402\n",
      "Epoch 8: early stopping\n",
      "04-28 19:20:57 I deeptables.m.deepmodel.py 122 - Training finished.\n",
      "04-28 19:20:57 I deeptables.m.deeptable.py 369 - Training finished.\n",
      "04-28 19:20:57 I deeptables.m.deeptable.py 704 - Model has been saved to:dt_output/dt_20240428191502_linear_cin_nets_dnn_nets/linear+cin_nets+dnn_nets.h5\n",
      "04-28 19:20:57 I deeptables.m.preprocessor.py 242 - Transform [X]...\n"
     ]
    },
    {
     "name": "stderr",
     "output_type": "stream",
     "text": [
      "C:\\Users\\David\\AppData\\Roaming\\Python\\Python311\\site-packages\\deeptables\\models\\deepmodel.py:188: UserWarning: You are saving your model as an HDF5 file via `model.save()`. This file format is considered legacy. We recommend using instead the native Keras format, e.g. `model.save('my_model.keras')`.\n",
      "  save_model(self.model, h, save_format='h5')\n"
     ]
    },
    {
     "name": "stdout",
     "output_type": "stream",
     "text": [
      "04-28 19:20:57 I deeptables.m.preprocessor.py 249 - transform_X taken 0.2242431640625s\n",
      "04-28 19:20:57 I deeptables.m.preprocessor.py 230 - Transform [y]...\n",
      "04-28 19:20:57 I deeptables.m.preprocessor.py 236 - transform_y taken 0.0009996891021728516s\n",
      "04-28 19:20:57 I deeptables.m.deepmodel.py 158 - Performing evaluation...\n",
      "04-28 19:20:57 I deeptables.u.dataset_generator.py 250 - create dataset generator with _TFDGForPandas, batch_size=256, shuffle=False, drop_remainder=False\n",
      "04-28 19:20:58 I deeptables.m.deeptable.py 337 - X.Shape=(132027, 11), y.Shape=(132027,), batch_size=16, config=ModelConfig(name='conf-1', nets=['dcn_nets'], categorical_columns='auto', exclude_columns=[], task='auto', pos_label=None, metrics=['binary_accuracy'], auto_categorize=True, cat_exponent=0.5, cat_remain_numeric=True, auto_encode_label=True, auto_imputation=True, auto_discrete=True, auto_discard_unique=True, apply_gbm_features=False, gbm_params={}, gbm_feature_type='embedding', fixed_embedding_dim=True, embeddings_output_dim=4, embeddings_initializer='uniform', embeddings_regularizer=None, embeddings_activity_regularizer=None, dense_dropout=0, embedding_dropout=0.2, stacking_op='add', output_use_bias=True, apply_class_weight=False, optimizer='auto', loss='auto', dnn_params={'hidden_units': ((128, 0, False), (64, 0, False)), 'activation': 'relu'}, autoint_params={'num_attention': 3, 'num_heads': 1, 'dropout_rate': 0, 'use_residual': True}, fgcnn_params={'fg_filters': (14, 16), 'fg_heights': (7, 7), 'fg_pool_heights': (2, 2), 'fg_new_feat_filters': (2, 2)}, fibinet_params={'senet_pooling_op': 'mean', 'senet_reduction_ratio': 3, 'bilinear_type': 'field_interaction'}, cross_params={'num_cross_layer': 4}, pnn_params={'outer_product_kernel_type': 'mat'}, afm_params={'attention_factor': 4, 'dropout_rate': 0}, cin_params={'cross_layer_size': (128, 128), 'activation': 'relu', 'use_residual': False, 'use_bias': False, 'direct': False, 'reduce_D': False}, home_dir=None, monitor_metric=None, earlystopping_patience=5, earlystopping_mode='auto', gpu_usage_strategy='memory_growth', distribute_strategy=None, var_len_categorical_columns=None)\n",
      "04-28 19:20:58 I deeptables.m.deeptable.py 338 - metrics:['binary_accuracy']\n",
      "04-28 19:20:58 I hypernets.t.toolbox.py 329 - 2 class detected, {0, 1}, so inferred as a [binary classification] task\n",
      "04-28 19:20:58 I deeptables.m.preprocessor.py 261 - Preparing features...\n",
      "04-28 19:20:59 I deeptables.m.preprocessor.py 336 - Preparing features taken 0.3714256286621094s\n",
      "04-28 19:20:59 I deeptables.m.preprocessor.py 341 - Data imputation...\n",
      "04-28 19:20:59 I deeptables.m.preprocessor.py 383 - Imputation taken 0.38539838790893555s\n",
      "04-28 19:20:59 I deeptables.m.preprocessor.py 388 - Categorical encoding...\n",
      "04-28 19:20:59 I deeptables.m.preprocessor.py 393 - Categorical encoding taken 0.20119714736938477s\n",
      "04-28 19:20:59 I deeptables.m.preprocessor.py 398 - Data discretization...\n",
      "04-28 19:20:59 I hypernets.t.sklearn_ex.py 716 - 11 variables to discrete.\n"
     ]
    },
    {
     "name": "stderr",
     "output_type": "stream",
     "text": [
      "C:\\ProgramData\\anaconda3\\Lib\\site-packages\\sklearn\\preprocessing\\_discretization.py:279: UserWarning: Bins whose width are too small (i.e., <= 1e-8) in feature 0 are removed. Consider decreasing the number of bins.\n",
      "  warnings.warn(\n",
      "C:\\ProgramData\\anaconda3\\Lib\\site-packages\\sklearn\\preprocessing\\_discretization.py:279: UserWarning: Bins whose width are too small (i.e., <= 1e-8) in feature 0 are removed. Consider decreasing the number of bins.\n",
      "  warnings.warn(\n",
      "C:\\ProgramData\\anaconda3\\Lib\\site-packages\\sklearn\\preprocessing\\_discretization.py:279: UserWarning: Bins whose width are too small (i.e., <= 1e-8) in feature 0 are removed. Consider decreasing the number of bins.\n",
      "  warnings.warn(\n",
      "C:\\ProgramData\\anaconda3\\Lib\\site-packages\\sklearn\\preprocessing\\_discretization.py:279: UserWarning: Bins whose width are too small (i.e., <= 1e-8) in feature 0 are removed. Consider decreasing the number of bins.\n",
      "  warnings.warn(\n",
      "C:\\ProgramData\\anaconda3\\Lib\\site-packages\\sklearn\\preprocessing\\_discretization.py:279: UserWarning: Bins whose width are too small (i.e., <= 1e-8) in feature 0 are removed. Consider decreasing the number of bins.\n",
      "  warnings.warn(\n",
      "C:\\ProgramData\\anaconda3\\Lib\\site-packages\\sklearn\\preprocessing\\_discretization.py:279: UserWarning: Bins whose width are too small (i.e., <= 1e-8) in feature 0 are removed. Consider decreasing the number of bins.\n",
      "  warnings.warn(\n"
     ]
    },
    {
     "name": "stdout",
     "output_type": "stream",
     "text": [
      "04-28 19:21:00 I deeptables.m.preprocessor.py 404 - Discretization taken 0.2866647243499756s\n",
      "04-28 19:21:00 I deeptables.m.preprocessor.py 196 - fit_transform taken 1.3852143287658691s\n",
      "04-28 19:21:00 I deeptables.m.preprocessor.py 242 - Transform [X]...\n",
      "04-28 19:21:00 I deeptables.m.preprocessor.py 249 - transform_X taken 0.21125507354736328s\n",
      "04-28 19:21:00 I deeptables.m.preprocessor.py 230 - Transform [y]...\n",
      "04-28 19:21:00 I deeptables.m.preprocessor.py 236 - transform_y taken 0.0009694099426269531s\n",
      "04-28 19:21:00 I deeptables.m.deeptable.py 353 - Training...\n",
      "04-28 19:21:00 I deeptables.m.deeptable.py 752 - Injected a callback [EarlyStopping]. monitor:val_binary_accuracy, patience:5, mode:min\n",
      "04-28 19:21:00 I deeptables.u.dataset_generator.py 250 - create dataset generator with _TFDGForPandas, batch_size=16, shuffle=True, drop_remainder=True\n",
      "04-28 19:21:00 I deeptables.u.dataset_generator.py 250 - create dataset generator with _TFDGForPandas, batch_size=16, shuffle=True, drop_remainder=True\n",
      "04-28 19:21:00 I deeptables.m.deepmodel.py 231 - Building model...\n"
     ]
    },
    {
     "name": "stderr",
     "output_type": "stream",
     "text": [
      "C:\\Users\\David\\AppData\\Roaming\\Python\\Python311\\site-packages\\keras\\src\\initializers\\initializers.py:120: UserWarning: The initializer RandomUniform is unseeded and being called multiple times, which will return identical values each time (even if the initializer is unseeded). Please update your code to provide a seed to the initializer, or avoid using the same initializer instance more than once.\n",
      "  warnings.warn(\n"
     ]
    },
    {
     "name": "stdout",
     "output_type": "stream",
     "text": [
      "04-28 19:21:00 I deeptables.m.deepmodel.py 287 - >>>>>>>>>>>>>>>>>>>>>> Model Desc <<<<<<<<<<<<<<<<<<<<<<< \n",
      "---------------------------------------------------------\n",
      "inputs:\n",
      "---------------------------------------------------------\n",
      "['all_categorical_vars: (19)', 'input_continuous_all: (11)']\n",
      "---------------------------------------------------------\n",
      "embeddings:\n",
      "---------------------------------------------------------\n",
      "input_dims: [5, 4, 73, 13, 6, 4, 4, 4, 7, 15, 17, 3, 3, 5, 4, 3, 3, 3, 3]\n",
      "output_dims: [4, 4, 4, 4, 4, 4, 4, 4, 4, 4, 4, 4, 4, 4, 4, 4, 4, 4, 4]\n",
      "dropout: 0.2\n",
      "---------------------------------------------------------\n",
      "dense: dropout: 0\n",
      "batch_normalization: False\n",
      "---------------------------------------------------------\n",
      "concat_embed_dense: shape: (None, 87)\n",
      "---------------------------------------------------------\n",
      "nets: ['dcn_nets']\n",
      "---------------------------------------------------------\n",
      "dcn-widecross: input_shape (None, 87), output_shape (None, 87)\n",
      "dcn-dnn2: input_shape (None, 87), output_shape (None, 64)\n",
      "dcn: input_shape (None, 87), output_shape (None, 151)\n",
      "---------------------------------------------------------\n",
      "stacking_op: add\n",
      "---------------------------------------------------------\n",
      "output: activation: sigmoid, output_shape: (None, 1), use_bias: True\n",
      "loss: binary_crossentropy\n",
      "optimizer: <keras.src.optimizers.adam.Adam object at 0x00000157AA4F2610>\n",
      "---------------------------------------------------------\n",
      "\n",
      "04-28 19:21:00 I deeptables.m.deepmodel.py 105 - training...\n",
      "Epoch 1/30\n",
      "8251/8251 [==============================] - 24s 2ms/step - loss: 0.4518 - binary_accuracy: 0.7945 - val_loss: 0.4137 - val_binary_accuracy: 0.8113\n",
      "Epoch 2/30\n",
      "8251/8251 [==============================] - 19s 2ms/step - loss: 0.4389 - binary_accuracy: 0.8028 - val_loss: 0.4316 - val_binary_accuracy: 0.8091\n",
      "Epoch 3/30\n",
      "8251/8251 [==============================] - 19s 2ms/step - loss: 0.4337 - binary_accuracy: 0.8063 - val_loss: 0.4141 - val_binary_accuracy: 0.8010\n",
      "Epoch 4/30\n",
      "8251/8251 [==============================] - 19s 2ms/step - loss: 0.4324 - binary_accuracy: 0.8074 - val_loss: 0.4333 - val_binary_accuracy: 0.8056\n",
      "Epoch 5/30\n",
      "8251/8251 [==============================] - 19s 2ms/step - loss: 0.4303 - binary_accuracy: 0.8105 - val_loss: 0.4236 - val_binary_accuracy: 0.8131\n",
      "Epoch 6/30\n",
      "8251/8251 [==============================] - 19s 2ms/step - loss: 0.4287 - binary_accuracy: 0.8107 - val_loss: 0.4287 - val_binary_accuracy: 0.8099\n",
      "Epoch 7/30\n",
      "8251/8251 [==============================] - 19s 2ms/step - loss: 0.4270 - binary_accuracy: 0.8110 - val_loss: 0.4159 - val_binary_accuracy: 0.8146\n",
      "Epoch 8/30\n",
      "8228/8251 [============================>.] - ETA: 0s - loss: 0.4264 - binary_accuracy: 0.8119Restoring model weights from the end of the best epoch: 3.\n",
      "8251/8251 [==============================] - 19s 2ms/step - loss: 0.4263 - binary_accuracy: 0.8119 - val_loss: 0.4128 - val_binary_accuracy: 0.8233\n",
      "Epoch 8: early stopping\n",
      "04-28 19:23:38 I deeptables.m.deepmodel.py 122 - Training finished.\n",
      "04-28 19:23:38 I deeptables.m.deeptable.py 369 - Training finished.\n",
      "04-28 19:23:38 I deeptables.m.deeptable.py 704 - Model has been saved to:dt_output/dt_20240428192058_dcn_nets/dcn_nets.h5\n",
      "04-28 19:23:38 I deeptables.m.preprocessor.py 242 - Transform [X]...\n"
     ]
    },
    {
     "name": "stderr",
     "output_type": "stream",
     "text": [
      "C:\\Users\\David\\AppData\\Roaming\\Python\\Python311\\site-packages\\deeptables\\models\\deepmodel.py:188: UserWarning: You are saving your model as an HDF5 file via `model.save()`. This file format is considered legacy. We recommend using instead the native Keras format, e.g. `model.save('my_model.keras')`.\n",
      "  save_model(self.model, h, save_format='h5')\n"
     ]
    },
    {
     "name": "stdout",
     "output_type": "stream",
     "text": [
      "04-28 19:23:38 I deeptables.m.preprocessor.py 249 - transform_X taken 0.22022795677185059s\n",
      "04-28 19:23:38 I deeptables.m.preprocessor.py 230 - Transform [y]...\n",
      "04-28 19:23:38 I deeptables.m.preprocessor.py 236 - transform_y taken 0.000997304916381836s\n",
      "04-28 19:23:38 I deeptables.m.deepmodel.py 158 - Performing evaluation...\n",
      "04-28 19:23:38 I deeptables.u.dataset_generator.py 250 - create dataset generator with _TFDGForPandas, batch_size=256, shuffle=False, drop_remainder=False\n",
      "04-28 19:23:39 I deeptables.m.deeptable.py 337 - X.Shape=(132027, 11), y.Shape=(132027,), batch_size=16, config=ModelConfig(name='conf-1', nets=['dcn_nets'], categorical_columns='auto', exclude_columns=[], task='auto', pos_label=None, metrics=['binary_accuracy'], auto_categorize=True, cat_exponent=0.5, cat_remain_numeric=True, auto_encode_label=True, auto_imputation=True, auto_discrete=True, auto_discard_unique=True, apply_gbm_features=False, gbm_params={}, gbm_feature_type='embedding', fixed_embedding_dim=True, embeddings_output_dim=4, embeddings_initializer='uniform', embeddings_regularizer=None, embeddings_activity_regularizer=None, dense_dropout=0, embedding_dropout=0.4, stacking_op='add', output_use_bias=True, apply_class_weight=False, optimizer='auto', loss='auto', dnn_params={'hidden_units': ((128, 0, False), (64, 0, False)), 'activation': 'relu'}, autoint_params={'num_attention': 3, 'num_heads': 1, 'dropout_rate': 0, 'use_residual': True}, fgcnn_params={'fg_filters': (14, 16), 'fg_heights': (7, 7), 'fg_pool_heights': (2, 2), 'fg_new_feat_filters': (2, 2)}, fibinet_params={'senet_pooling_op': 'mean', 'senet_reduction_ratio': 3, 'bilinear_type': 'field_interaction'}, cross_params={'num_cross_layer': 4}, pnn_params={'outer_product_kernel_type': 'mat'}, afm_params={'attention_factor': 4, 'dropout_rate': 0}, cin_params={'cross_layer_size': (128, 128), 'activation': 'relu', 'use_residual': False, 'use_bias': False, 'direct': False, 'reduce_D': False}, home_dir=None, monitor_metric=None, earlystopping_patience=5, earlystopping_mode='auto', gpu_usage_strategy='memory_growth', distribute_strategy=None, var_len_categorical_columns=None)\n",
      "04-28 19:23:39 I deeptables.m.deeptable.py 338 - metrics:['binary_accuracy']\n",
      "04-28 19:23:39 I hypernets.t.toolbox.py 329 - 2 class detected, {0, 1}, so inferred as a [binary classification] task\n",
      "04-28 19:23:39 I deeptables.m.preprocessor.py 261 - Preparing features...\n",
      "04-28 19:23:39 I deeptables.m.preprocessor.py 336 - Preparing features taken 0.37398695945739746s\n",
      "04-28 19:23:39 I deeptables.m.preprocessor.py 341 - Data imputation...\n",
      "04-28 19:23:39 I deeptables.m.preprocessor.py 383 - Imputation taken 0.38493919372558594s\n",
      "04-28 19:23:39 I deeptables.m.preprocessor.py 388 - Categorical encoding...\n",
      "04-28 19:23:40 I deeptables.m.preprocessor.py 393 - Categorical encoding taken 0.19818568229675293s\n",
      "04-28 19:23:40 I deeptables.m.preprocessor.py 398 - Data discretization...\n",
      "04-28 19:23:40 I hypernets.t.sklearn_ex.py 716 - 11 variables to discrete.\n"
     ]
    },
    {
     "name": "stderr",
     "output_type": "stream",
     "text": [
      "C:\\ProgramData\\anaconda3\\Lib\\site-packages\\sklearn\\preprocessing\\_discretization.py:279: UserWarning: Bins whose width are too small (i.e., <= 1e-8) in feature 0 are removed. Consider decreasing the number of bins.\n",
      "  warnings.warn(\n",
      "C:\\ProgramData\\anaconda3\\Lib\\site-packages\\sklearn\\preprocessing\\_discretization.py:279: UserWarning: Bins whose width are too small (i.e., <= 1e-8) in feature 0 are removed. Consider decreasing the number of bins.\n",
      "  warnings.warn(\n",
      "C:\\ProgramData\\anaconda3\\Lib\\site-packages\\sklearn\\preprocessing\\_discretization.py:279: UserWarning: Bins whose width are too small (i.e., <= 1e-8) in feature 0 are removed. Consider decreasing the number of bins.\n",
      "  warnings.warn(\n",
      "C:\\ProgramData\\anaconda3\\Lib\\site-packages\\sklearn\\preprocessing\\_discretization.py:279: UserWarning: Bins whose width are too small (i.e., <= 1e-8) in feature 0 are removed. Consider decreasing the number of bins.\n",
      "  warnings.warn(\n",
      "C:\\ProgramData\\anaconda3\\Lib\\site-packages\\sklearn\\preprocessing\\_discretization.py:279: UserWarning: Bins whose width are too small (i.e., <= 1e-8) in feature 0 are removed. Consider decreasing the number of bins.\n",
      "  warnings.warn(\n",
      "C:\\ProgramData\\anaconda3\\Lib\\site-packages\\sklearn\\preprocessing\\_discretization.py:279: UserWarning: Bins whose width are too small (i.e., <= 1e-8) in feature 0 are removed. Consider decreasing the number of bins.\n",
      "  warnings.warn(\n"
     ]
    },
    {
     "name": "stdout",
     "output_type": "stream",
     "text": [
      "04-28 19:23:40 I deeptables.m.preprocessor.py 404 - Discretization taken 0.2825803756713867s\n",
      "04-28 19:23:40 I deeptables.m.preprocessor.py 196 - fit_transform taken 1.381901741027832s\n",
      "04-28 19:23:40 I deeptables.m.preprocessor.py 242 - Transform [X]...\n",
      "04-28 19:23:40 I deeptables.m.preprocessor.py 249 - transform_X taken 0.20812106132507324s\n",
      "04-28 19:23:40 I deeptables.m.preprocessor.py 230 - Transform [y]...\n",
      "04-28 19:23:40 I deeptables.m.preprocessor.py 236 - transform_y taken 0.0010004043579101562s\n",
      "04-28 19:23:40 I deeptables.m.deeptable.py 353 - Training...\n",
      "04-28 19:23:40 I deeptables.m.deeptable.py 752 - Injected a callback [EarlyStopping]. monitor:val_binary_accuracy, patience:5, mode:min\n",
      "04-28 19:23:40 I deeptables.u.dataset_generator.py 250 - create dataset generator with _TFDGForPandas, batch_size=16, shuffle=True, drop_remainder=True\n",
      "04-28 19:23:40 I deeptables.u.dataset_generator.py 250 - create dataset generator with _TFDGForPandas, batch_size=16, shuffle=True, drop_remainder=True\n",
      "04-28 19:23:40 I deeptables.m.deepmodel.py 231 - Building model...\n"
     ]
    },
    {
     "name": "stderr",
     "output_type": "stream",
     "text": [
      "C:\\Users\\David\\AppData\\Roaming\\Python\\Python311\\site-packages\\keras\\src\\initializers\\initializers.py:120: UserWarning: The initializer RandomUniform is unseeded and being called multiple times, which will return identical values each time (even if the initializer is unseeded). Please update your code to provide a seed to the initializer, or avoid using the same initializer instance more than once.\n",
      "  warnings.warn(\n"
     ]
    },
    {
     "name": "stdout",
     "output_type": "stream",
     "text": [
      "04-28 19:23:41 I deeptables.m.deepmodel.py 287 - >>>>>>>>>>>>>>>>>>>>>> Model Desc <<<<<<<<<<<<<<<<<<<<<<< \n",
      "---------------------------------------------------------\n",
      "inputs:\n",
      "---------------------------------------------------------\n",
      "['all_categorical_vars: (19)', 'input_continuous_all: (11)']\n",
      "---------------------------------------------------------\n",
      "embeddings:\n",
      "---------------------------------------------------------\n",
      "input_dims: [5, 4, 73, 13, 6, 4, 4, 4, 7, 15, 17, 3, 3, 5, 4, 3, 3, 3, 3]\n",
      "output_dims: [4, 4, 4, 4, 4, 4, 4, 4, 4, 4, 4, 4, 4, 4, 4, 4, 4, 4, 4]\n",
      "dropout: 0.4\n",
      "---------------------------------------------------------\n",
      "dense: dropout: 0\n",
      "batch_normalization: False\n",
      "---------------------------------------------------------\n",
      "concat_embed_dense: shape: (None, 87)\n",
      "---------------------------------------------------------\n",
      "nets: ['dcn_nets']\n",
      "---------------------------------------------------------\n",
      "dcn-widecross: input_shape (None, 87), output_shape (None, 87)\n",
      "dcn-dnn2: input_shape (None, 87), output_shape (None, 64)\n",
      "dcn: input_shape (None, 87), output_shape (None, 151)\n",
      "---------------------------------------------------------\n",
      "stacking_op: add\n",
      "---------------------------------------------------------\n",
      "output: activation: sigmoid, output_shape: (None, 1), use_bias: True\n",
      "loss: binary_crossentropy\n",
      "optimizer: <keras.src.optimizers.adam.Adam object at 0x00000157C23A15D0>\n",
      "---------------------------------------------------------\n",
      "\n",
      "04-28 19:23:41 I deeptables.m.deepmodel.py 105 - training...\n",
      "Epoch 1/30\n",
      "8251/8251 [==============================] - 24s 2ms/step - loss: 0.4578 - binary_accuracy: 0.7904 - val_loss: 0.4834 - val_binary_accuracy: 0.7818\n",
      "Epoch 2/30\n",
      "8251/8251 [==============================] - 20s 2ms/step - loss: 0.4415 - binary_accuracy: 0.7998 - val_loss: 0.4172 - val_binary_accuracy: 0.8088\n",
      "Epoch 3/30\n",
      "8251/8251 [==============================] - 19s 2ms/step - loss: 0.4367 - binary_accuracy: 0.8042 - val_loss: 0.4158 - val_binary_accuracy: 0.8159\n",
      "Epoch 4/30\n",
      "8251/8251 [==============================] - 19s 2ms/step - loss: 0.4333 - binary_accuracy: 0.8060 - val_loss: 0.4136 - val_binary_accuracy: 0.8079\n",
      "Epoch 5/30\n",
      "8251/8251 [==============================] - 19s 2ms/step - loss: 0.4316 - binary_accuracy: 0.8072 - val_loss: 0.4243 - val_binary_accuracy: 0.8003\n",
      "Epoch 6/30\n",
      "8237/8251 [============================>.] - ETA: 0s - loss: 0.4300 - binary_accuracy: 0.8063Restoring model weights from the end of the best epoch: 1.\n",
      "8251/8251 [==============================] - 19s 2ms/step - loss: 0.4301 - binary_accuracy: 0.8062 - val_loss: 0.4454 - val_binary_accuracy: 0.7956\n",
      "Epoch 6: early stopping\n",
      "04-28 19:25:41 I deeptables.m.deepmodel.py 122 - Training finished.\n",
      "04-28 19:25:41 I deeptables.m.deeptable.py 369 - Training finished.\n",
      "04-28 19:25:41 I deeptables.m.deeptable.py 704 - Model has been saved to:dt_output/dt_20240428192339_dcn_nets/dcn_nets.h5\n",
      "04-28 19:25:41 I deeptables.m.preprocessor.py 242 - Transform [X]...\n"
     ]
    },
    {
     "name": "stderr",
     "output_type": "stream",
     "text": [
      "C:\\Users\\David\\AppData\\Roaming\\Python\\Python311\\site-packages\\deeptables\\models\\deepmodel.py:188: UserWarning: You are saving your model as an HDF5 file via `model.save()`. This file format is considered legacy. We recommend using instead the native Keras format, e.g. `model.save('my_model.keras')`.\n",
      "  save_model(self.model, h, save_format='h5')\n"
     ]
    },
    {
     "name": "stdout",
     "output_type": "stream",
     "text": [
      "04-28 19:25:41 I deeptables.m.preprocessor.py 249 - transform_X taken 0.22074151039123535s\n",
      "04-28 19:25:41 I deeptables.m.preprocessor.py 230 - Transform [y]...\n",
      "04-28 19:25:41 I deeptables.m.preprocessor.py 236 - transform_y taken 0.0009999275207519531s\n",
      "04-28 19:25:41 I deeptables.m.deepmodel.py 158 - Performing evaluation...\n",
      "04-28 19:25:41 I deeptables.u.dataset_generator.py 250 - create dataset generator with _TFDGForPandas, batch_size=256, shuffle=False, drop_remainder=False\n",
      "04-28 19:25:42 I deeptables.m.deeptable.py 337 - X.Shape=(132027, 11), y.Shape=(132027,), batch_size=16, config=ModelConfig(name='conf-1', nets=['dcn_nets'], categorical_columns='auto', exclude_columns=[], task='auto', pos_label=None, metrics=['binary_accuracy'], auto_categorize=True, cat_exponent=0.5, cat_remain_numeric=True, auto_encode_label=True, auto_imputation=True, auto_discrete=True, auto_discard_unique=True, apply_gbm_features=False, gbm_params={}, gbm_feature_type='embedding', fixed_embedding_dim=True, embeddings_output_dim=4, embeddings_initializer='uniform', embeddings_regularizer=None, embeddings_activity_regularizer=None, dense_dropout=0, embedding_dropout=0.6, stacking_op='add', output_use_bias=True, apply_class_weight=False, optimizer='auto', loss='auto', dnn_params={'hidden_units': ((128, 0, False), (64, 0, False)), 'activation': 'relu'}, autoint_params={'num_attention': 3, 'num_heads': 1, 'dropout_rate': 0, 'use_residual': True}, fgcnn_params={'fg_filters': (14, 16), 'fg_heights': (7, 7), 'fg_pool_heights': (2, 2), 'fg_new_feat_filters': (2, 2)}, fibinet_params={'senet_pooling_op': 'mean', 'senet_reduction_ratio': 3, 'bilinear_type': 'field_interaction'}, cross_params={'num_cross_layer': 4}, pnn_params={'outer_product_kernel_type': 'mat'}, afm_params={'attention_factor': 4, 'dropout_rate': 0}, cin_params={'cross_layer_size': (128, 128), 'activation': 'relu', 'use_residual': False, 'use_bias': False, 'direct': False, 'reduce_D': False}, home_dir=None, monitor_metric=None, earlystopping_patience=5, earlystopping_mode='auto', gpu_usage_strategy='memory_growth', distribute_strategy=None, var_len_categorical_columns=None)\n",
      "04-28 19:25:42 I deeptables.m.deeptable.py 338 - metrics:['binary_accuracy']\n",
      "04-28 19:25:42 I hypernets.t.toolbox.py 329 - 2 class detected, {0, 1}, so inferred as a [binary classification] task\n",
      "04-28 19:25:42 I deeptables.m.preprocessor.py 261 - Preparing features...\n",
      "04-28 19:25:42 I deeptables.m.preprocessor.py 336 - Preparing features taken 0.3772711753845215s\n",
      "04-28 19:25:42 I deeptables.m.preprocessor.py 341 - Data imputation...\n",
      "04-28 19:25:42 I deeptables.m.preprocessor.py 383 - Imputation taken 0.3867180347442627s\n",
      "04-28 19:25:42 I deeptables.m.preprocessor.py 388 - Categorical encoding...\n",
      "04-28 19:25:43 I deeptables.m.preprocessor.py 393 - Categorical encoding taken 0.20027732849121094s\n",
      "04-28 19:25:43 I deeptables.m.preprocessor.py 398 - Data discretization...\n",
      "04-28 19:25:43 I hypernets.t.sklearn_ex.py 716 - 11 variables to discrete.\n",
      "04-28 19:25:43 I deeptables.m.preprocessor.py 404 - Discretization taken 0.28211259841918945s\n"
     ]
    },
    {
     "name": "stderr",
     "output_type": "stream",
     "text": [
      "C:\\ProgramData\\anaconda3\\Lib\\site-packages\\sklearn\\preprocessing\\_discretization.py:279: UserWarning: Bins whose width are too small (i.e., <= 1e-8) in feature 0 are removed. Consider decreasing the number of bins.\n",
      "  warnings.warn(\n",
      "C:\\ProgramData\\anaconda3\\Lib\\site-packages\\sklearn\\preprocessing\\_discretization.py:279: UserWarning: Bins whose width are too small (i.e., <= 1e-8) in feature 0 are removed. Consider decreasing the number of bins.\n",
      "  warnings.warn(\n",
      "C:\\ProgramData\\anaconda3\\Lib\\site-packages\\sklearn\\preprocessing\\_discretization.py:279: UserWarning: Bins whose width are too small (i.e., <= 1e-8) in feature 0 are removed. Consider decreasing the number of bins.\n",
      "  warnings.warn(\n",
      "C:\\ProgramData\\anaconda3\\Lib\\site-packages\\sklearn\\preprocessing\\_discretization.py:279: UserWarning: Bins whose width are too small (i.e., <= 1e-8) in feature 0 are removed. Consider decreasing the number of bins.\n",
      "  warnings.warn(\n",
      "C:\\ProgramData\\anaconda3\\Lib\\site-packages\\sklearn\\preprocessing\\_discretization.py:279: UserWarning: Bins whose width are too small (i.e., <= 1e-8) in feature 0 are removed. Consider decreasing the number of bins.\n",
      "  warnings.warn(\n",
      "C:\\ProgramData\\anaconda3\\Lib\\site-packages\\sklearn\\preprocessing\\_discretization.py:279: UserWarning: Bins whose width are too small (i.e., <= 1e-8) in feature 0 are removed. Consider decreasing the number of bins.\n",
      "  warnings.warn(\n"
     ]
    },
    {
     "name": "stdout",
     "output_type": "stream",
     "text": [
      "04-28 19:25:43 I deeptables.m.preprocessor.py 196 - fit_transform taken 1.3882286548614502s\n",
      "04-28 19:25:43 I deeptables.m.preprocessor.py 242 - Transform [X]...\n",
      "04-28 19:25:43 I deeptables.m.preprocessor.py 249 - transform_X taken 0.2104816436767578s\n",
      "04-28 19:25:43 I deeptables.m.preprocessor.py 230 - Transform [y]...\n",
      "04-28 19:25:43 I deeptables.m.preprocessor.py 236 - transform_y taken 0.0019693374633789062s\n",
      "04-28 19:25:43 I deeptables.m.deeptable.py 353 - Training...\n",
      "04-28 19:25:43 I deeptables.m.deeptable.py 752 - Injected a callback [EarlyStopping]. monitor:val_binary_accuracy, patience:5, mode:min\n",
      "04-28 19:25:43 I deeptables.u.dataset_generator.py 250 - create dataset generator with _TFDGForPandas, batch_size=16, shuffle=True, drop_remainder=True\n",
      "04-28 19:25:43 I deeptables.u.dataset_generator.py 250 - create dataset generator with _TFDGForPandas, batch_size=16, shuffle=True, drop_remainder=True\n",
      "04-28 19:25:43 I deeptables.m.deepmodel.py 231 - Building model...\n"
     ]
    },
    {
     "name": "stderr",
     "output_type": "stream",
     "text": [
      "C:\\Users\\David\\AppData\\Roaming\\Python\\Python311\\site-packages\\keras\\src\\initializers\\initializers.py:120: UserWarning: The initializer RandomUniform is unseeded and being called multiple times, which will return identical values each time (even if the initializer is unseeded). Please update your code to provide a seed to the initializer, or avoid using the same initializer instance more than once.\n",
      "  warnings.warn(\n"
     ]
    },
    {
     "name": "stdout",
     "output_type": "stream",
     "text": [
      "04-28 19:25:44 I deeptables.m.deepmodel.py 287 - >>>>>>>>>>>>>>>>>>>>>> Model Desc <<<<<<<<<<<<<<<<<<<<<<< \n",
      "---------------------------------------------------------\n",
      "inputs:\n",
      "---------------------------------------------------------\n",
      "['all_categorical_vars: (19)', 'input_continuous_all: (11)']\n",
      "---------------------------------------------------------\n",
      "embeddings:\n",
      "---------------------------------------------------------\n",
      "input_dims: [5, 4, 73, 13, 6, 4, 4, 4, 7, 15, 17, 3, 3, 5, 4, 3, 3, 3, 3]\n",
      "output_dims: [4, 4, 4, 4, 4, 4, 4, 4, 4, 4, 4, 4, 4, 4, 4, 4, 4, 4, 4]\n",
      "dropout: 0.6\n",
      "---------------------------------------------------------\n",
      "dense: dropout: 0\n",
      "batch_normalization: False\n",
      "---------------------------------------------------------\n",
      "concat_embed_dense: shape: (None, 87)\n",
      "---------------------------------------------------------\n",
      "nets: ['dcn_nets']\n",
      "---------------------------------------------------------\n",
      "dcn-widecross: input_shape (None, 87), output_shape (None, 87)\n",
      "dcn-dnn2: input_shape (None, 87), output_shape (None, 64)\n",
      "dcn: input_shape (None, 87), output_shape (None, 151)\n",
      "---------------------------------------------------------\n",
      "stacking_op: add\n",
      "---------------------------------------------------------\n",
      "output: activation: sigmoid, output_shape: (None, 1), use_bias: True\n",
      "loss: binary_crossentropy\n",
      "optimizer: <keras.src.optimizers.adam.Adam object at 0x00000157C6D2B750>\n",
      "---------------------------------------------------------\n",
      "\n",
      "04-28 19:25:44 I deeptables.m.deepmodel.py 105 - training...\n",
      "Epoch 1/30\n",
      "8251/8251 [==============================] - 24s 2ms/step - loss: 0.4639 - binary_accuracy: 0.7869 - val_loss: 0.4195 - val_binary_accuracy: 0.8210\n",
      "Epoch 2/30\n",
      "8251/8251 [==============================] - 19s 2ms/step - loss: 0.4450 - binary_accuracy: 0.8009 - val_loss: 0.4239 - val_binary_accuracy: 0.8059\n",
      "Epoch 3/30\n",
      "8251/8251 [==============================] - 19s 2ms/step - loss: 0.4392 - binary_accuracy: 0.8036 - val_loss: 0.4191 - val_binary_accuracy: 0.8083\n",
      "Epoch 4/30\n",
      "8251/8251 [==============================] - 19s 2ms/step - loss: 0.4365 - binary_accuracy: 0.8041 - val_loss: 0.4063 - val_binary_accuracy: 0.8197\n",
      "Epoch 5/30\n",
      "8251/8251 [==============================] - 19s 2ms/step - loss: 0.4365 - binary_accuracy: 0.8043 - val_loss: 0.4451 - val_binary_accuracy: 0.7879\n",
      "Epoch 6/30\n",
      "8251/8251 [==============================] - 19s 2ms/step - loss: 0.4332 - binary_accuracy: 0.8063 - val_loss: 0.4272 - val_binary_accuracy: 0.8071\n",
      "Epoch 7/30\n",
      "8251/8251 [==============================] - 19s 2ms/step - loss: 0.4334 - binary_accuracy: 0.8063 - val_loss: 0.4220 - val_binary_accuracy: 0.8052\n",
      "Epoch 8/30\n",
      "8251/8251 [==============================] - 19s 2ms/step - loss: 0.4325 - binary_accuracy: 0.8056 - val_loss: 0.4201 - val_binary_accuracy: 0.8103\n",
      "Epoch 9/30\n",
      "8251/8251 [==============================] - 19s 2ms/step - loss: 0.4326 - binary_accuracy: 0.8060 - val_loss: 0.4182 - val_binary_accuracy: 0.8112\n",
      "Epoch 10/30\n",
      "8238/8251 [============================>.] - ETA: 0s - loss: 0.4301 - binary_accuracy: 0.8060Restoring model weights from the end of the best epoch: 5.\n",
      "8251/8251 [==============================] - 20s 2ms/step - loss: 0.4303 - binary_accuracy: 0.8060 - val_loss: 0.4298 - val_binary_accuracy: 0.8090\n",
      "Epoch 10: early stopping\n",
      "04-28 19:28:58 I deeptables.m.deepmodel.py 122 - Training finished.\n",
      "04-28 19:28:58 I deeptables.m.deeptable.py 369 - Training finished.\n",
      "04-28 19:28:58 I deeptables.m.deeptable.py 704 - Model has been saved to:dt_output/dt_20240428192542_dcn_nets/dcn_nets.h5\n",
      "04-28 19:28:58 I deeptables.m.preprocessor.py 242 - Transform [X]...\n"
     ]
    },
    {
     "name": "stderr",
     "output_type": "stream",
     "text": [
      "C:\\Users\\David\\AppData\\Roaming\\Python\\Python311\\site-packages\\deeptables\\models\\deepmodel.py:188: UserWarning: You are saving your model as an HDF5 file via `model.save()`. This file format is considered legacy. We recommend using instead the native Keras format, e.g. `model.save('my_model.keras')`.\n",
      "  save_model(self.model, h, save_format='h5')\n"
     ]
    },
    {
     "name": "stdout",
     "output_type": "stream",
     "text": [
      "04-28 19:28:58 I deeptables.m.preprocessor.py 249 - transform_X taken 0.23510503768920898s\n",
      "04-28 19:28:58 I deeptables.m.preprocessor.py 230 - Transform [y]...\n",
      "04-28 19:28:58 I deeptables.m.preprocessor.py 236 - transform_y taken 0.0009980201721191406s\n",
      "04-28 19:28:58 I deeptables.m.deepmodel.py 158 - Performing evaluation...\n",
      "04-28 19:28:58 I deeptables.u.dataset_generator.py 250 - create dataset generator with _TFDGForPandas, batch_size=256, shuffle=False, drop_remainder=False\n",
      "04-28 19:28:59 I deeptables.m.deeptable.py 337 - X.Shape=(132027, 11), y.Shape=(132027,), batch_size=16, config=ModelConfig(name='conf-1', nets=['pnn_nets'], categorical_columns='auto', exclude_columns=[], task='auto', pos_label=None, metrics=['binary_accuracy'], auto_categorize=True, cat_exponent=0.5, cat_remain_numeric=True, auto_encode_label=True, auto_imputation=True, auto_discrete=True, auto_discard_unique=True, apply_gbm_features=False, gbm_params={}, gbm_feature_type='embedding', fixed_embedding_dim=True, embeddings_output_dim=4, embeddings_initializer='uniform', embeddings_regularizer=None, embeddings_activity_regularizer=None, dense_dropout=0, embedding_dropout=0.2, stacking_op='add', output_use_bias=True, apply_class_weight=False, optimizer='auto', loss='auto', dnn_params={'hidden_units': ((128, 0, False), (64, 0, False)), 'activation': 'relu'}, autoint_params={'num_attention': 3, 'num_heads': 1, 'dropout_rate': 0, 'use_residual': True}, fgcnn_params={'fg_filters': (14, 16), 'fg_heights': (7, 7), 'fg_pool_heights': (2, 2), 'fg_new_feat_filters': (2, 2)}, fibinet_params={'senet_pooling_op': 'mean', 'senet_reduction_ratio': 3, 'bilinear_type': 'field_interaction'}, cross_params={'num_cross_layer': 4}, pnn_params={'outer_product_kernel_type': 'mat'}, afm_params={'attention_factor': 4, 'dropout_rate': 0}, cin_params={'cross_layer_size': (128, 128), 'activation': 'relu', 'use_residual': False, 'use_bias': False, 'direct': False, 'reduce_D': False}, home_dir=None, monitor_metric=None, earlystopping_patience=5, earlystopping_mode='auto', gpu_usage_strategy='memory_growth', distribute_strategy=None, var_len_categorical_columns=None)\n",
      "04-28 19:28:59 I deeptables.m.deeptable.py 338 - metrics:['binary_accuracy']\n",
      "04-28 19:28:59 I hypernets.t.toolbox.py 329 - 2 class detected, {0, 1}, so inferred as a [binary classification] task\n",
      "04-28 19:28:59 I deeptables.m.preprocessor.py 261 - Preparing features...\n",
      "04-28 19:28:59 I deeptables.m.preprocessor.py 336 - Preparing features taken 0.3713798522949219s\n",
      "04-28 19:28:59 I deeptables.m.preprocessor.py 341 - Data imputation...\n",
      "04-28 19:29:00 I deeptables.m.preprocessor.py 383 - Imputation taken 0.40902090072631836s\n",
      "04-28 19:29:00 I deeptables.m.preprocessor.py 388 - Categorical encoding...\n",
      "04-28 19:29:00 I deeptables.m.preprocessor.py 393 - Categorical encoding taken 0.20917773246765137s\n",
      "04-28 19:29:00 I deeptables.m.preprocessor.py 398 - Data discretization...\n",
      "04-28 19:29:00 I hypernets.t.sklearn_ex.py 716 - 11 variables to discrete.\n"
     ]
    },
    {
     "name": "stderr",
     "output_type": "stream",
     "text": [
      "C:\\ProgramData\\anaconda3\\Lib\\site-packages\\sklearn\\preprocessing\\_discretization.py:279: UserWarning: Bins whose width are too small (i.e., <= 1e-8) in feature 0 are removed. Consider decreasing the number of bins.\n",
      "  warnings.warn(\n",
      "C:\\ProgramData\\anaconda3\\Lib\\site-packages\\sklearn\\preprocessing\\_discretization.py:279: UserWarning: Bins whose width are too small (i.e., <= 1e-8) in feature 0 are removed. Consider decreasing the number of bins.\n",
      "  warnings.warn(\n",
      "C:\\ProgramData\\anaconda3\\Lib\\site-packages\\sklearn\\preprocessing\\_discretization.py:279: UserWarning: Bins whose width are too small (i.e., <= 1e-8) in feature 0 are removed. Consider decreasing the number of bins.\n",
      "  warnings.warn(\n",
      "C:\\ProgramData\\anaconda3\\Lib\\site-packages\\sklearn\\preprocessing\\_discretization.py:279: UserWarning: Bins whose width are too small (i.e., <= 1e-8) in feature 0 are removed. Consider decreasing the number of bins.\n",
      "  warnings.warn(\n",
      "C:\\ProgramData\\anaconda3\\Lib\\site-packages\\sklearn\\preprocessing\\_discretization.py:279: UserWarning: Bins whose width are too small (i.e., <= 1e-8) in feature 0 are removed. Consider decreasing the number of bins.\n",
      "  warnings.warn(\n",
      "C:\\ProgramData\\anaconda3\\Lib\\site-packages\\sklearn\\preprocessing\\_discretization.py:279: UserWarning: Bins whose width are too small (i.e., <= 1e-8) in feature 0 are removed. Consider decreasing the number of bins.\n",
      "  warnings.warn(\n"
     ]
    },
    {
     "name": "stdout",
     "output_type": "stream",
     "text": [
      "04-28 19:29:00 I deeptables.m.preprocessor.py 404 - Discretization taken 0.28775858879089355s\n",
      "04-28 19:29:00 I deeptables.m.preprocessor.py 196 - fit_transform taken 1.4234073162078857s\n",
      "04-28 19:29:00 I deeptables.m.preprocessor.py 242 - Transform [X]...\n",
      "04-28 19:29:00 I deeptables.m.preprocessor.py 249 - transform_X taken 0.22320079803466797s\n",
      "04-28 19:29:00 I deeptables.m.preprocessor.py 230 - Transform [y]...\n",
      "04-28 19:29:00 I deeptables.m.preprocessor.py 236 - transform_y taken 0.0009706020355224609s\n",
      "04-28 19:29:01 I deeptables.m.deeptable.py 353 - Training...\n",
      "04-28 19:29:01 I deeptables.m.deeptable.py 752 - Injected a callback [EarlyStopping]. monitor:val_binary_accuracy, patience:5, mode:min\n",
      "04-28 19:29:01 I deeptables.u.dataset_generator.py 250 - create dataset generator with _TFDGForPandas, batch_size=16, shuffle=True, drop_remainder=True\n",
      "04-28 19:29:01 I deeptables.u.dataset_generator.py 250 - create dataset generator with _TFDGForPandas, batch_size=16, shuffle=True, drop_remainder=True\n",
      "04-28 19:29:01 I deeptables.m.deepmodel.py 231 - Building model...\n"
     ]
    },
    {
     "name": "stderr",
     "output_type": "stream",
     "text": [
      "C:\\Users\\David\\AppData\\Roaming\\Python\\Python311\\site-packages\\keras\\src\\initializers\\initializers.py:120: UserWarning: The initializer RandomUniform is unseeded and being called multiple times, which will return identical values each time (even if the initializer is unseeded). Please update your code to provide a seed to the initializer, or avoid using the same initializer instance more than once.\n",
      "  warnings.warn(\n"
     ]
    },
    {
     "name": "stdout",
     "output_type": "stream",
     "text": [
      "04-28 19:29:01 I deeptables.m.deepmodel.py 287 - >>>>>>>>>>>>>>>>>>>>>> Model Desc <<<<<<<<<<<<<<<<<<<<<<< \n",
      "---------------------------------------------------------\n",
      "inputs:\n",
      "---------------------------------------------------------\n",
      "['all_categorical_vars: (19)', 'input_continuous_all: (11)']\n",
      "---------------------------------------------------------\n",
      "embeddings:\n",
      "---------------------------------------------------------\n",
      "input_dims: [5, 4, 73, 13, 6, 4, 4, 4, 7, 15, 17, 3, 3, 5, 4, 3, 3, 3, 3]\n",
      "output_dims: [4, 4, 4, 4, 4, 4, 4, 4, 4, 4, 4, 4, 4, 4, 4, 4, 4, 4, 4]\n",
      "dropout: 0.2\n",
      "---------------------------------------------------------\n",
      "dense: dropout: 0\n",
      "batch_normalization: False\n",
      "---------------------------------------------------------\n",
      "concat_embed_dense: shape: (None, 87)\n",
      "---------------------------------------------------------\n",
      "nets: ['pnn_nets']\n",
      "---------------------------------------------------------\n",
      "pnn-inner_product: input_shape list(19), output_shape (None, 171)\n",
      "pnn-outer_product: input_shape list(19), output_shape (None, 171)\n",
      "pnn-dnn: input_shape (None, 429), output_shape (None, 64)\n",
      "---------------------------------------------------------\n",
      "stacking_op: add\n",
      "---------------------------------------------------------\n",
      "output: activation: sigmoid, output_shape: (None, 1), use_bias: True\n",
      "loss: binary_crossentropy\n",
      "optimizer: <keras.src.optimizers.adam.Adam object at 0x00000157C889F990>\n",
      "---------------------------------------------------------\n",
      "\n",
      "04-28 19:29:01 I deeptables.m.deepmodel.py 105 - training...\n",
      "Epoch 1/30\n",
      "8251/8251 [==============================] - 37s 4ms/step - loss: 0.4467 - binary_accuracy: 0.7971 - val_loss: 0.4041 - val_binary_accuracy: 0.8150\n",
      "Epoch 2/30\n",
      "8251/8251 [==============================] - 31s 4ms/step - loss: 0.4336 - binary_accuracy: 0.8064 - val_loss: 0.4493 - val_binary_accuracy: 0.7970\n",
      "Epoch 3/30\n",
      "8251/8251 [==============================] - 31s 4ms/step - loss: 0.4289 - binary_accuracy: 0.8103 - val_loss: 0.4503 - val_binary_accuracy: 0.8012\n",
      "Epoch 4/30\n",
      "8251/8251 [==============================] - 31s 4ms/step - loss: 0.4271 - binary_accuracy: 0.8112 - val_loss: 0.4183 - val_binary_accuracy: 0.8122\n",
      "Epoch 5/30\n",
      "8251/8251 [==============================] - 31s 4ms/step - loss: 0.4255 - binary_accuracy: 0.8127 - val_loss: 0.4118 - val_binary_accuracy: 0.8145\n",
      "Epoch 6/30\n",
      "8251/8251 [==============================] - 31s 4ms/step - loss: 0.4247 - binary_accuracy: 0.8141 - val_loss: 0.4200 - val_binary_accuracy: 0.8103\n",
      "Epoch 7/30\n",
      "8246/8251 [============================>.] - ETA: 0s - loss: 0.4233 - binary_accuracy: 0.8131Restoring model weights from the end of the best epoch: 2.\n",
      "8251/8251 [==============================] - 31s 4ms/step - loss: 0.4233 - binary_accuracy: 0.8131 - val_loss: 0.4238 - val_binary_accuracy: 0.8038\n",
      "Epoch 7: early stopping\n",
      "04-28 19:32:46 I deeptables.m.deepmodel.py 122 - Training finished.\n",
      "04-28 19:32:46 I deeptables.m.deeptable.py 369 - Training finished.\n",
      "04-28 19:32:46 I deeptables.m.deeptable.py 704 - Model has been saved to:dt_output/dt_20240428192859_pnn_nets/pnn_nets.h5\n",
      "04-28 19:32:46 I deeptables.m.preprocessor.py 242 - Transform [X]...\n"
     ]
    },
    {
     "name": "stderr",
     "output_type": "stream",
     "text": [
      "C:\\Users\\David\\AppData\\Roaming\\Python\\Python311\\site-packages\\deeptables\\models\\deepmodel.py:188: UserWarning: You are saving your model as an HDF5 file via `model.save()`. This file format is considered legacy. We recommend using instead the native Keras format, e.g. `model.save('my_model.keras')`.\n",
      "  save_model(self.model, h, save_format='h5')\n"
     ]
    },
    {
     "name": "stdout",
     "output_type": "stream",
     "text": [
      "04-28 19:32:46 I deeptables.m.preprocessor.py 249 - transform_X taken 0.22566723823547363s\n",
      "04-28 19:32:46 I deeptables.m.preprocessor.py 230 - Transform [y]...\n",
      "04-28 19:32:46 I deeptables.m.preprocessor.py 236 - transform_y taken 0.0010297298431396484s\n",
      "04-28 19:32:46 I deeptables.m.deepmodel.py 158 - Performing evaluation...\n",
      "04-28 19:32:46 I deeptables.u.dataset_generator.py 250 - create dataset generator with _TFDGForPandas, batch_size=256, shuffle=False, drop_remainder=False\n",
      "04-28 19:32:47 I deeptables.m.deeptable.py 337 - X.Shape=(132027, 11), y.Shape=(132027,), batch_size=16, config=ModelConfig(name='conf-1', nets=['pnn_nets'], categorical_columns='auto', exclude_columns=[], task='auto', pos_label=None, metrics=['binary_accuracy'], auto_categorize=True, cat_exponent=0.5, cat_remain_numeric=True, auto_encode_label=True, auto_imputation=True, auto_discrete=True, auto_discard_unique=True, apply_gbm_features=False, gbm_params={}, gbm_feature_type='embedding', fixed_embedding_dim=True, embeddings_output_dim=4, embeddings_initializer='uniform', embeddings_regularizer=None, embeddings_activity_regularizer=None, dense_dropout=0, embedding_dropout=0.4, stacking_op='add', output_use_bias=True, apply_class_weight=False, optimizer='auto', loss='auto', dnn_params={'hidden_units': ((128, 0, False), (64, 0, False)), 'activation': 'relu'}, autoint_params={'num_attention': 3, 'num_heads': 1, 'dropout_rate': 0, 'use_residual': True}, fgcnn_params={'fg_filters': (14, 16), 'fg_heights': (7, 7), 'fg_pool_heights': (2, 2), 'fg_new_feat_filters': (2, 2)}, fibinet_params={'senet_pooling_op': 'mean', 'senet_reduction_ratio': 3, 'bilinear_type': 'field_interaction'}, cross_params={'num_cross_layer': 4}, pnn_params={'outer_product_kernel_type': 'mat'}, afm_params={'attention_factor': 4, 'dropout_rate': 0}, cin_params={'cross_layer_size': (128, 128), 'activation': 'relu', 'use_residual': False, 'use_bias': False, 'direct': False, 'reduce_D': False}, home_dir=None, monitor_metric=None, earlystopping_patience=5, earlystopping_mode='auto', gpu_usage_strategy='memory_growth', distribute_strategy=None, var_len_categorical_columns=None)\n",
      "04-28 19:32:47 I deeptables.m.deeptable.py 338 - metrics:['binary_accuracy']\n",
      "04-28 19:32:47 I hypernets.t.toolbox.py 329 - 2 class detected, {0, 1}, so inferred as a [binary classification] task\n",
      "04-28 19:32:47 I deeptables.m.preprocessor.py 261 - Preparing features...\n",
      "04-28 19:32:47 I deeptables.m.preprocessor.py 336 - Preparing features taken 0.369126558303833s\n",
      "04-28 19:32:47 I deeptables.m.preprocessor.py 341 - Data imputation...\n",
      "04-28 19:32:48 I deeptables.m.preprocessor.py 383 - Imputation taken 0.3849830627441406s\n",
      "04-28 19:32:48 I deeptables.m.preprocessor.py 388 - Categorical encoding...\n",
      "04-28 19:32:48 I deeptables.m.preprocessor.py 393 - Categorical encoding taken 0.20148324966430664s\n",
      "04-28 19:32:48 I deeptables.m.preprocessor.py 398 - Data discretization...\n",
      "04-28 19:32:48 I hypernets.t.sklearn_ex.py 716 - 11 variables to discrete.\n"
     ]
    },
    {
     "name": "stderr",
     "output_type": "stream",
     "text": [
      "C:\\ProgramData\\anaconda3\\Lib\\site-packages\\sklearn\\preprocessing\\_discretization.py:279: UserWarning: Bins whose width are too small (i.e., <= 1e-8) in feature 0 are removed. Consider decreasing the number of bins.\n",
      "  warnings.warn(\n",
      "C:\\ProgramData\\anaconda3\\Lib\\site-packages\\sklearn\\preprocessing\\_discretization.py:279: UserWarning: Bins whose width are too small (i.e., <= 1e-8) in feature 0 are removed. Consider decreasing the number of bins.\n",
      "  warnings.warn(\n",
      "C:\\ProgramData\\anaconda3\\Lib\\site-packages\\sklearn\\preprocessing\\_discretization.py:279: UserWarning: Bins whose width are too small (i.e., <= 1e-8) in feature 0 are removed. Consider decreasing the number of bins.\n",
      "  warnings.warn(\n",
      "C:\\ProgramData\\anaconda3\\Lib\\site-packages\\sklearn\\preprocessing\\_discretization.py:279: UserWarning: Bins whose width are too small (i.e., <= 1e-8) in feature 0 are removed. Consider decreasing the number of bins.\n",
      "  warnings.warn(\n",
      "C:\\ProgramData\\anaconda3\\Lib\\site-packages\\sklearn\\preprocessing\\_discretization.py:279: UserWarning: Bins whose width are too small (i.e., <= 1e-8) in feature 0 are removed. Consider decreasing the number of bins.\n",
      "  warnings.warn(\n",
      "C:\\ProgramData\\anaconda3\\Lib\\site-packages\\sklearn\\preprocessing\\_discretization.py:279: UserWarning: Bins whose width are too small (i.e., <= 1e-8) in feature 0 are removed. Consider decreasing the number of bins.\n",
      "  warnings.warn(\n"
     ]
    },
    {
     "name": "stdout",
     "output_type": "stream",
     "text": [
      "04-28 19:32:48 I deeptables.m.preprocessor.py 404 - Discretization taken 0.2850813865661621s\n",
      "04-28 19:32:48 I deeptables.m.preprocessor.py 196 - fit_transform taken 1.3844060897827148s\n",
      "04-28 19:32:48 I deeptables.m.preprocessor.py 242 - Transform [X]...\n",
      "04-28 19:32:48 I deeptables.m.preprocessor.py 249 - transform_X taken 0.21173763275146484s\n",
      "04-28 19:32:48 I deeptables.m.preprocessor.py 230 - Transform [y]...\n",
      "04-28 19:32:48 I deeptables.m.preprocessor.py 236 - transform_y taken 0.0010008811950683594s\n",
      "04-28 19:32:48 I deeptables.m.deeptable.py 353 - Training...\n",
      "04-28 19:32:48 I deeptables.m.deeptable.py 752 - Injected a callback [EarlyStopping]. monitor:val_binary_accuracy, patience:5, mode:min\n",
      "04-28 19:32:48 I deeptables.u.dataset_generator.py 250 - create dataset generator with _TFDGForPandas, batch_size=16, shuffle=True, drop_remainder=True\n",
      "04-28 19:32:48 I deeptables.u.dataset_generator.py 250 - create dataset generator with _TFDGForPandas, batch_size=16, shuffle=True, drop_remainder=True\n",
      "04-28 19:32:48 I deeptables.m.deepmodel.py 231 - Building model...\n"
     ]
    },
    {
     "name": "stderr",
     "output_type": "stream",
     "text": [
      "C:\\Users\\David\\AppData\\Roaming\\Python\\Python311\\site-packages\\keras\\src\\initializers\\initializers.py:120: UserWarning: The initializer RandomUniform is unseeded and being called multiple times, which will return identical values each time (even if the initializer is unseeded). Please update your code to provide a seed to the initializer, or avoid using the same initializer instance more than once.\n",
      "  warnings.warn(\n"
     ]
    },
    {
     "name": "stdout",
     "output_type": "stream",
     "text": [
      "04-28 19:32:49 I deeptables.m.deepmodel.py 287 - >>>>>>>>>>>>>>>>>>>>>> Model Desc <<<<<<<<<<<<<<<<<<<<<<< \n",
      "---------------------------------------------------------\n",
      "inputs:\n",
      "---------------------------------------------------------\n",
      "['all_categorical_vars: (19)', 'input_continuous_all: (11)']\n",
      "---------------------------------------------------------\n",
      "embeddings:\n",
      "---------------------------------------------------------\n",
      "input_dims: [5, 4, 73, 13, 6, 4, 4, 4, 7, 15, 17, 3, 3, 5, 4, 3, 3, 3, 3]\n",
      "output_dims: [4, 4, 4, 4, 4, 4, 4, 4, 4, 4, 4, 4, 4, 4, 4, 4, 4, 4, 4]\n",
      "dropout: 0.4\n",
      "---------------------------------------------------------\n",
      "dense: dropout: 0\n",
      "batch_normalization: False\n",
      "---------------------------------------------------------\n",
      "concat_embed_dense: shape: (None, 87)\n",
      "---------------------------------------------------------\n",
      "nets: ['pnn_nets']\n",
      "---------------------------------------------------------\n",
      "pnn-inner_product: input_shape list(19), output_shape (None, 171)\n",
      "pnn-outer_product: input_shape list(19), output_shape (None, 171)\n",
      "pnn-dnn: input_shape (None, 429), output_shape (None, 64)\n",
      "---------------------------------------------------------\n",
      "stacking_op: add\n",
      "---------------------------------------------------------\n",
      "output: activation: sigmoid, output_shape: (None, 1), use_bias: True\n",
      "loss: binary_crossentropy\n",
      "optimizer: <keras.src.optimizers.adam.Adam object at 0x000001579684A510>\n",
      "---------------------------------------------------------\n",
      "\n",
      "04-28 19:32:49 I deeptables.m.deepmodel.py 105 - training...\n",
      "Epoch 1/30\n",
      "8251/8251 [==============================] - 37s 4ms/step - loss: 0.4520 - binary_accuracy: 0.7914 - val_loss: 0.4205 - val_binary_accuracy: 0.8030\n",
      "Epoch 2/30\n",
      "8251/8251 [==============================] - 31s 4ms/step - loss: 0.4384 - binary_accuracy: 0.8007 - val_loss: 0.4333 - val_binary_accuracy: 0.8023\n",
      "Epoch 3/30\n",
      "8251/8251 [==============================] - 31s 4ms/step - loss: 0.4336 - binary_accuracy: 0.8053 - val_loss: 0.4554 - val_binary_accuracy: 0.7859\n",
      "Epoch 4/30\n",
      "8251/8251 [==============================] - 31s 4ms/step - loss: 0.4307 - binary_accuracy: 0.8069 - val_loss: 0.4180 - val_binary_accuracy: 0.8189\n",
      "Epoch 5/30\n",
      "8251/8251 [==============================] - 31s 4ms/step - loss: 0.4302 - binary_accuracy: 0.8085 - val_loss: 0.4476 - val_binary_accuracy: 0.8020\n",
      "Epoch 6/30\n",
      "8251/8251 [==============================] - 31s 4ms/step - loss: 0.4282 - binary_accuracy: 0.8074 - val_loss: 0.4202 - val_binary_accuracy: 0.8103\n",
      "Epoch 7/30\n",
      "8251/8251 [==============================] - 31s 4ms/step - loss: 0.4275 - binary_accuracy: 0.8070 - val_loss: 0.4028 - val_binary_accuracy: 0.8206\n",
      "Epoch 8/30\n",
      "8239/8251 [============================>.] - ETA: 0s - loss: 0.4266 - binary_accuracy: 0.8097Restoring model weights from the end of the best epoch: 3.\n",
      "8251/8251 [==============================] - 31s 4ms/step - loss: 0.4266 - binary_accuracy: 0.8097 - val_loss: 0.3932 - val_binary_accuracy: 0.8258\n",
      "Epoch 8: early stopping\n",
      "04-28 19:37:01 I deeptables.m.deepmodel.py 122 - Training finished.\n",
      "04-28 19:37:01 I deeptables.m.deeptable.py 369 - Training finished.\n",
      "04-28 19:37:01 I deeptables.m.deeptable.py 704 - Model has been saved to:dt_output/dt_20240428193247_pnn_nets/pnn_nets.h5\n",
      "04-28 19:37:01 I deeptables.m.preprocessor.py 242 - Transform [X]...\n"
     ]
    },
    {
     "name": "stderr",
     "output_type": "stream",
     "text": [
      "C:\\Users\\David\\AppData\\Roaming\\Python\\Python311\\site-packages\\deeptables\\models\\deepmodel.py:188: UserWarning: You are saving your model as an HDF5 file via `model.save()`. This file format is considered legacy. We recommend using instead the native Keras format, e.g. `model.save('my_model.keras')`.\n",
      "  save_model(self.model, h, save_format='h5')\n"
     ]
    },
    {
     "name": "stdout",
     "output_type": "stream",
     "text": [
      "04-28 19:37:01 I deeptables.m.preprocessor.py 249 - transform_X taken 0.22159194946289062s\n",
      "04-28 19:37:01 I deeptables.m.preprocessor.py 230 - Transform [y]...\n",
      "04-28 19:37:01 I deeptables.m.preprocessor.py 236 - transform_y taken 0.001999378204345703s\n",
      "04-28 19:37:01 I deeptables.m.deepmodel.py 158 - Performing evaluation...\n",
      "04-28 19:37:01 I deeptables.u.dataset_generator.py 250 - create dataset generator with _TFDGForPandas, batch_size=256, shuffle=False, drop_remainder=False\n",
      "04-28 19:37:02 I deeptables.m.deeptable.py 337 - X.Shape=(132027, 11), y.Shape=(132027,), batch_size=16, config=ModelConfig(name='conf-1', nets=['pnn_nets'], categorical_columns='auto', exclude_columns=[], task='auto', pos_label=None, metrics=['binary_accuracy'], auto_categorize=True, cat_exponent=0.5, cat_remain_numeric=True, auto_encode_label=True, auto_imputation=True, auto_discrete=True, auto_discard_unique=True, apply_gbm_features=False, gbm_params={}, gbm_feature_type='embedding', fixed_embedding_dim=True, embeddings_output_dim=4, embeddings_initializer='uniform', embeddings_regularizer=None, embeddings_activity_regularizer=None, dense_dropout=0, embedding_dropout=0.6, stacking_op='add', output_use_bias=True, apply_class_weight=False, optimizer='auto', loss='auto', dnn_params={'hidden_units': ((128, 0, False), (64, 0, False)), 'activation': 'relu'}, autoint_params={'num_attention': 3, 'num_heads': 1, 'dropout_rate': 0, 'use_residual': True}, fgcnn_params={'fg_filters': (14, 16), 'fg_heights': (7, 7), 'fg_pool_heights': (2, 2), 'fg_new_feat_filters': (2, 2)}, fibinet_params={'senet_pooling_op': 'mean', 'senet_reduction_ratio': 3, 'bilinear_type': 'field_interaction'}, cross_params={'num_cross_layer': 4}, pnn_params={'outer_product_kernel_type': 'mat'}, afm_params={'attention_factor': 4, 'dropout_rate': 0}, cin_params={'cross_layer_size': (128, 128), 'activation': 'relu', 'use_residual': False, 'use_bias': False, 'direct': False, 'reduce_D': False}, home_dir=None, monitor_metric=None, earlystopping_patience=5, earlystopping_mode='auto', gpu_usage_strategy='memory_growth', distribute_strategy=None, var_len_categorical_columns=None)\n",
      "04-28 19:37:02 I deeptables.m.deeptable.py 338 - metrics:['binary_accuracy']\n",
      "04-28 19:37:02 I hypernets.t.toolbox.py 329 - 2 class detected, {0, 1}, so inferred as a [binary classification] task\n",
      "04-28 19:37:02 I deeptables.m.preprocessor.py 261 - Preparing features...\n",
      "04-28 19:37:03 I deeptables.m.preprocessor.py 336 - Preparing features taken 0.3739054203033447s\n",
      "04-28 19:37:03 I deeptables.m.preprocessor.py 341 - Data imputation...\n",
      "04-28 19:37:03 I deeptables.m.preprocessor.py 383 - Imputation taken 0.38179731369018555s\n",
      "04-28 19:37:03 I deeptables.m.preprocessor.py 388 - Categorical encoding...\n",
      "04-28 19:37:03 I deeptables.m.preprocessor.py 393 - Categorical encoding taken 0.19989967346191406s\n",
      "04-28 19:37:03 I deeptables.m.preprocessor.py 398 - Data discretization...\n",
      "04-28 19:37:03 I hypernets.t.sklearn_ex.py 716 - 11 variables to discrete.\n"
     ]
    },
    {
     "name": "stderr",
     "output_type": "stream",
     "text": [
      "C:\\ProgramData\\anaconda3\\Lib\\site-packages\\sklearn\\preprocessing\\_discretization.py:279: UserWarning: Bins whose width are too small (i.e., <= 1e-8) in feature 0 are removed. Consider decreasing the number of bins.\n",
      "  warnings.warn(\n",
      "C:\\ProgramData\\anaconda3\\Lib\\site-packages\\sklearn\\preprocessing\\_discretization.py:279: UserWarning: Bins whose width are too small (i.e., <= 1e-8) in feature 0 are removed. Consider decreasing the number of bins.\n",
      "  warnings.warn(\n",
      "C:\\ProgramData\\anaconda3\\Lib\\site-packages\\sklearn\\preprocessing\\_discretization.py:279: UserWarning: Bins whose width are too small (i.e., <= 1e-8) in feature 0 are removed. Consider decreasing the number of bins.\n",
      "  warnings.warn(\n",
      "C:\\ProgramData\\anaconda3\\Lib\\site-packages\\sklearn\\preprocessing\\_discretization.py:279: UserWarning: Bins whose width are too small (i.e., <= 1e-8) in feature 0 are removed. Consider decreasing the number of bins.\n",
      "  warnings.warn(\n",
      "C:\\ProgramData\\anaconda3\\Lib\\site-packages\\sklearn\\preprocessing\\_discretization.py:279: UserWarning: Bins whose width are too small (i.e., <= 1e-8) in feature 0 are removed. Consider decreasing the number of bins.\n",
      "  warnings.warn(\n",
      "C:\\ProgramData\\anaconda3\\Lib\\site-packages\\sklearn\\preprocessing\\_discretization.py:279: UserWarning: Bins whose width are too small (i.e., <= 1e-8) in feature 0 are removed. Consider decreasing the number of bins.\n",
      "  warnings.warn(\n"
     ]
    },
    {
     "name": "stdout",
     "output_type": "stream",
     "text": [
      "04-28 19:37:03 I deeptables.m.preprocessor.py 404 - Discretization taken 0.2856593132019043s\n",
      "04-28 19:37:04 I deeptables.m.preprocessor.py 196 - fit_transform taken 1.3871819972991943s\n",
      "04-28 19:37:04 I deeptables.m.preprocessor.py 242 - Transform [X]...\n",
      "04-28 19:37:04 I deeptables.m.preprocessor.py 249 - transform_X taken 0.21111178398132324s\n",
      "04-28 19:37:04 I deeptables.m.preprocessor.py 230 - Transform [y]...\n",
      "04-28 19:37:04 I deeptables.m.preprocessor.py 236 - transform_y taken 0.0012013912200927734s\n",
      "04-28 19:37:04 I deeptables.m.deeptable.py 353 - Training...\n",
      "04-28 19:37:04 I deeptables.m.deeptable.py 752 - Injected a callback [EarlyStopping]. monitor:val_binary_accuracy, patience:5, mode:min\n",
      "04-28 19:37:04 I deeptables.u.dataset_generator.py 250 - create dataset generator with _TFDGForPandas, batch_size=16, shuffle=True, drop_remainder=True\n",
      "04-28 19:37:04 I deeptables.u.dataset_generator.py 250 - create dataset generator with _TFDGForPandas, batch_size=16, shuffle=True, drop_remainder=True\n",
      "04-28 19:37:04 I deeptables.m.deepmodel.py 231 - Building model...\n"
     ]
    },
    {
     "name": "stderr",
     "output_type": "stream",
     "text": [
      "C:\\Users\\David\\AppData\\Roaming\\Python\\Python311\\site-packages\\keras\\src\\initializers\\initializers.py:120: UserWarning: The initializer RandomUniform is unseeded and being called multiple times, which will return identical values each time (even if the initializer is unseeded). Please update your code to provide a seed to the initializer, or avoid using the same initializer instance more than once.\n",
      "  warnings.warn(\n"
     ]
    },
    {
     "name": "stdout",
     "output_type": "stream",
     "text": [
      "04-28 19:37:04 I deeptables.m.deepmodel.py 287 - >>>>>>>>>>>>>>>>>>>>>> Model Desc <<<<<<<<<<<<<<<<<<<<<<< \n",
      "---------------------------------------------------------\n",
      "inputs:\n",
      "---------------------------------------------------------\n",
      "['all_categorical_vars: (19)', 'input_continuous_all: (11)']\n",
      "---------------------------------------------------------\n",
      "embeddings:\n",
      "---------------------------------------------------------\n",
      "input_dims: [5, 4, 73, 13, 6, 4, 4, 4, 7, 15, 17, 3, 3, 5, 4, 3, 3, 3, 3]\n",
      "output_dims: [4, 4, 4, 4, 4, 4, 4, 4, 4, 4, 4, 4, 4, 4, 4, 4, 4, 4, 4]\n",
      "dropout: 0.6\n",
      "---------------------------------------------------------\n",
      "dense: dropout: 0\n",
      "batch_normalization: False\n",
      "---------------------------------------------------------\n",
      "concat_embed_dense: shape: (None, 87)\n",
      "---------------------------------------------------------\n",
      "nets: ['pnn_nets']\n",
      "---------------------------------------------------------\n",
      "pnn-inner_product: input_shape list(19), output_shape (None, 171)\n",
      "pnn-outer_product: input_shape list(19), output_shape (None, 171)\n",
      "pnn-dnn: input_shape (None, 429), output_shape (None, 64)\n",
      "---------------------------------------------------------\n",
      "stacking_op: add\n",
      "---------------------------------------------------------\n",
      "output: activation: sigmoid, output_shape: (None, 1), use_bias: True\n",
      "loss: binary_crossentropy\n",
      "optimizer: <keras.src.optimizers.adam.Adam object at 0x00000157CB86B550>\n",
      "---------------------------------------------------------\n",
      "\n",
      "04-28 19:37:04 I deeptables.m.deepmodel.py 105 - training...\n",
      "Epoch 1/30\n",
      "8251/8251 [==============================] - 36s 4ms/step - loss: 0.4567 - binary_accuracy: 0.7919 - val_loss: 0.4489 - val_binary_accuracy: 0.7920\n",
      "Epoch 2/30\n",
      "8251/8251 [==============================] - 30s 4ms/step - loss: 0.4406 - binary_accuracy: 0.8003 - val_loss: 0.4142 - val_binary_accuracy: 0.8134\n",
      "Epoch 3/30\n",
      "8251/8251 [==============================] - 30s 4ms/step - loss: 0.4360 - binary_accuracy: 0.8042 - val_loss: 0.4500 - val_binary_accuracy: 0.7946\n",
      "Epoch 4/30\n",
      "8251/8251 [==============================] - 30s 4ms/step - loss: 0.4340 - binary_accuracy: 0.8042 - val_loss: 0.4193 - val_binary_accuracy: 0.8098\n",
      "Epoch 5/30\n",
      "8251/8251 [==============================] - 30s 4ms/step - loss: 0.4323 - binary_accuracy: 0.8059 - val_loss: 0.4327 - val_binary_accuracy: 0.8045\n",
      "Epoch 6/30\n",
      "8238/8251 [============================>.] - ETA: 0s - loss: 0.4302 - binary_accuracy: 0.8072Restoring model weights from the end of the best epoch: 1.\n",
      "8251/8251 [==============================] - 30s 4ms/step - loss: 0.4302 - binary_accuracy: 0.8072 - val_loss: 0.4102 - val_binary_accuracy: 0.8164\n",
      "Epoch 6: early stopping\n",
      "04-28 19:40:10 I deeptables.m.deepmodel.py 122 - Training finished.\n",
      "04-28 19:40:10 I deeptables.m.deeptable.py 369 - Training finished.\n",
      "04-28 19:40:10 I deeptables.m.deeptable.py 704 - Model has been saved to:dt_output/dt_20240428193702_pnn_nets/pnn_nets.h5\n",
      "04-28 19:40:10 I deeptables.m.preprocessor.py 242 - Transform [X]...\n"
     ]
    },
    {
     "name": "stderr",
     "output_type": "stream",
     "text": [
      "C:\\Users\\David\\AppData\\Roaming\\Python\\Python311\\site-packages\\deeptables\\models\\deepmodel.py:188: UserWarning: You are saving your model as an HDF5 file via `model.save()`. This file format is considered legacy. We recommend using instead the native Keras format, e.g. `model.save('my_model.keras')`.\n",
      "  save_model(self.model, h, save_format='h5')\n"
     ]
    },
    {
     "name": "stdout",
     "output_type": "stream",
     "text": [
      "04-28 19:40:10 I deeptables.m.preprocessor.py 249 - transform_X taken 0.2221088409423828s\n",
      "04-28 19:40:10 I deeptables.m.preprocessor.py 230 - Transform [y]...\n",
      "04-28 19:40:10 I deeptables.m.preprocessor.py 236 - transform_y taken 0.0010325908660888672s\n",
      "04-28 19:40:10 I deeptables.m.deepmodel.py 158 - Performing evaluation...\n",
      "04-28 19:40:10 I deeptables.u.dataset_generator.py 250 - create dataset generator with _TFDGForPandas, batch_size=256, shuffle=False, drop_remainder=False\n",
      "04-28 19:40:11 I deeptables.m.deeptable.py 337 - X.Shape=(132027, 11), y.Shape=(132027,), batch_size=16, config=ModelConfig(name='conf-1', nets=['linear', 'dnn_nets'], categorical_columns='auto', exclude_columns=[], task='auto', pos_label=None, metrics=['binary_accuracy'], auto_categorize=True, cat_exponent=0.5, cat_remain_numeric=True, auto_encode_label=True, auto_imputation=True, auto_discrete=True, auto_discard_unique=True, apply_gbm_features=False, gbm_params={}, gbm_feature_type='embedding', fixed_embedding_dim=True, embeddings_output_dim=4, embeddings_initializer='uniform', embeddings_regularizer=None, embeddings_activity_regularizer=None, dense_dropout=0, embedding_dropout=0.2, stacking_op='add', output_use_bias=True, apply_class_weight=False, optimizer='auto', loss='auto', dnn_params={'hidden_units': ((128, 0, False), (64, 0, False)), 'activation': 'relu'}, autoint_params={'num_attention': 3, 'num_heads': 1, 'dropout_rate': 0, 'use_residual': True}, fgcnn_params={'fg_filters': (14, 16), 'fg_heights': (7, 7), 'fg_pool_heights': (2, 2), 'fg_new_feat_filters': (2, 2)}, fibinet_params={'senet_pooling_op': 'mean', 'senet_reduction_ratio': 3, 'bilinear_type': 'field_interaction'}, cross_params={'num_cross_layer': 4}, pnn_params={'outer_product_kernel_type': 'mat'}, afm_params={'attention_factor': 4, 'dropout_rate': 0}, cin_params={'cross_layer_size': (128, 128), 'activation': 'relu', 'use_residual': False, 'use_bias': False, 'direct': False, 'reduce_D': False}, home_dir=None, monitor_metric=None, earlystopping_patience=5, earlystopping_mode='auto', gpu_usage_strategy='memory_growth', distribute_strategy=None, var_len_categorical_columns=None)\n",
      "04-28 19:40:11 I deeptables.m.deeptable.py 338 - metrics:['binary_accuracy']\n",
      "04-28 19:40:11 I hypernets.t.toolbox.py 329 - 2 class detected, {0, 1}, so inferred as a [binary classification] task\n",
      "04-28 19:40:11 I deeptables.m.preprocessor.py 261 - Preparing features...\n",
      "04-28 19:40:11 I deeptables.m.preprocessor.py 336 - Preparing features taken 0.3744082450866699s\n",
      "04-28 19:40:11 I deeptables.m.preprocessor.py 341 - Data imputation...\n",
      "04-28 19:40:12 I deeptables.m.preprocessor.py 383 - Imputation taken 0.3852236270904541s\n",
      "04-28 19:40:12 I deeptables.m.preprocessor.py 388 - Categorical encoding...\n",
      "04-28 19:40:12 I deeptables.m.preprocessor.py 393 - Categorical encoding taken 0.1988694667816162s\n",
      "04-28 19:40:12 I deeptables.m.preprocessor.py 398 - Data discretization...\n",
      "04-28 19:40:12 I hypernets.t.sklearn_ex.py 716 - 11 variables to discrete.\n"
     ]
    },
    {
     "name": "stderr",
     "output_type": "stream",
     "text": [
      "C:\\ProgramData\\anaconda3\\Lib\\site-packages\\sklearn\\preprocessing\\_discretization.py:279: UserWarning: Bins whose width are too small (i.e., <= 1e-8) in feature 0 are removed. Consider decreasing the number of bins.\n",
      "  warnings.warn(\n",
      "C:\\ProgramData\\anaconda3\\Lib\\site-packages\\sklearn\\preprocessing\\_discretization.py:279: UserWarning: Bins whose width are too small (i.e., <= 1e-8) in feature 0 are removed. Consider decreasing the number of bins.\n",
      "  warnings.warn(\n",
      "C:\\ProgramData\\anaconda3\\Lib\\site-packages\\sklearn\\preprocessing\\_discretization.py:279: UserWarning: Bins whose width are too small (i.e., <= 1e-8) in feature 0 are removed. Consider decreasing the number of bins.\n",
      "  warnings.warn(\n",
      "C:\\ProgramData\\anaconda3\\Lib\\site-packages\\sklearn\\preprocessing\\_discretization.py:279: UserWarning: Bins whose width are too small (i.e., <= 1e-8) in feature 0 are removed. Consider decreasing the number of bins.\n",
      "  warnings.warn(\n",
      "C:\\ProgramData\\anaconda3\\Lib\\site-packages\\sklearn\\preprocessing\\_discretization.py:279: UserWarning: Bins whose width are too small (i.e., <= 1e-8) in feature 0 are removed. Consider decreasing the number of bins.\n",
      "  warnings.warn(\n",
      "C:\\ProgramData\\anaconda3\\Lib\\site-packages\\sklearn\\preprocessing\\_discretization.py:279: UserWarning: Bins whose width are too small (i.e., <= 1e-8) in feature 0 are removed. Consider decreasing the number of bins.\n",
      "  warnings.warn(\n"
     ]
    },
    {
     "name": "stdout",
     "output_type": "stream",
     "text": [
      "04-28 19:40:12 I deeptables.m.preprocessor.py 404 - Discretization taken 0.29596853256225586s\n",
      "04-28 19:40:12 I deeptables.m.preprocessor.py 196 - fit_transform taken 1.402921199798584s\n",
      "04-28 19:40:12 I deeptables.m.preprocessor.py 242 - Transform [X]...\n",
      "04-28 19:40:12 I deeptables.m.preprocessor.py 249 - transform_X taken 0.21813011169433594s\n",
      "04-28 19:40:12 I deeptables.m.preprocessor.py 230 - Transform [y]...\n",
      "04-28 19:40:12 I deeptables.m.preprocessor.py 236 - transform_y taken 0.0020008087158203125s\n",
      "04-28 19:40:13 I deeptables.m.deeptable.py 353 - Training...\n",
      "04-28 19:40:13 I deeptables.m.deeptable.py 752 - Injected a callback [EarlyStopping]. monitor:val_binary_accuracy, patience:5, mode:min\n",
      "04-28 19:40:13 I deeptables.u.dataset_generator.py 250 - create dataset generator with _TFDGForPandas, batch_size=16, shuffle=True, drop_remainder=True\n",
      "04-28 19:40:13 I deeptables.u.dataset_generator.py 250 - create dataset generator with _TFDGForPandas, batch_size=16, shuffle=True, drop_remainder=True\n",
      "04-28 19:40:13 I deeptables.m.deepmodel.py 231 - Building model...\n"
     ]
    },
    {
     "name": "stderr",
     "output_type": "stream",
     "text": [
      "C:\\Users\\David\\AppData\\Roaming\\Python\\Python311\\site-packages\\keras\\src\\initializers\\initializers.py:120: UserWarning: The initializer RandomUniform is unseeded and being called multiple times, which will return identical values each time (even if the initializer is unseeded). Please update your code to provide a seed to the initializer, or avoid using the same initializer instance more than once.\n",
      "  warnings.warn(\n"
     ]
    },
    {
     "name": "stdout",
     "output_type": "stream",
     "text": [
      "04-28 19:40:13 I deeptables.m.deepmodel.py 287 - >>>>>>>>>>>>>>>>>>>>>> Model Desc <<<<<<<<<<<<<<<<<<<<<<< \n",
      "---------------------------------------------------------\n",
      "inputs:\n",
      "---------------------------------------------------------\n",
      "['all_categorical_vars: (19)', 'input_continuous_all: (11)']\n",
      "---------------------------------------------------------\n",
      "embeddings:\n",
      "---------------------------------------------------------\n",
      "input_dims: [5, 4, 73, 13, 6, 4, 4, 4, 7, 15, 17, 3, 3, 5, 4, 3, 3, 3, 3]\n",
      "output_dims: [4, 4, 4, 4, 4, 4, 4, 4, 4, 4, 4, 4, 4, 4, 4, 4, 4, 4, 4]\n",
      "dropout: 0.2\n",
      "---------------------------------------------------------\n",
      "dense: dropout: 0\n",
      "batch_normalization: False\n",
      "---------------------------------------------------------\n",
      "concat_embed_dense: shape: (None, 87)\n",
      "---------------------------------------------------------\n",
      "nets: ['linear', 'dnn_nets']\n",
      "---------------------------------------------------------\n",
      "linear: input_shape (None, 30), output_shape (None, 1)\n",
      "dnn: input_shape (None, 87), output_shape (None, 64)\n",
      "---------------------------------------------------------\n",
      "stacking_op: add\n",
      "---------------------------------------------------------\n",
      "output: activation: sigmoid, output_shape: (None, 1), use_bias: True\n",
      "loss: binary_crossentropy\n",
      "optimizer: <keras.src.optimizers.adam.Adam object at 0x00000157D2DEAF90>\n",
      "---------------------------------------------------------\n",
      "\n",
      "04-28 19:40:13 I deeptables.m.deepmodel.py 105 - training...\n",
      "Epoch 1/30\n",
      "8251/8251 [==============================] - 23s 2ms/step - loss: 724.1668 - binary_accuracy: 0.7098 - val_loss: 14.3493 - val_binary_accuracy: 0.6453\n",
      "Epoch 2/30\n",
      "8251/8251 [==============================] - 18s 2ms/step - loss: 4.9505 - binary_accuracy: 0.7400 - val_loss: 0.4052 - val_binary_accuracy: 0.8184\n",
      "Epoch 3/30\n",
      "8251/8251 [==============================] - 18s 2ms/step - loss: 0.4649 - binary_accuracy: 0.7844 - val_loss: 0.5243 - val_binary_accuracy: 0.7484\n",
      "Epoch 4/30\n",
      "8251/8251 [==============================] - 18s 2ms/step - loss: 0.4686 - binary_accuracy: 0.7875 - val_loss: 0.4134 - val_binary_accuracy: 0.8137\n",
      "Epoch 5/30\n",
      "8251/8251 [==============================] - 18s 2ms/step - loss: 0.4646 - binary_accuracy: 0.7919 - val_loss: 0.4212 - val_binary_accuracy: 0.8121\n",
      "Epoch 6/30\n",
      "8236/8251 [============================>.] - ETA: 0s - loss: 0.4628 - binary_accuracy: 0.7916Restoring model weights from the end of the best epoch: 1.\n",
      "8251/8251 [==============================] - 18s 2ms/step - loss: 0.4628 - binary_accuracy: 0.7915 - val_loss: 0.5170 - val_binary_accuracy: 0.7543\n",
      "Epoch 6: early stopping\n",
      "04-28 19:42:05 I deeptables.m.deepmodel.py 122 - Training finished.\n",
      "04-28 19:42:05 I deeptables.m.deeptable.py 369 - Training finished.\n",
      "04-28 19:42:05 I deeptables.m.deeptable.py 704 - Model has been saved to:dt_output/dt_20240428194011_linear_dnn_nets/linear+dnn_nets.h5\n",
      "04-28 19:42:05 I deeptables.m.preprocessor.py 242 - Transform [X]...\n"
     ]
    },
    {
     "name": "stderr",
     "output_type": "stream",
     "text": [
      "C:\\Users\\David\\AppData\\Roaming\\Python\\Python311\\site-packages\\deeptables\\models\\deepmodel.py:188: UserWarning: You are saving your model as an HDF5 file via `model.save()`. This file format is considered legacy. We recommend using instead the native Keras format, e.g. `model.save('my_model.keras')`.\n",
      "  save_model(self.model, h, save_format='h5')\n"
     ]
    },
    {
     "name": "stdout",
     "output_type": "stream",
     "text": [
      "04-28 19:42:05 I deeptables.m.preprocessor.py 249 - transform_X taken 0.22316527366638184s\n",
      "04-28 19:42:05 I deeptables.m.preprocessor.py 230 - Transform [y]...\n",
      "04-28 19:42:05 I deeptables.m.preprocessor.py 236 - transform_y taken 0.0009984970092773438s\n",
      "04-28 19:42:05 I deeptables.m.deepmodel.py 158 - Performing evaluation...\n",
      "04-28 19:42:05 I deeptables.u.dataset_generator.py 250 - create dataset generator with _TFDGForPandas, batch_size=256, shuffle=False, drop_remainder=False\n",
      "04-28 19:42:06 I deeptables.m.deeptable.py 337 - X.Shape=(132027, 11), y.Shape=(132027,), batch_size=16, config=ModelConfig(name='conf-1', nets=['linear', 'dnn_nets'], categorical_columns='auto', exclude_columns=[], task='auto', pos_label=None, metrics=['binary_accuracy'], auto_categorize=True, cat_exponent=0.5, cat_remain_numeric=True, auto_encode_label=True, auto_imputation=True, auto_discrete=True, auto_discard_unique=True, apply_gbm_features=False, gbm_params={}, gbm_feature_type='embedding', fixed_embedding_dim=True, embeddings_output_dim=4, embeddings_initializer='uniform', embeddings_regularizer=None, embeddings_activity_regularizer=None, dense_dropout=0, embedding_dropout=0.4, stacking_op='add', output_use_bias=True, apply_class_weight=False, optimizer='auto', loss='auto', dnn_params={'hidden_units': ((128, 0, False), (64, 0, False)), 'activation': 'relu'}, autoint_params={'num_attention': 3, 'num_heads': 1, 'dropout_rate': 0, 'use_residual': True}, fgcnn_params={'fg_filters': (14, 16), 'fg_heights': (7, 7), 'fg_pool_heights': (2, 2), 'fg_new_feat_filters': (2, 2)}, fibinet_params={'senet_pooling_op': 'mean', 'senet_reduction_ratio': 3, 'bilinear_type': 'field_interaction'}, cross_params={'num_cross_layer': 4}, pnn_params={'outer_product_kernel_type': 'mat'}, afm_params={'attention_factor': 4, 'dropout_rate': 0}, cin_params={'cross_layer_size': (128, 128), 'activation': 'relu', 'use_residual': False, 'use_bias': False, 'direct': False, 'reduce_D': False}, home_dir=None, monitor_metric=None, earlystopping_patience=5, earlystopping_mode='auto', gpu_usage_strategy='memory_growth', distribute_strategy=None, var_len_categorical_columns=None)\n",
      "04-28 19:42:06 I deeptables.m.deeptable.py 338 - metrics:['binary_accuracy']\n",
      "04-28 19:42:06 I hypernets.t.toolbox.py 329 - 2 class detected, {0, 1}, so inferred as a [binary classification] task\n",
      "04-28 19:42:06 I deeptables.m.preprocessor.py 261 - Preparing features...\n",
      "04-28 19:42:06 I deeptables.m.preprocessor.py 336 - Preparing features taken 0.3778696060180664s\n",
      "04-28 19:42:06 I deeptables.m.preprocessor.py 341 - Data imputation...\n",
      "04-28 19:42:07 I deeptables.m.preprocessor.py 383 - Imputation taken 0.3843872547149658s\n",
      "04-28 19:42:07 I deeptables.m.preprocessor.py 388 - Categorical encoding...\n",
      "04-28 19:42:07 I deeptables.m.preprocessor.py 393 - Categorical encoding taken 0.1992173194885254s\n",
      "04-28 19:42:07 I deeptables.m.preprocessor.py 398 - Data discretization...\n",
      "04-28 19:42:07 I hypernets.t.sklearn_ex.py 716 - 11 variables to discrete.\n"
     ]
    },
    {
     "name": "stderr",
     "output_type": "stream",
     "text": [
      "C:\\ProgramData\\anaconda3\\Lib\\site-packages\\sklearn\\preprocessing\\_discretization.py:279: UserWarning: Bins whose width are too small (i.e., <= 1e-8) in feature 0 are removed. Consider decreasing the number of bins.\n",
      "  warnings.warn(\n",
      "C:\\ProgramData\\anaconda3\\Lib\\site-packages\\sklearn\\preprocessing\\_discretization.py:279: UserWarning: Bins whose width are too small (i.e., <= 1e-8) in feature 0 are removed. Consider decreasing the number of bins.\n",
      "  warnings.warn(\n",
      "C:\\ProgramData\\anaconda3\\Lib\\site-packages\\sklearn\\preprocessing\\_discretization.py:279: UserWarning: Bins whose width are too small (i.e., <= 1e-8) in feature 0 are removed. Consider decreasing the number of bins.\n",
      "  warnings.warn(\n",
      "C:\\ProgramData\\anaconda3\\Lib\\site-packages\\sklearn\\preprocessing\\_discretization.py:279: UserWarning: Bins whose width are too small (i.e., <= 1e-8) in feature 0 are removed. Consider decreasing the number of bins.\n",
      "  warnings.warn(\n",
      "C:\\ProgramData\\anaconda3\\Lib\\site-packages\\sklearn\\preprocessing\\_discretization.py:279: UserWarning: Bins whose width are too small (i.e., <= 1e-8) in feature 0 are removed. Consider decreasing the number of bins.\n",
      "  warnings.warn(\n",
      "C:\\ProgramData\\anaconda3\\Lib\\site-packages\\sklearn\\preprocessing\\_discretization.py:279: UserWarning: Bins whose width are too small (i.e., <= 1e-8) in feature 0 are removed. Consider decreasing the number of bins.\n",
      "  warnings.warn(\n"
     ]
    },
    {
     "name": "stdout",
     "output_type": "stream",
     "text": [
      "04-28 19:42:07 I deeptables.m.preprocessor.py 404 - Discretization taken 0.2855098247528076s\n",
      "04-28 19:42:07 I deeptables.m.preprocessor.py 196 - fit_transform taken 1.3887138366699219s\n",
      "04-28 19:42:07 I deeptables.m.preprocessor.py 242 - Transform [X]...\n",
      "04-28 19:42:07 I deeptables.m.preprocessor.py 249 - transform_X taken 0.20922231674194336s\n",
      "04-28 19:42:07 I deeptables.m.preprocessor.py 230 - Transform [y]...\n",
      "04-28 19:42:07 I deeptables.m.preprocessor.py 236 - transform_y taken 0.0009937286376953125s\n",
      "04-28 19:42:07 I deeptables.m.deeptable.py 353 - Training...\n",
      "04-28 19:42:07 I deeptables.m.deeptable.py 752 - Injected a callback [EarlyStopping]. monitor:val_binary_accuracy, patience:5, mode:min\n",
      "04-28 19:42:07 I deeptables.u.dataset_generator.py 250 - create dataset generator with _TFDGForPandas, batch_size=16, shuffle=True, drop_remainder=True\n",
      "04-28 19:42:07 I deeptables.u.dataset_generator.py 250 - create dataset generator with _TFDGForPandas, batch_size=16, shuffle=True, drop_remainder=True\n",
      "04-28 19:42:07 I deeptables.m.deepmodel.py 231 - Building model...\n",
      "04-28 19:42:08 I deeptables.m.deepmodel.py 287 - >>>>>>>>>>>>>>>>>>>>>> Model Desc <<<<<<<<<<<<<<<<<<<<<<< \n",
      "---------------------------------------------------------\n",
      "inputs:\n",
      "---------------------------------------------------------\n",
      "['all_categorical_vars: (19)', 'input_continuous_all: (11)']\n",
      "---------------------------------------------------------\n",
      "embeddings:\n",
      "---------------------------------------------------------\n",
      "input_dims: [5, 4, 73, 13, 6, 4, 4, 4, 7, 15, 17, 3, 3, 5, 4, 3, 3, 3, 3]\n",
      "output_dims: [4, 4, 4, 4, 4, 4, 4, 4, 4, 4, 4, 4, 4, 4, 4, 4, 4, 4, 4]\n",
      "dropout: 0.4\n",
      "---------------------------------------------------------\n",
      "dense: dropout: 0\n",
      "batch_normalization: False\n",
      "---------------------------------------------------------\n",
      "concat_embed_dense: shape: (None, 87)\n",
      "---------------------------------------------------------\n",
      "nets: ['linear', 'dnn_nets']\n",
      "---------------------------------------------------------\n",
      "linear: input_shape (None, 30), output_shape (None, 1)\n",
      "dnn: input_shape (None, 87), output_shape (None, 64)\n",
      "---------------------------------------------------------\n",
      "stacking_op: add\n",
      "---------------------------------------------------------\n",
      "output: activation: sigmoid, output_shape: (None, 1), use_bias: True\n",
      "loss: binary_crossentropy\n",
      "optimizer: <keras.src.optimizers.adam.Adam object at 0x00000157B84A8410>\n",
      "---------------------------------------------------------\n",
      "\n",
      "04-28 19:42:08 I deeptables.m.deepmodel.py 105 - training...\n"
     ]
    },
    {
     "name": "stderr",
     "output_type": "stream",
     "text": [
      "C:\\Users\\David\\AppData\\Roaming\\Python\\Python311\\site-packages\\keras\\src\\initializers\\initializers.py:120: UserWarning: The initializer RandomUniform is unseeded and being called multiple times, which will return identical values each time (even if the initializer is unseeded). Please update your code to provide a seed to the initializer, or avoid using the same initializer instance more than once.\n",
      "  warnings.warn(\n"
     ]
    },
    {
     "name": "stdout",
     "output_type": "stream",
     "text": [
      "Epoch 1/30\n",
      "8251/8251 [==============================] - 24s 2ms/step - loss: 905.1447 - binary_accuracy: 0.6937 - val_loss: 43.3365 - val_binary_accuracy: 0.3623\n",
      "Epoch 2/30\n",
      "8251/8251 [==============================] - 18s 2ms/step - loss: 4.1248 - binary_accuracy: 0.7388 - val_loss: 0.4414 - val_binary_accuracy: 0.8251\n",
      "Epoch 3/30\n",
      "8251/8251 [==============================] - 18s 2ms/step - loss: 0.4725 - binary_accuracy: 0.7804 - val_loss: 0.6737 - val_binary_accuracy: 0.6462\n",
      "Epoch 4/30\n",
      "8251/8251 [==============================] - 18s 2ms/step - loss: 0.4716 - binary_accuracy: 0.7852 - val_loss: 0.4804 - val_binary_accuracy: 0.7726\n",
      "Epoch 5/30\n",
      "8251/8251 [==============================] - 18s 2ms/step - loss: 0.4673 - binary_accuracy: 0.7888 - val_loss: 0.4672 - val_binary_accuracy: 0.7869\n",
      "Epoch 6/30\n",
      "8239/8251 [============================>.] - ETA: 0s - loss: 0.4667 - binary_accuracy: 0.7879Restoring model weights from the end of the best epoch: 1.\n",
      "8251/8251 [==============================] - 19s 2ms/step - loss: 0.4666 - binary_accuracy: 0.7880 - val_loss: 0.4795 - val_binary_accuracy: 0.7870\n",
      "Epoch 6: early stopping\n",
      "04-28 19:44:04 I deeptables.m.deepmodel.py 122 - Training finished.\n",
      "04-28 19:44:04 I deeptables.m.deeptable.py 369 - Training finished.\n",
      "04-28 19:44:04 I deeptables.m.deeptable.py 704 - Model has been saved to:dt_output/dt_20240428194206_linear_dnn_nets/linear+dnn_nets.h5\n",
      "04-28 19:44:04 I deeptables.m.preprocessor.py 242 - Transform [X]...\n"
     ]
    },
    {
     "name": "stderr",
     "output_type": "stream",
     "text": [
      "C:\\Users\\David\\AppData\\Roaming\\Python\\Python311\\site-packages\\deeptables\\models\\deepmodel.py:188: UserWarning: You are saving your model as an HDF5 file via `model.save()`. This file format is considered legacy. We recommend using instead the native Keras format, e.g. `model.save('my_model.keras')`.\n",
      "  save_model(self.model, h, save_format='h5')\n"
     ]
    },
    {
     "name": "stdout",
     "output_type": "stream",
     "text": [
      "04-28 19:44:05 I deeptables.m.preprocessor.py 249 - transform_X taken 0.23354315757751465s\n",
      "04-28 19:44:05 I deeptables.m.preprocessor.py 230 - Transform [y]...\n",
      "04-28 19:44:05 I deeptables.m.preprocessor.py 236 - transform_y taken 0.0010046958923339844s\n",
      "04-28 19:44:05 I deeptables.m.deepmodel.py 158 - Performing evaluation...\n",
      "04-28 19:44:05 I deeptables.u.dataset_generator.py 250 - create dataset generator with _TFDGForPandas, batch_size=256, shuffle=False, drop_remainder=False\n",
      "04-28 19:44:05 I deeptables.m.deeptable.py 337 - X.Shape=(132027, 11), y.Shape=(132027,), batch_size=16, config=ModelConfig(name='conf-1', nets=['linear', 'dnn_nets'], categorical_columns='auto', exclude_columns=[], task='auto', pos_label=None, metrics=['binary_accuracy'], auto_categorize=True, cat_exponent=0.5, cat_remain_numeric=True, auto_encode_label=True, auto_imputation=True, auto_discrete=True, auto_discard_unique=True, apply_gbm_features=False, gbm_params={}, gbm_feature_type='embedding', fixed_embedding_dim=True, embeddings_output_dim=4, embeddings_initializer='uniform', embeddings_regularizer=None, embeddings_activity_regularizer=None, dense_dropout=0, embedding_dropout=0.6, stacking_op='add', output_use_bias=True, apply_class_weight=False, optimizer='auto', loss='auto', dnn_params={'hidden_units': ((128, 0, False), (64, 0, False)), 'activation': 'relu'}, autoint_params={'num_attention': 3, 'num_heads': 1, 'dropout_rate': 0, 'use_residual': True}, fgcnn_params={'fg_filters': (14, 16), 'fg_heights': (7, 7), 'fg_pool_heights': (2, 2), 'fg_new_feat_filters': (2, 2)}, fibinet_params={'senet_pooling_op': 'mean', 'senet_reduction_ratio': 3, 'bilinear_type': 'field_interaction'}, cross_params={'num_cross_layer': 4}, pnn_params={'outer_product_kernel_type': 'mat'}, afm_params={'attention_factor': 4, 'dropout_rate': 0}, cin_params={'cross_layer_size': (128, 128), 'activation': 'relu', 'use_residual': False, 'use_bias': False, 'direct': False, 'reduce_D': False}, home_dir=None, monitor_metric=None, earlystopping_patience=5, earlystopping_mode='auto', gpu_usage_strategy='memory_growth', distribute_strategy=None, var_len_categorical_columns=None)\n",
      "04-28 19:44:05 I deeptables.m.deeptable.py 338 - metrics:['binary_accuracy']\n",
      "04-28 19:44:05 I hypernets.t.toolbox.py 329 - 2 class detected, {0, 1}, so inferred as a [binary classification] task\n",
      "04-28 19:44:05 I deeptables.m.preprocessor.py 261 - Preparing features...\n",
      "04-28 19:44:06 I deeptables.m.preprocessor.py 336 - Preparing features taken 0.3677637577056885s\n",
      "04-28 19:44:06 I deeptables.m.preprocessor.py 341 - Data imputation...\n",
      "04-28 19:44:06 I deeptables.m.preprocessor.py 383 - Imputation taken 0.38344788551330566s\n",
      "04-28 19:44:06 I deeptables.m.preprocessor.py 388 - Categorical encoding...\n",
      "04-28 19:44:06 I deeptables.m.preprocessor.py 393 - Categorical encoding taken 0.20315194129943848s\n",
      "04-28 19:44:06 I deeptables.m.preprocessor.py 398 - Data discretization...\n",
      "04-28 19:44:06 I hypernets.t.sklearn_ex.py 716 - 11 variables to discrete.\n"
     ]
    },
    {
     "name": "stderr",
     "output_type": "stream",
     "text": [
      "C:\\ProgramData\\anaconda3\\Lib\\site-packages\\sklearn\\preprocessing\\_discretization.py:279: UserWarning: Bins whose width are too small (i.e., <= 1e-8) in feature 0 are removed. Consider decreasing the number of bins.\n",
      "  warnings.warn(\n",
      "C:\\ProgramData\\anaconda3\\Lib\\site-packages\\sklearn\\preprocessing\\_discretization.py:279: UserWarning: Bins whose width are too small (i.e., <= 1e-8) in feature 0 are removed. Consider decreasing the number of bins.\n",
      "  warnings.warn(\n",
      "C:\\ProgramData\\anaconda3\\Lib\\site-packages\\sklearn\\preprocessing\\_discretization.py:279: UserWarning: Bins whose width are too small (i.e., <= 1e-8) in feature 0 are removed. Consider decreasing the number of bins.\n",
      "  warnings.warn(\n",
      "C:\\ProgramData\\anaconda3\\Lib\\site-packages\\sklearn\\preprocessing\\_discretization.py:279: UserWarning: Bins whose width are too small (i.e., <= 1e-8) in feature 0 are removed. Consider decreasing the number of bins.\n",
      "  warnings.warn(\n",
      "C:\\ProgramData\\anaconda3\\Lib\\site-packages\\sklearn\\preprocessing\\_discretization.py:279: UserWarning: Bins whose width are too small (i.e., <= 1e-8) in feature 0 are removed. Consider decreasing the number of bins.\n",
      "  warnings.warn(\n",
      "C:\\ProgramData\\anaconda3\\Lib\\site-packages\\sklearn\\preprocessing\\_discretization.py:279: UserWarning: Bins whose width are too small (i.e., <= 1e-8) in feature 0 are removed. Consider decreasing the number of bins.\n",
      "  warnings.warn(\n"
     ]
    },
    {
     "name": "stdout",
     "output_type": "stream",
     "text": [
      "04-28 19:44:06 I deeptables.m.preprocessor.py 404 - Discretization taken 0.2867608070373535s\n",
      "04-28 19:44:07 I deeptables.m.preprocessor.py 196 - fit_transform taken 1.382054090499878s\n",
      "04-28 19:44:07 I deeptables.m.preprocessor.py 242 - Transform [X]...\n",
      "04-28 19:44:07 I deeptables.m.preprocessor.py 249 - transform_X taken 0.21179652214050293s\n",
      "04-28 19:44:07 I deeptables.m.preprocessor.py 230 - Transform [y]...\n",
      "04-28 19:44:07 I deeptables.m.preprocessor.py 236 - transform_y taken 0.0009713172912597656s\n",
      "04-28 19:44:07 I deeptables.m.deeptable.py 353 - Training...\n",
      "04-28 19:44:07 I deeptables.m.deeptable.py 752 - Injected a callback [EarlyStopping]. monitor:val_binary_accuracy, patience:5, mode:min\n",
      "04-28 19:44:07 I deeptables.u.dataset_generator.py 250 - create dataset generator with _TFDGForPandas, batch_size=16, shuffle=True, drop_remainder=True\n",
      "04-28 19:44:07 I deeptables.u.dataset_generator.py 250 - create dataset generator with _TFDGForPandas, batch_size=16, shuffle=True, drop_remainder=True\n",
      "04-28 19:44:07 I deeptables.m.deepmodel.py 231 - Building model...\n",
      "04-28 19:44:07 I deeptables.m.deepmodel.py 287 - >>>>>>>>>>>>>>>>>>>>>> Model Desc <<<<<<<<<<<<<<<<<<<<<<< \n",
      "---------------------------------------------------------\n",
      "inputs:\n",
      "---------------------------------------------------------\n",
      "['all_categorical_vars: (19)', 'input_continuous_all: (11)']\n",
      "---------------------------------------------------------\n",
      "embeddings:\n",
      "---------------------------------------------------------\n",
      "input_dims: [5, 4, 73, 13, 6, 4, 4, 4, 7, 15, 17, 3, 3, 5, 4, 3, 3, 3, 3]\n",
      "output_dims: [4, 4, 4, 4, 4, 4, 4, 4, 4, 4, 4, 4, 4, 4, 4, 4, 4, 4, 4]\n",
      "dropout: 0.6\n",
      "---------------------------------------------------------\n",
      "dense: dropout: 0\n",
      "batch_normalization: False\n",
      "---------------------------------------------------------\n",
      "concat_embed_dense: shape: (None, 87)\n",
      "---------------------------------------------------------\n",
      "nets: ['linear', 'dnn_nets']\n",
      "---------------------------------------------------------\n",
      "linear: input_shape (None, 30), output_shape (None, 1)\n",
      "dnn: input_shape (None, 87), output_shape (None, 64)\n",
      "---------------------------------------------------------\n",
      "stacking_op: add\n",
      "---------------------------------------------------------\n",
      "output: activation: sigmoid, output_shape: (None, 1), use_bias: True\n",
      "loss: binary_crossentropy\n",
      "optimizer: <keras.src.optimizers.adam.Adam object at 0x00000157C5872FD0>\n",
      "---------------------------------------------------------\n",
      "\n"
     ]
    },
    {
     "name": "stderr",
     "output_type": "stream",
     "text": [
      "C:\\Users\\David\\AppData\\Roaming\\Python\\Python311\\site-packages\\keras\\src\\initializers\\initializers.py:120: UserWarning: The initializer RandomUniform is unseeded and being called multiple times, which will return identical values each time (even if the initializer is unseeded). Please update your code to provide a seed to the initializer, or avoid using the same initializer instance more than once.\n",
      "  warnings.warn(\n"
     ]
    },
    {
     "name": "stdout",
     "output_type": "stream",
     "text": [
      "04-28 19:44:07 I deeptables.m.deepmodel.py 105 - training...\n",
      "Epoch 1/30\n",
      "8251/8251 [==============================] - 23s 2ms/step - loss: 33.9194 - binary_accuracy: 0.6131 - val_loss: 0.4399 - val_binary_accuracy: 0.8100\n",
      "Epoch 2/30\n",
      "8251/8251 [==============================] - 19s 2ms/step - loss: 0.5082 - binary_accuracy: 0.7721 - val_loss: 0.4284 - val_binary_accuracy: 0.8050\n",
      "Epoch 3/30\n",
      "8251/8251 [==============================] - 19s 2ms/step - loss: 0.4875 - binary_accuracy: 0.7816 - val_loss: 0.4700 - val_binary_accuracy: 0.7958\n",
      "Epoch 4/30\n",
      "8251/8251 [==============================] - 19s 2ms/step - loss: 0.4776 - binary_accuracy: 0.7878 - val_loss: 0.4246 - val_binary_accuracy: 0.8091\n",
      "Epoch 5/30\n",
      "8251/8251 [==============================] - 19s 2ms/step - loss: 0.4751 - binary_accuracy: 0.7860 - val_loss: 0.3942 - val_binary_accuracy: 0.8244\n",
      "Epoch 6/30\n",
      "8251/8251 [==============================] - 19s 2ms/step - loss: 0.4718 - binary_accuracy: 0.7883 - val_loss: 0.5025 - val_binary_accuracy: 0.7508\n",
      "Epoch 7/30\n",
      "8251/8251 [==============================] - 19s 2ms/step - loss: 0.4665 - binary_accuracy: 0.7906 - val_loss: 0.3817 - val_binary_accuracy: 0.8350\n",
      "Epoch 8/30\n",
      "8251/8251 [==============================] - 19s 2ms/step - loss: 0.4691 - binary_accuracy: 0.7890 - val_loss: 0.4821 - val_binary_accuracy: 0.7779\n",
      "Epoch 9/30\n",
      "8251/8251 [==============================] - 19s 2ms/step - loss: 0.4651 - binary_accuracy: 0.7903 - val_loss: 0.4431 - val_binary_accuracy: 0.7945\n",
      "Epoch 10/30\n",
      "8251/8251 [==============================] - 19s 2ms/step - loss: 0.4635 - binary_accuracy: 0.7913 - val_loss: 0.3984 - val_binary_accuracy: 0.8218\n",
      "Epoch 11/30\n",
      "8245/8251 [============================>.] - ETA: 0s - loss: 0.4631 - binary_accuracy: 0.7921Restoring model weights from the end of the best epoch: 6.\n",
      "8251/8251 [==============================] - 19s 2ms/step - loss: 0.4631 - binary_accuracy: 0.7921 - val_loss: 0.3891 - val_binary_accuracy: 0.8279\n",
      "Epoch 11: early stopping\n",
      "04-28 19:47:36 I deeptables.m.deepmodel.py 122 - Training finished.\n",
      "04-28 19:47:36 I deeptables.m.deeptable.py 369 - Training finished.\n",
      "04-28 19:47:36 I deeptables.m.deeptable.py 704 - Model has been saved to:dt_output/dt_20240428194405_linear_dnn_nets/linear+dnn_nets.h5\n",
      "04-28 19:47:36 I deeptables.m.preprocessor.py 242 - Transform [X]...\n"
     ]
    },
    {
     "name": "stderr",
     "output_type": "stream",
     "text": [
      "C:\\Users\\David\\AppData\\Roaming\\Python\\Python311\\site-packages\\deeptables\\models\\deepmodel.py:188: UserWarning: You are saving your model as an HDF5 file via `model.save()`. This file format is considered legacy. We recommend using instead the native Keras format, e.g. `model.save('my_model.keras')`.\n",
      "  save_model(self.model, h, save_format='h5')\n"
     ]
    },
    {
     "name": "stdout",
     "output_type": "stream",
     "text": [
      "04-28 19:47:37 I deeptables.m.preprocessor.py 249 - transform_X taken 0.22254633903503418s\n",
      "04-28 19:47:37 I deeptables.m.preprocessor.py 230 - Transform [y]...\n",
      "04-28 19:47:37 I deeptables.m.preprocessor.py 236 - transform_y taken 0.0009992122650146484s\n",
      "04-28 19:47:37 I deeptables.m.deepmodel.py 158 - Performing evaluation...\n",
      "04-28 19:47:37 I deeptables.u.dataset_generator.py 250 - create dataset generator with _TFDGForPandas, batch_size=256, shuffle=False, drop_remainder=False\n",
      "04-28 19:47:37 I deeptables.m.deeptable.py 337 - X.Shape=(132027, 11), y.Shape=(132027,), batch_size=16, config=ModelConfig(name='conf-1', nets=['autoint_nets'], categorical_columns='auto', exclude_columns=[], task='auto', pos_label=None, metrics=['binary_accuracy'], auto_categorize=True, cat_exponent=0.5, cat_remain_numeric=True, auto_encode_label=True, auto_imputation=True, auto_discrete=True, auto_discard_unique=True, apply_gbm_features=False, gbm_params={}, gbm_feature_type='embedding', fixed_embedding_dim=True, embeddings_output_dim=4, embeddings_initializer='uniform', embeddings_regularizer=None, embeddings_activity_regularizer=None, dense_dropout=0, embedding_dropout=0.2, stacking_op='add', output_use_bias=True, apply_class_weight=False, optimizer='auto', loss='auto', dnn_params={'hidden_units': ((128, 0, False), (64, 0, False)), 'activation': 'relu'}, autoint_params={'num_attention': 3, 'num_heads': 1, 'dropout_rate': 0, 'use_residual': True}, fgcnn_params={'fg_filters': (14, 16), 'fg_heights': (7, 7), 'fg_pool_heights': (2, 2), 'fg_new_feat_filters': (2, 2)}, fibinet_params={'senet_pooling_op': 'mean', 'senet_reduction_ratio': 3, 'bilinear_type': 'field_interaction'}, cross_params={'num_cross_layer': 4}, pnn_params={'outer_product_kernel_type': 'mat'}, afm_params={'attention_factor': 4, 'dropout_rate': 0}, cin_params={'cross_layer_size': (128, 128), 'activation': 'relu', 'use_residual': False, 'use_bias': False, 'direct': False, 'reduce_D': False}, home_dir=None, monitor_metric=None, earlystopping_patience=5, earlystopping_mode='auto', gpu_usage_strategy='memory_growth', distribute_strategy=None, var_len_categorical_columns=None)\n",
      "04-28 19:47:37 I deeptables.m.deeptable.py 338 - metrics:['binary_accuracy']\n",
      "04-28 19:47:37 I hypernets.t.toolbox.py 329 - 2 class detected, {0, 1}, so inferred as a [binary classification] task\n",
      "04-28 19:47:37 I deeptables.m.preprocessor.py 261 - Preparing features...\n",
      "04-28 19:47:37 I deeptables.m.preprocessor.py 336 - Preparing features taken 0.3660752773284912s\n",
      "04-28 19:47:37 I deeptables.m.preprocessor.py 341 - Data imputation...\n",
      "04-28 19:47:38 I deeptables.m.preprocessor.py 383 - Imputation taken 0.3872039318084717s\n",
      "04-28 19:47:38 I deeptables.m.preprocessor.py 388 - Categorical encoding...\n",
      "04-28 19:47:38 I deeptables.m.preprocessor.py 393 - Categorical encoding taken 0.2008509635925293s\n",
      "04-28 19:47:38 I deeptables.m.preprocessor.py 398 - Data discretization...\n",
      "04-28 19:47:38 I hypernets.t.sklearn_ex.py 716 - 11 variables to discrete.\n"
     ]
    },
    {
     "name": "stderr",
     "output_type": "stream",
     "text": [
      "C:\\ProgramData\\anaconda3\\Lib\\site-packages\\sklearn\\preprocessing\\_discretization.py:279: UserWarning: Bins whose width are too small (i.e., <= 1e-8) in feature 0 are removed. Consider decreasing the number of bins.\n",
      "  warnings.warn(\n",
      "C:\\ProgramData\\anaconda3\\Lib\\site-packages\\sklearn\\preprocessing\\_discretization.py:279: UserWarning: Bins whose width are too small (i.e., <= 1e-8) in feature 0 are removed. Consider decreasing the number of bins.\n",
      "  warnings.warn(\n",
      "C:\\ProgramData\\anaconda3\\Lib\\site-packages\\sklearn\\preprocessing\\_discretization.py:279: UserWarning: Bins whose width are too small (i.e., <= 1e-8) in feature 0 are removed. Consider decreasing the number of bins.\n",
      "  warnings.warn(\n",
      "C:\\ProgramData\\anaconda3\\Lib\\site-packages\\sklearn\\preprocessing\\_discretization.py:279: UserWarning: Bins whose width are too small (i.e., <= 1e-8) in feature 0 are removed. Consider decreasing the number of bins.\n",
      "  warnings.warn(\n",
      "C:\\ProgramData\\anaconda3\\Lib\\site-packages\\sklearn\\preprocessing\\_discretization.py:279: UserWarning: Bins whose width are too small (i.e., <= 1e-8) in feature 0 are removed. Consider decreasing the number of bins.\n",
      "  warnings.warn(\n",
      "C:\\ProgramData\\anaconda3\\Lib\\site-packages\\sklearn\\preprocessing\\_discretization.py:279: UserWarning: Bins whose width are too small (i.e., <= 1e-8) in feature 0 are removed. Consider decreasing the number of bins.\n",
      "  warnings.warn(\n"
     ]
    },
    {
     "name": "stdout",
     "output_type": "stream",
     "text": [
      "04-28 19:47:38 I deeptables.m.preprocessor.py 404 - Discretization taken 0.28285694122314453s\n",
      "04-28 19:47:38 I deeptables.m.preprocessor.py 196 - fit_transform taken 1.3782131671905518s\n",
      "04-28 19:47:38 I deeptables.m.preprocessor.py 242 - Transform [X]...\n",
      "04-28 19:47:39 I deeptables.m.preprocessor.py 249 - transform_X taken 0.21227741241455078s\n",
      "04-28 19:47:39 I deeptables.m.preprocessor.py 230 - Transform [y]...\n",
      "04-28 19:47:39 I deeptables.m.preprocessor.py 236 - transform_y taken 0.0009992122650146484s\n",
      "04-28 19:47:39 I deeptables.m.deeptable.py 353 - Training...\n",
      "04-28 19:47:39 I deeptables.m.deeptable.py 752 - Injected a callback [EarlyStopping]. monitor:val_binary_accuracy, patience:5, mode:min\n",
      "04-28 19:47:39 I deeptables.u.dataset_generator.py 250 - create dataset generator with _TFDGForPandas, batch_size=16, shuffle=True, drop_remainder=True\n",
      "04-28 19:47:39 I deeptables.u.dataset_generator.py 250 - create dataset generator with _TFDGForPandas, batch_size=16, shuffle=True, drop_remainder=True\n",
      "04-28 19:47:39 I deeptables.m.deepmodel.py 231 - Building model...\n"
     ]
    },
    {
     "name": "stderr",
     "output_type": "stream",
     "text": [
      "C:\\Users\\David\\AppData\\Roaming\\Python\\Python311\\site-packages\\keras\\src\\initializers\\initializers.py:120: UserWarning: The initializer RandomUniform is unseeded and being called multiple times, which will return identical values each time (even if the initializer is unseeded). Please update your code to provide a seed to the initializer, or avoid using the same initializer instance more than once.\n",
      "  warnings.warn(\n"
     ]
    },
    {
     "name": "stdout",
     "output_type": "stream",
     "text": [
      "04-28 19:47:39 I deeptables.m.deepmodel.py 287 - >>>>>>>>>>>>>>>>>>>>>> Model Desc <<<<<<<<<<<<<<<<<<<<<<< \n",
      "---------------------------------------------------------\n",
      "inputs:\n",
      "---------------------------------------------------------\n",
      "['all_categorical_vars: (19)', 'input_continuous_all: (11)']\n",
      "---------------------------------------------------------\n",
      "embeddings:\n",
      "---------------------------------------------------------\n",
      "input_dims: [5, 4, 73, 13, 6, 4, 4, 4, 7, 15, 17, 3, 3, 5, 4, 3, 3, 3, 3]\n",
      "output_dims: [4, 4, 4, 4, 4, 4, 4, 4, 4, 4, 4, 4, 4, 4, 4, 4, 4, 4, 4]\n",
      "dropout: 0.2\n",
      "---------------------------------------------------------\n",
      "dense: dropout: 0\n",
      "batch_normalization: False\n",
      "---------------------------------------------------------\n",
      "concat_embed_dense: shape: (None, 87)\n",
      "---------------------------------------------------------\n",
      "nets: ['autoint_nets']\n",
      "---------------------------------------------------------\n",
      "autoint: input_shape (None, 19, 4), output_shape (None, 76)\n",
      "---------------------------------------------------------\n",
      "stacking_op: add\n",
      "---------------------------------------------------------\n",
      "output: activation: sigmoid, output_shape: (None, 1), use_bias: True\n",
      "loss: binary_crossentropy\n",
      "optimizer: <keras.src.optimizers.adam.Adam object at 0x0000015791099C10>\n",
      "---------------------------------------------------------\n",
      "\n",
      "04-28 19:47:39 I deeptables.m.deepmodel.py 105 - training...\n",
      "Epoch 1/30\n",
      "8251/8251 [==============================] - 35s 3ms/step - loss: 0.4591 - binary_accuracy: 0.7886 - val_loss: 0.4046 - val_binary_accuracy: 0.8145\n",
      "Epoch 2/30\n",
      "8251/8251 [==============================] - 28s 3ms/step - loss: 0.4384 - binary_accuracy: 0.8000 - val_loss: 0.4712 - val_binary_accuracy: 0.7775\n",
      "Epoch 3/30\n",
      "8251/8251 [==============================] - 28s 3ms/step - loss: 0.4355 - binary_accuracy: 0.8032 - val_loss: 0.4317 - val_binary_accuracy: 0.7989\n",
      "Epoch 4/30\n",
      "8251/8251 [==============================] - 27s 3ms/step - loss: 0.4338 - binary_accuracy: 0.8035 - val_loss: 0.4590 - val_binary_accuracy: 0.7853\n",
      "Epoch 5/30\n",
      "8251/8251 [==============================] - 28s 3ms/step - loss: 0.4326 - binary_accuracy: 0.8039 - val_loss: 0.4346 - val_binary_accuracy: 0.7976\n",
      "Epoch 6/30\n",
      "8251/8251 [==============================] - 28s 3ms/step - loss: 0.4310 - binary_accuracy: 0.8046 - val_loss: 0.4357 - val_binary_accuracy: 0.7914\n",
      "Epoch 7/30\n",
      "8235/8251 [============================>.] - ETA: 0s - loss: 0.4307 - binary_accuracy: 0.8045Restoring model weights from the end of the best epoch: 2.\n",
      "8251/8251 [==============================] - 28s 3ms/step - loss: 0.4307 - binary_accuracy: 0.8046 - val_loss: 0.4517 - val_binary_accuracy: 0.7854\n",
      "Epoch 7: early stopping\n",
      "04-28 19:51:01 I deeptables.m.deepmodel.py 122 - Training finished.\n",
      "04-28 19:51:01 I deeptables.m.deeptable.py 369 - Training finished.\n",
      "04-28 19:51:01 I deeptables.m.deeptable.py 704 - Model has been saved to:dt_output/dt_20240428194737_autoint_nets/autoint_nets.h5\n",
      "04-28 19:51:01 I deeptables.m.preprocessor.py 242 - Transform [X]...\n"
     ]
    },
    {
     "name": "stderr",
     "output_type": "stream",
     "text": [
      "C:\\Users\\David\\AppData\\Roaming\\Python\\Python311\\site-packages\\deeptables\\models\\deepmodel.py:188: UserWarning: You are saving your model as an HDF5 file via `model.save()`. This file format is considered legacy. We recommend using instead the native Keras format, e.g. `model.save('my_model.keras')`.\n",
      "  save_model(self.model, h, save_format='h5')\n"
     ]
    },
    {
     "name": "stdout",
     "output_type": "stream",
     "text": [
      "04-28 19:51:02 I deeptables.m.preprocessor.py 249 - transform_X taken 0.22147583961486816s\n",
      "04-28 19:51:02 I deeptables.m.preprocessor.py 230 - Transform [y]...\n",
      "04-28 19:51:02 I deeptables.m.preprocessor.py 236 - transform_y taken 0.0009739398956298828s\n",
      "04-28 19:51:02 I deeptables.m.deepmodel.py 158 - Performing evaluation...\n",
      "04-28 19:51:02 I deeptables.u.dataset_generator.py 250 - create dataset generator with _TFDGForPandas, batch_size=256, shuffle=False, drop_remainder=False\n",
      "04-28 19:51:03 I deeptables.m.deeptable.py 337 - X.Shape=(132027, 11), y.Shape=(132027,), batch_size=16, config=ModelConfig(name='conf-1', nets=['autoint_nets'], categorical_columns='auto', exclude_columns=[], task='auto', pos_label=None, metrics=['binary_accuracy'], auto_categorize=True, cat_exponent=0.5, cat_remain_numeric=True, auto_encode_label=True, auto_imputation=True, auto_discrete=True, auto_discard_unique=True, apply_gbm_features=False, gbm_params={}, gbm_feature_type='embedding', fixed_embedding_dim=True, embeddings_output_dim=4, embeddings_initializer='uniform', embeddings_regularizer=None, embeddings_activity_regularizer=None, dense_dropout=0, embedding_dropout=0.4, stacking_op='add', output_use_bias=True, apply_class_weight=False, optimizer='auto', loss='auto', dnn_params={'hidden_units': ((128, 0, False), (64, 0, False)), 'activation': 'relu'}, autoint_params={'num_attention': 3, 'num_heads': 1, 'dropout_rate': 0, 'use_residual': True}, fgcnn_params={'fg_filters': (14, 16), 'fg_heights': (7, 7), 'fg_pool_heights': (2, 2), 'fg_new_feat_filters': (2, 2)}, fibinet_params={'senet_pooling_op': 'mean', 'senet_reduction_ratio': 3, 'bilinear_type': 'field_interaction'}, cross_params={'num_cross_layer': 4}, pnn_params={'outer_product_kernel_type': 'mat'}, afm_params={'attention_factor': 4, 'dropout_rate': 0}, cin_params={'cross_layer_size': (128, 128), 'activation': 'relu', 'use_residual': False, 'use_bias': False, 'direct': False, 'reduce_D': False}, home_dir=None, monitor_metric=None, earlystopping_patience=5, earlystopping_mode='auto', gpu_usage_strategy='memory_growth', distribute_strategy=None, var_len_categorical_columns=None)\n",
      "04-28 19:51:03 I deeptables.m.deeptable.py 338 - metrics:['binary_accuracy']\n",
      "04-28 19:51:03 I hypernets.t.toolbox.py 329 - 2 class detected, {0, 1}, so inferred as a [binary classification] task\n",
      "04-28 19:51:03 I deeptables.m.preprocessor.py 261 - Preparing features...\n",
      "04-28 19:51:03 I deeptables.m.preprocessor.py 336 - Preparing features taken 0.36965179443359375s\n",
      "04-28 19:51:03 I deeptables.m.preprocessor.py 341 - Data imputation...\n",
      "04-28 19:51:04 I deeptables.m.preprocessor.py 383 - Imputation taken 0.38379430770874023s\n",
      "04-28 19:51:04 I deeptables.m.preprocessor.py 388 - Categorical encoding...\n",
      "04-28 19:51:04 I deeptables.m.preprocessor.py 393 - Categorical encoding taken 0.19922494888305664s\n",
      "04-28 19:51:04 I deeptables.m.preprocessor.py 398 - Data discretization...\n",
      "04-28 19:51:04 I hypernets.t.sklearn_ex.py 716 - 11 variables to discrete.\n",
      "04-28 19:51:04 I deeptables.m.preprocessor.py 404 - Discretization taken 0.2825918197631836s\n"
     ]
    },
    {
     "name": "stderr",
     "output_type": "stream",
     "text": [
      "C:\\ProgramData\\anaconda3\\Lib\\site-packages\\sklearn\\preprocessing\\_discretization.py:279: UserWarning: Bins whose width are too small (i.e., <= 1e-8) in feature 0 are removed. Consider decreasing the number of bins.\n",
      "  warnings.warn(\n",
      "C:\\ProgramData\\anaconda3\\Lib\\site-packages\\sklearn\\preprocessing\\_discretization.py:279: UserWarning: Bins whose width are too small (i.e., <= 1e-8) in feature 0 are removed. Consider decreasing the number of bins.\n",
      "  warnings.warn(\n",
      "C:\\ProgramData\\anaconda3\\Lib\\site-packages\\sklearn\\preprocessing\\_discretization.py:279: UserWarning: Bins whose width are too small (i.e., <= 1e-8) in feature 0 are removed. Consider decreasing the number of bins.\n",
      "  warnings.warn(\n",
      "C:\\ProgramData\\anaconda3\\Lib\\site-packages\\sklearn\\preprocessing\\_discretization.py:279: UserWarning: Bins whose width are too small (i.e., <= 1e-8) in feature 0 are removed. Consider decreasing the number of bins.\n",
      "  warnings.warn(\n",
      "C:\\ProgramData\\anaconda3\\Lib\\site-packages\\sklearn\\preprocessing\\_discretization.py:279: UserWarning: Bins whose width are too small (i.e., <= 1e-8) in feature 0 are removed. Consider decreasing the number of bins.\n",
      "  warnings.warn(\n",
      "C:\\ProgramData\\anaconda3\\Lib\\site-packages\\sklearn\\preprocessing\\_discretization.py:279: UserWarning: Bins whose width are too small (i.e., <= 1e-8) in feature 0 are removed. Consider decreasing the number of bins.\n",
      "  warnings.warn(\n"
     ]
    },
    {
     "name": "stdout",
     "output_type": "stream",
     "text": [
      "04-28 19:51:04 I deeptables.m.preprocessor.py 196 - fit_transform taken 1.3754174709320068s\n",
      "04-28 19:51:04 I deeptables.m.preprocessor.py 242 - Transform [X]...\n",
      "04-28 19:51:04 I deeptables.m.preprocessor.py 249 - transform_X taken 0.21274280548095703s\n",
      "04-28 19:51:04 I deeptables.m.preprocessor.py 230 - Transform [y]...\n",
      "04-28 19:51:04 I deeptables.m.preprocessor.py 236 - transform_y taken 0.0009999275207519531s\n",
      "04-28 19:51:04 I deeptables.m.deeptable.py 353 - Training...\n",
      "04-28 19:51:04 I deeptables.m.deeptable.py 752 - Injected a callback [EarlyStopping]. monitor:val_binary_accuracy, patience:5, mode:min\n",
      "04-28 19:51:04 I deeptables.u.dataset_generator.py 250 - create dataset generator with _TFDGForPandas, batch_size=16, shuffle=True, drop_remainder=True\n",
      "04-28 19:51:05 I deeptables.u.dataset_generator.py 250 - create dataset generator with _TFDGForPandas, batch_size=16, shuffle=True, drop_remainder=True\n",
      "04-28 19:51:05 I deeptables.m.deepmodel.py 231 - Building model...\n"
     ]
    },
    {
     "name": "stderr",
     "output_type": "stream",
     "text": [
      "C:\\Users\\David\\AppData\\Roaming\\Python\\Python311\\site-packages\\keras\\src\\initializers\\initializers.py:120: UserWarning: The initializer RandomUniform is unseeded and being called multiple times, which will return identical values each time (even if the initializer is unseeded). Please update your code to provide a seed to the initializer, or avoid using the same initializer instance more than once.\n",
      "  warnings.warn(\n"
     ]
    },
    {
     "name": "stdout",
     "output_type": "stream",
     "text": [
      "04-28 19:51:05 I deeptables.m.deepmodel.py 287 - >>>>>>>>>>>>>>>>>>>>>> Model Desc <<<<<<<<<<<<<<<<<<<<<<< \n",
      "---------------------------------------------------------\n",
      "inputs:\n",
      "---------------------------------------------------------\n",
      "['all_categorical_vars: (19)', 'input_continuous_all: (11)']\n",
      "---------------------------------------------------------\n",
      "embeddings:\n",
      "---------------------------------------------------------\n",
      "input_dims: [5, 4, 73, 13, 6, 4, 4, 4, 7, 15, 17, 3, 3, 5, 4, 3, 3, 3, 3]\n",
      "output_dims: [4, 4, 4, 4, 4, 4, 4, 4, 4, 4, 4, 4, 4, 4, 4, 4, 4, 4, 4]\n",
      "dropout: 0.4\n",
      "---------------------------------------------------------\n",
      "dense: dropout: 0\n",
      "batch_normalization: False\n",
      "---------------------------------------------------------\n",
      "concat_embed_dense: shape: (None, 87)\n",
      "---------------------------------------------------------\n",
      "nets: ['autoint_nets']\n",
      "---------------------------------------------------------\n",
      "autoint: input_shape (None, 19, 4), output_shape (None, 76)\n",
      "---------------------------------------------------------\n",
      "stacking_op: add\n",
      "---------------------------------------------------------\n",
      "output: activation: sigmoid, output_shape: (None, 1), use_bias: True\n",
      "loss: binary_crossentropy\n",
      "optimizer: <keras.src.optimizers.adam.Adam object at 0x00000157D4189850>\n",
      "---------------------------------------------------------\n",
      "\n",
      "04-28 19:51:05 I deeptables.m.deepmodel.py 105 - training...\n",
      "Epoch 1/30\n",
      "8251/8251 [==============================] - 35s 3ms/step - loss: 0.4735 - binary_accuracy: 0.7751 - val_loss: 0.4083 - val_binary_accuracy: 0.8109\n",
      "Epoch 2/30\n",
      "8251/8251 [==============================] - 28s 3ms/step - loss: 0.4495 - binary_accuracy: 0.7909 - val_loss: 0.4094 - val_binary_accuracy: 0.8151\n",
      "Epoch 3/30\n",
      "8251/8251 [==============================] - 28s 3ms/step - loss: 0.4443 - binary_accuracy: 0.7941 - val_loss: 0.4132 - val_binary_accuracy: 0.8083\n",
      "Epoch 4/30\n",
      "8251/8251 [==============================] - 28s 3ms/step - loss: 0.4420 - binary_accuracy: 0.7970 - val_loss: 0.4129 - val_binary_accuracy: 0.8129\n",
      "Epoch 5/30\n",
      "8251/8251 [==============================] - 27s 3ms/step - loss: 0.4401 - binary_accuracy: 0.7981 - val_loss: 0.4302 - val_binary_accuracy: 0.8018\n",
      "Epoch 6/30\n",
      "8251/8251 [==============================] - 28s 3ms/step - loss: 0.4379 - binary_accuracy: 0.7996 - val_loss: 0.4025 - val_binary_accuracy: 0.8186\n",
      "Epoch 7/30\n",
      "8251/8251 [==============================] - 27s 3ms/step - loss: 0.4386 - binary_accuracy: 0.7996 - val_loss: 0.4185 - val_binary_accuracy: 0.8127\n",
      "Epoch 8/30\n",
      "8251/8251 [==============================] - 27s 3ms/step - loss: 0.4380 - binary_accuracy: 0.8009 - val_loss: 0.4009 - val_binary_accuracy: 0.8245\n",
      "Epoch 9/30\n",
      "8251/8251 [==============================] - 28s 3ms/step - loss: 0.4377 - binary_accuracy: 0.8017 - val_loss: 0.4182 - val_binary_accuracy: 0.8148\n",
      "Epoch 10/30\n",
      "8251/8251 [==============================] - ETA: 0s - loss: 0.4376 - binary_accuracy: 0.8005Restoring model weights from the end of the best epoch: 5.\n",
      "8251/8251 [==============================] - 27s 3ms/step - loss: 0.4376 - binary_accuracy: 0.8005 - val_loss: 0.3926 - val_binary_accuracy: 0.8260\n",
      "Epoch 10: early stopping\n",
      "04-28 19:55:49 I deeptables.m.deepmodel.py 122 - Training finished.\n",
      "04-28 19:55:49 I deeptables.m.deeptable.py 369 - Training finished.\n",
      "04-28 19:55:49 I deeptables.m.deeptable.py 704 - Model has been saved to:dt_output/dt_20240428195103_autoint_nets/autoint_nets.h5\n",
      "04-28 19:55:49 I deeptables.m.preprocessor.py 242 - Transform [X]...\n"
     ]
    },
    {
     "name": "stderr",
     "output_type": "stream",
     "text": [
      "C:\\Users\\David\\AppData\\Roaming\\Python\\Python311\\site-packages\\deeptables\\models\\deepmodel.py:188: UserWarning: You are saving your model as an HDF5 file via `model.save()`. This file format is considered legacy. We recommend using instead the native Keras format, e.g. `model.save('my_model.keras')`.\n",
      "  save_model(self.model, h, save_format='h5')\n"
     ]
    },
    {
     "name": "stdout",
     "output_type": "stream",
     "text": [
      "04-28 19:55:49 I deeptables.m.preprocessor.py 249 - transform_X taken 0.22222685813903809s\n",
      "04-28 19:55:49 I deeptables.m.preprocessor.py 230 - Transform [y]...\n",
      "04-28 19:55:49 I deeptables.m.preprocessor.py 236 - transform_y taken 0.0010023117065429688s\n",
      "04-28 19:55:49 I deeptables.m.deepmodel.py 158 - Performing evaluation...\n",
      "04-28 19:55:49 I deeptables.u.dataset_generator.py 250 - create dataset generator with _TFDGForPandas, batch_size=256, shuffle=False, drop_remainder=False\n",
      "04-28 19:55:50 I deeptables.m.deeptable.py 337 - X.Shape=(132027, 11), y.Shape=(132027,), batch_size=16, config=ModelConfig(name='conf-1', nets=['autoint_nets'], categorical_columns='auto', exclude_columns=[], task='auto', pos_label=None, metrics=['binary_accuracy'], auto_categorize=True, cat_exponent=0.5, cat_remain_numeric=True, auto_encode_label=True, auto_imputation=True, auto_discrete=True, auto_discard_unique=True, apply_gbm_features=False, gbm_params={}, gbm_feature_type='embedding', fixed_embedding_dim=True, embeddings_output_dim=4, embeddings_initializer='uniform', embeddings_regularizer=None, embeddings_activity_regularizer=None, dense_dropout=0, embedding_dropout=0.6, stacking_op='add', output_use_bias=True, apply_class_weight=False, optimizer='auto', loss='auto', dnn_params={'hidden_units': ((128, 0, False), (64, 0, False)), 'activation': 'relu'}, autoint_params={'num_attention': 3, 'num_heads': 1, 'dropout_rate': 0, 'use_residual': True}, fgcnn_params={'fg_filters': (14, 16), 'fg_heights': (7, 7), 'fg_pool_heights': (2, 2), 'fg_new_feat_filters': (2, 2)}, fibinet_params={'senet_pooling_op': 'mean', 'senet_reduction_ratio': 3, 'bilinear_type': 'field_interaction'}, cross_params={'num_cross_layer': 4}, pnn_params={'outer_product_kernel_type': 'mat'}, afm_params={'attention_factor': 4, 'dropout_rate': 0}, cin_params={'cross_layer_size': (128, 128), 'activation': 'relu', 'use_residual': False, 'use_bias': False, 'direct': False, 'reduce_D': False}, home_dir=None, monitor_metric=None, earlystopping_patience=5, earlystopping_mode='auto', gpu_usage_strategy='memory_growth', distribute_strategy=None, var_len_categorical_columns=None)\n",
      "04-28 19:55:50 I deeptables.m.deeptable.py 338 - metrics:['binary_accuracy']\n",
      "04-28 19:55:50 I hypernets.t.toolbox.py 329 - 2 class detected, {0, 1}, so inferred as a [binary classification] task\n",
      "04-28 19:55:50 I deeptables.m.preprocessor.py 261 - Preparing features...\n",
      "04-28 19:55:51 I deeptables.m.preprocessor.py 336 - Preparing features taken 0.3706824779510498s\n",
      "04-28 19:55:51 I deeptables.m.preprocessor.py 341 - Data imputation...\n",
      "04-28 19:55:51 I deeptables.m.preprocessor.py 383 - Imputation taken 0.3844149112701416s\n",
      "04-28 19:55:51 I deeptables.m.preprocessor.py 388 - Categorical encoding...\n",
      "04-28 19:55:51 I deeptables.m.preprocessor.py 393 - Categorical encoding taken 0.20006990432739258s\n",
      "04-28 19:55:51 I deeptables.m.preprocessor.py 398 - Data discretization...\n",
      "04-28 19:55:51 I hypernets.t.sklearn_ex.py 716 - 11 variables to discrete.\n"
     ]
    },
    {
     "name": "stderr",
     "output_type": "stream",
     "text": [
      "C:\\ProgramData\\anaconda3\\Lib\\site-packages\\sklearn\\preprocessing\\_discretization.py:279: UserWarning: Bins whose width are too small (i.e., <= 1e-8) in feature 0 are removed. Consider decreasing the number of bins.\n",
      "  warnings.warn(\n",
      "C:\\ProgramData\\anaconda3\\Lib\\site-packages\\sklearn\\preprocessing\\_discretization.py:279: UserWarning: Bins whose width are too small (i.e., <= 1e-8) in feature 0 are removed. Consider decreasing the number of bins.\n",
      "  warnings.warn(\n",
      "C:\\ProgramData\\anaconda3\\Lib\\site-packages\\sklearn\\preprocessing\\_discretization.py:279: UserWarning: Bins whose width are too small (i.e., <= 1e-8) in feature 0 are removed. Consider decreasing the number of bins.\n",
      "  warnings.warn(\n",
      "C:\\ProgramData\\anaconda3\\Lib\\site-packages\\sklearn\\preprocessing\\_discretization.py:279: UserWarning: Bins whose width are too small (i.e., <= 1e-8) in feature 0 are removed. Consider decreasing the number of bins.\n",
      "  warnings.warn(\n",
      "C:\\ProgramData\\anaconda3\\Lib\\site-packages\\sklearn\\preprocessing\\_discretization.py:279: UserWarning: Bins whose width are too small (i.e., <= 1e-8) in feature 0 are removed. Consider decreasing the number of bins.\n",
      "  warnings.warn(\n",
      "C:\\ProgramData\\anaconda3\\Lib\\site-packages\\sklearn\\preprocessing\\_discretization.py:279: UserWarning: Bins whose width are too small (i.e., <= 1e-8) in feature 0 are removed. Consider decreasing the number of bins.\n",
      "  warnings.warn(\n"
     ]
    },
    {
     "name": "stdout",
     "output_type": "stream",
     "text": [
      "04-28 19:55:52 I deeptables.m.preprocessor.py 404 - Discretization taken 0.2855391502380371s\n",
      "04-28 19:55:52 I deeptables.m.preprocessor.py 196 - fit_transform taken 1.3854200839996338s\n",
      "04-28 19:55:52 I deeptables.m.preprocessor.py 242 - Transform [X]...\n",
      "04-28 19:55:52 I deeptables.m.preprocessor.py 249 - transform_X taken 0.21132373809814453s\n",
      "04-28 19:55:52 I deeptables.m.preprocessor.py 230 - Transform [y]...\n",
      "04-28 19:55:52 I deeptables.m.preprocessor.py 236 - transform_y taken 0.0009996891021728516s\n",
      "04-28 19:55:52 I deeptables.m.deeptable.py 353 - Training...\n",
      "04-28 19:55:52 I deeptables.m.deeptable.py 752 - Injected a callback [EarlyStopping]. monitor:val_binary_accuracy, patience:5, mode:min\n",
      "04-28 19:55:52 I deeptables.u.dataset_generator.py 250 - create dataset generator with _TFDGForPandas, batch_size=16, shuffle=True, drop_remainder=True\n",
      "04-28 19:55:52 I deeptables.u.dataset_generator.py 250 - create dataset generator with _TFDGForPandas, batch_size=16, shuffle=True, drop_remainder=True\n",
      "04-28 19:55:52 I deeptables.m.deepmodel.py 231 - Building model...\n"
     ]
    },
    {
     "name": "stderr",
     "output_type": "stream",
     "text": [
      "C:\\Users\\David\\AppData\\Roaming\\Python\\Python311\\site-packages\\keras\\src\\initializers\\initializers.py:120: UserWarning: The initializer RandomUniform is unseeded and being called multiple times, which will return identical values each time (even if the initializer is unseeded). Please update your code to provide a seed to the initializer, or avoid using the same initializer instance more than once.\n",
      "  warnings.warn(\n"
     ]
    },
    {
     "name": "stdout",
     "output_type": "stream",
     "text": [
      "04-28 19:55:52 I deeptables.m.deepmodel.py 287 - >>>>>>>>>>>>>>>>>>>>>> Model Desc <<<<<<<<<<<<<<<<<<<<<<< \n",
      "---------------------------------------------------------\n",
      "inputs:\n",
      "---------------------------------------------------------\n",
      "['all_categorical_vars: (19)', 'input_continuous_all: (11)']\n",
      "---------------------------------------------------------\n",
      "embeddings:\n",
      "---------------------------------------------------------\n",
      "input_dims: [5, 4, 73, 13, 6, 4, 4, 4, 7, 15, 17, 3, 3, 5, 4, 3, 3, 3, 3]\n",
      "output_dims: [4, 4, 4, 4, 4, 4, 4, 4, 4, 4, 4, 4, 4, 4, 4, 4, 4, 4, 4]\n",
      "dropout: 0.6\n",
      "---------------------------------------------------------\n",
      "dense: dropout: 0\n",
      "batch_normalization: False\n",
      "---------------------------------------------------------\n",
      "concat_embed_dense: shape: (None, 87)\n",
      "---------------------------------------------------------\n",
      "nets: ['autoint_nets']\n",
      "---------------------------------------------------------\n",
      "autoint: input_shape (None, 19, 4), output_shape (None, 76)\n",
      "---------------------------------------------------------\n",
      "stacking_op: add\n",
      "---------------------------------------------------------\n",
      "output: activation: sigmoid, output_shape: (None, 1), use_bias: True\n",
      "loss: binary_crossentropy\n",
      "optimizer: <keras.src.optimizers.adam.Adam object at 0x00000157DABC1710>\n",
      "---------------------------------------------------------\n",
      "\n",
      "04-28 19:55:52 I deeptables.m.deepmodel.py 105 - training...\n",
      "Epoch 1/30\n",
      "8251/8251 [==============================] - 36s 3ms/step - loss: 0.5046 - binary_accuracy: 0.7513 - val_loss: 0.4714 - val_binary_accuracy: 0.7674\n",
      "Epoch 2/30\n",
      "8251/8251 [==============================] - 29s 4ms/step - loss: 0.4752 - binary_accuracy: 0.7742 - val_loss: 0.5045 - val_binary_accuracy: 0.7448\n",
      "Epoch 3/30\n",
      "8251/8251 [==============================] - 28s 3ms/step - loss: 0.4706 - binary_accuracy: 0.7782 - val_loss: 0.5237 - val_binary_accuracy: 0.7160\n",
      "Epoch 4/30\n",
      "8251/8251 [==============================] - 27s 3ms/step - loss: 0.4665 - binary_accuracy: 0.7794 - val_loss: 0.4738 - val_binary_accuracy: 0.7503\n",
      "Epoch 5/30\n",
      "8251/8251 [==============================] - 27s 3ms/step - loss: 0.4657 - binary_accuracy: 0.7787 - val_loss: 0.4922 - val_binary_accuracy: 0.7414\n",
      "Epoch 6/30\n",
      "8251/8251 [==============================] - 27s 3ms/step - loss: 0.4640 - binary_accuracy: 0.7821 - val_loss: 0.4856 - val_binary_accuracy: 0.7376\n",
      "Epoch 7/30\n",
      "8251/8251 [==============================] - 27s 3ms/step - loss: 0.4614 - binary_accuracy: 0.7819 - val_loss: 0.5532 - val_binary_accuracy: 0.7196\n",
      "Epoch 8/30\n",
      "8251/8251 [==============================] - ETA: 0s - loss: 0.4614 - binary_accuracy: 0.7840Restoring model weights from the end of the best epoch: 3.\n",
      "8251/8251 [==============================] - 29s 4ms/step - loss: 0.4614 - binary_accuracy: 0.7840 - val_loss: 0.4540 - val_binary_accuracy: 0.8198\n",
      "Epoch 8: early stopping\n",
      "04-28 19:59:41 I deeptables.m.deepmodel.py 122 - Training finished.\n",
      "04-28 19:59:41 I deeptables.m.deeptable.py 369 - Training finished.\n",
      "04-28 19:59:42 I deeptables.m.deeptable.py 704 - Model has been saved to:dt_output/dt_20240428195550_autoint_nets/autoint_nets.h5\n",
      "04-28 19:59:42 I deeptables.m.preprocessor.py 242 - Transform [X]...\n"
     ]
    },
    {
     "name": "stderr",
     "output_type": "stream",
     "text": [
      "C:\\Users\\David\\AppData\\Roaming\\Python\\Python311\\site-packages\\deeptables\\models\\deepmodel.py:188: UserWarning: You are saving your model as an HDF5 file via `model.save()`. This file format is considered legacy. We recommend using instead the native Keras format, e.g. `model.save('my_model.keras')`.\n",
      "  save_model(self.model, h, save_format='h5')\n"
     ]
    },
    {
     "name": "stdout",
     "output_type": "stream",
     "text": [
      "04-28 19:59:42 I deeptables.m.preprocessor.py 249 - transform_X taken 0.233168363571167s\n",
      "04-28 19:59:42 I deeptables.m.preprocessor.py 230 - Transform [y]...\n",
      "04-28 19:59:42 I deeptables.m.preprocessor.py 236 - transform_y taken 0.002028942108154297s\n",
      "04-28 19:59:42 I deeptables.m.deepmodel.py 158 - Performing evaluation...\n",
      "04-28 19:59:42 I deeptables.u.dataset_generator.py 250 - create dataset generator with _TFDGForPandas, batch_size=256, shuffle=False, drop_remainder=False\n",
      "04-28 19:59:43 I deeptables.m.deeptable.py 337 - X.Shape=(132027, 11), y.Shape=(132027,), batch_size=16, config=ModelConfig(name='conf-1', nets=['afm_nets'], categorical_columns='auto', exclude_columns=[], task='auto', pos_label=None, metrics=['binary_accuracy'], auto_categorize=True, cat_exponent=0.5, cat_remain_numeric=True, auto_encode_label=True, auto_imputation=True, auto_discrete=True, auto_discard_unique=True, apply_gbm_features=False, gbm_params={}, gbm_feature_type='embedding', fixed_embedding_dim=True, embeddings_output_dim=4, embeddings_initializer='uniform', embeddings_regularizer=None, embeddings_activity_regularizer=None, dense_dropout=0, embedding_dropout=0.2, stacking_op='add', output_use_bias=True, apply_class_weight=False, optimizer='auto', loss='auto', dnn_params={'hidden_units': ((128, 0, False), (64, 0, False)), 'activation': 'relu'}, autoint_params={'num_attention': 3, 'num_heads': 1, 'dropout_rate': 0, 'use_residual': True}, fgcnn_params={'fg_filters': (14, 16), 'fg_heights': (7, 7), 'fg_pool_heights': (2, 2), 'fg_new_feat_filters': (2, 2)}, fibinet_params={'senet_pooling_op': 'mean', 'senet_reduction_ratio': 3, 'bilinear_type': 'field_interaction'}, cross_params={'num_cross_layer': 4}, pnn_params={'outer_product_kernel_type': 'mat'}, afm_params={'attention_factor': 4, 'dropout_rate': 0}, cin_params={'cross_layer_size': (128, 128), 'activation': 'relu', 'use_residual': False, 'use_bias': False, 'direct': False, 'reduce_D': False}, home_dir=None, monitor_metric=None, earlystopping_patience=5, earlystopping_mode='auto', gpu_usage_strategy='memory_growth', distribute_strategy=None, var_len_categorical_columns=None)\n",
      "04-28 19:59:43 I deeptables.m.deeptable.py 338 - metrics:['binary_accuracy']\n",
      "04-28 19:59:43 I hypernets.t.toolbox.py 329 - 2 class detected, {0, 1}, so inferred as a [binary classification] task\n",
      "04-28 19:59:43 I deeptables.m.preprocessor.py 261 - Preparing features...\n",
      "04-28 19:59:44 I deeptables.m.preprocessor.py 336 - Preparing features taken 0.36702728271484375s\n",
      "04-28 19:59:44 I deeptables.m.preprocessor.py 341 - Data imputation...\n",
      "04-28 19:59:44 I deeptables.m.preprocessor.py 383 - Imputation taken 0.3863203525543213s\n",
      "04-28 19:59:44 I deeptables.m.preprocessor.py 388 - Categorical encoding...\n",
      "04-28 19:59:44 I deeptables.m.preprocessor.py 393 - Categorical encoding taken 0.2052628993988037s\n",
      "04-28 19:59:44 I deeptables.m.preprocessor.py 398 - Data discretization...\n",
      "04-28 19:59:44 I hypernets.t.sklearn_ex.py 716 - 11 variables to discrete.\n"
     ]
    },
    {
     "name": "stderr",
     "output_type": "stream",
     "text": [
      "C:\\ProgramData\\anaconda3\\Lib\\site-packages\\sklearn\\preprocessing\\_discretization.py:279: UserWarning: Bins whose width are too small (i.e., <= 1e-8) in feature 0 are removed. Consider decreasing the number of bins.\n",
      "  warnings.warn(\n",
      "C:\\ProgramData\\anaconda3\\Lib\\site-packages\\sklearn\\preprocessing\\_discretization.py:279: UserWarning: Bins whose width are too small (i.e., <= 1e-8) in feature 0 are removed. Consider decreasing the number of bins.\n",
      "  warnings.warn(\n",
      "C:\\ProgramData\\anaconda3\\Lib\\site-packages\\sklearn\\preprocessing\\_discretization.py:279: UserWarning: Bins whose width are too small (i.e., <= 1e-8) in feature 0 are removed. Consider decreasing the number of bins.\n",
      "  warnings.warn(\n",
      "C:\\ProgramData\\anaconda3\\Lib\\site-packages\\sklearn\\preprocessing\\_discretization.py:279: UserWarning: Bins whose width are too small (i.e., <= 1e-8) in feature 0 are removed. Consider decreasing the number of bins.\n",
      "  warnings.warn(\n",
      "C:\\ProgramData\\anaconda3\\Lib\\site-packages\\sklearn\\preprocessing\\_discretization.py:279: UserWarning: Bins whose width are too small (i.e., <= 1e-8) in feature 0 are removed. Consider decreasing the number of bins.\n",
      "  warnings.warn(\n",
      "C:\\ProgramData\\anaconda3\\Lib\\site-packages\\sklearn\\preprocessing\\_discretization.py:279: UserWarning: Bins whose width are too small (i.e., <= 1e-8) in feature 0 are removed. Consider decreasing the number of bins.\n",
      "  warnings.warn(\n"
     ]
    },
    {
     "name": "stdout",
     "output_type": "stream",
     "text": [
      "04-28 19:59:44 I deeptables.m.preprocessor.py 404 - Discretization taken 0.28745412826538086s\n",
      "04-28 19:59:45 I deeptables.m.preprocessor.py 196 - fit_transform taken 1.3897860050201416s\n",
      "04-28 19:59:45 I deeptables.m.preprocessor.py 242 - Transform [X]...\n",
      "04-28 19:59:45 I deeptables.m.preprocessor.py 249 - transform_X taken 0.21503996849060059s\n",
      "04-28 19:59:45 I deeptables.m.preprocessor.py 230 - Transform [y]...\n",
      "04-28 19:59:45 I deeptables.m.preprocessor.py 236 - transform_y taken 0.0009987354278564453s\n",
      "04-28 19:59:45 I deeptables.m.deeptable.py 353 - Training...\n",
      "04-28 19:59:45 I deeptables.m.deeptable.py 752 - Injected a callback [EarlyStopping]. monitor:val_binary_accuracy, patience:5, mode:min\n",
      "04-28 19:59:45 I deeptables.u.dataset_generator.py 250 - create dataset generator with _TFDGForPandas, batch_size=16, shuffle=True, drop_remainder=True\n",
      "04-28 19:59:45 I deeptables.u.dataset_generator.py 250 - create dataset generator with _TFDGForPandas, batch_size=16, shuffle=True, drop_remainder=True\n",
      "04-28 19:59:45 I deeptables.m.deepmodel.py 231 - Building model...\n"
     ]
    },
    {
     "name": "stderr",
     "output_type": "stream",
     "text": [
      "C:\\Users\\David\\AppData\\Roaming\\Python\\Python311\\site-packages\\keras\\src\\initializers\\initializers.py:120: UserWarning: The initializer RandomUniform is unseeded and being called multiple times, which will return identical values each time (even if the initializer is unseeded). Please update your code to provide a seed to the initializer, or avoid using the same initializer instance more than once.\n",
      "  warnings.warn(\n"
     ]
    },
    {
     "name": "stdout",
     "output_type": "stream",
     "text": [
      "04-28 19:59:45 I deeptables.m.deepmodel.py 287 - >>>>>>>>>>>>>>>>>>>>>> Model Desc <<<<<<<<<<<<<<<<<<<<<<< \n",
      "---------------------------------------------------------\n",
      "inputs:\n",
      "---------------------------------------------------------\n",
      "['all_categorical_vars: (19)', 'input_continuous_all: (11)']\n",
      "---------------------------------------------------------\n",
      "embeddings:\n",
      "---------------------------------------------------------\n",
      "input_dims: [5, 4, 73, 13, 6, 4, 4, 4, 7, 15, 17, 3, 3, 5, 4, 3, 3, 3, 3]\n",
      "output_dims: [4, 4, 4, 4, 4, 4, 4, 4, 4, 4, 4, 4, 4, 4, 4, 4, 4, 4, 4]\n",
      "dropout: 0.2\n",
      "---------------------------------------------------------\n",
      "dense: dropout: 0\n",
      "batch_normalization: False\n",
      "---------------------------------------------------------\n",
      "concat_embed_dense: shape: (None, 87)\n",
      "---------------------------------------------------------\n",
      "nets: ['afm_nets']\n",
      "---------------------------------------------------------\n",
      "afm: input_shape list(19), output_shape (None, 1)\n",
      "---------------------------------------------------------\n",
      "stacking_op: add\n",
      "---------------------------------------------------------\n",
      "output: activation: sigmoid, output_shape: (None, 1), use_bias: True\n",
      "loss: binary_crossentropy\n",
      "optimizer: <keras.src.optimizers.adam.Adam object at 0x00000157D359E3D0>\n",
      "---------------------------------------------------------\n",
      "\n",
      "04-28 19:59:45 I deeptables.m.deepmodel.py 105 - training...\n",
      "Epoch 1/30\n",
      "8251/8251 [==============================] - 28s 3ms/step - loss: 0.4978 - binary_accuracy: 0.7658 - val_loss: 0.4487 - val_binary_accuracy: 0.8161\n",
      "Epoch 2/30\n",
      "8251/8251 [==============================] - 23s 3ms/step - loss: 0.4525 - binary_accuracy: 0.7945 - val_loss: 0.4340 - val_binary_accuracy: 0.8056\n",
      "Epoch 3/30\n",
      "8251/8251 [==============================] - 23s 3ms/step - loss: 0.4440 - binary_accuracy: 0.7973 - val_loss: 0.4520 - val_binary_accuracy: 0.7874\n",
      "Epoch 4/30\n",
      "8251/8251 [==============================] - 23s 3ms/step - loss: 0.4412 - binary_accuracy: 0.7993 - val_loss: 0.4979 - val_binary_accuracy: 0.7519\n",
      "Epoch 5/30\n",
      "8251/8251 [==============================] - 23s 3ms/step - loss: 0.4389 - binary_accuracy: 0.8016 - val_loss: 0.4685 - val_binary_accuracy: 0.7750\n",
      "Epoch 6/30\n",
      "8251/8251 [==============================] - 23s 3ms/step - loss: 0.4376 - binary_accuracy: 0.8020 - val_loss: 0.4880 - val_binary_accuracy: 0.7624\n",
      "Epoch 7/30\n",
      "8251/8251 [==============================] - 23s 3ms/step - loss: 0.4369 - binary_accuracy: 0.8028 - val_loss: 0.4813 - val_binary_accuracy: 0.7663\n",
      "Epoch 8/30\n",
      "8251/8251 [==============================] - 23s 3ms/step - loss: 0.4371 - binary_accuracy: 0.8010 - val_loss: 0.5210 - val_binary_accuracy: 0.7375\n",
      "Epoch 9/30\n",
      "8251/8251 [==============================] - 22s 3ms/step - loss: 0.4368 - binary_accuracy: 0.8026 - val_loss: 0.4975 - val_binary_accuracy: 0.7571\n",
      "Epoch 10/30\n",
      "8251/8251 [==============================] - 22s 3ms/step - loss: 0.4355 - binary_accuracy: 0.8031 - val_loss: 0.5165 - val_binary_accuracy: 0.7394\n",
      "Epoch 11/30\n",
      "8251/8251 [==============================] - 22s 3ms/step - loss: 0.4366 - binary_accuracy: 0.8027 - val_loss: 0.5144 - val_binary_accuracy: 0.7425\n",
      "Epoch 12/30\n",
      "8251/8251 [==============================] - 22s 3ms/step - loss: 0.4358 - binary_accuracy: 0.8025 - val_loss: 0.5089 - val_binary_accuracy: 0.7482\n",
      "Epoch 13/30\n",
      "8251/8251 [==============================] - ETA: 0s - loss: 0.4361 - binary_accuracy: 0.8025Restoring model weights from the end of the best epoch: 8.\n",
      "8251/8251 [==============================] - 22s 3ms/step - loss: 0.4361 - binary_accuracy: 0.8025 - val_loss: 0.5065 - val_binary_accuracy: 0.7478\n",
      "Epoch 13: early stopping\n",
      "04-28 20:04:44 I deeptables.m.deepmodel.py 122 - Training finished.\n",
      "04-28 20:04:44 I deeptables.m.deeptable.py 369 - Training finished.\n",
      "04-28 20:04:45 I deeptables.m.deeptable.py 704 - Model has been saved to:dt_output/dt_20240428195943_afm_nets/afm_nets.h5\n",
      "04-28 20:04:45 I deeptables.m.preprocessor.py 242 - Transform [X]...\n"
     ]
    },
    {
     "name": "stderr",
     "output_type": "stream",
     "text": [
      "C:\\Users\\David\\AppData\\Roaming\\Python\\Python311\\site-packages\\deeptables\\models\\deepmodel.py:188: UserWarning: You are saving your model as an HDF5 file via `model.save()`. This file format is considered legacy. We recommend using instead the native Keras format, e.g. `model.save('my_model.keras')`.\n",
      "  save_model(self.model, h, save_format='h5')\n"
     ]
    },
    {
     "name": "stdout",
     "output_type": "stream",
     "text": [
      "04-28 20:04:45 I deeptables.m.preprocessor.py 249 - transform_X taken 0.22475028038024902s\n",
      "04-28 20:04:45 I deeptables.m.preprocessor.py 230 - Transform [y]...\n",
      "04-28 20:04:45 I deeptables.m.preprocessor.py 236 - transform_y taken 0.0010304450988769531s\n",
      "04-28 20:04:45 I deeptables.m.deepmodel.py 158 - Performing evaluation...\n",
      "04-28 20:04:45 I deeptables.u.dataset_generator.py 250 - create dataset generator with _TFDGForPandas, batch_size=256, shuffle=False, drop_remainder=False\n",
      "04-28 20:04:46 I deeptables.m.deeptable.py 337 - X.Shape=(132027, 11), y.Shape=(132027,), batch_size=16, config=ModelConfig(name='conf-1', nets=['afm_nets'], categorical_columns='auto', exclude_columns=[], task='auto', pos_label=None, metrics=['binary_accuracy'], auto_categorize=True, cat_exponent=0.5, cat_remain_numeric=True, auto_encode_label=True, auto_imputation=True, auto_discrete=True, auto_discard_unique=True, apply_gbm_features=False, gbm_params={}, gbm_feature_type='embedding', fixed_embedding_dim=True, embeddings_output_dim=4, embeddings_initializer='uniform', embeddings_regularizer=None, embeddings_activity_regularizer=None, dense_dropout=0, embedding_dropout=0.4, stacking_op='add', output_use_bias=True, apply_class_weight=False, optimizer='auto', loss='auto', dnn_params={'hidden_units': ((128, 0, False), (64, 0, False)), 'activation': 'relu'}, autoint_params={'num_attention': 3, 'num_heads': 1, 'dropout_rate': 0, 'use_residual': True}, fgcnn_params={'fg_filters': (14, 16), 'fg_heights': (7, 7), 'fg_pool_heights': (2, 2), 'fg_new_feat_filters': (2, 2)}, fibinet_params={'senet_pooling_op': 'mean', 'senet_reduction_ratio': 3, 'bilinear_type': 'field_interaction'}, cross_params={'num_cross_layer': 4}, pnn_params={'outer_product_kernel_type': 'mat'}, afm_params={'attention_factor': 4, 'dropout_rate': 0}, cin_params={'cross_layer_size': (128, 128), 'activation': 'relu', 'use_residual': False, 'use_bias': False, 'direct': False, 'reduce_D': False}, home_dir=None, monitor_metric=None, earlystopping_patience=5, earlystopping_mode='auto', gpu_usage_strategy='memory_growth', distribute_strategy=None, var_len_categorical_columns=None)\n",
      "04-28 20:04:46 I deeptables.m.deeptable.py 338 - metrics:['binary_accuracy']\n",
      "04-28 20:04:46 I hypernets.t.toolbox.py 329 - 2 class detected, {0, 1}, so inferred as a [binary classification] task\n",
      "04-28 20:04:46 I deeptables.m.preprocessor.py 261 - Preparing features...\n",
      "04-28 20:04:46 I deeptables.m.preprocessor.py 336 - Preparing features taken 0.3704569339752197s\n",
      "04-28 20:04:46 I deeptables.m.preprocessor.py 341 - Data imputation...\n",
      "04-28 20:04:46 I deeptables.m.preprocessor.py 383 - Imputation taken 0.3852870464324951s\n",
      "04-28 20:04:46 I deeptables.m.preprocessor.py 388 - Categorical encoding...\n",
      "04-28 20:04:47 I deeptables.m.preprocessor.py 393 - Categorical encoding taken 0.20182323455810547s\n",
      "04-28 20:04:47 I deeptables.m.preprocessor.py 398 - Data discretization...\n",
      "04-28 20:04:47 I hypernets.t.sklearn_ex.py 716 - 11 variables to discrete.\n"
     ]
    },
    {
     "name": "stderr",
     "output_type": "stream",
     "text": [
      "C:\\ProgramData\\anaconda3\\Lib\\site-packages\\sklearn\\preprocessing\\_discretization.py:279: UserWarning: Bins whose width are too small (i.e., <= 1e-8) in feature 0 are removed. Consider decreasing the number of bins.\n",
      "  warnings.warn(\n",
      "C:\\ProgramData\\anaconda3\\Lib\\site-packages\\sklearn\\preprocessing\\_discretization.py:279: UserWarning: Bins whose width are too small (i.e., <= 1e-8) in feature 0 are removed. Consider decreasing the number of bins.\n",
      "  warnings.warn(\n",
      "C:\\ProgramData\\anaconda3\\Lib\\site-packages\\sklearn\\preprocessing\\_discretization.py:279: UserWarning: Bins whose width are too small (i.e., <= 1e-8) in feature 0 are removed. Consider decreasing the number of bins.\n",
      "  warnings.warn(\n",
      "C:\\ProgramData\\anaconda3\\Lib\\site-packages\\sklearn\\preprocessing\\_discretization.py:279: UserWarning: Bins whose width are too small (i.e., <= 1e-8) in feature 0 are removed. Consider decreasing the number of bins.\n",
      "  warnings.warn(\n",
      "C:\\ProgramData\\anaconda3\\Lib\\site-packages\\sklearn\\preprocessing\\_discretization.py:279: UserWarning: Bins whose width are too small (i.e., <= 1e-8) in feature 0 are removed. Consider decreasing the number of bins.\n",
      "  warnings.warn(\n",
      "C:\\ProgramData\\anaconda3\\Lib\\site-packages\\sklearn\\preprocessing\\_discretization.py:279: UserWarning: Bins whose width are too small (i.e., <= 1e-8) in feature 0 are removed. Consider decreasing the number of bins.\n",
      "  warnings.warn(\n"
     ]
    },
    {
     "name": "stdout",
     "output_type": "stream",
     "text": [
      "04-28 20:04:47 I deeptables.m.preprocessor.py 404 - Discretization taken 0.28600239753723145s\n",
      "04-28 20:04:47 I deeptables.m.preprocessor.py 196 - fit_transform taken 1.3836908340454102s\n",
      "04-28 20:04:47 I deeptables.m.preprocessor.py 242 - Transform [X]...\n",
      "04-28 20:04:47 I deeptables.m.preprocessor.py 249 - transform_X taken 0.21097326278686523s\n",
      "04-28 20:04:47 I deeptables.m.preprocessor.py 230 - Transform [y]...\n",
      "04-28 20:04:47 I deeptables.m.preprocessor.py 236 - transform_y taken 0.0009920597076416016s\n",
      "04-28 20:04:47 I deeptables.m.deeptable.py 353 - Training...\n",
      "04-28 20:04:47 I deeptables.m.deeptable.py 752 - Injected a callback [EarlyStopping]. monitor:val_binary_accuracy, patience:5, mode:min\n",
      "04-28 20:04:47 I deeptables.u.dataset_generator.py 250 - create dataset generator with _TFDGForPandas, batch_size=16, shuffle=True, drop_remainder=True\n",
      "04-28 20:04:47 I deeptables.u.dataset_generator.py 250 - create dataset generator with _TFDGForPandas, batch_size=16, shuffle=True, drop_remainder=True\n",
      "04-28 20:04:47 I deeptables.m.deepmodel.py 231 - Building model...\n"
     ]
    },
    {
     "name": "stderr",
     "output_type": "stream",
     "text": [
      "C:\\Users\\David\\AppData\\Roaming\\Python\\Python311\\site-packages\\keras\\src\\initializers\\initializers.py:120: UserWarning: The initializer RandomUniform is unseeded and being called multiple times, which will return identical values each time (even if the initializer is unseeded). Please update your code to provide a seed to the initializer, or avoid using the same initializer instance more than once.\n",
      "  warnings.warn(\n"
     ]
    },
    {
     "name": "stdout",
     "output_type": "stream",
     "text": [
      "04-28 20:04:48 I deeptables.m.deepmodel.py 287 - >>>>>>>>>>>>>>>>>>>>>> Model Desc <<<<<<<<<<<<<<<<<<<<<<< \n",
      "---------------------------------------------------------\n",
      "inputs:\n",
      "---------------------------------------------------------\n",
      "['all_categorical_vars: (19)', 'input_continuous_all: (11)']\n",
      "---------------------------------------------------------\n",
      "embeddings:\n",
      "---------------------------------------------------------\n",
      "input_dims: [5, 4, 73, 13, 6, 4, 4, 4, 7, 15, 17, 3, 3, 5, 4, 3, 3, 3, 3]\n",
      "output_dims: [4, 4, 4, 4, 4, 4, 4, 4, 4, 4, 4, 4, 4, 4, 4, 4, 4, 4, 4]\n",
      "dropout: 0.4\n",
      "---------------------------------------------------------\n",
      "dense: dropout: 0\n",
      "batch_normalization: False\n",
      "---------------------------------------------------------\n",
      "concat_embed_dense: shape: (None, 87)\n",
      "---------------------------------------------------------\n",
      "nets: ['afm_nets']\n",
      "---------------------------------------------------------\n",
      "afm: input_shape list(19), output_shape (None, 1)\n",
      "---------------------------------------------------------\n",
      "stacking_op: add\n",
      "---------------------------------------------------------\n",
      "output: activation: sigmoid, output_shape: (None, 1), use_bias: True\n",
      "loss: binary_crossentropy\n",
      "optimizer: <keras.src.optimizers.adam.Adam object at 0x00000157DD627810>\n",
      "---------------------------------------------------------\n",
      "\n",
      "04-28 20:04:48 I deeptables.m.deepmodel.py 105 - training...\n",
      "Epoch 1/30\n",
      "8251/8251 [==============================] - 28s 3ms/step - loss: 0.4971 - binary_accuracy: 0.7580 - val_loss: 0.5332 - val_binary_accuracy: 0.7764\n",
      "Epoch 2/30\n",
      "8251/8251 [==============================] - 22s 3ms/step - loss: 0.4628 - binary_accuracy: 0.7839 - val_loss: 0.5374 - val_binary_accuracy: 0.7554\n",
      "Epoch 3/30\n",
      "8251/8251 [==============================] - 22s 3ms/step - loss: 0.4593 - binary_accuracy: 0.7877 - val_loss: 0.5202 - val_binary_accuracy: 0.7839\n",
      "Epoch 4/30\n",
      "8251/8251 [==============================] - 22s 3ms/step - loss: 0.4571 - binary_accuracy: 0.7901 - val_loss: 0.5266 - val_binary_accuracy: 0.7830\n",
      "Epoch 5/30\n",
      "8251/8251 [==============================] - 22s 3ms/step - loss: 0.4539 - binary_accuracy: 0.7919 - val_loss: 0.5109 - val_binary_accuracy: 0.7897\n",
      "Epoch 6/30\n",
      "8251/8251 [==============================] - 22s 3ms/step - loss: 0.4527 - binary_accuracy: 0.7940 - val_loss: 0.5178 - val_binary_accuracy: 0.7702\n",
      "Epoch 7/30\n",
      "8251/8251 [==============================] - ETA: 0s - loss: 0.4500 - binary_accuracy: 0.7942Restoring model weights from the end of the best epoch: 2.\n",
      "8251/8251 [==============================] - 23s 3ms/step - loss: 0.4500 - binary_accuracy: 0.7942 - val_loss: 0.5085 - val_binary_accuracy: 0.7850\n",
      "Epoch 7: early stopping\n",
      "04-28 20:07:29 I deeptables.m.deepmodel.py 122 - Training finished.\n",
      "04-28 20:07:29 I deeptables.m.deeptable.py 369 - Training finished.\n",
      "04-28 20:07:29 I deeptables.m.deeptable.py 704 - Model has been saved to:dt_output/dt_20240428200446_afm_nets/afm_nets.h5\n",
      "04-28 20:07:29 I deeptables.m.preprocessor.py 242 - Transform [X]...\n"
     ]
    },
    {
     "name": "stderr",
     "output_type": "stream",
     "text": [
      "C:\\Users\\David\\AppData\\Roaming\\Python\\Python311\\site-packages\\deeptables\\models\\deepmodel.py:188: UserWarning: You are saving your model as an HDF5 file via `model.save()`. This file format is considered legacy. We recommend using instead the native Keras format, e.g. `model.save('my_model.keras')`.\n",
      "  save_model(self.model, h, save_format='h5')\n"
     ]
    },
    {
     "name": "stdout",
     "output_type": "stream",
     "text": [
      "04-28 20:07:30 I deeptables.m.preprocessor.py 249 - transform_X taken 0.22161030769348145s\n",
      "04-28 20:07:30 I deeptables.m.preprocessor.py 230 - Transform [y]...\n",
      "04-28 20:07:30 I deeptables.m.preprocessor.py 236 - transform_y taken 0.0010309219360351562s\n",
      "04-28 20:07:30 I deeptables.m.deepmodel.py 158 - Performing evaluation...\n",
      "04-28 20:07:30 I deeptables.u.dataset_generator.py 250 - create dataset generator with _TFDGForPandas, batch_size=256, shuffle=False, drop_remainder=False\n",
      "04-28 20:07:30 I deeptables.m.deeptable.py 337 - X.Shape=(132027, 11), y.Shape=(132027,), batch_size=16, config=ModelConfig(name='conf-1', nets=['afm_nets'], categorical_columns='auto', exclude_columns=[], task='auto', pos_label=None, metrics=['binary_accuracy'], auto_categorize=True, cat_exponent=0.5, cat_remain_numeric=True, auto_encode_label=True, auto_imputation=True, auto_discrete=True, auto_discard_unique=True, apply_gbm_features=False, gbm_params={}, gbm_feature_type='embedding', fixed_embedding_dim=True, embeddings_output_dim=4, embeddings_initializer='uniform', embeddings_regularizer=None, embeddings_activity_regularizer=None, dense_dropout=0, embedding_dropout=0.6, stacking_op='add', output_use_bias=True, apply_class_weight=False, optimizer='auto', loss='auto', dnn_params={'hidden_units': ((128, 0, False), (64, 0, False)), 'activation': 'relu'}, autoint_params={'num_attention': 3, 'num_heads': 1, 'dropout_rate': 0, 'use_residual': True}, fgcnn_params={'fg_filters': (14, 16), 'fg_heights': (7, 7), 'fg_pool_heights': (2, 2), 'fg_new_feat_filters': (2, 2)}, fibinet_params={'senet_pooling_op': 'mean', 'senet_reduction_ratio': 3, 'bilinear_type': 'field_interaction'}, cross_params={'num_cross_layer': 4}, pnn_params={'outer_product_kernel_type': 'mat'}, afm_params={'attention_factor': 4, 'dropout_rate': 0}, cin_params={'cross_layer_size': (128, 128), 'activation': 'relu', 'use_residual': False, 'use_bias': False, 'direct': False, 'reduce_D': False}, home_dir=None, monitor_metric=None, earlystopping_patience=5, earlystopping_mode='auto', gpu_usage_strategy='memory_growth', distribute_strategy=None, var_len_categorical_columns=None)\n",
      "04-28 20:07:30 I deeptables.m.deeptable.py 338 - metrics:['binary_accuracy']\n",
      "04-28 20:07:31 I hypernets.t.toolbox.py 329 - 2 class detected, {0, 1}, so inferred as a [binary classification] task\n",
      "04-28 20:07:31 I deeptables.m.preprocessor.py 261 - Preparing features...\n",
      "04-28 20:07:31 I deeptables.m.preprocessor.py 336 - Preparing features taken 0.37628769874572754s\n",
      "04-28 20:07:31 I deeptables.m.preprocessor.py 341 - Data imputation...\n",
      "04-28 20:07:31 I deeptables.m.preprocessor.py 383 - Imputation taken 0.3847470283508301s\n",
      "04-28 20:07:31 I deeptables.m.preprocessor.py 388 - Categorical encoding...\n",
      "04-28 20:07:32 I deeptables.m.preprocessor.py 393 - Categorical encoding taken 0.20097017288208008s\n",
      "04-28 20:07:32 I deeptables.m.preprocessor.py 398 - Data discretization...\n",
      "04-28 20:07:32 I hypernets.t.sklearn_ex.py 716 - 11 variables to discrete.\n"
     ]
    },
    {
     "name": "stderr",
     "output_type": "stream",
     "text": [
      "C:\\ProgramData\\anaconda3\\Lib\\site-packages\\sklearn\\preprocessing\\_discretization.py:279: UserWarning: Bins whose width are too small (i.e., <= 1e-8) in feature 0 are removed. Consider decreasing the number of bins.\n",
      "  warnings.warn(\n",
      "C:\\ProgramData\\anaconda3\\Lib\\site-packages\\sklearn\\preprocessing\\_discretization.py:279: UserWarning: Bins whose width are too small (i.e., <= 1e-8) in feature 0 are removed. Consider decreasing the number of bins.\n",
      "  warnings.warn(\n",
      "C:\\ProgramData\\anaconda3\\Lib\\site-packages\\sklearn\\preprocessing\\_discretization.py:279: UserWarning: Bins whose width are too small (i.e., <= 1e-8) in feature 0 are removed. Consider decreasing the number of bins.\n",
      "  warnings.warn(\n",
      "C:\\ProgramData\\anaconda3\\Lib\\site-packages\\sklearn\\preprocessing\\_discretization.py:279: UserWarning: Bins whose width are too small (i.e., <= 1e-8) in feature 0 are removed. Consider decreasing the number of bins.\n",
      "  warnings.warn(\n",
      "C:\\ProgramData\\anaconda3\\Lib\\site-packages\\sklearn\\preprocessing\\_discretization.py:279: UserWarning: Bins whose width are too small (i.e., <= 1e-8) in feature 0 are removed. Consider decreasing the number of bins.\n",
      "  warnings.warn(\n",
      "C:\\ProgramData\\anaconda3\\Lib\\site-packages\\sklearn\\preprocessing\\_discretization.py:279: UserWarning: Bins whose width are too small (i.e., <= 1e-8) in feature 0 are removed. Consider decreasing the number of bins.\n",
      "  warnings.warn(\n"
     ]
    },
    {
     "name": "stdout",
     "output_type": "stream",
     "text": [
      "04-28 20:07:32 I deeptables.m.preprocessor.py 404 - Discretization taken 0.2824387550354004s\n",
      "04-28 20:07:32 I deeptables.m.preprocessor.py 196 - fit_transform taken 1.3932769298553467s\n",
      "04-28 20:07:32 I deeptables.m.preprocessor.py 242 - Transform [X]...\n",
      "04-28 20:07:32 I deeptables.m.preprocessor.py 249 - transform_X taken 0.21082162857055664s\n",
      "04-28 20:07:32 I deeptables.m.preprocessor.py 230 - Transform [y]...\n",
      "04-28 20:07:32 I deeptables.m.preprocessor.py 236 - transform_y taken 0.0009763240814208984s\n",
      "04-28 20:07:32 I deeptables.m.deeptable.py 353 - Training...\n",
      "04-28 20:07:32 I deeptables.m.deeptable.py 752 - Injected a callback [EarlyStopping]. monitor:val_binary_accuracy, patience:5, mode:min\n",
      "04-28 20:07:32 I deeptables.u.dataset_generator.py 250 - create dataset generator with _TFDGForPandas, batch_size=16, shuffle=True, drop_remainder=True\n",
      "04-28 20:07:32 I deeptables.u.dataset_generator.py 250 - create dataset generator with _TFDGForPandas, batch_size=16, shuffle=True, drop_remainder=True\n",
      "04-28 20:07:32 I deeptables.m.deepmodel.py 231 - Building model...\n"
     ]
    },
    {
     "name": "stderr",
     "output_type": "stream",
     "text": [
      "C:\\Users\\David\\AppData\\Roaming\\Python\\Python311\\site-packages\\keras\\src\\initializers\\initializers.py:120: UserWarning: The initializer RandomUniform is unseeded and being called multiple times, which will return identical values each time (even if the initializer is unseeded). Please update your code to provide a seed to the initializer, or avoid using the same initializer instance more than once.\n",
      "  warnings.warn(\n"
     ]
    },
    {
     "name": "stdout",
     "output_type": "stream",
     "text": [
      "04-28 20:07:32 I deeptables.m.deepmodel.py 287 - >>>>>>>>>>>>>>>>>>>>>> Model Desc <<<<<<<<<<<<<<<<<<<<<<< \n",
      "---------------------------------------------------------\n",
      "inputs:\n",
      "---------------------------------------------------------\n",
      "['all_categorical_vars: (19)', 'input_continuous_all: (11)']\n",
      "---------------------------------------------------------\n",
      "embeddings:\n",
      "---------------------------------------------------------\n",
      "input_dims: [5, 4, 73, 13, 6, 4, 4, 4, 7, 15, 17, 3, 3, 5, 4, 3, 3, 3, 3]\n",
      "output_dims: [4, 4, 4, 4, 4, 4, 4, 4, 4, 4, 4, 4, 4, 4, 4, 4, 4, 4, 4]\n",
      "dropout: 0.6\n",
      "---------------------------------------------------------\n",
      "dense: dropout: 0\n",
      "batch_normalization: False\n",
      "---------------------------------------------------------\n",
      "concat_embed_dense: shape: (None, 87)\n",
      "---------------------------------------------------------\n",
      "nets: ['afm_nets']\n",
      "---------------------------------------------------------\n",
      "afm: input_shape list(19), output_shape (None, 1)\n",
      "---------------------------------------------------------\n",
      "stacking_op: add\n",
      "---------------------------------------------------------\n",
      "output: activation: sigmoid, output_shape: (None, 1), use_bias: True\n",
      "loss: binary_crossentropy\n",
      "optimizer: <keras.src.optimizers.adam.Adam object at 0x00000157DFBD9D50>\n",
      "---------------------------------------------------------\n",
      "\n",
      "04-28 20:07:32 I deeptables.m.deepmodel.py 105 - training...\n",
      "Epoch 1/30\n",
      "8251/8251 [==============================] - 27s 3ms/step - loss: 0.5167 - binary_accuracy: 0.7515 - val_loss: 0.5951 - val_binary_accuracy: 0.7777\n",
      "Epoch 2/30\n",
      "8251/8251 [==============================] - 22s 3ms/step - loss: 0.4878 - binary_accuracy: 0.7715 - val_loss: 0.5780 - val_binary_accuracy: 0.8013\n",
      "Epoch 3/30\n",
      "8251/8251 [==============================] - 22s 3ms/step - loss: 0.4832 - binary_accuracy: 0.7752 - val_loss: 0.5662 - val_binary_accuracy: 0.8154\n",
      "Epoch 4/30\n",
      "8251/8251 [==============================] - 22s 3ms/step - loss: 0.4780 - binary_accuracy: 0.7782 - val_loss: 0.5648 - val_binary_accuracy: 0.8134\n",
      "Epoch 5/30\n",
      "8251/8251 [==============================] - 23s 3ms/step - loss: 0.4761 - binary_accuracy: 0.7815 - val_loss: 0.5779 - val_binary_accuracy: 0.7918\n",
      "Epoch 6/30\n",
      "8236/8251 [============================>.] - ETA: 0s - loss: 0.4751 - binary_accuracy: 0.7815Restoring model weights from the end of the best epoch: 1.\n",
      "8251/8251 [==============================] - 22s 3ms/step - loss: 0.4752 - binary_accuracy: 0.7815 - val_loss: 0.5790 - val_binary_accuracy: 0.7926\n",
      "Epoch 6: early stopping\n",
      "04-28 20:09:50 I deeptables.m.deepmodel.py 122 - Training finished.\n",
      "04-28 20:09:50 I deeptables.m.deeptable.py 369 - Training finished.\n",
      "04-28 20:09:50 I deeptables.m.deeptable.py 704 - Model has been saved to:dt_output/dt_20240428200730_afm_nets/afm_nets.h5\n",
      "04-28 20:09:50 I deeptables.m.preprocessor.py 242 - Transform [X]...\n"
     ]
    },
    {
     "name": "stderr",
     "output_type": "stream",
     "text": [
      "C:\\Users\\David\\AppData\\Roaming\\Python\\Python311\\site-packages\\deeptables\\models\\deepmodel.py:188: UserWarning: You are saving your model as an HDF5 file via `model.save()`. This file format is considered legacy. We recommend using instead the native Keras format, e.g. `model.save('my_model.keras')`.\n",
      "  save_model(self.model, h, save_format='h5')\n"
     ]
    },
    {
     "name": "stdout",
     "output_type": "stream",
     "text": [
      "04-28 20:09:50 I deeptables.m.preprocessor.py 249 - transform_X taken 0.22153043746948242s\n",
      "04-28 20:09:50 I deeptables.m.preprocessor.py 230 - Transform [y]...\n",
      "04-28 20:09:50 I deeptables.m.preprocessor.py 236 - transform_y taken 0.0s\n",
      "04-28 20:09:50 I deeptables.m.deepmodel.py 158 - Performing evaluation...\n",
      "04-28 20:09:50 I deeptables.u.dataset_generator.py 250 - create dataset generator with _TFDGForPandas, batch_size=256, shuffle=False, drop_remainder=False\n",
      "04-28 20:09:51 I deeptables.m.deeptable.py 337 - X.Shape=(132027, 11), y.Shape=(132027,), batch_size=16, config=ModelConfig(name='conf-1', nets=['fgcnn_dnn_nets'], categorical_columns='auto', exclude_columns=[], task='auto', pos_label=None, metrics=['binary_accuracy'], auto_categorize=True, cat_exponent=0.5, cat_remain_numeric=True, auto_encode_label=True, auto_imputation=True, auto_discrete=True, auto_discard_unique=True, apply_gbm_features=False, gbm_params={}, gbm_feature_type='embedding', fixed_embedding_dim=True, embeddings_output_dim=4, embeddings_initializer='uniform', embeddings_regularizer=None, embeddings_activity_regularizer=None, dense_dropout=0, embedding_dropout=0.2, stacking_op='add', output_use_bias=True, apply_class_weight=False, optimizer='auto', loss='auto', dnn_params={'hidden_units': ((128, 0, False), (64, 0, False)), 'activation': 'relu'}, autoint_params={'num_attention': 3, 'num_heads': 1, 'dropout_rate': 0, 'use_residual': True}, fgcnn_params={'fg_filters': (14, 16), 'fg_heights': (7, 7), 'fg_pool_heights': (2, 2), 'fg_new_feat_filters': (2, 2)}, fibinet_params={'senet_pooling_op': 'mean', 'senet_reduction_ratio': 3, 'bilinear_type': 'field_interaction'}, cross_params={'num_cross_layer': 4}, pnn_params={'outer_product_kernel_type': 'mat'}, afm_params={'attention_factor': 4, 'dropout_rate': 0}, cin_params={'cross_layer_size': (128, 128), 'activation': 'relu', 'use_residual': False, 'use_bias': False, 'direct': False, 'reduce_D': False}, home_dir=None, monitor_metric=None, earlystopping_patience=5, earlystopping_mode='auto', gpu_usage_strategy='memory_growth', distribute_strategy=None, var_len_categorical_columns=None)\n",
      "04-28 20:09:51 I deeptables.m.deeptable.py 338 - metrics:['binary_accuracy']\n",
      "04-28 20:09:51 I hypernets.t.toolbox.py 329 - 2 class detected, {0, 1}, so inferred as a [binary classification] task\n",
      "04-28 20:09:51 I deeptables.m.preprocessor.py 261 - Preparing features...\n",
      "04-28 20:09:52 I deeptables.m.preprocessor.py 336 - Preparing features taken 0.37319040298461914s\n",
      "04-28 20:09:52 I deeptables.m.preprocessor.py 341 - Data imputation...\n",
      "04-28 20:09:52 I deeptables.m.preprocessor.py 383 - Imputation taken 0.38260626792907715s\n",
      "04-28 20:09:52 I deeptables.m.preprocessor.py 388 - Categorical encoding...\n",
      "04-28 20:09:52 I deeptables.m.preprocessor.py 393 - Categorical encoding taken 0.2018442153930664s\n",
      "04-28 20:09:52 I deeptables.m.preprocessor.py 398 - Data discretization...\n",
      "04-28 20:09:52 I hypernets.t.sklearn_ex.py 716 - 11 variables to discrete.\n"
     ]
    },
    {
     "name": "stderr",
     "output_type": "stream",
     "text": [
      "C:\\ProgramData\\anaconda3\\Lib\\site-packages\\sklearn\\preprocessing\\_discretization.py:279: UserWarning: Bins whose width are too small (i.e., <= 1e-8) in feature 0 are removed. Consider decreasing the number of bins.\n",
      "  warnings.warn(\n",
      "C:\\ProgramData\\anaconda3\\Lib\\site-packages\\sklearn\\preprocessing\\_discretization.py:279: UserWarning: Bins whose width are too small (i.e., <= 1e-8) in feature 0 are removed. Consider decreasing the number of bins.\n",
      "  warnings.warn(\n",
      "C:\\ProgramData\\anaconda3\\Lib\\site-packages\\sklearn\\preprocessing\\_discretization.py:279: UserWarning: Bins whose width are too small (i.e., <= 1e-8) in feature 0 are removed. Consider decreasing the number of bins.\n",
      "  warnings.warn(\n",
      "C:\\ProgramData\\anaconda3\\Lib\\site-packages\\sklearn\\preprocessing\\_discretization.py:279: UserWarning: Bins whose width are too small (i.e., <= 1e-8) in feature 0 are removed. Consider decreasing the number of bins.\n",
      "  warnings.warn(\n",
      "C:\\ProgramData\\anaconda3\\Lib\\site-packages\\sklearn\\preprocessing\\_discretization.py:279: UserWarning: Bins whose width are too small (i.e., <= 1e-8) in feature 0 are removed. Consider decreasing the number of bins.\n",
      "  warnings.warn(\n",
      "C:\\ProgramData\\anaconda3\\Lib\\site-packages\\sklearn\\preprocessing\\_discretization.py:279: UserWarning: Bins whose width are too small (i.e., <= 1e-8) in feature 0 are removed. Consider decreasing the number of bins.\n",
      "  warnings.warn(\n"
     ]
    },
    {
     "name": "stdout",
     "output_type": "stream",
     "text": [
      "04-28 20:09:52 I deeptables.m.preprocessor.py 404 - Discretization taken 0.2881813049316406s\n",
      "04-28 20:09:53 I deeptables.m.preprocessor.py 196 - fit_transform taken 1.3887882232666016s\n",
      "04-28 20:09:53 I deeptables.m.preprocessor.py 242 - Transform [X]...\n",
      "04-28 20:09:53 I deeptables.m.preprocessor.py 249 - transform_X taken 0.21219348907470703s\n",
      "04-28 20:09:53 I deeptables.m.preprocessor.py 230 - Transform [y]...\n",
      "04-28 20:09:53 I deeptables.m.preprocessor.py 236 - transform_y taken 0.002000093460083008s\n",
      "04-28 20:09:53 I deeptables.m.deeptable.py 353 - Training...\n",
      "04-28 20:09:53 I deeptables.m.deeptable.py 752 - Injected a callback [EarlyStopping]. monitor:val_binary_accuracy, patience:5, mode:min\n",
      "04-28 20:09:53 I deeptables.u.dataset_generator.py 250 - create dataset generator with _TFDGForPandas, batch_size=16, shuffle=True, drop_remainder=True\n",
      "04-28 20:09:53 I deeptables.u.dataset_generator.py 250 - create dataset generator with _TFDGForPandas, batch_size=16, shuffle=True, drop_remainder=True\n",
      "04-28 20:09:53 I deeptables.m.deepmodel.py 231 - Building model...\n"
     ]
    },
    {
     "name": "stderr",
     "output_type": "stream",
     "text": [
      "C:\\Users\\David\\AppData\\Roaming\\Python\\Python311\\site-packages\\keras\\src\\initializers\\initializers.py:120: UserWarning: The initializer RandomUniform is unseeded and being called multiple times, which will return identical values each time (even if the initializer is unseeded). Please update your code to provide a seed to the initializer, or avoid using the same initializer instance more than once.\n",
      "  warnings.warn(\n"
     ]
    },
    {
     "name": "stdout",
     "output_type": "stream",
     "text": [
      "04-28 20:09:53 I deeptables.m.deepmodel.py 287 - >>>>>>>>>>>>>>>>>>>>>> Model Desc <<<<<<<<<<<<<<<<<<<<<<< \n",
      "---------------------------------------------------------\n",
      "inputs:\n",
      "---------------------------------------------------------\n",
      "['all_categorical_vars: (19)', 'input_continuous_all: (11)']\n",
      "---------------------------------------------------------\n",
      "embeddings:\n",
      "---------------------------------------------------------\n",
      "input_dims: [5, 4, 73, 13, 6, 4, 4, 4, 7, 15, 17, 3, 3, 5, 4, 3, 3, 3, 3]\n",
      "output_dims: [4, 4, 4, 4, 4, 4, 4, 4, 4, 4, 4, 4, 4, 4, 4, 4, 4, 4, 4]\n",
      "dropout: 0.2\n",
      "---------------------------------------------------------\n",
      "dense: dropout: 0\n",
      "batch_normalization: False\n",
      "---------------------------------------------------------\n",
      "concat_embed_dense: shape: (None, 87)\n",
      "---------------------------------------------------------\n",
      "nets: ['fgcnn_dnn_nets']\n",
      "---------------------------------------------------------\n",
      "fg: input_shape (None, 19, 4), output_shape (None, 77, 4)\n",
      "fgcnn-ipnn: input_shape (None, 77, 4), output_shape (None, 64)\n",
      "---------------------------------------------------------\n",
      "stacking_op: add\n",
      "---------------------------------------------------------\n",
      "output: activation: sigmoid, output_shape: (None, 1), use_bias: True\n",
      "loss: binary_crossentropy\n",
      "optimizer: <keras.src.optimizers.adam.Adam object at 0x00000157DF579090>\n",
      "---------------------------------------------------------\n",
      "\n",
      "04-28 20:09:53 I deeptables.m.deepmodel.py 105 - training...\n",
      "Epoch 1/30\n",
      "8251/8251 [==============================] - 52s 6ms/step - loss: 98.2643 - binary_accuracy: 0.6951 - val_loss: 10.6209 - val_binary_accuracy: 0.8257\n",
      "Epoch 2/30\n",
      "8251/8251 [==============================] - 47s 6ms/step - loss: 4.8164 - binary_accuracy: 0.7272 - val_loss: 0.4470 - val_binary_accuracy: 0.8003\n",
      "Epoch 3/30\n",
      "8251/8251 [==============================] - 46s 6ms/step - loss: 0.5977 - binary_accuracy: 0.5592 - val_loss: 0.6968 - val_binary_accuracy: 0.2586\n",
      "Epoch 4/30\n",
      "8251/8251 [==============================] - 47s 6ms/step - loss: 0.6940 - binary_accuracy: 0.3424 - val_loss: 0.6979 - val_binary_accuracy: 0.2122\n",
      "Epoch 5/30\n",
      "8251/8251 [==============================] - 47s 6ms/step - loss: 0.6977 - binary_accuracy: 0.4229 - val_loss: 0.6982 - val_binary_accuracy: 0.2114\n",
      "Epoch 6/30\n",
      "8251/8251 [==============================] - 47s 6ms/step - loss: 0.7009 - binary_accuracy: 0.3710 - val_loss: 0.7037 - val_binary_accuracy: 0.2125\n",
      "Epoch 7/30\n",
      "8251/8251 [==============================] - 47s 6ms/step - loss: 0.6982 - binary_accuracy: 0.4491 - val_loss: 0.6949 - val_binary_accuracy: 0.2126\n",
      "Epoch 8/30\n",
      "8251/8251 [==============================] - 46s 6ms/step - loss: 0.6950 - binary_accuracy: 0.4351 - val_loss: 0.6945 - val_binary_accuracy: 0.2154\n",
      "Epoch 9/30\n",
      "8251/8251 [==============================] - 47s 6ms/step - loss: 0.6940 - binary_accuracy: 0.4152 - val_loss: 0.6947 - val_binary_accuracy: 0.2160\n",
      "Epoch 10/30\n",
      "8246/8251 [============================>.] - ETA: 0s - loss: 0.6924 - binary_accuracy: 0.4562Restoring model weights from the end of the best epoch: 5.\n",
      "8251/8251 [==============================] - 46s 6ms/step - loss: 0.6924 - binary_accuracy: 0.4564 - val_loss: 0.6919 - val_binary_accuracy: 0.2149\n",
      "Epoch 10: early stopping\n",
      "04-28 20:17:45 I deeptables.m.deepmodel.py 122 - Training finished.\n",
      "04-28 20:17:45 I deeptables.m.deeptable.py 369 - Training finished.\n",
      "04-28 20:17:45 I deeptables.m.deeptable.py 704 - Model has been saved to:dt_output/dt_20240428200951_fgcnn_dnn_nets/fgcnn_dnn_nets.h5\n",
      "04-28 20:17:45 I deeptables.m.preprocessor.py 242 - Transform [X]...\n"
     ]
    },
    {
     "name": "stderr",
     "output_type": "stream",
     "text": [
      "C:\\Users\\David\\AppData\\Roaming\\Python\\Python311\\site-packages\\deeptables\\models\\deepmodel.py:188: UserWarning: You are saving your model as an HDF5 file via `model.save()`. This file format is considered legacy. We recommend using instead the native Keras format, e.g. `model.save('my_model.keras')`.\n",
      "  save_model(self.model, h, save_format='h5')\n"
     ]
    },
    {
     "name": "stdout",
     "output_type": "stream",
     "text": [
      "04-28 20:17:45 I deeptables.m.preprocessor.py 249 - transform_X taken 0.2237095832824707s\n",
      "04-28 20:17:45 I deeptables.m.preprocessor.py 230 - Transform [y]...\n",
      "04-28 20:17:45 I deeptables.m.preprocessor.py 236 - transform_y taken 0.001031637191772461s\n",
      "04-28 20:17:45 I deeptables.m.deepmodel.py 158 - Performing evaluation...\n",
      "04-28 20:17:45 I deeptables.u.dataset_generator.py 250 - create dataset generator with _TFDGForPandas, batch_size=256, shuffle=False, drop_remainder=False\n",
      "04-28 20:17:46 I deeptables.m.deeptable.py 337 - X.Shape=(132027, 11), y.Shape=(132027,), batch_size=16, config=ModelConfig(name='conf-1', nets=['fgcnn_dnn_nets'], categorical_columns='auto', exclude_columns=[], task='auto', pos_label=None, metrics=['binary_accuracy'], auto_categorize=True, cat_exponent=0.5, cat_remain_numeric=True, auto_encode_label=True, auto_imputation=True, auto_discrete=True, auto_discard_unique=True, apply_gbm_features=False, gbm_params={}, gbm_feature_type='embedding', fixed_embedding_dim=True, embeddings_output_dim=4, embeddings_initializer='uniform', embeddings_regularizer=None, embeddings_activity_regularizer=None, dense_dropout=0, embedding_dropout=0.4, stacking_op='add', output_use_bias=True, apply_class_weight=False, optimizer='auto', loss='auto', dnn_params={'hidden_units': ((128, 0, False), (64, 0, False)), 'activation': 'relu'}, autoint_params={'num_attention': 3, 'num_heads': 1, 'dropout_rate': 0, 'use_residual': True}, fgcnn_params={'fg_filters': (14, 16), 'fg_heights': (7, 7), 'fg_pool_heights': (2, 2), 'fg_new_feat_filters': (2, 2)}, fibinet_params={'senet_pooling_op': 'mean', 'senet_reduction_ratio': 3, 'bilinear_type': 'field_interaction'}, cross_params={'num_cross_layer': 4}, pnn_params={'outer_product_kernel_type': 'mat'}, afm_params={'attention_factor': 4, 'dropout_rate': 0}, cin_params={'cross_layer_size': (128, 128), 'activation': 'relu', 'use_residual': False, 'use_bias': False, 'direct': False, 'reduce_D': False}, home_dir=None, monitor_metric=None, earlystopping_patience=5, earlystopping_mode='auto', gpu_usage_strategy='memory_growth', distribute_strategy=None, var_len_categorical_columns=None)\n",
      "04-28 20:17:46 I deeptables.m.deeptable.py 338 - metrics:['binary_accuracy']\n",
      "04-28 20:17:46 I hypernets.t.toolbox.py 329 - 2 class detected, {0, 1}, so inferred as a [binary classification] task\n",
      "04-28 20:17:46 I deeptables.m.preprocessor.py 261 - Preparing features...\n",
      "04-28 20:17:47 I deeptables.m.preprocessor.py 336 - Preparing features taken 0.3717367649078369s\n",
      "04-28 20:17:47 I deeptables.m.preprocessor.py 341 - Data imputation...\n",
      "04-28 20:17:47 I deeptables.m.preprocessor.py 383 - Imputation taken 0.39041805267333984s\n",
      "04-28 20:17:47 I deeptables.m.preprocessor.py 388 - Categorical encoding...\n",
      "04-28 20:17:47 I deeptables.m.preprocessor.py 393 - Categorical encoding taken 0.202439546585083s\n",
      "04-28 20:17:47 I deeptables.m.preprocessor.py 398 - Data discretization...\n",
      "04-28 20:17:47 I hypernets.t.sklearn_ex.py 716 - 11 variables to discrete.\n"
     ]
    },
    {
     "name": "stderr",
     "output_type": "stream",
     "text": [
      "C:\\ProgramData\\anaconda3\\Lib\\site-packages\\sklearn\\preprocessing\\_discretization.py:279: UserWarning: Bins whose width are too small (i.e., <= 1e-8) in feature 0 are removed. Consider decreasing the number of bins.\n",
      "  warnings.warn(\n",
      "C:\\ProgramData\\anaconda3\\Lib\\site-packages\\sklearn\\preprocessing\\_discretization.py:279: UserWarning: Bins whose width are too small (i.e., <= 1e-8) in feature 0 are removed. Consider decreasing the number of bins.\n",
      "  warnings.warn(\n",
      "C:\\ProgramData\\anaconda3\\Lib\\site-packages\\sklearn\\preprocessing\\_discretization.py:279: UserWarning: Bins whose width are too small (i.e., <= 1e-8) in feature 0 are removed. Consider decreasing the number of bins.\n",
      "  warnings.warn(\n",
      "C:\\ProgramData\\anaconda3\\Lib\\site-packages\\sklearn\\preprocessing\\_discretization.py:279: UserWarning: Bins whose width are too small (i.e., <= 1e-8) in feature 0 are removed. Consider decreasing the number of bins.\n",
      "  warnings.warn(\n",
      "C:\\ProgramData\\anaconda3\\Lib\\site-packages\\sklearn\\preprocessing\\_discretization.py:279: UserWarning: Bins whose width are too small (i.e., <= 1e-8) in feature 0 are removed. Consider decreasing the number of bins.\n",
      "  warnings.warn(\n",
      "C:\\ProgramData\\anaconda3\\Lib\\site-packages\\sklearn\\preprocessing\\_discretization.py:279: UserWarning: Bins whose width are too small (i.e., <= 1e-8) in feature 0 are removed. Consider decreasing the number of bins.\n",
      "  warnings.warn(\n"
     ]
    },
    {
     "name": "stdout",
     "output_type": "stream",
     "text": [
      "04-28 20:17:48 I deeptables.m.preprocessor.py 404 - Discretization taken 0.28962135314941406s\n",
      "04-28 20:17:48 I deeptables.m.preprocessor.py 196 - fit_transform taken 1.3969061374664307s\n",
      "04-28 20:17:48 I deeptables.m.preprocessor.py 242 - Transform [X]...\n",
      "04-28 20:17:48 I deeptables.m.preprocessor.py 249 - transform_X taken 0.2137470245361328s\n",
      "04-28 20:17:48 I deeptables.m.preprocessor.py 230 - Transform [y]...\n",
      "04-28 20:17:48 I deeptables.m.preprocessor.py 236 - transform_y taken 0.0010006427764892578s\n",
      "04-28 20:17:48 I deeptables.m.deeptable.py 353 - Training...\n",
      "04-28 20:17:48 I deeptables.m.deeptable.py 752 - Injected a callback [EarlyStopping]. monitor:val_binary_accuracy, patience:5, mode:min\n",
      "04-28 20:17:48 I deeptables.u.dataset_generator.py 250 - create dataset generator with _TFDGForPandas, batch_size=16, shuffle=True, drop_remainder=True\n",
      "04-28 20:17:48 I deeptables.u.dataset_generator.py 250 - create dataset generator with _TFDGForPandas, batch_size=16, shuffle=True, drop_remainder=True\n",
      "04-28 20:17:48 I deeptables.m.deepmodel.py 231 - Building model...\n"
     ]
    },
    {
     "name": "stderr",
     "output_type": "stream",
     "text": [
      "C:\\Users\\David\\AppData\\Roaming\\Python\\Python311\\site-packages\\keras\\src\\initializers\\initializers.py:120: UserWarning: The initializer RandomUniform is unseeded and being called multiple times, which will return identical values each time (even if the initializer is unseeded). Please update your code to provide a seed to the initializer, or avoid using the same initializer instance more than once.\n",
      "  warnings.warn(\n"
     ]
    },
    {
     "name": "stdout",
     "output_type": "stream",
     "text": [
      "04-28 20:17:48 I deeptables.m.deepmodel.py 287 - >>>>>>>>>>>>>>>>>>>>>> Model Desc <<<<<<<<<<<<<<<<<<<<<<< \n",
      "---------------------------------------------------------\n",
      "inputs:\n",
      "---------------------------------------------------------\n",
      "['all_categorical_vars: (19)', 'input_continuous_all: (11)']\n",
      "---------------------------------------------------------\n",
      "embeddings:\n",
      "---------------------------------------------------------\n",
      "input_dims: [5, 4, 73, 13, 6, 4, 4, 4, 7, 15, 17, 3, 3, 5, 4, 3, 3, 3, 3]\n",
      "output_dims: [4, 4, 4, 4, 4, 4, 4, 4, 4, 4, 4, 4, 4, 4, 4, 4, 4, 4, 4]\n",
      "dropout: 0.4\n",
      "---------------------------------------------------------\n",
      "dense: dropout: 0\n",
      "batch_normalization: False\n",
      "---------------------------------------------------------\n",
      "concat_embed_dense: shape: (None, 87)\n",
      "---------------------------------------------------------\n",
      "nets: ['fgcnn_dnn_nets']\n",
      "---------------------------------------------------------\n",
      "fg: input_shape (None, 19, 4), output_shape (None, 77, 4)\n",
      "fgcnn-ipnn: input_shape (None, 77, 4), output_shape (None, 64)\n",
      "---------------------------------------------------------\n",
      "stacking_op: add\n",
      "---------------------------------------------------------\n",
      "output: activation: sigmoid, output_shape: (None, 1), use_bias: True\n",
      "loss: binary_crossentropy\n",
      "optimizer: <keras.src.optimizers.adam.Adam object at 0x00000157D4064B10>\n",
      "---------------------------------------------------------\n",
      "\n",
      "04-28 20:17:48 I deeptables.m.deepmodel.py 105 - training...\n",
      "Epoch 1/30\n",
      "8251/8251 [==============================] - 51s 6ms/step - loss: 69.3195 - binary_accuracy: 0.6907 - val_loss: 14.6819 - val_binary_accuracy: 0.6356\n",
      "Epoch 2/30\n",
      "8251/8251 [==============================] - 46s 6ms/step - loss: 5.4558 - binary_accuracy: 0.7150 - val_loss: 1.1100 - val_binary_accuracy: 0.5675\n",
      "Epoch 3/30\n",
      "8251/8251 [==============================] - 46s 6ms/step - loss: 0.5611 - binary_accuracy: 0.7562 - val_loss: 0.4263 - val_binary_accuracy: 0.8246\n",
      "Epoch 4/30\n",
      "8251/8251 [==============================] - 46s 6ms/step - loss: 0.6016 - binary_accuracy: 0.7388 - val_loss: 0.6848 - val_binary_accuracy: 0.2302\n",
      "Epoch 5/30\n",
      "8251/8251 [==============================] - 47s 6ms/step - loss: 0.6241 - binary_accuracy: 0.6747 - val_loss: 0.5086 - val_binary_accuracy: 0.6550\n",
      "Epoch 6/30\n",
      "8251/8251 [==============================] - 47s 6ms/step - loss: 0.5053 - binary_accuracy: 0.7621 - val_loss: 0.4958 - val_binary_accuracy: 0.7102\n",
      "Epoch 7/30\n",
      "8251/8251 [==============================] - 46s 6ms/step - loss: 0.4905 - binary_accuracy: 0.7672 - val_loss: 0.5208 - val_binary_accuracy: 0.7731\n",
      "Epoch 8/30\n",
      "8251/8251 [==============================] - 46s 6ms/step - loss: 0.4780 - binary_accuracy: 0.7798 - val_loss: 0.4769 - val_binary_accuracy: 0.7688\n",
      "Epoch 9/30\n",
      "8248/8251 [============================>.] - ETA: 0s - loss: 0.4869 - binary_accuracy: 0.7795Restoring model weights from the end of the best epoch: 4.\n",
      "8251/8251 [==============================] - 46s 6ms/step - loss: 0.4869 - binary_accuracy: 0.7795 - val_loss: 0.5001 - val_binary_accuracy: 0.7822\n",
      "Epoch 9: early stopping\n",
      "04-28 20:24:48 I deeptables.m.deepmodel.py 122 - Training finished.\n",
      "04-28 20:24:48 I deeptables.m.deeptable.py 369 - Training finished.\n",
      "04-28 20:24:48 I deeptables.m.deeptable.py 704 - Model has been saved to:dt_output/dt_20240428201746_fgcnn_dnn_nets/fgcnn_dnn_nets.h5\n",
      "04-28 20:24:48 I deeptables.m.preprocessor.py 242 - Transform [X]...\n"
     ]
    },
    {
     "name": "stderr",
     "output_type": "stream",
     "text": [
      "C:\\Users\\David\\AppData\\Roaming\\Python\\Python311\\site-packages\\deeptables\\models\\deepmodel.py:188: UserWarning: You are saving your model as an HDF5 file via `model.save()`. This file format is considered legacy. We recommend using instead the native Keras format, e.g. `model.save('my_model.keras')`.\n",
      "  save_model(self.model, h, save_format='h5')\n"
     ]
    },
    {
     "name": "stdout",
     "output_type": "stream",
     "text": [
      "04-28 20:24:48 I deeptables.m.preprocessor.py 249 - transform_X taken 0.24085688591003418s\n",
      "04-28 20:24:48 I deeptables.m.preprocessor.py 230 - Transform [y]...\n",
      "04-28 20:24:48 I deeptables.m.preprocessor.py 236 - transform_y taken 0.0010001659393310547s\n",
      "04-28 20:24:48 I deeptables.m.deepmodel.py 158 - Performing evaluation...\n",
      "04-28 20:24:48 I deeptables.u.dataset_generator.py 250 - create dataset generator with _TFDGForPandas, batch_size=256, shuffle=False, drop_remainder=False\n",
      "04-28 20:24:49 I deeptables.m.deeptable.py 337 - X.Shape=(132027, 11), y.Shape=(132027,), batch_size=16, config=ModelConfig(name='conf-1', nets=['fgcnn_dnn_nets'], categorical_columns='auto', exclude_columns=[], task='auto', pos_label=None, metrics=['binary_accuracy'], auto_categorize=True, cat_exponent=0.5, cat_remain_numeric=True, auto_encode_label=True, auto_imputation=True, auto_discrete=True, auto_discard_unique=True, apply_gbm_features=False, gbm_params={}, gbm_feature_type='embedding', fixed_embedding_dim=True, embeddings_output_dim=4, embeddings_initializer='uniform', embeddings_regularizer=None, embeddings_activity_regularizer=None, dense_dropout=0, embedding_dropout=0.6, stacking_op='add', output_use_bias=True, apply_class_weight=False, optimizer='auto', loss='auto', dnn_params={'hidden_units': ((128, 0, False), (64, 0, False)), 'activation': 'relu'}, autoint_params={'num_attention': 3, 'num_heads': 1, 'dropout_rate': 0, 'use_residual': True}, fgcnn_params={'fg_filters': (14, 16), 'fg_heights': (7, 7), 'fg_pool_heights': (2, 2), 'fg_new_feat_filters': (2, 2)}, fibinet_params={'senet_pooling_op': 'mean', 'senet_reduction_ratio': 3, 'bilinear_type': 'field_interaction'}, cross_params={'num_cross_layer': 4}, pnn_params={'outer_product_kernel_type': 'mat'}, afm_params={'attention_factor': 4, 'dropout_rate': 0}, cin_params={'cross_layer_size': (128, 128), 'activation': 'relu', 'use_residual': False, 'use_bias': False, 'direct': False, 'reduce_D': False}, home_dir=None, monitor_metric=None, earlystopping_patience=5, earlystopping_mode='auto', gpu_usage_strategy='memory_growth', distribute_strategy=None, var_len_categorical_columns=None)\n",
      "04-28 20:24:49 I deeptables.m.deeptable.py 338 - metrics:['binary_accuracy']\n",
      "04-28 20:24:49 I hypernets.t.toolbox.py 329 - 2 class detected, {0, 1}, so inferred as a [binary classification] task\n",
      "04-28 20:24:49 I deeptables.m.preprocessor.py 261 - Preparing features...\n",
      "04-28 20:24:50 I deeptables.m.preprocessor.py 336 - Preparing features taken 0.381422758102417s\n",
      "04-28 20:24:50 I deeptables.m.preprocessor.py 341 - Data imputation...\n",
      "04-28 20:24:50 I deeptables.m.preprocessor.py 383 - Imputation taken 0.435091495513916s\n",
      "04-28 20:24:50 I deeptables.m.preprocessor.py 388 - Categorical encoding...\n",
      "04-28 20:24:50 I deeptables.m.preprocessor.py 393 - Categorical encoding taken 0.2068476676940918s\n",
      "04-28 20:24:50 I deeptables.m.preprocessor.py 398 - Data discretization...\n",
      "04-28 20:24:50 I hypernets.t.sklearn_ex.py 716 - 11 variables to discrete.\n"
     ]
    },
    {
     "name": "stderr",
     "output_type": "stream",
     "text": [
      "C:\\ProgramData\\anaconda3\\Lib\\site-packages\\sklearn\\preprocessing\\_discretization.py:279: UserWarning: Bins whose width are too small (i.e., <= 1e-8) in feature 0 are removed. Consider decreasing the number of bins.\n",
      "  warnings.warn(\n",
      "C:\\ProgramData\\anaconda3\\Lib\\site-packages\\sklearn\\preprocessing\\_discretization.py:279: UserWarning: Bins whose width are too small (i.e., <= 1e-8) in feature 0 are removed. Consider decreasing the number of bins.\n",
      "  warnings.warn(\n",
      "C:\\ProgramData\\anaconda3\\Lib\\site-packages\\sklearn\\preprocessing\\_discretization.py:279: UserWarning: Bins whose width are too small (i.e., <= 1e-8) in feature 0 are removed. Consider decreasing the number of bins.\n",
      "  warnings.warn(\n",
      "C:\\ProgramData\\anaconda3\\Lib\\site-packages\\sklearn\\preprocessing\\_discretization.py:279: UserWarning: Bins whose width are too small (i.e., <= 1e-8) in feature 0 are removed. Consider decreasing the number of bins.\n",
      "  warnings.warn(\n",
      "C:\\ProgramData\\anaconda3\\Lib\\site-packages\\sklearn\\preprocessing\\_discretization.py:279: UserWarning: Bins whose width are too small (i.e., <= 1e-8) in feature 0 are removed. Consider decreasing the number of bins.\n",
      "  warnings.warn(\n",
      "C:\\ProgramData\\anaconda3\\Lib\\site-packages\\sklearn\\preprocessing\\_discretization.py:279: UserWarning: Bins whose width are too small (i.e., <= 1e-8) in feature 0 are removed. Consider decreasing the number of bins.\n",
      "  warnings.warn(\n"
     ]
    },
    {
     "name": "stdout",
     "output_type": "stream",
     "text": [
      "04-28 20:24:51 I deeptables.m.preprocessor.py 404 - Discretization taken 0.29879236221313477s\n",
      "04-28 20:24:51 I deeptables.m.preprocessor.py 196 - fit_transform taken 1.4826838970184326s\n",
      "04-28 20:24:51 I deeptables.m.preprocessor.py 242 - Transform [X]...\n",
      "04-28 20:24:51 I deeptables.m.preprocessor.py 249 - transform_X taken 0.2274007797241211s\n",
      "04-28 20:24:51 I deeptables.m.preprocessor.py 230 - Transform [y]...\n",
      "04-28 20:24:51 I deeptables.m.preprocessor.py 236 - transform_y taken 0.0009937286376953125s\n",
      "04-28 20:24:51 I deeptables.m.deeptable.py 353 - Training...\n",
      "04-28 20:24:51 I deeptables.m.deeptable.py 752 - Injected a callback [EarlyStopping]. monitor:val_binary_accuracy, patience:5, mode:min\n",
      "04-28 20:24:51 I deeptables.u.dataset_generator.py 250 - create dataset generator with _TFDGForPandas, batch_size=16, shuffle=True, drop_remainder=True\n",
      "04-28 20:24:51 I deeptables.u.dataset_generator.py 250 - create dataset generator with _TFDGForPandas, batch_size=16, shuffle=True, drop_remainder=True\n",
      "04-28 20:24:51 I deeptables.m.deepmodel.py 231 - Building model...\n"
     ]
    },
    {
     "name": "stderr",
     "output_type": "stream",
     "text": [
      "C:\\Users\\David\\AppData\\Roaming\\Python\\Python311\\site-packages\\keras\\src\\initializers\\initializers.py:120: UserWarning: The initializer RandomUniform is unseeded and being called multiple times, which will return identical values each time (even if the initializer is unseeded). Please update your code to provide a seed to the initializer, or avoid using the same initializer instance more than once.\n",
      "  warnings.warn(\n"
     ]
    },
    {
     "name": "stdout",
     "output_type": "stream",
     "text": [
      "04-28 20:24:51 I deeptables.m.deepmodel.py 287 - >>>>>>>>>>>>>>>>>>>>>> Model Desc <<<<<<<<<<<<<<<<<<<<<<< \n",
      "---------------------------------------------------------\n",
      "inputs:\n",
      "---------------------------------------------------------\n",
      "['all_categorical_vars: (19)', 'input_continuous_all: (11)']\n",
      "---------------------------------------------------------\n",
      "embeddings:\n",
      "---------------------------------------------------------\n",
      "input_dims: [5, 4, 73, 13, 6, 4, 4, 4, 7, 15, 17, 3, 3, 5, 4, 3, 3, 3, 3]\n",
      "output_dims: [4, 4, 4, 4, 4, 4, 4, 4, 4, 4, 4, 4, 4, 4, 4, 4, 4, 4, 4]\n",
      "dropout: 0.6\n",
      "---------------------------------------------------------\n",
      "dense: dropout: 0\n",
      "batch_normalization: False\n",
      "---------------------------------------------------------\n",
      "concat_embed_dense: shape: (None, 87)\n",
      "---------------------------------------------------------\n",
      "nets: ['fgcnn_dnn_nets']\n",
      "---------------------------------------------------------\n",
      "fg: input_shape (None, 19, 4), output_shape (None, 77, 4)\n",
      "fgcnn-ipnn: input_shape (None, 77, 4), output_shape (None, 64)\n",
      "---------------------------------------------------------\n",
      "stacking_op: add\n",
      "---------------------------------------------------------\n",
      "output: activation: sigmoid, output_shape: (None, 1), use_bias: True\n",
      "loss: binary_crossentropy\n",
      "optimizer: <keras.src.optimizers.adam.Adam object at 0x00000157D5311ED0>\n",
      "---------------------------------------------------------\n",
      "\n",
      "04-28 20:24:51 I deeptables.m.deepmodel.py 105 - training...\n",
      "Epoch 1/30\n",
      "8251/8251 [==============================] - 51s 6ms/step - loss: 57.5600 - binary_accuracy: 0.6747 - val_loss: 6.2391 - val_binary_accuracy: 0.6658\n",
      "Epoch 2/30\n",
      "8251/8251 [==============================] - 46s 6ms/step - loss: 0.9586 - binary_accuracy: 0.6152 - val_loss: 0.5678 - val_binary_accuracy: 0.8211\n",
      "Epoch 3/30\n",
      "8251/8251 [==============================] - 45s 5ms/step - loss: 0.6907 - binary_accuracy: 0.7387 - val_loss: 0.6896 - val_binary_accuracy: 0.7889\n",
      "Epoch 4/30\n",
      "8251/8251 [==============================] - 46s 6ms/step - loss: 0.7112 - binary_accuracy: 0.5293 - val_loss: 0.6884 - val_binary_accuracy: 0.7899\n",
      "Epoch 5/30\n",
      "8251/8251 [==============================] - 46s 6ms/step - loss: 0.6939 - binary_accuracy: 0.5418 - val_loss: 0.6958 - val_binary_accuracy: 0.2107\n",
      "Epoch 6/30\n",
      "8251/8251 [==============================] - 45s 5ms/step - loss: 0.6931 - binary_accuracy: 0.5050 - val_loss: 0.6968 - val_binary_accuracy: 0.2108\n",
      "Epoch 7/30\n",
      "8251/8251 [==============================] - 46s 6ms/step - loss: 0.6932 - binary_accuracy: 0.4916 - val_loss: 0.6996 - val_binary_accuracy: 0.2107\n",
      "Epoch 8/30\n",
      "8251/8251 [==============================] - 45s 6ms/step - loss: 0.6932 - binary_accuracy: 0.5171 - val_loss: 0.6983 - val_binary_accuracy: 0.2107\n",
      "Epoch 9/30\n",
      "8251/8251 [==============================] - 45s 5ms/step - loss: 0.6932 - binary_accuracy: 0.4897 - val_loss: 0.6859 - val_binary_accuracy: 0.7892\n",
      "Epoch 10/30\n",
      "8251/8251 [==============================] - 46s 6ms/step - loss: 0.6932 - binary_accuracy: 0.5632 - val_loss: 0.6949 - val_binary_accuracy: 0.2108\n",
      "Epoch 11/30\n",
      "8251/8251 [==============================] - 46s 6ms/step - loss: 0.6932 - binary_accuracy: 0.4844 - val_loss: 0.6988 - val_binary_accuracy: 0.2107\n",
      "Epoch 12/30\n",
      "8251/8251 [==============================] - 45s 5ms/step - loss: 0.6932 - binary_accuracy: 0.4193 - val_loss: 0.6871 - val_binary_accuracy: 0.7893\n",
      "Epoch 13/30\n",
      "8250/8251 [============================>.] - ETA: 0s - loss: 0.6932 - binary_accuracy: 0.5443Restoring model weights from the end of the best epoch: 8.\n",
      "8251/8251 [==============================] - 46s 6ms/step - loss: 0.6932 - binary_accuracy: 0.5443 - val_loss: 0.6976 - val_binary_accuracy: 0.2107\n",
      "Epoch 13: early stopping\n",
      "04-28 20:34:50 I deeptables.m.deepmodel.py 122 - Training finished.\n",
      "04-28 20:34:50 I deeptables.m.deeptable.py 369 - Training finished.\n",
      "04-28 20:34:50 I deeptables.m.deeptable.py 704 - Model has been saved to:dt_output/dt_20240428202449_fgcnn_dnn_nets/fgcnn_dnn_nets.h5\n",
      "04-28 20:34:50 I deeptables.m.preprocessor.py 242 - Transform [X]...\n"
     ]
    },
    {
     "name": "stderr",
     "output_type": "stream",
     "text": [
      "C:\\Users\\David\\AppData\\Roaming\\Python\\Python311\\site-packages\\deeptables\\models\\deepmodel.py:188: UserWarning: You are saving your model as an HDF5 file via `model.save()`. This file format is considered legacy. We recommend using instead the native Keras format, e.g. `model.save('my_model.keras')`.\n",
      "  save_model(self.model, h, save_format='h5')\n"
     ]
    },
    {
     "name": "stdout",
     "output_type": "stream",
     "text": [
      "04-28 20:34:50 I deeptables.m.preprocessor.py 249 - transform_X taken 0.2232952117919922s\n",
      "04-28 20:34:50 I deeptables.m.preprocessor.py 230 - Transform [y]...\n",
      "04-28 20:34:50 I deeptables.m.preprocessor.py 236 - transform_y taken 0.0014400482177734375s\n",
      "04-28 20:34:50 I deeptables.m.deepmodel.py 158 - Performing evaluation...\n",
      "04-28 20:34:50 I deeptables.u.dataset_generator.py 250 - create dataset generator with _TFDGForPandas, batch_size=256, shuffle=False, drop_remainder=False\n"
     ]
    }
   ],
   "source": [
    "# Deepnet Exploration\n",
    "\n",
    "list_of_accuracy = []\n",
    "list_of_nets = []\n",
    "list_of_loss = []\n",
    "list_of_embedding_dropout = []\n",
    "\n",
    "param_nets = [DeepFM, xDeepFM, DCN, PNN, WideDeep, AutoInt, AFM, FGCNN]\n",
    "param_embedding_dropout = [0.2, 0.4, 0.6]\n",
    "\n",
    "for net in param_nets:\n",
    "    for dropout in param_embedding_dropout:\n",
    "        # Configuring the DeepTable\n",
    "        config = ModelConfig(\n",
    "            nets=net,\n",
    "            categorical_columns='auto',\n",
    "            metrics=['binary_accuracy'],\n",
    "            auto_categorize=True,\n",
    "            auto_discrete=True,\n",
    "            embedding_dropout = dropout,\n",
    "            earlystopping_patience=5)\n",
    "\n",
    "        # Building the Model\n",
    "        dt = DeepTable(config=config)\n",
    "\n",
    "        # Model training\n",
    "        model, history = dt.fit(X_train, y_train, epochs=30, batch_size=16, \n",
    "                                validation_data=(X_test, y_test), class_weight=class_weight_dict)\n",
    "\n",
    "        # Evaluate the model\n",
    "        evaluation = dt.evaluate(X_test, y_test)\n",
    "\n",
    "        # Storing Results\n",
    "        list_of_accuracy.append(evaluation['binary_accuracy'])\n",
    "        list_of_loss.append(evaluation['loss'])\n",
    "        list_of_nets.append(net)\n",
    "        list_of_embedding_dropout.append(dropout)"
   ]
  },
  {
   "cell_type": "code",
   "execution_count": 313,
   "metadata": {},
   "outputs": [],
   "source": [
    "# Create a DataFrame using a dictionary\n",
    "results_table = pd.DataFrame({\n",
    "    'Binary Accuracy': list_of_accuracy,\n",
    "    'Networks': list_of_nets,\n",
    "    'Loss': list_of_loss,\n",
    "    'Embedding Dropout': list_of_embedding_dropout\n",
    "})\n",
    "\n",
    "results_table = results_table.sort_values(by='Binary Accuracy', ascending = False)\n",
    "results_table.to_csv('Results_table.csv', index = False)"
   ]
  },
  {
   "cell_type": "code",
   "execution_count": 314,
   "metadata": {},
   "outputs": [
    {
     "data": {
      "text/html": [
       "<div>\n",
       "<style scoped>\n",
       "    .dataframe tbody tr th:only-of-type {\n",
       "        vertical-align: middle;\n",
       "    }\n",
       "\n",
       "    .dataframe tbody tr th {\n",
       "        vertical-align: top;\n",
       "    }\n",
       "\n",
       "    .dataframe thead th {\n",
       "        text-align: right;\n",
       "    }\n",
       "</style>\n",
       "<table border=\"1\" class=\"dataframe\">\n",
       "  <thead>\n",
       "    <tr style=\"text-align: right;\">\n",
       "      <th></th>\n",
       "      <th>Binary Accuracy</th>\n",
       "      <th>Networks</th>\n",
       "      <th>Loss</th>\n",
       "      <th>Embedding Dropout</th>\n",
       "    </tr>\n",
       "  </thead>\n",
       "  <tbody>\n",
       "    <tr>\n",
       "      <th>16</th>\n",
       "      <td>0.801709</td>\n",
       "      <td>[autoint_nets]</td>\n",
       "      <td>0.430253</td>\n",
       "      <td>0.4</td>\n",
       "    </tr>\n",
       "    <tr>\n",
       "      <th>6</th>\n",
       "      <td>0.800951</td>\n",
       "      <td>[dcn_nets]</td>\n",
       "      <td>0.414168</td>\n",
       "      <td>0.2</td>\n",
       "    </tr>\n",
       "    <tr>\n",
       "      <th>9</th>\n",
       "      <td>0.797043</td>\n",
       "      <td>[pnn_nets]</td>\n",
       "      <td>0.449258</td>\n",
       "      <td>0.2</td>\n",
       "    </tr>\n",
       "    <tr>\n",
       "      <th>11</th>\n",
       "      <td>0.792014</td>\n",
       "      <td>[pnn_nets]</td>\n",
       "      <td>0.448881</td>\n",
       "      <td>0.6</td>\n",
       "    </tr>\n",
       "    <tr>\n",
       "      <th>8</th>\n",
       "      <td>0.787803</td>\n",
       "      <td>[dcn_nets]</td>\n",
       "      <td>0.445241</td>\n",
       "      <td>0.6</td>\n",
       "    </tr>\n",
       "    <tr>\n",
       "      <th>10</th>\n",
       "      <td>0.785954</td>\n",
       "      <td>[pnn_nets]</td>\n",
       "      <td>0.455337</td>\n",
       "      <td>0.4</td>\n",
       "    </tr>\n",
       "    <tr>\n",
       "      <th>7</th>\n",
       "      <td>0.781743</td>\n",
       "      <td>[dcn_nets]</td>\n",
       "      <td>0.483351</td>\n",
       "      <td>0.4</td>\n",
       "    </tr>\n",
       "    <tr>\n",
       "      <th>20</th>\n",
       "      <td>0.777714</td>\n",
       "      <td>[afm_nets]</td>\n",
       "      <td>0.595146</td>\n",
       "      <td>0.6</td>\n",
       "    </tr>\n",
       "    <tr>\n",
       "      <th>15</th>\n",
       "      <td>0.777471</td>\n",
       "      <td>[autoint_nets]</td>\n",
       "      <td>0.471299</td>\n",
       "      <td>0.2</td>\n",
       "    </tr>\n",
       "    <tr>\n",
       "      <th>4</th>\n",
       "      <td>0.766322</td>\n",
       "      <td>[linear, cin_nets, dnn_nets]</td>\n",
       "      <td>0.502939</td>\n",
       "      <td>0.4</td>\n",
       "    </tr>\n",
       "    <tr>\n",
       "      <th>19</th>\n",
       "      <td>0.755385</td>\n",
       "      <td>[afm_nets]</td>\n",
       "      <td>0.537451</td>\n",
       "      <td>0.4</td>\n",
       "    </tr>\n",
       "    <tr>\n",
       "      <th>14</th>\n",
       "      <td>0.750932</td>\n",
       "      <td>[linear, dnn_nets]</td>\n",
       "      <td>0.502421</td>\n",
       "      <td>0.6</td>\n",
       "    </tr>\n",
       "    <tr>\n",
       "      <th>18</th>\n",
       "      <td>0.737601</td>\n",
       "      <td>[afm_nets]</td>\n",
       "      <td>0.520907</td>\n",
       "      <td>0.2</td>\n",
       "    </tr>\n",
       "    <tr>\n",
       "      <th>17</th>\n",
       "      <td>0.716030</td>\n",
       "      <td>[autoint_nets]</td>\n",
       "      <td>0.523761</td>\n",
       "      <td>0.6</td>\n",
       "    </tr>\n",
       "    <tr>\n",
       "      <th>3</th>\n",
       "      <td>0.695792</td>\n",
       "      <td>[linear, cin_nets, dnn_nets]</td>\n",
       "      <td>0.540649</td>\n",
       "      <td>0.2</td>\n",
       "    </tr>\n",
       "    <tr>\n",
       "      <th>1</th>\n",
       "      <td>0.685885</td>\n",
       "      <td>[linear, fm_nets, dnn_nets]</td>\n",
       "      <td>0.564269</td>\n",
       "      <td>0.4</td>\n",
       "    </tr>\n",
       "    <tr>\n",
       "      <th>5</th>\n",
       "      <td>0.657648</td>\n",
       "      <td>[linear, cin_nets, dnn_nets]</td>\n",
       "      <td>0.644231</td>\n",
       "      <td>0.6</td>\n",
       "    </tr>\n",
       "    <tr>\n",
       "      <th>12</th>\n",
       "      <td>0.645227</td>\n",
       "      <td>[linear, dnn_nets]</td>\n",
       "      <td>14.351038</td>\n",
       "      <td>0.2</td>\n",
       "    </tr>\n",
       "    <tr>\n",
       "      <th>0</th>\n",
       "      <td>0.627443</td>\n",
       "      <td>[linear, fm_nets, dnn_nets]</td>\n",
       "      <td>1.607312</td>\n",
       "      <td>0.2</td>\n",
       "    </tr>\n",
       "    <tr>\n",
       "      <th>13</th>\n",
       "      <td>0.362408</td>\n",
       "      <td>[linear, dnn_nets]</td>\n",
       "      <td>43.330631</td>\n",
       "      <td>0.4</td>\n",
       "    </tr>\n",
       "    <tr>\n",
       "      <th>2</th>\n",
       "      <td>0.356955</td>\n",
       "      <td>[linear, fm_nets, dnn_nets]</td>\n",
       "      <td>45.839355</td>\n",
       "      <td>0.6</td>\n",
       "    </tr>\n",
       "    <tr>\n",
       "      <th>22</th>\n",
       "      <td>0.230163</td>\n",
       "      <td>[fgcnn_dnn_nets]</td>\n",
       "      <td>0.684794</td>\n",
       "      <td>0.4</td>\n",
       "    </tr>\n",
       "    <tr>\n",
       "      <th>21</th>\n",
       "      <td>0.211379</td>\n",
       "      <td>[fgcnn_dnn_nets]</td>\n",
       "      <td>0.698175</td>\n",
       "      <td>0.2</td>\n",
       "    </tr>\n",
       "    <tr>\n",
       "      <th>23</th>\n",
       "      <td>0.210713</td>\n",
       "      <td>[fgcnn_dnn_nets]</td>\n",
       "      <td>0.698292</td>\n",
       "      <td>0.6</td>\n",
       "    </tr>\n",
       "  </tbody>\n",
       "</table>\n",
       "</div>"
      ],
      "text/plain": [
       "    Binary Accuracy                      Networks       Loss  \\\n",
       "16         0.801709                [autoint_nets]   0.430253   \n",
       "6          0.800951                    [dcn_nets]   0.414168   \n",
       "9          0.797043                    [pnn_nets]   0.449258   \n",
       "11         0.792014                    [pnn_nets]   0.448881   \n",
       "8          0.787803                    [dcn_nets]   0.445241   \n",
       "10         0.785954                    [pnn_nets]   0.455337   \n",
       "7          0.781743                    [dcn_nets]   0.483351   \n",
       "20         0.777714                    [afm_nets]   0.595146   \n",
       "15         0.777471                [autoint_nets]   0.471299   \n",
       "4          0.766322  [linear, cin_nets, dnn_nets]   0.502939   \n",
       "19         0.755385                    [afm_nets]   0.537451   \n",
       "14         0.750932            [linear, dnn_nets]   0.502421   \n",
       "18         0.737601                    [afm_nets]   0.520907   \n",
       "17         0.716030                [autoint_nets]   0.523761   \n",
       "3          0.695792  [linear, cin_nets, dnn_nets]   0.540649   \n",
       "1          0.685885   [linear, fm_nets, dnn_nets]   0.564269   \n",
       "5          0.657648  [linear, cin_nets, dnn_nets]   0.644231   \n",
       "12         0.645227            [linear, dnn_nets]  14.351038   \n",
       "0          0.627443   [linear, fm_nets, dnn_nets]   1.607312   \n",
       "13         0.362408            [linear, dnn_nets]  43.330631   \n",
       "2          0.356955   [linear, fm_nets, dnn_nets]  45.839355   \n",
       "22         0.230163              [fgcnn_dnn_nets]   0.684794   \n",
       "21         0.211379              [fgcnn_dnn_nets]   0.698175   \n",
       "23         0.210713              [fgcnn_dnn_nets]   0.698292   \n",
       "\n",
       "    Embedding Dropout  \n",
       "16                0.4  \n",
       "6                 0.2  \n",
       "9                 0.2  \n",
       "11                0.6  \n",
       "8                 0.6  \n",
       "10                0.4  \n",
       "7                 0.4  \n",
       "20                0.6  \n",
       "15                0.2  \n",
       "4                 0.4  \n",
       "19                0.4  \n",
       "14                0.6  \n",
       "18                0.2  \n",
       "17                0.6  \n",
       "3                 0.2  \n",
       "1                 0.4  \n",
       "5                 0.6  \n",
       "12                0.2  \n",
       "0                 0.2  \n",
       "13                0.4  \n",
       "2                 0.6  \n",
       "22                0.4  \n",
       "21                0.2  \n",
       "23                0.6  "
      ]
     },
     "execution_count": 314,
     "metadata": {},
     "output_type": "execute_result"
    }
   ],
   "source": [
    "results_table"
   ]
  },
  {
   "cell_type": "markdown",
   "metadata": {},
   "source": [
    "It looks like DCN (Deep and Cross) and PNN (Product-based Neural Network) performs best on this dataset. Lower dropout of 0.2 performed the best followed by 0.6 and then 0.4. "
   ]
  },
  {
   "cell_type": "code",
   "execution_count": 318,
   "metadata": {},
   "outputs": [],
   "source": [
    "# Kaggle Output Function\n",
    "\n",
    "# Easier Processing to Output Predictions to Kaggle\n",
    "def kaggle_output_df(csv):\n",
    "    kaggle_deep_table_df = preprocessing(csv)\n",
    "    kaggle_deep_table_df['CreditScore'] = kaggle_deep_table_df['CreditScore'].astype(float)\n",
    "    kaggle_deep_table_df['Tenure'] = kaggle_deep_table_df['Tenure'].astype(float)\n",
    "    kaggle_deep_table_df['NumOfProducts'] = kaggle_deep_table_df['NumOfProducts'].astype(float)\n",
    "    kaggle_deep_table_df['HasCrCard'] = kaggle_deep_table_df['HasCrCard'].astype(int)\n",
    "    kaggle_deep_table_df['IsActiveMember'] = kaggle_deep_table_df['IsActiveMember'].astype(int)\n",
    "    kaggle_deep_table_df['Geography'] = kaggle_deep_table_df['Geography'].astype(int)\n",
    "    kaggle_deep_table_df['Gender'] = kaggle_deep_table_df['Gender'].astype(int)\n",
    "    kaggle_deep_table_df['2_Products'] = np.where(kaggle_deep_table_df['NumOfProducts'] == 2, 1, 0)\n",
    "    return kaggle_deep_table_df"
   ]
  },
  {
   "cell_type": "code",
   "execution_count": 316,
   "metadata": {},
   "outputs": [
    {
     "name": "stdout",
     "output_type": "stream",
     "text": [
      "04-28 22:11:37 I deeptables.m.deeptable.py 337 - X.Shape=(132027, 11), y.Shape=(132027,), batch_size=16, config=ModelConfig(name='conf-1', nets=['dcn_nets'], categorical_columns='auto', exclude_columns=[], task='auto', pos_label=None, metrics=['binary_accuracy'], auto_categorize=True, cat_exponent=0.5, cat_remain_numeric=True, auto_encode_label=True, auto_imputation=True, auto_discrete=True, auto_discard_unique=True, apply_gbm_features=False, gbm_params={}, gbm_feature_type='embedding', fixed_embedding_dim=True, embeddings_output_dim=4, embeddings_initializer='uniform', embeddings_regularizer=None, embeddings_activity_regularizer=None, dense_dropout=0, embedding_dropout=0.2, stacking_op='add', output_use_bias=True, apply_class_weight=False, optimizer='auto', loss='auto', dnn_params={'hidden_units': ((128, 0, False), (64, 0, False)), 'activation': 'relu'}, autoint_params={'num_attention': 3, 'num_heads': 1, 'dropout_rate': 0, 'use_residual': True}, fgcnn_params={'fg_filters': (14, 16), 'fg_heights': (7, 7), 'fg_pool_heights': (2, 2), 'fg_new_feat_filters': (2, 2)}, fibinet_params={'senet_pooling_op': 'mean', 'senet_reduction_ratio': 3, 'bilinear_type': 'field_interaction'}, cross_params={'num_cross_layer': 4}, pnn_params={'outer_product_kernel_type': 'mat'}, afm_params={'attention_factor': 4, 'dropout_rate': 0}, cin_params={'cross_layer_size': (128, 128), 'activation': 'relu', 'use_residual': False, 'use_bias': False, 'direct': False, 'reduce_D': False}, home_dir=None, monitor_metric=None, earlystopping_patience=5, earlystopping_mode='auto', gpu_usage_strategy='memory_growth', distribute_strategy=None, var_len_categorical_columns=None)\n",
      "04-28 22:11:37 I deeptables.m.deeptable.py 338 - metrics:['binary_accuracy']\n",
      "04-28 22:11:37 I deeptables.m.preprocessor.py 242 - Transform [X]...\n",
      "04-28 22:11:38 I deeptables.m.preprocessor.py 249 - transform_X taken 0.8416600227355957s\n",
      "04-28 22:11:38 I deeptables.m.preprocessor.py 230 - Transform [y]...\n",
      "04-28 22:11:38 I deeptables.m.preprocessor.py 236 - transform_y taken 0.002997875213623047s\n",
      "04-28 22:11:38 I deeptables.m.preprocessor.py 242 - Transform [X]...\n",
      "04-28 22:11:39 I deeptables.m.preprocessor.py 249 - transform_X taken 0.23794770240783691s\n",
      "04-28 22:11:39 I deeptables.m.preprocessor.py 230 - Transform [y]...\n",
      "04-28 22:11:39 I deeptables.m.preprocessor.py 236 - transform_y taken 0.001005411148071289s\n",
      "04-28 22:11:39 I deeptables.m.deeptable.py 353 - Training...\n",
      "04-28 22:11:39 I deeptables.m.deeptable.py 752 - Injected a callback [EarlyStopping]. monitor:val_binary_accuracy, patience:5, mode:min\n",
      "04-28 22:11:39 I deeptables.u.dataset_generator.py 250 - create dataset generator with _TFDGForPandas, batch_size=16, shuffle=True, drop_remainder=True\n",
      "04-28 22:11:39 I deeptables.u.dataset_generator.py 250 - create dataset generator with _TFDGForPandas, batch_size=16, shuffle=True, drop_remainder=True\n",
      "04-28 22:11:39 I deeptables.m.deepmodel.py 231 - Building model...\n"
     ]
    },
    {
     "name": "stderr",
     "output_type": "stream",
     "text": [
      "C:\\Users\\David\\AppData\\Roaming\\Python\\Python311\\site-packages\\keras\\src\\initializers\\initializers.py:120: UserWarning: The initializer RandomUniform is unseeded and being called multiple times, which will return identical values each time (even if the initializer is unseeded). Please update your code to provide a seed to the initializer, or avoid using the same initializer instance more than once.\n",
      "  warnings.warn(\n"
     ]
    },
    {
     "name": "stdout",
     "output_type": "stream",
     "text": [
      "04-28 22:11:39 I deeptables.m.deepmodel.py 287 - >>>>>>>>>>>>>>>>>>>>>> Model Desc <<<<<<<<<<<<<<<<<<<<<<< \n",
      "---------------------------------------------------------\n",
      "inputs:\n",
      "---------------------------------------------------------\n",
      "['all_categorical_vars: (19)', 'input_continuous_all: (11)']\n",
      "---------------------------------------------------------\n",
      "embeddings:\n",
      "---------------------------------------------------------\n",
      "input_dims: [5, 4, 73, 13, 6, 4, 4, 4, 7, 15, 17, 3, 3, 5, 4, 3, 3, 3, 3]\n",
      "output_dims: [4, 4, 4, 4, 4, 4, 4, 4, 4, 4, 4, 4, 4, 4, 4, 4, 4, 4, 4]\n",
      "dropout: 0.2\n",
      "---------------------------------------------------------\n",
      "dense: dropout: 0\n",
      "batch_normalization: False\n",
      "---------------------------------------------------------\n",
      "concat_embed_dense: shape: (None, 87)\n",
      "---------------------------------------------------------\n",
      "nets: ['dcn_nets']\n",
      "---------------------------------------------------------\n",
      "dcn-widecross: input_shape (None, 87), output_shape (None, 87)\n",
      "dcn-dnn2: input_shape (None, 87), output_shape (None, 64)\n",
      "dcn: input_shape (None, 87), output_shape (None, 151)\n",
      "---------------------------------------------------------\n",
      "stacking_op: add\n",
      "---------------------------------------------------------\n",
      "output: activation: sigmoid, output_shape: (None, 1), use_bias: True\n",
      "loss: binary_crossentropy\n",
      "optimizer: <keras.src.optimizers.adam.Adam object at 0x00000157E06D87D0>\n",
      "---------------------------------------------------------\n",
      "\n",
      "04-28 22:11:39 I deeptables.m.deepmodel.py 105 - training...\n",
      "Epoch 1/30\n",
      "8251/8251 [==============================] - 26s 3ms/step - loss: 0.4507 - binary_accuracy: 0.7934 - val_loss: 0.4859 - val_binary_accuracy: 0.7749\n",
      "Epoch 2/30\n",
      "8251/8251 [==============================] - 20s 2ms/step - loss: 0.4387 - binary_accuracy: 0.8032 - val_loss: 0.4284 - val_binary_accuracy: 0.8103\n",
      "Epoch 3/30\n",
      "8251/8251 [==============================] - 21s 3ms/step - loss: 0.4339 - binary_accuracy: 0.8063 - val_loss: 0.4210 - val_binary_accuracy: 0.8141\n",
      "Epoch 4/30\n",
      "8251/8251 [==============================] - 21s 3ms/step - loss: 0.4302 - binary_accuracy: 0.8058 - val_loss: 0.4571 - val_binary_accuracy: 0.8043\n",
      "Epoch 5/30\n",
      "8251/8251 [==============================] - 20s 2ms/step - loss: 0.4278 - binary_accuracy: 0.8093 - val_loss: 0.4354 - val_binary_accuracy: 0.8130\n",
      "Epoch 6/30\n",
      "8235/8251 [============================>.] - ETA: 0s - loss: 0.4281 - binary_accuracy: 0.8113Restoring model weights from the end of the best epoch: 1.\n",
      "8251/8251 [==============================] - 21s 3ms/step - loss: 0.4281 - binary_accuracy: 0.8113 - val_loss: 0.4271 - val_binary_accuracy: 0.8085\n",
      "Epoch 6: early stopping\n",
      "04-28 22:13:49 I deeptables.m.deepmodel.py 122 - Training finished.\n",
      "04-28 22:13:49 I deeptables.m.deeptable.py 369 - Training finished.\n",
      "04-28 22:13:49 I deeptables.m.deeptable.py 704 - Model has been saved to:dt_output/dt_20240428221137_dcn_nets/dcn_nets.h5\n",
      "04-28 22:13:49 I deeptables.m.preprocessor.py 242 - Transform [X]...\n"
     ]
    },
    {
     "name": "stderr",
     "output_type": "stream",
     "text": [
      "C:\\Users\\David\\AppData\\Roaming\\Python\\Python311\\site-packages\\deeptables\\models\\deepmodel.py:188: UserWarning: You are saving your model as an HDF5 file via `model.save()`. This file format is considered legacy. We recommend using instead the native Keras format, e.g. `model.save('my_model.keras')`.\n",
      "  save_model(self.model, h, save_format='h5')\n"
     ]
    },
    {
     "name": "stdout",
     "output_type": "stream",
     "text": [
      "04-28 22:13:49 I deeptables.m.preprocessor.py 249 - transform_X taken 0.2525615692138672s\n",
      "04-28 22:13:49 I deeptables.m.preprocessor.py 230 - Transform [y]...\n",
      "04-28 22:13:49 I deeptables.m.preprocessor.py 236 - transform_y taken 0.0009999275207519531s\n",
      "04-28 22:13:49 I deeptables.m.deepmodel.py 158 - Performing evaluation...\n",
      "04-28 22:13:49 I deeptables.u.dataset_generator.py 250 - create dataset generator with _TFDGForPandas, batch_size=256, shuffle=False, drop_remainder=False\n"
     ]
    }
   ],
   "source": [
    "# Building the Best DCN DeepTable Model\n",
    "\n",
    "config = ModelConfig(\n",
    "    nets=DCN,\n",
    "    categorical_columns='auto',\n",
    "    metrics=['binary_accuracy'],\n",
    "    auto_categorize=True,\n",
    "    auto_discrete=True,\n",
    "    embedding_dropout = 0.2,\n",
    "    earlystopping_patience=5)\n",
    "\n",
    "# Building the Model\n",
    "dt = DeepTable(config=config)\n",
    "\n",
    "# Model training\n",
    "model, history = dt.fit(X_train, y_train, epochs=30, batch_size=16, \n",
    "                        validation_data=(X_test, y_test), class_weight=class_weight_dict)\n",
    "\n",
    "# Evaluate the model\n",
    "evaluation = dt.evaluate(X_test, y_test)"
   ]
  },
  {
   "cell_type": "code",
   "execution_count": 326,
   "metadata": {},
   "outputs": [],
   "source": [
    "dcn_kaggle = kaggle_output_df('test.csv')"
   ]
  },
  {
   "cell_type": "code",
   "execution_count": 320,
   "metadata": {},
   "outputs": [
    {
     "name": "stdout",
     "output_type": "stream",
     "text": [
      "04-28 22:16:31 I deeptables.m.deeptable.py 685 - Perform prediction...\n",
      "04-28 22:16:31 I deeptables.m.preprocessor.py 242 - Transform [X]...\n",
      "04-28 22:16:32 I deeptables.m.preprocessor.py 249 - transform_X taken 0.6985580921173096s\n",
      "04-28 22:16:32 I deeptables.m.deepmodel.py 130 - Performing predictions...\n",
      "04-28 22:16:32 I deeptables.u.dataset_generator.py 250 - create dataset generator with _TFDGForPandas, batch_size=128, shuffle=False, drop_remainder=False\n",
      "04-28 22:16:34 I deeptables.m.deeptable.py 559 - predict_proba taken 2.7006471157073975s\n",
      "04-28 22:16:34 I deeptables.m.deeptable.py 594 - Reverse indicators to labels.\n"
     ]
    }
   ],
   "source": [
    "predictions = dt.predict(dcn_kaggle)"
   ]
  },
  {
   "cell_type": "code",
   "execution_count": 321,
   "metadata": {},
   "outputs": [],
   "source": [
    "output = pd.read_csv('test.csv')\n",
    "output = output[['id']]\n",
    "output['Exited'] = predictions\n",
    "output.to_csv('dcn_tuned.csv', index = False)"
   ]
  },
  {
   "cell_type": "code",
   "execution_count": 325,
   "metadata": {},
   "outputs": [
    {
     "name": "stdout",
     "output_type": "stream",
     "text": [
      "04-28 22:22:04 I deeptables.m.deeptable.py 337 - X.Shape=(132027, 11), y.Shape=(132027,), batch_size=16, config=ModelConfig(name='conf-1', nets=['pnn_nets'], categorical_columns='auto', exclude_columns=[], task='auto', pos_label=None, metrics=['binary_accuracy'], auto_categorize=True, cat_exponent=0.5, cat_remain_numeric=True, auto_encode_label=True, auto_imputation=True, auto_discrete=True, auto_discard_unique=True, apply_gbm_features=False, gbm_params={}, gbm_feature_type='embedding', fixed_embedding_dim=True, embeddings_output_dim=4, embeddings_initializer='uniform', embeddings_regularizer=None, embeddings_activity_regularizer=None, dense_dropout=0, embedding_dropout=0.2, stacking_op='add', output_use_bias=True, apply_class_weight=False, optimizer='auto', loss='auto', dnn_params={'hidden_units': ((128, 0, False), (64, 0, False)), 'activation': 'relu'}, autoint_params={'num_attention': 3, 'num_heads': 1, 'dropout_rate': 0, 'use_residual': True}, fgcnn_params={'fg_filters': (14, 16), 'fg_heights': (7, 7), 'fg_pool_heights': (2, 2), 'fg_new_feat_filters': (2, 2)}, fibinet_params={'senet_pooling_op': 'mean', 'senet_reduction_ratio': 3, 'bilinear_type': 'field_interaction'}, cross_params={'num_cross_layer': 4}, pnn_params={'outer_product_kernel_type': 'mat'}, afm_params={'attention_factor': 4, 'dropout_rate': 0}, cin_params={'cross_layer_size': (128, 128), 'activation': 'relu', 'use_residual': False, 'use_bias': False, 'direct': False, 'reduce_D': False}, home_dir=None, monitor_metric=None, earlystopping_patience=5, earlystopping_mode='auto', gpu_usage_strategy='memory_growth', distribute_strategy=None, var_len_categorical_columns=None)\n",
      "04-28 22:22:04 I deeptables.m.deeptable.py 338 - metrics:['binary_accuracy']\n",
      "04-28 22:22:04 I deeptables.m.preprocessor.py 242 - Transform [X]...\n",
      "04-28 22:22:05 I deeptables.m.preprocessor.py 249 - transform_X taken 0.8134663105010986s\n",
      "04-28 22:22:05 I deeptables.m.preprocessor.py 230 - Transform [y]...\n",
      "04-28 22:22:05 I deeptables.m.preprocessor.py 236 - transform_y taken 0.004510164260864258s\n",
      "04-28 22:22:05 I deeptables.m.preprocessor.py 242 - Transform [X]...\n",
      "04-28 22:22:06 I deeptables.m.preprocessor.py 249 - transform_X taken 0.2199571132659912s\n",
      "04-28 22:22:06 I deeptables.m.preprocessor.py 230 - Transform [y]...\n",
      "04-28 22:22:06 I deeptables.m.preprocessor.py 236 - transform_y taken 0.00099945068359375s\n",
      "04-28 22:22:06 I deeptables.m.deeptable.py 353 - Training...\n",
      "04-28 22:22:06 I deeptables.m.deeptable.py 752 - Injected a callback [EarlyStopping]. monitor:val_binary_accuracy, patience:5, mode:min\n",
      "04-28 22:22:06 I deeptables.u.dataset_generator.py 250 - create dataset generator with _TFDGForPandas, batch_size=16, shuffle=True, drop_remainder=True\n",
      "04-28 22:22:06 I deeptables.u.dataset_generator.py 250 - create dataset generator with _TFDGForPandas, batch_size=16, shuffle=True, drop_remainder=True\n",
      "04-28 22:22:06 I deeptables.m.deepmodel.py 231 - Building model...\n"
     ]
    },
    {
     "name": "stderr",
     "output_type": "stream",
     "text": [
      "C:\\Users\\David\\AppData\\Roaming\\Python\\Python311\\site-packages\\keras\\src\\initializers\\initializers.py:120: UserWarning: The initializer RandomUniform is unseeded and being called multiple times, which will return identical values each time (even if the initializer is unseeded). Please update your code to provide a seed to the initializer, or avoid using the same initializer instance more than once.\n",
      "  warnings.warn(\n"
     ]
    },
    {
     "name": "stdout",
     "output_type": "stream",
     "text": [
      "04-28 22:22:06 I deeptables.m.deepmodel.py 287 - >>>>>>>>>>>>>>>>>>>>>> Model Desc <<<<<<<<<<<<<<<<<<<<<<< \n",
      "---------------------------------------------------------\n",
      "inputs:\n",
      "---------------------------------------------------------\n",
      "['all_categorical_vars: (19)', 'input_continuous_all: (11)']\n",
      "---------------------------------------------------------\n",
      "embeddings:\n",
      "---------------------------------------------------------\n",
      "input_dims: [5, 4, 73, 13, 6, 4, 4, 4, 7, 15, 17, 3, 3, 5, 4, 3, 3, 3, 3]\n",
      "output_dims: [4, 4, 4, 4, 4, 4, 4, 4, 4, 4, 4, 4, 4, 4, 4, 4, 4, 4, 4]\n",
      "dropout: 0.2\n",
      "---------------------------------------------------------\n",
      "dense: dropout: 0\n",
      "batch_normalization: False\n",
      "---------------------------------------------------------\n",
      "concat_embed_dense: shape: (None, 87)\n",
      "---------------------------------------------------------\n",
      "nets: ['pnn_nets']\n",
      "---------------------------------------------------------\n",
      "pnn-inner_product: input_shape list(19), output_shape (None, 171)\n",
      "pnn-outer_product: input_shape list(19), output_shape (None, 171)\n",
      "pnn-dnn: input_shape (None, 429), output_shape (None, 64)\n",
      "---------------------------------------------------------\n",
      "stacking_op: add\n",
      "---------------------------------------------------------\n",
      "output: activation: sigmoid, output_shape: (None, 1), use_bias: True\n",
      "loss: binary_crossentropy\n",
      "optimizer: <keras.src.optimizers.adam.Adam object at 0x00000157E80E5B90>\n",
      "---------------------------------------------------------\n",
      "\n",
      "04-28 22:22:06 I deeptables.m.deepmodel.py 105 - training...\n",
      "Epoch 1/30\n",
      "8251/8251 [==============================] - 39s 4ms/step - loss: 0.4467 - binary_accuracy: 0.7968 - val_loss: 0.4121 - val_binary_accuracy: 0.8144\n",
      "Epoch 2/30\n",
      "8251/8251 [==============================] - 32s 4ms/step - loss: 0.4337 - binary_accuracy: 0.8077 - val_loss: 0.4265 - val_binary_accuracy: 0.8026\n",
      "Epoch 3/30\n",
      "8251/8251 [==============================] - 31s 4ms/step - loss: 0.4291 - binary_accuracy: 0.8084 - val_loss: 0.3932 - val_binary_accuracy: 0.8209\n",
      "Epoch 4/30\n",
      "8251/8251 [==============================] - 32s 4ms/step - loss: 0.4264 - binary_accuracy: 0.8091 - val_loss: 0.4278 - val_binary_accuracy: 0.7992\n",
      "Epoch 5/30\n",
      "8251/8251 [==============================] - 32s 4ms/step - loss: 0.4263 - binary_accuracy: 0.8081 - val_loss: 0.3977 - val_binary_accuracy: 0.8200\n",
      "Epoch 6/30\n",
      "8251/8251 [==============================] - 32s 4ms/step - loss: 0.4248 - binary_accuracy: 0.8118 - val_loss: 0.4041 - val_binary_accuracy: 0.8147\n",
      "Epoch 7/30\n",
      "8251/8251 [==============================] - 32s 4ms/step - loss: 0.4244 - binary_accuracy: 0.8116 - val_loss: 0.4229 - val_binary_accuracy: 0.8103\n",
      "Epoch 8/30\n",
      "8251/8251 [==============================] - 31s 4ms/step - loss: 0.4234 - binary_accuracy: 0.8126 - val_loss: 0.4316 - val_binary_accuracy: 0.8042\n",
      "Epoch 9/30\n",
      "8240/8251 [============================>.] - ETA: 0s - loss: 0.4235 - binary_accuracy: 0.8130Restoring model weights from the end of the best epoch: 4.\n",
      "8251/8251 [==============================] - 31s 4ms/step - loss: 0.4234 - binary_accuracy: 0.8131 - val_loss: 0.4313 - val_binary_accuracy: 0.8066\n",
      "Epoch 9: early stopping\n",
      "04-28 22:26:58 I deeptables.m.deepmodel.py 122 - Training finished.\n",
      "04-28 22:26:58 I deeptables.m.deeptable.py 369 - Training finished.\n",
      "04-28 22:26:58 I deeptables.m.deeptable.py 704 - Model has been saved to:dt_output/dt_20240428222204_pnn_nets/pnn_nets.h5\n",
      "04-28 22:26:58 I deeptables.m.preprocessor.py 242 - Transform [X]...\n"
     ]
    },
    {
     "name": "stderr",
     "output_type": "stream",
     "text": [
      "C:\\Users\\David\\AppData\\Roaming\\Python\\Python311\\site-packages\\deeptables\\models\\deepmodel.py:188: UserWarning: You are saving your model as an HDF5 file via `model.save()`. This file format is considered legacy. We recommend using instead the native Keras format, e.g. `model.save('my_model.keras')`.\n",
      "  save_model(self.model, h, save_format='h5')\n"
     ]
    },
    {
     "name": "stdout",
     "output_type": "stream",
     "text": [
      "04-28 22:26:58 I deeptables.m.preprocessor.py 249 - transform_X taken 0.24577116966247559s\n",
      "04-28 22:26:58 I deeptables.m.preprocessor.py 230 - Transform [y]...\n",
      "04-28 22:26:58 I deeptables.m.preprocessor.py 236 - transform_y taken 0.002005338668823242s\n",
      "04-28 22:26:58 I deeptables.m.deepmodel.py 158 - Performing evaluation...\n",
      "04-28 22:26:58 I deeptables.u.dataset_generator.py 250 - create dataset generator with _TFDGForPandas, batch_size=256, shuffle=False, drop_remainder=False\n"
     ]
    }
   ],
   "source": [
    "# Building the Best DCN DeepTable Model\n",
    "\n",
    "config = ModelConfig(\n",
    "    nets=PNN,\n",
    "    categorical_columns='auto',\n",
    "    metrics=['binary_accuracy'],\n",
    "    auto_categorize=True,\n",
    "    auto_discrete=True,\n",
    "    embedding_dropout = 0.2,\n",
    "    earlystopping_patience=5)\n",
    "\n",
    "# Building the Model\n",
    "dt_pnn = DeepTable(config=config)\n",
    "\n",
    "# Model training\n",
    "pnn_model, pnn_history = dt_pnn.fit(X_train, y_train, epochs=30, batch_size=16, \n",
    "                        validation_data=(X_test, y_test), class_weight=class_weight_dict)\n",
    "\n",
    "# Evaluate the model\n",
    "evaluation = dt.evaluate(X_test, y_test)"
   ]
  },
  {
   "cell_type": "code",
   "execution_count": 327,
   "metadata": {},
   "outputs": [
    {
     "name": "stdout",
     "output_type": "stream",
     "text": [
      "04-28 22:26:59 I deeptables.m.deeptable.py 685 - Perform prediction...\n",
      "04-28 22:26:59 I deeptables.m.preprocessor.py 242 - Transform [X]...\n",
      "04-28 22:26:59 I deeptables.m.preprocessor.py 249 - transform_X taken 0.6826157569885254s\n",
      "04-28 22:26:59 I deeptables.m.deepmodel.py 130 - Performing predictions...\n",
      "04-28 22:26:59 I deeptables.u.dataset_generator.py 250 - create dataset generator with _TFDGForPandas, batch_size=128, shuffle=False, drop_remainder=False\n",
      "04-28 22:27:02 I deeptables.m.deeptable.py 559 - predict_proba taken 3.8233554363250732s\n",
      "04-28 22:27:02 I deeptables.m.deeptable.py 594 - Reverse indicators to labels.\n"
     ]
    }
   ],
   "source": [
    "pnn_kaggle = kaggle_output_df('test.csv')\n",
    "predictions_pnn = dt_pnn.predict(pnn_kaggle)\n",
    "output = pd.read_csv('test.csv')\n",
    "output = output[['id']]\n",
    "output['Exited'] = predictions_pnn\n",
    "output.to_csv('pnn_tuned.csv', index = False)"
   ]
  },
  {
   "cell_type": "markdown",
   "metadata": {},
   "source": [
    "## Discussion\n",
    "\n",
    "From the analysis, it can be seen that deep learning does not necessarily immediately improve upon supervised machine learning classification. An untuned RandomForest() returned an accuracy of ~86% on validation data.\n",
    "\n",
    "My first attempt at applying deep learning to this problem was creating a Convolutional Neural Network which did not improve accuracy but improved precision slightly for customers that have churned.\n",
    "\n",
    "My second attempt was replicating a CNN architecture for unbalanced classification which returned the same accuracy but with slightly different precision results (sacrificing not churned for churned).\n",
    "\n",
    "A limitation I later realized is that I did not add class weights, which could affect model fitting results due to only approximately 20% of the training data being customers that have churned.\n",
    "\n",
    "This was followed by trying out TabNet with hyperparameter tuning using Optuna. For this model, I submitted my predictions to Kaggel and received approximately 80% after tuning. This was effective because I submitted a Naive prediction setting all predictions as 0 and received a score of 0.5, indicating that 50% of the testing dataset is customers that have churned. This was my first time using Optuna and its intelligent hyperparameter tuning was very intuitive.\n",
    "\n",
    "Lastly, I created a series of DeepTable models and tried out different architectures with DCN (Deep and Cross) and PNN (Product-based Neural Network) performing best on this dataset.\n",
    "\n",
    "On Kaggle, I was able to achieve a score of 0.8 which is still less than the random forest benchmark of 0.87 but significantly better than the naive prediction of 0s."
   ]
  },
  {
   "cell_type": "markdown",
   "metadata": {},
   "source": [
    "## Conclusion\n",
    "\n",
    "For this project, I was able to test out different methods of deep learning algorithms for predicting if a customer is likely to churn or not. A potential limitation of this dataset is that a large portion of the dataset is synthetic and generated from a deep learning algorithm. The advantages these more complex deep learning models have is the ability to find non-linear relationship between features, which could be potentially lost on a synthetic dataset with potentially set randomness.\n",
    "\n",
    "The analysis reveals that deep learning does not inherently surpass traditional supervised machine learning techniques for classification tasks, as evidenced by the RandomForest model achieving an 86% accuracy. The exploration into deep learning through various architectures, including CNNs and TabNet, demonstrated incremental improvements in certain metrics like precision but did not notably exceed the RandomForest's performance.\n",
    "\n",
    "Notably, the absence of class weights in the initial models likely skewed the results due to the imbalance in the dataset, where only about 20% represented customers who had churned. The use of Optuna for hyperparameter tuning in the TabNet model and the application of diverse architectures such as DCN and PNN in the DeepTable models highlighted the potential of deep learning, yet the best achieved Kaggle score was 0.8, still below the RandomForest benchmark.\n",
    "\n",
    "An improvement to this project could be further exploration of hyperparameter tuning with tools like Optuna across all models might uncover more optimal settings that could lead to better predictions.\n",
    "\n",
    "More sophisticated feature engineering might uncover new patterns in the data that are not captured by current models, potentially improving predictive accuracy."
   ]
  },
  {
   "cell_type": "code",
   "execution_count": null,
   "metadata": {},
   "outputs": [],
   "source": []
  }
 ],
 "metadata": {
  "colab": {
   "provenance": []
  },
  "kernelspec": {
   "display_name": "Python 3 (ipykernel)",
   "language": "python",
   "name": "python3"
  },
  "language_info": {
   "codemirror_mode": {
    "name": "ipython",
    "version": 3
   },
   "file_extension": ".py",
   "mimetype": "text/x-python",
   "name": "python",
   "nbconvert_exporter": "python",
   "pygments_lexer": "ipython3",
   "version": "3.11.7"
  }
 },
 "nbformat": 4,
 "nbformat_minor": 1
}
